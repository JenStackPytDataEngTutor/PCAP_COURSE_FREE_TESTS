{
 "cells": [
  {
   "cell_type": "markdown",
   "id": "0a724849",
   "metadata": {},
   "source": [
    "Question: 1\n",
    "What is true about Python packages? (Select two answers)\n",
    "\n",
    "A. the__name__variable content determines the way in which the module was run\n",
    "B. a package can be stored as a tree of sub-directories/sub-folders\n",
    "C. __pycache__is the name of a built-in variable\n",
    "D. hashbang is the name of a built-in Python function\n"
   ]
  },
  {
   "cell_type": "code",
   "execution_count": 10,
   "id": "7b3820c7",
   "metadata": {},
   "outputs": [
    {
     "data": {
      "text/plain": [
       "False"
      ]
     },
     "execution_count": 10,
     "metadata": {},
     "output_type": "execute_result"
    }
   ],
   "source": [
    "float ('3.14') == str('3.'+'14')\n",
    "\n"
   ]
  },
  {
   "cell_type": "code",
   "execution_count": 16,
   "id": "ec706baa",
   "metadata": {},
   "outputs": [
    {
     "ename": "SyntaxError",
     "evalue": "invalid character '–' (U+2013) (2449594462.py, line 2)",
     "output_type": "error",
     "traceback": [
      "\u001b[1;36m  Input \u001b[1;32mIn [16]\u001b[1;36m\u001b[0m\n\u001b[1;33m    return (x(y) – x(z))\u001b[0m\n\u001b[1;37m                 ^\u001b[0m\n\u001b[1;31mSyntaxError\u001b[0m\u001b[1;31m:\u001b[0m invalid character '–' (U+2013)\n"
     ]
    }
   ],
   "source": [
    "\n",
    "def foo(x,y,z):\n",
    "    return x(y) – x(z)\n",
    "\n",
    "print (foo(lambda x: x % 2, 2, 1) )\n",
    "\n"
   ]
  },
  {
   "cell_type": "markdown",
   "id": "839f3f7e",
   "metadata": {},
   "source": [
    "Question: 2\n",
    "A Python module named pymod.py contains a variable named pyvar.\n",
    "Which of the following snippets will let you access the variable? (Select two answers)\n",
    "A. import pyvar from pymod pyvar = 1\n",
    "B. from pymod import pyvar = 1\n",
    "C. from pymod import pyvar pyvar ()\n",
    "D. import pymod pymod.pyvar = 1"
   ]
  },
  {
   "cell_type": "code",
   "execution_count": 11,
   "id": "206eb2ba",
   "metadata": {},
   "outputs": [
    {
     "ename": "NameError",
     "evalue": "name 'seed' is not defined",
     "output_type": "error",
     "traceback": [
      "\u001b[1;31m---------------------------------------------------------------------------\u001b[0m",
      "\u001b[1;31mNameError\u001b[0m                                 Traceback (most recent call last)",
      "Input \u001b[1;32mIn [11]\u001b[0m, in \u001b[0;36m<cell line: 5>\u001b[1;34m()\u001b[0m\n\u001b[0;32m      1\u001b[0m \u001b[38;5;66;03m#Question: 3\u001b[39;00m\n\u001b[0;32m      2\u001b[0m \u001b[38;5;66;03m#Assuming that the code below has been executed successfully, which of the following expressions\u001b[39;00m\n\u001b[0;32m      3\u001b[0m \u001b[38;5;66;03m#will always evaluate to True? (Select two answers)\u001b[39;00m\n\u001b[0;32m      4\u001b[0m \u001b[38;5;28;01mimport\u001b[39;00m \u001b[38;5;21;01mrandom\u001b[39;00m\n\u001b[1;32m----> 5\u001b[0m \u001b[43mseed\u001b[49m\u001b[38;5;241m.\u001b[39mrandom(\u001b[38;5;241m1\u001b[39m)\n\u001b[0;32m      6\u001b[0m v1 \u001b[38;5;241m=\u001b[39m random\u001b[38;5;241m.\u001b[39m random()\n\u001b[0;32m      7\u001b[0m v2 \u001b[38;5;241m=\u001b[39m random\u001b[38;5;241m.\u001b[39m random()\n",
      "\u001b[1;31mNameError\u001b[0m: name 'seed' is not defined"
     ]
    }
   ],
   "source": [
    "#Question: 3\n",
    "#Assuming that the code below has been executed successfully, which of the following expressions\n",
    "#will always evaluate to True? (Select two answers)\n",
    "import random\n",
    "seed.random(1)\n",
    "v1 = random. random()\n",
    "v2 = random. random()\n",
    "\n",
    "#A. \n",
    "len(random.sample([1,2,3],2)) > 2\n",
    "#B. \n",
    "v1 == v2\n",
    "#C. \n",
    "random.choice([1,2,3]) >=1\n",
    "#D. \n",
    "v1 >= 1\n"
   ]
  },
  {
   "cell_type": "code",
   "execution_count": null,
   "id": "76b80cb6",
   "metadata": {},
   "outputs": [],
   "source": [
    "#Question 5Which one of the platform module functions should be used to determine the underlying platform\n",
    "#name?\n",
    "\n",
    "A. platform.uname ()\n",
    "B. platform.platform ()\n",
    "C. platform.python_version()\n",
    "D. platform.processor()"
   ]
  },
  {
   "cell_type": "code",
   "execution_count": 17,
   "id": "88ac9816",
   "metadata": {},
   "outputs": [
    {
     "name": "stdout",
     "output_type": "stream",
     "text": [
      "False\n",
      "False\n",
      "False\n"
     ]
    }
   ],
   "source": [
    "#Q6 what is the expected output of the below snippet\n",
    "#true\n",
    "#0\n",
    "#false\n",
    "#None\n",
    "\n",
    "\n",
    "import sys\n",
    "import math\n",
    "b1 = type(dir(math))is str\n",
    "b2 = type(sys.path) is str\n",
    "print(b1)\n",
    "print(b2)\n",
    "print(b1 and b2)"
   ]
  },
  {
   "cell_type": "code",
   "execution_count": 3,
   "id": "aaaf75ee",
   "metadata": {},
   "outputs": [
    {
     "name": "stdout",
     "output_type": "stream",
     "text": [
      "I feel fine\n"
     ]
    },
    {
     "ename": "Exception",
     "evalue": "What a pity",
     "output_type": "error",
     "traceback": [
      "\u001b[1;31m---------------------------------------------------------------------------\u001b[0m",
      "\u001b[1;31mException\u001b[0m                                 Traceback (most recent call last)",
      "Input \u001b[1;32mIn [3]\u001b[0m, in \u001b[0;36m<cell line: 8>\u001b[1;34m()\u001b[0m\n\u001b[0;32m      8\u001b[0m \u001b[38;5;28;01mtry\u001b[39;00m:\n\u001b[0;32m      9\u001b[0m     \u001b[38;5;28mprint\u001b[39m(\u001b[38;5;124m\"\u001b[39m\u001b[38;5;124mI feel fine\u001b[39m\u001b[38;5;124m\"\u001b[39m)\n\u001b[1;32m---> 10\u001b[0m     \u001b[38;5;28;01mraise\u001b[39;00m \u001b[38;5;167;01mException\u001b[39;00m(\u001b[38;5;124m\"\u001b[39m\u001b[38;5;124mWhat a pity\u001b[39m\u001b[38;5;124m\"\u001b[39m)\n\u001b[0;32m     11\u001b[0m \u001b[38;5;28;01mexcept\u001b[39;00m E \u001b[38;5;28;01mas\u001b[39;00m e:\n\u001b[0;32m     12\u001b[0m     \u001b[38;5;28mprint\u001b[39m(e)\n",
      "\u001b[1;31mException\u001b[0m: What a pity"
     ]
    }
   ],
   "source": [
    "#Question 7 What is true about the following snippet? (Select two answer)\n",
    "class E(Exception):\n",
    "    def __init__(self, message):\n",
    "        self.message = message\n",
    "    def __str__(self):\n",
    "        return \"Its nice to see you\"\n",
    "    \n",
    "try:\n",
    "    print(\"I feel fine\")\n",
    "    raise Exception(\"What a pity\")\n",
    "except E as e:\n",
    "    print(e)\n",
    "else:\n",
    "    print(\"The show must go on\")\n",
    "    \n",
    "#a. the code will raise an unhandled exception\n",
    "#b the string Its nice to see you\n",
    "#c the string what a pity\n",
    "#d the code is erroneous "
   ]
  },
  {
   "cell_type": "code",
   "execution_count": 150,
   "id": "60a1eab4",
   "metadata": {},
   "outputs": [
    {
     "name": "stdout",
     "output_type": "stream",
     "text": [
      "2\n"
     ]
    }
   ],
   "source": [
    "#Question 8 from Exam Dump\n",
    "m = 0\n",
    "def foo(n):\n",
    "    #assert m != 0\n",
    "    \n",
    "    try:\n",
    "        return 1/n\n",
    "    except ArithmeticError:\n",
    "        raise ArithmeticError\n",
    "try:\n",
    "    foo(0)\n",
    "except ArithmeticError:\n",
    "    m +=2\n",
    "except:\n",
    "    m +=1\n",
    "print(m)\n"
   ]
  },
  {
   "cell_type": "code",
   "execution_count": null,
   "id": "adacd768",
   "metadata": {},
   "outputs": [],
   "source": [
    "#Question 9\n",
    "try:\n",
    "    print(int(\"0\"))\n",
    "except NameError:\n",
    "    print(\"0\")\n",
    "else:\n",
    "    print(int(\"\"))#unhandled\n"
   ]
  },
  {
   "cell_type": "code",
   "execution_count": null,
   "id": "6a4d758a",
   "metadata": {},
   "outputs": [],
   "source": [
    "#Question 9\n",
    "try:\n",
    "    print(0/0)\n",
    "except:\n",
    "    print(0/1)\n",
    "else:\n",
    "    print(0/2)"
   ]
  },
  {
   "cell_type": "code",
   "execution_count": null,
   "id": "030e5a62",
   "metadata": {},
   "outputs": [],
   "source": [
    "#question 9\n",
    "import math\n",
    "try:\n",
    "    print(math.sqrt(-1))\n",
    "except:\n",
    "    print(math.sqrt(0))\n",
    "else:\n",
    "    print(math.sqrt(1))"
   ]
  },
  {
   "cell_type": "code",
   "execution_count": null,
   "id": "0a249b4d",
   "metadata": {},
   "outputs": [],
   "source": [
    "#question 9\n",
    "try:\n",
    "    print(float(\"1e1\"))\n",
    "except:\n",
    "    print(float(\"1c1\"))\n",
    "else:\n",
    "    print(float(\"1a1\"))#unhandled\n"
   ]
  },
  {
   "cell_type": "code",
   "execution_count": null,
   "id": "f95d0137",
   "metadata": {},
   "outputs": [],
   "source": [
    "#question 10\n",
    "s = '2A'\n",
    "\n",
    "try:\n",
    "    n = int(s)\n",
    "except:\n",
    "    n = 3\n",
    "except ValueError:\n",
    "    n = 2\n",
    "except ArithmeticError:\n",
    "    n = 1"
   ]
  },
  {
   "cell_type": "code",
   "execution_count": null,
   "id": "8f00d9f5",
   "metadata": {},
   "outputs": [],
   "source": [
    "#question 11 Which of the following expression evaluate to True? (Select two answers)\n",
    "#A. \n",
    "#len('\\'•) == 1\n",
    "#B. \n",
    "len(\"\"\"\n",
    "\"\"\") == 0\n",
    "#C. \n",
    "#chr(ordCA') + 1) == 'B'\n",
    "#D. \n",
    "ord(\"Z\") - ord(\"z\") -- ord(\"0\")"
   ]
  },
  {
   "cell_type": "code",
   "execution_count": null,
   "id": "8e986580",
   "metadata": {},
   "outputs": [],
   "source": [
    "for i in range(10):\n",
    "    pass\n",
    "#a 9\n",
    "#b 10\n",
    "#c the variable is unavalable"
   ]
  },
  {
   "cell_type": "code",
   "execution_count": null,
   "id": "be06227f",
   "metadata": {},
   "outputs": [],
   "source": [
    "1+-2\n"
   ]
  },
  {
   "cell_type": "code",
   "execution_count": null,
   "id": "fb1ec1f9",
   "metadata": {},
   "outputs": [],
   "source": [
    "a = 'ant'\n",
    "b = \"bat\"\n",
    "c = 'camel'\n",
    "print(a, b, c, sep='\"')"
   ]
  },
  {
   "cell_type": "code",
   "execution_count": null,
   "id": "30ac7d93",
   "metadata": {},
   "outputs": [],
   "source": [
    "i = 5\n",
    "while i > 0:\n",
    "    i = 1 // 2\n",
    "    if i % 2 = 0:\n",
    "        break\n",
    "else:\n",
    "    i += 1\n",
    "    print(i)\n"
   ]
  },
  {
   "cell_type": "code",
   "execution_count": null,
   "id": "9890406a",
   "metadata": {},
   "outputs": [],
   "source": [
    "#How many lines does the following snippet output?\n",
    "\n",
    "for i in range(1,3):\n",
    "    print(\"*\", end=\"\")\n",
    "else:\n",
    "    print(\"*\")"
   ]
  },
  {
   "cell_type": "code",
   "execution_count": null,
   "id": "f055a7b0",
   "metadata": {},
   "outputs": [],
   "source": [
    "#Which of the following literals reflect the value given as 34.23? (Choose two.)\n",
    "#A. \n",
    ".3423e2\n",
    "#B. \n",
    "3423e-2\n",
    "#C. \n",
    ".3423e-2\n",
    "#D. \n",
    "3423e2"
   ]
  },
  {
   "cell_type": "code",
   "execution_count": null,
   "id": "2060f368",
   "metadata": {},
   "outputs": [],
   "source": [
    "a = 2\n",
    "if a > 0:\n",
    "    a += 1\n",
    "    else:\n",
    "        a -= 1\n",
    "print(a)"
   ]
  },
  {
   "cell_type": "code",
   "execution_count": null,
   "id": "f2e043d5",
   "metadata": {},
   "outputs": [],
   "source": [
    "a = [1]\n",
    "b = a\n",
    "a[0] = 0\n",
    "\n",
    "\n",
    "#A. \n",
    "#len(a) == len (b)\n",
    "#B. \n",
    "#b [0] +1 ==a [0]\n",
    "#C.\n",
    "#a [0] == b [0]\n",
    "#D. \n",
    "#a [0] + 1 ==b [0]"
   ]
  },
  {
   "cell_type": "code",
   "execution_count": null,
   "id": "41bf1787",
   "metadata": {},
   "outputs": [],
   "source": [
    "a = [0]\n",
    "b = a[:]\n",
    "a[0] = 1\n",
    "\n",
    "#A. \n",
    "#len(a)== len (b)\n",
    "#B. \n",
    "#a [0]-1 ==b [0]\n",
    "#C. \n",
    "#a [0]== b [0]\n",
    "#D. \n",
    "#b [0] - 1 ==a [0]"
   ]
  },
  {
   "cell_type": "code",
   "execution_count": null,
   "id": "72b4f338",
   "metadata": {},
   "outputs": [],
   "source": [
    "#Which of the following statements are true? (Choose two.)\n",
    "#A. Python strings are actually lists\n",
    "#B. Python strings can be concatenated\n",
    "#C. Python strings can be sliced like lists\n",
    "#D. Python strings are mutable"
   ]
  },
  {
   "cell_type": "code",
   "execution_count": null,
   "id": "b9b7ae6d",
   "metadata": {},
   "outputs": [],
   "source": [
    "#Which of the following sentences are true? (Choose two.)\n",
    "#A. Lists may not be stored inside tuples\n",
    "#B. Tuples may be stored inside lists\n",
    "#C. Tuples may not be stored inside tuples\n",
    "#D. Lists may be stored inside lists"
   ]
  },
  {
   "cell_type": "code",
   "execution_count": null,
   "id": "6a12ab07",
   "metadata": {},
   "outputs": [],
   "source": [
    "#Assuming that String is six or more letters long, the following slice\n",
    "#[1:-2] is shorter than the original string by:\n",
    "#A. four chars\n",
    "#B. three chars\n",
    "#C. one char\n",
    "#D. two chars\n",
    "string = \"sixsix\"[1:-2]\n",
    "print(string)"
   ]
  },
  {
   "cell_type": "code",
   "execution_count": null,
   "id": "03d9c3ea",
   "metadata": {},
   "outputs": [],
   "source": [
    "string = \"sixsix\"[1:2]\n",
    "print(string)"
   ]
  },
  {
   "cell_type": "code",
   "execution_count": null,
   "id": "f69428ea",
   "metadata": {},
   "outputs": [],
   "source": [
    " #      0 -3 -2 -1\n",
    "lst = [1, 2, 3, 4]\n",
    "lst = lst[-3:-2]\n",
    "#print(lst)\n",
    "#[2]\n",
    "lst = lst[-1]\n",
    "print(lst)#remember list returns square brackets"
   ]
  },
  {
   "cell_type": "code",
   "execution_count": null,
   "id": "c3d3166a",
   "metadata": {},
   "outputs": [],
   "source": [
    "s = \"abc\"\n",
    "for i in len(s):\n",
    "    s[i] = s[i].upper()\n",
    "    print(s)\n",
    "\n",
    "\n",
    "#A. abc\n",
    "#B. The code will cause a runtime exception\n",
    "#C. ABC\n",
    "#D. 123"
   ]
  },
  {
   "cell_type": "code",
   "execution_count": null,
   "id": "a7dbafe7",
   "metadata": {},
   "outputs": [],
   "source": [
    "#How many elements will the list2 list contain after execution of the following snippet?\n",
    "list1 = [False for i in range(1,10)]\n",
    "list2 = list1[-1:1:-1]\n",
    "print(list2)\n",
    "\n",
    "#A. zero\n",
    "#B. five\n",
    "#C. seven\n",
    "#D. three"
   ]
  },
  {
   "cell_type": "markdown",
   "id": "fce1f582",
   "metadata": {},
   "source": [
    "\n",
    "Negative step changes a way, slice notation works. the slice is built from the tail of the list so right to left. starts from the last element to the first element, the first element is always 0. So [-1:1:-1] will start from last element of the list and will end at 2nd element of list, thus as 0th and 1st are sliced we will be left with 7 elements"
   ]
  },
  {
   "cell_type": "code",
   "execution_count": null,
   "id": "c02f3edb",
   "metadata": {},
   "outputs": [],
   "source": []
  },
  {
   "cell_type": "code",
   "execution_count": null,
   "id": "ec73f58a",
   "metadata": {},
   "outputs": [],
   "source": [
    "#Question 1:\n",
    "#Q132 - OOP\n",
    "\n",
    "\n",
    "\n",
    "#What is the expected output of the following code?\n",
    "\n",
    "\n",
    "\n",
    "class A:\n",
    "    def __init__(self, x=0):\n",
    "        self.x = x\n",
    " \n",
    "    def func(self):\n",
    "        self.x += 1\n",
    " \n",
    " \n",
    "class B(A):\n",
    "    def __init__(self, y=0):\n",
    "        A.__init__(self, 3)\n",
    "        self.y = y\n",
    " \n",
    "    def func(self):\n",
    "        self.y += 1\n",
    "b = B()\n",
    "b.func()\n",
    "print(b.x, b.y)"
   ]
  },
  {
   "cell_type": "code",
   "execution_count": null,
   "id": "8381835c",
   "metadata": {},
   "outputs": [],
   "source": [
    "#Which of the following variables will Python consider to be private?\n",
    "__privatedata"
   ]
  },
  {
   "cell_type": "code",
   "execution_count": null,
   "id": "0867777f",
   "metadata": {},
   "outputs": [],
   "source": [
    "#Q173 - OOP\n",
    "\n",
    "\n",
    "\n",
    "#What is the expected output of the following code?\n",
    "\n",
    "\n",
    "\n",
    "class A:\n",
    "    def __init__(self, x):\n",
    "        self.__a = x + 1\n",
    " \n",
    " \n",
    "a = A(0)\n",
    "print(a.__a)"
   ]
  },
  {
   "cell_type": "code",
   "execution_count": null,
   "id": "c8151213",
   "metadata": {},
   "outputs": [],
   "source": [
    "#Q151 - OOP\n",
    "\n",
    "\n",
    "\n",
    "#You want to check,\n",
    "\n",
    "#whether the variable obj contains an object of the class A\n",
    "\n",
    "#Which of the following statements can you use?\n",
    "class A:\n",
    "    def __init__(self, x=0):\n",
    "        self.x = x\n",
    "        \n",
    "        \n",
    "        \n",
    "obj = A()\n",
    "isinstance(obj, A)\n",
    "    "
   ]
  },
  {
   "cell_type": "code",
   "execution_count": null,
   "id": "5f73ae82",
   "metadata": {},
   "outputs": [],
   "source": [
    "#Q130 - OOP\n",
    "\n",
    "\n",
    "\n",
    "#What is the expected output of the following code?\n",
    "\n",
    "\n",
    "\n",
    "class A:\n",
    "    pass\n",
    " \n",
    " \n",
    "class B(A):\n",
    "    pass\n",
    " \n",
    " \n",
    "class C(B):\n",
    "    pass\n",
    " \n",
    " \n",
    "print(issubclass(C, A))"
   ]
  },
  {
   "cell_type": "code",
   "execution_count": null,
   "id": "4da076d2",
   "metadata": {},
   "outputs": [],
   "source": [
    "#What is the expected behavior of the following snippet?\n",
    "\n",
    "\n",
    "\n",
    "class Team:\n",
    "    def show_ID(self):\n",
    "        print(self.get_ID())\n",
    " \n",
    "    def get_ID(self):\n",
    "        return \"anonymous\"\n",
    " \n",
    " \n",
    "class A(Team):\n",
    "    def get_ID(self):\n",
    "        return \"Alpha\"\n",
    " \n",
    " \n",
    "a = A()\n",
    "a.show_ID()"
   ]
  },
  {
   "cell_type": "code",
   "execution_count": null,
   "id": "2326d7f6",
   "metadata": {},
   "outputs": [],
   "source": [
    "#Q117 - Data Aggregates\n",
    "\n",
    "\n",
    "\n",
    "#What is the expected output of the following code?\n",
    "\n",
    "\n",
    "\n",
    "print(list('hello'))"
   ]
  },
  {
   "cell_type": "code",
   "execution_count": null,
   "id": "354b2b70",
   "metadata": {},
   "outputs": [],
   "source": [
    "#Q105 - Data Aggregates\n",
    "\n",
    "\n",
    "\n",
    "#What is the expected output of the following code?\n",
    "\n",
    "\n",
    "\n",
    "data = ['Peter', 404, 3.03, 'Wellert', 33.3]\n",
    "print(data[1:3])"
   ]
  },
  {
   "cell_type": "code",
   "execution_count": null,
   "id": "eb95ecee",
   "metadata": {},
   "outputs": [],
   "source": [
    "#Q146 - Data Aggregates\n",
    "\n",
    "\n",
    "\n",
    "#What is the expected output of the following code?\n",
    "\n",
    "\n",
    "\n",
    "nums = [3, 4, 5, 20, 5, 25, 1, 3]\n",
    "nums.pop(1)\n",
    "print(nums)"
   ]
  },
  {
   "cell_type": "code",
   "execution_count": null,
   "id": "437e5a1d",
   "metadata": {},
   "outputs": [],
   "source": [
    "#Q158 - Operators\n",
    "\n",
    "\n",
    "\n",
    "#You develop a Python application for your company.\n",
    "\n",
    "#You have the following code.\n",
    "\n",
    "\n",
    "\n",
    "def main(a, b, c, d):\n",
    "    value = a + b * c - d\n",
    "    return value\n",
    "\n",
    "\n",
    "#Which of the following expressions is equivalent to the expression in the function?"
   ]
  },
  {
   "cell_type": "code",
   "execution_count": null,
   "id": "f6979aa3",
   "metadata": {},
   "outputs": [],
   "source": [
    "#The 0o prefix means that the number after it is denoted as:\n",
    "#octal"
   ]
  },
  {
   "cell_type": "code",
   "execution_count": null,
   "id": "fb04159e",
   "metadata": {},
   "outputs": [],
   "source": [
    "(a + (b * c) - d)"
   ]
  },
  {
   "cell_type": "code",
   "execution_count": null,
   "id": "58887874",
   "metadata": {},
   "outputs": [],
   "source": [
    "#Q184 - I/O\n",
    "\n",
    "\n",
    "\n",
    "#Which method is used to break the connection\n",
    "\n",
    "#between the file handle and a physical file?\n",
    "close()"
   ]
  },
  {
   "cell_type": "code",
   "execution_count": null,
   "id": "74c5ade3",
   "metadata": {},
   "outputs": [],
   "source": [
    "#Q155 - I/O\n",
    "\n",
    "\n",
    "\n",
    "#You want to write a code snippet to read the total data from a text file\n",
    "\n",
    "#and print it to the monitor.\n",
    "\n",
    "#What snippet would you insert in the line indicated below:\n",
    "\n",
    "\n",
    "\n",
    "try:\n",
    "    file = open('data.txt', 'r')\n",
    "    # insert your code here\n",
    "    data = file.readlines()\n",
    "    print(data)\n",
    "except:\n",
    "    print('Something went wrong!')"
   ]
  },
  {
   "cell_type": "code",
   "execution_count": null,
   "id": "04c779b6",
   "metadata": {},
   "outputs": [],
   "source": [
    "#Q175 - Basics\n",
    "\n",
    "\n",
    "\n",
    "#Which of the following statements are true\n",
    "\n",
    "#about the __pycache__ directory/folder?\n",
    "#it is created automatically\n",
    "#it contains semi compiled code\n",
    "\n",
    "\n",
    "(Select two answers.)"
   ]
  },
  {
   "cell_type": "code",
   "execution_count": null,
   "id": "b24a5760",
   "metadata": {},
   "outputs": [],
   "source": [
    "#Q120 - Basics\n",
    "\n",
    "\n",
    "\n",
    "#What is the expected output of the following code?\n",
    "\n",
    "\n",
    "\n",
    "x = 1\n",
    "y = 2\n",
    "x, y, z = x, x, y\n",
    "z, y, z = x, y, z\n",
    "print(x, y, z)"
   ]
  },
  {
   "cell_type": "code",
   "execution_count": null,
   "id": "0bf77938",
   "metadata": {},
   "outputs": [],
   "source": [
    "#Q172 - Modules\n",
    "\n",
    "\n",
    "\n",
    "#What is the expected output of the following code?\n",
    "\n",
    "\n",
    "\n",
    "from datetime import datetime\n",
    " \n",
    "datetime = datetime(2019, 11, 27, 11, 27, 22)\n",
    "print(datetime.strftime('%y/%B/%d %H:%M:%S'))"
   ]
  },
  {
   "cell_type": "code",
   "execution_count": null,
   "id": "08af934a",
   "metadata": {},
   "outputs": [],
   "source": [
    "#Q189 - Modules\n",
    "\n",
    "\n",
    "\n",
    "#A function named f() is included in a module named m\n",
    "\n",
    "#and the module is part of a package named p\n",
    "\n",
    "\n",
    "\n",
    "#Which of the following code snippets allows you to properly invoke the function?\n",
    "\n",
    "\n",
    "\n",
    "(Select two answers.)"
   ]
  },
  {
   "cell_type": "code",
   "execution_count": null,
   "id": "6f1b1d85",
   "metadata": {},
   "outputs": [],
   "source": [
    "#Q185 - Error Handling\n",
    "#The system that allows you to diagnose input/output errors in Python is called:\n",
    "#errno"
   ]
  },
  {
   "cell_type": "code",
   "execution_count": null,
   "id": "5c6c0604",
   "metadata": {},
   "outputs": [],
   "source": [
    "#Q186 - Error Handling\n",
    "\n",
    "\n",
    "\n",
    "#What is the expected behavior of the following program?\n",
    "\n",
    "\n",
    "\n",
    "try:\n",
    "    print(5/0)\n",
    "    break\n",
    "except:\n",
    "    print(\"Sorry, something went wrong...\")\n",
    "except (ValueError, ZeroDivisionError):\n",
    "    print(\"Too bad...\")"
   ]
  },
  {
   "cell_type": "code",
   "execution_count": null,
   "id": "47a829cd",
   "metadata": {},
   "outputs": [],
   "source": [
    "#What is the output of the following program\n",
    "\n",
    "#if the user enters kangaroo at the first prompt\n",
    "\n",
    "#and 0 at the second prompt?\n",
    "\n",
    "\n",
    "\n",
    "try:\n",
    "    first_prompt = input(\"Enter the first value: \")\n",
    "    a = len(first_prompt)\n",
    "    second_prompt = input(\"Enter the second value: \")\n",
    "    b = len(second_prompt) * 2\n",
    "    print(a/b)\n",
    "except ZeroDivisionError:\n",
    "    print(\"Do not divide by zero!\")\n",
    "except ValueError:\n",
    "    print(\"Wrong value.\")\n",
    "except:\n",
    "    print(\"Error.Error.Error.\")"
   ]
  },
  {
   "cell_type": "code",
   "execution_count": null,
   "id": "e3fe7e96",
   "metadata": {},
   "outputs": [],
   "source": [
    "#Q127 - Error Handling\n",
    "\n",
    "\n",
    "\n",
    "#What is the expected output of the following code?\n",
    "\n",
    "\n",
    "\n",
    "def func():\n",
    "    try:\n",
    "        print(23)\n",
    "    finally:\n",
    "        print(42)\n",
    " \n",
    " \n",
    "func()"
   ]
  },
  {
   "cell_type": "code",
   "execution_count": null,
   "id": "dad3ba49",
   "metadata": {},
   "outputs": [],
   "source": [
    "#Q157 - Error Handling\n",
    "\n",
    "\n",
    "\n",
    "#The Exception class contains a property named args and it is a:\n",
    "#answer is tuple"
   ]
  },
  {
   "cell_type": "code",
   "execution_count": null,
   "id": "9ea2469d",
   "metadata": {},
   "outputs": [],
   "source": [
    "#Q115 - Functions\n",
    "\n",
    "\n",
    "\n",
    "#What is the output of the following code snippet?\n",
    "\n",
    "\n",
    "\n",
    "def test(x=1, y=2):\n",
    "    x = x + y\n",
    "    y += 1\n",
    "    print(x, y)\n",
    " \n",
    "test(2, 1)"
   ]
  },
  {
   "cell_type": "code",
   "execution_count": null,
   "id": "2ae543d1",
   "metadata": {},
   "outputs": [],
   "source": [
    "#Q116 - Functions\n",
    "\n",
    "\n",
    "\n",
    "#What is the expected output of the following code?\n",
    "\n",
    "\n",
    "\n",
    "num = 1\n",
    " \n",
    " \n",
    "def func():\n",
    "    num = num + 3\n",
    "    print(num)\n",
    " \n",
    " \n",
    "func()\n",
    "print(num)\n",
    " "
   ]
  },
  {
   "cell_type": "code",
   "execution_count": null,
   "id": "a2faa98b",
   "metadata": {},
   "outputs": [],
   "source": [
    "#Q143 - Functions\n",
    "\n",
    "\n",
    "\n",
    "#What is the expected output of the following code?\n",
    "\n",
    "\n",
    "\n",
    "def func(p1, p2):\n",
    "    p1 = 1\n",
    "    p2[0] = 42\n",
    " \n",
    " \n",
    "x = 3\n",
    "y = [1, 2, 3]\n",
    " \n",
    "func(x, y)\n",
    " \n",
    "print(x, y[0])"
   ]
  },
  {
   "cell_type": "code",
   "execution_count": null,
   "id": "be87bd0c",
   "metadata": {},
   "outputs": [],
   "source": [
    "#Q123 - Functions\n",
    "\n",
    "\n",
    "\n",
    "#What is the expected output of the following code?\n",
    "\n",
    "\n",
    "\n",
    "def func(num):\n",
    "    res = '*'\n",
    "    for _ in range(num):\n",
    "        res += res\n",
    "    return res\n",
    " \n",
    " \n",
    "for x in func(2):\n",
    "    print(x, end='')"
   ]
  },
  {
   "cell_type": "code",
   "execution_count": null,
   "id": "f442be2b",
   "metadata": {},
   "outputs": [],
   "source": [
    "#Q178 - Data Types\n",
    "\n",
    "\n",
    "\n",
    "#Which of the following snippets outputs 123 to the screen?\n",
    "#print(sorted(\"321\"))\n",
    "\n",
    "#temp = \"321\".sort()\n",
    "#print(str(temp))\n",
    "#print (''.join(sorted(\"321\"))) correct\n",
    "\n",
    "temp = list(\"321\")\n",
    "temp = sort()\n",
    "print(''.join(temp))"
   ]
  },
  {
   "cell_type": "code",
   "execution_count": null,
   "id": "8fd67372",
   "metadata": {},
   "outputs": [],
   "source": []
  }
 ],
 "metadata": {
  "kernelspec": {
   "display_name": "Python 3 (ipykernel)",
   "language": "python",
   "name": "python3"
  },
  "language_info": {
   "codemirror_mode": {
    "name": "ipython",
    "version": 3
   },
   "file_extension": ".py",
   "mimetype": "text/x-python",
   "name": "python",
   "nbconvert_exporter": "python",
   "pygments_lexer": "ipython3",
   "version": "3.9.12"
  }
 },
 "nbformat": 4,
 "nbformat_minor": 5
}
