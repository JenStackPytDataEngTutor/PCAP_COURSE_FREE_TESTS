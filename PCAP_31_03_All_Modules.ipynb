{
 "cells": [
  {
   "cell_type": "markdown",
   "metadata": {},
   "source": [
    "# PCAP 32-03 Full course.\n",
    "### Course Syllabus\n",
    "\n",
    "#### In this course you will learn:\n",
    "\n",
    "1. how to adopt general coding techniques and best practices in your projects;\n",
    "2. how to process strings;\n",
    "3. how to use object-oriented programming in Python;\n",
    "4. how to import and use Python modules, including the math, random, platform, os, time, datetime, and calendar modules;\n",
    "5. how to create and use your own Python modules and packages;\n",
    "6. how to use the exception mechanism in Python;\n",
    "7. how to use generators, iterators, and closures in Python;\n",
    "8. how to process files.\n",
    "\n",
    "### The course is divided into 4 modules:\n",
    "\n",
    "Module 1\n",
    "Modules, Packages and PIP;\n",
    "Module 2\n",
    "Strings, string and list methods, and exceptions;\n",
    "Module 3\n",
    "Object-Oriented Programming;\n",
    "Module 4\n",
    "Miscellaneous (generators, iterators, closures, file streams, processing text and binary files, the os, time, datetime, and calendar module)\n"
   ]
  },
  {
   "cell_type": "markdown",
   "metadata": {},
   "source": [
    "This course is the second in a 2-course series that will prepare you for the PCAP: Certified Associate in Python Programming certification exam at Pearson VUE.\n",
    "\n",
    "The course picks up where Python Essentials 1, PCEP leaves off. Its main goal is to teach you the skills related to the more advanced aspects of Python programming, as well as with general coding techniques and object-oriented programming (OOP).\n",
    "\n",
    "The course is recommended for aspiring developers who are interested in pursuing careers connected with Software Development, Security, Networking, and the Internet of Things (IoT).\n",
    "Python Essentials 2\n",
    "For Live Tutor Hosted online Courses Please contac me on \n",
    "# jstack@jenniferstackgis.onmicrosoft.com"
   ]
  },
  {
   "cell_type": "markdown",
   "metadata": {},
   "source": [
    "## Section 1:\n",
    "## Modules and Packages (12%)\n",
    " 1. Importing and using Python modules; \n",
    " 2. using some of the most useful Python standard library modules; \n",
    " 3. constructing and using Python packages; \n",
    " 4. PIP (Python Installation Package) and how to use it to install and uninstall ready-to-use packages from PyPI.\n",
    "\n",
    "## Objectives covered by the block (6 exam items)\n",
    "\n",
    "### PCAP-31-03 1.1 – Import and use modules and packages\n",
    "\n",
    "import variants: import, from import, import as, import *\n",
    "advanced qualifying for nested modules\n",
    "the dir() function\n",
    "the sys.path variable\n",
    "\n",
    "### PCAP-31-03 1.2 – Perform evaluations using the math module\n",
    "\n",
    "functions: ceil(), floor(), trunc(), factorial(), hypot(), sqrt()\n",
    "\n",
    "### PCAP-31-03 1.3 – Generate random values using the random module\n",
    "\n",
    "functions: random(), seed(), choice(), sample()\n",
    "\n",
    "### PCAP-31-03 1.4 – Discover host platform properties using the platform module\n",
    "\n",
    "functions: platform(), machine(), processor(), system(), version(), python_implementation(), python_version_tuple()\n",
    "\n",
    "### PCAP-31-03 1.5 – Create and use user-defined modules and packages\n",
    "\n",
    "idea and rationale;\n",
    "the __pycache__ directory\n",
    "the __name__ variable\n",
    "public and private variables\n",
    "the __init__.py file\n",
    "searching for/through modules/packages\n",
    "nested packages vs. directory trees"
   ]
  },
  {
   "cell_type": "markdown",
   "metadata": {},
   "source": [
    "I will first demo the three methods to use import "
   ]
  },
  {
   "cell_type": "markdown",
   "metadata": {},
   "source": [
    "Method one"
   ]
  },
  {
   "cell_type": "code",
   "execution_count": null,
   "metadata": {},
   "outputs": [],
   "source": [
    "#The simplest way to import a particular module is to use the import instruction as follows:\n",
    "\n",
    "import math\n",
    "\n",
    "\n",
    "#The clause contains:\n",
    "\n",
    "#the import keyword;\n",
    "#the name of the module which is subject to import."
   ]
  },
  {
   "cell_type": "code",
   "execution_count": null,
   "metadata": {},
   "outputs": [],
   "source": [
    "#If you want to (or have to) import more than one module, you can do it by repeating \n",
    "#the import clause (preferred):\n",
    "\n",
    "import math\n",
    "import sys\n",
    "\n",
    "\n",
    "#or by listing the modules after the import keyword, like here:\n",
    "\n",
    "import math, sys\n",
    "\n",
    "\n",
    "#The instruction imports two modules, first the one named math and then the second named sys.\n",
    "\n",
    "#The modules' list may be arbitrarily long."
   ]
  },
  {
   "cell_type": "code",
   "execution_count": null,
   "metadata": {},
   "outputs": [],
   "source": [
    "#Look at the snippet below, this is the way in which you \n",
    "#qualify the names of pi and sin with the name of its originating module:\n",
    "#Such a form clearly indicates the namespace in which the name exists.\n",
    "import math\n",
    "\n",
    "math.pi\n",
    "math.sin"
   ]
  },
  {
   "cell_type": "markdown",
   "metadata": {},
   "source": [
    "This first example won't be very advanced - we just want to print the value of sin(½π).\n",
    "\n",
    "Look at the code in the editor. This is how we test it."
   ]
  },
  {
   "cell_type": "markdown",
   "metadata": {},
   "source": [
    "Note: removing any of the two qualifications will make the code erroneous. There is no other way to enter math's namespace if you did the following:\n",
    "\n",
    "import math"
   ]
  },
  {
   "cell_type": "code",
   "execution_count": null,
   "metadata": {},
   "outputs": [],
   "source": [
    "import math\n",
    "print(math.sin(math.pi/2))\n",
    "(math.pi/2)"
   ]
  },
  {
   "cell_type": "code",
   "execution_count": null,
   "metadata": {},
   "outputs": [],
   "source": [
    "#Importing a module: Do not run this code cell\n",
    "#Now we're going to show you how the two namespaces (yours and the module's one) can coexist.\n",
    "\n",
    "#Take a look at the example In the next code cell.\n",
    "\n",
    "#We've defined our own pi and sin here.\n",
    "\n",
    "#Run the program. The code should produce the following output:\n",
    "\n",
    "0.99999999\n",
    "1.0\n",
    "\n",
    "\n"
   ]
  },
  {
   "cell_type": "code",
   "execution_count": null,
   "metadata": {},
   "outputs": [],
   "source": [
    "#how two same names can exist in a namespace\n",
    "#As you can see, the entities don't affect each other.\n",
    "import math\n",
    "\n",
    "\n",
    "def sin(x):\n",
    "    if 2 * x == pi:\n",
    "        return 0.99999999\n",
    "    else:\n",
    "        return None\n",
    "\n",
    "\n",
    "pi = 3.14\n",
    "\n",
    "print(sin(pi/2))#this is our defined pi and sin\n",
    "print(math.sin(math.pi/2))#this is from the math module, the pi here is named math.pi\n"
   ]
  },
  {
   "cell_type": "markdown",
   "metadata": {},
   "source": [
    "In the second method, the import's syntax precisely points out which module's entity (or entities) are acceptable in the code:"
   ]
  },
  {
   "cell_type": "code",
   "execution_count": null,
   "metadata": {},
   "outputs": [],
   "source": [
    "from math import pi\n",
    "\n",
    "\n",
    "#The instruction consists of the following elements:\n",
    "\n",
    "#the from keyword;\n",
    "#the name of the module to be (selectively) imported;\n",
    "#the import keyword;\n",
    "#the name or list of names of the entity/entities which are being imported into the namespace.\n",
    "#The instruction has this effect:\n",
    "\n",
    "#the listed entities (and only those ones) are imported from the indicated module;\n",
    "#the names of the imported entities are accessible without qualification."
   ]
  },
  {
   "cell_type": "code",
   "execution_count": null,
   "metadata": {},
   "outputs": [],
   "source": [
    "\n",
    "\n",
    "#lines 12 through 19: redefine the meaning of pi and sin - in effect, they supersede the original (imported) definitions within the code's namespace;\n",
    "#line 20: get 0.99999999, which confirms our conclusions.\n",
    "from math import sin, pi #line 1: carry out the selective import;\n",
    "\n",
    "print(sin(pi / 2)) #line 3: make use of the imported entities and get the expected result (1.0)\n",
    "\n",
    "pi = 3.14\n",
    "\n",
    "\n",
    "def sin(x): #these lines(our function)  redefine the meaning of pi and sin - in effect,\n",
    "    if 2 * x == pi:\n",
    "        return 0.99999999\n",
    "    else:\n",
    "        return None\n",
    "# they supersede the original (imported) definitions within the code's namespace;\n",
    "#remember a namespace deletes the entities and replaces with the newer entity of the same name\n",
    "\n",
    "print(sin(pi / 2))#line 15: get 0.99999999, which confirms our conclusions.\n"
   ]
  },
  {
   "cell_type": "code",
   "execution_count": null,
   "metadata": {},
   "outputs": [],
   "source": [
    "#Here, we've reversed the sequence of the code's operations:\n",
    "\n",
    "#lines 1 through 8: define our own pi and sin;\n",
    "#line 11: make use of them (0.99999999 appears on the screen)\n",
    "#line 13: carry out the import - the imported symbols supersede their previous \n",
    "#definitions within the namespace;\n",
    "#line 15: get 1.0 as a result.\n",
    "\n",
    "pi = 3.14\n",
    "\n",
    "\n",
    "def sin(x):\n",
    "    if 2 * x == pi:\n",
    "        return 0.99999999\n",
    "    else:\n",
    "        return None\n",
    "\n",
    "\n",
    "print(sin(pi / 2))\n",
    "\n",
    "from math import sin, pi\n",
    "\n",
    "print(sin(pi / 2))"
   ]
  },
  {
   "cell_type": "markdown",
   "metadata": {},
   "source": [
    "In the third method, the import's syntax is a more aggressive form of the previously presented one:"
   ]
  },
  {
   "cell_type": "code",
   "execution_count": null,
   "metadata": {},
   "outputs": [],
   "source": [
    "from module import *\n",
    "\n",
    "\n",
    "#As you can see, the name of an entity (or the list of entities' names) \n",
    "# is replaced with a single asterisk (*).\n",
    "\n",
    "#Such an instruction imports all entities from the indicated module.\n",
    "\n",
    "#Is it convenient? Yes, it is, as it relieves you of the duty of enumerating all the names you need.\n",
    "\n",
    "#Is it unsafe? Yes, it is - unless you know all the names provided by the module, \n",
    "#you may not be able to avoid name conflicts. Treat this as a temporary solution, \n",
    "#and try not to use it in regular code."
   ]
  },
  {
   "cell_type": "code",
   "execution_count": null,
   "metadata": {},
   "outputs": [],
   "source": [
    "#Aliasing causes the module to be identified under a different name than the original. \n",
    "#This may shorten the qualified names, too.\n",
    "\n",
    "#Creating an alias is done together with importing the module, and demands the following form of the import \n",
    "#instruction:\n",
    "\n",
    "import module as alias\n",
    "\n",
    "\n",
    "#The \"module\" identifies the original module's name while the \"alias\" is the name you wish to use instead \n",
    "#of the original.\n",
    "\n",
    "#Note: as is a keyword."
   ]
  },
  {
   "cell_type": "code",
   "execution_count": null,
   "metadata": {},
   "outputs": [],
   "source": [
    "import math as m\n",
    "\n",
    "print(m.sin(m.pi/2))\n",
    "#example of using the keyword as and creating an alias"
   ]
  },
  {
   "cell_type": "code",
   "execution_count": null,
   "metadata": {},
   "outputs": [],
   "source": [
    "#Note: after successful execution of an aliased import, the original module name becomes \n",
    "#inaccessible and must not be used.\n",
    "\n",
    "\n",
    "#In turn, when you use the from module import name variant and you need to change the entity's name, \n",
    "#you make an alias for the entity. This will cause the name to be replaced by the alias you choose.\n",
    "\n",
    "#This is how it can be done:\n",
    "\n",
    "from module import name as alias\n",
    "from math import ceil as ceil_value"
   ]
  },
  {
   "cell_type": "code",
   "execution_count": null,
   "metadata": {},
   "outputs": [],
   "source": [
    "#The phrase name as alias can be repeated - use commas to separate the multiplied phrases, like this:\n",
    "\n",
    "from module import n as a, m as b, o as c"
   ]
  },
  {
   "cell_type": "code",
   "execution_count": null,
   "metadata": {},
   "outputs": [],
   "source": [
    "#The example may look a bit weird, but it works:\n",
    "\n",
    "from math import pi as PI, sin as sine\n",
    "\n",
    "print(sine(PI/2))"
   ]
  },
  {
   "cell_type": "markdown",
   "metadata": {},
   "source": [
    "Key takeaways for PCAP 31-03-1.1(part one of module one)\n",
    "\n",
    "1. If you want to import a module as a whole, you can do it using the import module_name statement. \n",
    "    You are allowed to import more than one module at once using a comma-separated list. For example:"
   ]
  },
  {
   "cell_type": "code",
   "execution_count": null,
   "metadata": {},
   "outputs": [],
   "source": [
    "import mod1\n",
    "import mod2, mod3, mod4"
   ]
  },
  {
   "cell_type": "markdown",
   "metadata": {},
   "source": [
    "although the latter form is not recommended due to stylistic reasons, \n",
    "and it's better and prettier to express the same intention in more a verbose and explicit form, such as:\n",
    "\n"
   ]
  },
  {
   "cell_type": "code",
   "execution_count": null,
   "metadata": {},
   "outputs": [],
   "source": [
    "import mod2\n",
    "import mod3\n",
    "import mod4"
   ]
  },
  {
   "cell_type": "markdown",
   "metadata": {},
   "source": [
    "\n",
    "2. If a module is imported in the above manner and you want to access any of its entities, \n",
    "   you need to prefix the entity's name using dot notation. For example:\n",
    "   The snippet below makes use of two entities coming from the my_module module: \n",
    "   a function named my_function() and a variable named my_data. \n",
    "   Both names must be prefixed by my_module. None of the imported entity names conflicts \n",
    "   with the identical names existing in your code's namespace."
   ]
  },
  {
   "cell_type": "code",
   "execution_count": null,
   "metadata": {},
   "outputs": [],
   "source": [
    "import my_module\n",
    "\n",
    "result = my_module.my_function(my_module.my_data)"
   ]
  },
  {
   "cell_type": "markdown",
   "metadata": {},
   "source": [
    "\n",
    "3. You are allowed not only to import a module as a whole, but to import only individual entities from it. \n",
    "   In this case, the imported entities must not be prefixed when used. For example:"
   ]
  },
  {
   "cell_type": "code",
   "execution_count": null,
   "metadata": {},
   "outputs": [],
   "source": [
    "from module import my_function, my_data\n",
    "\n",
    "result = my_function(my_data)"
   ]
  },
  {
   "cell_type": "markdown",
   "metadata": {},
   "source": [
    "4. The most general form of the above statement allows you to import all entities offered by a module: \n",
    "   see the example in the code cell below"
   ]
  },
  {
   "cell_type": "code",
   "execution_count": null,
   "metadata": {},
   "outputs": [],
   "source": [
    "from my_module import *\n",
    "\n",
    "result = my_function(my_data)"
   ]
  },
  {
   "cell_type": "markdown",
   "metadata": {},
   "source": [
    "The above way - despite its attractiveness - is not recommended because of the danger of causing conflicts \n",
    "with names derived from importing the code's namespace."
   ]
  },
  {
   "cell_type": "markdown",
   "metadata": {},
   "source": [
    "Note: this import's variant * is not recommended due to the same reasons as previously \n",
    "(the threat of a naming conflict is even more dangerous here)."
   ]
  },
  {
   "cell_type": "markdown",
   "metadata": {},
   "source": [
    "5. You can change the name of the imported entity \"on the fly\" by using the as phrase of the import. \n",
    "   For example:"
   ]
  },
  {
   "cell_type": "code",
   "execution_count": null,
   "metadata": {},
   "outputs": [],
   "source": [
    "from module import my_function as fun, my_data as dat\n",
    "\n",
    "result = fun(dat)"
   ]
  },
  {
   "cell_type": "markdown",
   "metadata": {},
   "source": [
    "Remember you must refer to the alias throughout your code!!!"
   ]
  },
  {
   "cell_type": "markdown",
   "metadata": {},
   "source": [
    "Before we start going through some standard Python modules, we want to introduce the dir() function to you. It has nothing to do with the dir command you know from Windows and Unix consoles, as dir() doesn't show the contents of a disk directory/folder, but there is no denying that it does something really similar - it is able to reveal all the names provided through a particular module.\n",
    "\n",
    "There is one condition: the module has to have been previously imported as a whole (i.e., using the import module instruction - from module is not enough)."
   ]
  },
  {
   "cell_type": "markdown",
   "metadata": {},
   "source": [
    "The function returns an alphabetically sorted list containing all entities' names available in the module identified by a name passed to the function as an argument:"
   ]
  },
  {
   "cell_type": "code",
   "execution_count": null,
   "metadata": {},
   "outputs": [],
   "source": [
    "dir(module)"
   ]
  },
  {
   "cell_type": "markdown",
   "metadata": {},
   "source": [
    "Note: if the module's name has been aliased, you must use the alias, not the original name.\n",
    "\n",
    "Using the function inside a regular script doesn't make much sense, but it is still possible.\n",
    "\n",
    "For example, you can run the following code to print the names of all entities within the math module:"
   ]
  },
  {
   "cell_type": "markdown",
   "metadata": {},
   "source": [
    "Next we look at part 2 of Module one: \n",
    "Useful modules to import, take a look at the code example in the code cell below\n"
   ]
  },
  {
   "cell_type": "code",
   "execution_count": null,
   "metadata": {},
   "outputs": [],
   "source": [
    "from math import pow # note because of using the import math earlier we have access to the full module, so clear the cells before running\n",
    "print(dir(math))"
   ]
  },
  {
   "cell_type": "code",
   "execution_count": null,
   "metadata": {},
   "outputs": [],
   "source": [
    "from math import sin, pi\n",
    "\n",
    "for name in dir(math):\n",
    "    print(name, end=\"\\t\")\n",
    "\n",
    "#print(dir(math))"
   ]
  },
  {
   "cell_type": "markdown",
   "metadata": {},
   "source": [
    "\n",
    "\n",
    "\n",
    "Using the dir() function inside a code may not seem very useful - usually you want to know a particular module's contents before you write and run the code.\n",
    "\n",
    "Fortunately, you can execute the function directly in the Python console (IDLE), without needing to write and run a separate script.\n",
    "\n",
    "This is how it can be done:"
   ]
  },
  {
   "cell_type": "code",
   "execution_count": null,
   "metadata": {},
   "outputs": [],
   "source": [
    "import math\n",
    "dir(math)"
   ]
  },
  {
   "cell_type": "markdown",
   "metadata": {},
   "source": [
    "Selected functions from the math module\n",
    "Let's start with a quick preview of some of the functions provided by the math module.\n",
    "\n",
    "We've chosen them arbitrarily, but that doesn't mean that the functions we haven't mentioned here are any less significant. Dive into the modules' depths yourself - we don't have the space or the time to talk about everything in detail here.\n",
    "\n",
    "The first group of the math's functions are connected with trigonometry:\n",
    "\n",
    "1. sin(x) → the sine of x;\n",
    "2. cos(x) → the cosine of x;\n",
    "3. tan(x) → the tangent of x.\n",
    "All these functions take one argument (an angle measurement expressed in radians) and return the appropriate result (be careful with tan() - not all arguments are accepted).\n",
    "\n",
    "Of course, there are also their inversed versions:\n",
    "\n",
    "1. asin(x) → the arcsine of x;\n",
    "2. acos(x) → the arccosine of x;\n",
    "3. atan(x) → the arctangent of x.\n",
    "These functions take one argument (mind the domains) and return a measure of an angle in radians.\n",
    "\n",
    "\n",
    "To effectively operate on angle measurements, the math module provides you with the following entities:\n",
    "\n",
    "1. pi → a constant with a value that is an approximation of π;\n",
    "2. radians(x) → a function that converts x from degrees to radians;\n",
    "3. degrees(x) → acting in the other direction (from radians to degrees)\n",
    "Now look at the code in the editor. The example program isn't very sophisticated, but can you predict its results?"
   ]
  },
  {
   "cell_type": "code",
   "execution_count": null,
   "metadata": {},
   "outputs": [],
   "source": [
    "from math import pi, radians, degrees, sin, cos, tan, asin\n",
    "\n",
    "ad = 90\n",
    "ar = radians(ad)\n",
    "ad = degrees(ar)\n",
    "\n",
    "print(ad == 90.)\n",
    "print(ar == pi / 2.)\n",
    "print(sin(ar) / cos(ar) == tan(ar))\n",
    "print(asin(sin(ar)) == ar)\n"
   ]
  },
  {
   "cell_type": "markdown",
   "metadata": {},
   "source": [
    "Apart from the circular functions (listed above) the math module also contains a set of their hyperbolic analogues:\n",
    "\n",
    "1. sinh(x) → the hyperbolic sine;\n",
    "2. cosh(x) → the hyperbolic cosine;\n",
    "3. tanh(x) → the hyperbolic tangent;\n",
    "4. asinh(x) → the hyperbolic arcsine;\n",
    "5. acosh(x) → the hyperbolic arccosine;\n",
    "6. atanh(x) → the hyperbolic arctangent.\n",
    "   In mathematics, hyperbolic functions are analogues of the ordinary trigonometric functions, but defined using the hyperbola rather than the circle. Just as the points (cos t, sin t) form a circle with a unit radius, the points (cosh t, sinh t) form the right half of the unit hyperbola. Also, similarly to how the derivatives of sin(t) and cos(t) are cos(t) and –sin(t), the derivatives of sinh(t) and cosh(t) are cosh(t) and +sinh(t).Hyperbolic functions occur in the calculations of angles and distances in hyperbolic geometry. \n",
    "\n"
   ]
  },
  {
   "cell_type": "markdown",
   "metadata": {},
   "source": [
    "Another group of the math's functions is formed by functions which are connected with exponentiation:\n",
    "\n",
    "1. e → a constant with a value that is an approximation of Euler's number (e)\n",
    "2. exp(x) → finding the value of ex;\n",
    "3. log(x) → the natural logarithm of x\n",
    "4. log(x, b) → the logarithm of x to base b\n",
    "5. log10(x) → the decimal logarithm of x (more precise than log(x, 10))\n",
    "6. log2(x) → the binary logarithm of x (more precise than log(x, 2))\n",
    "  1. Note: the pow() function:\n",
    "\n",
    "7. pow(x, y) → finding the value of xy (mind the domains)\n",
    "8. This is a built-in function, and doesn't have to be imported.\n",
    "\n",
    "Look at the code in the code cell below. Can you predict its output?"
   ]
  },
  {
   "cell_type": "code",
   "execution_count": null,
   "metadata": {},
   "outputs": [],
   "source": [
    "import math\n",
    "result = math.e != math.pow(2, 6)\n",
    "print(int(result))#note the int casting changes a True or False value to a 1 or 0\n",
    "#print(result)"
   ]
  },
  {
   "cell_type": "code",
   "execution_count": null,
   "metadata": {},
   "outputs": [],
   "source": [
    "from math import e, exp, log\n",
    "\n",
    "print(pow(e, 1) == exp(log(e)))\n",
    "print(pow(2, 2) == exp(2 * log(2)))\n",
    "print()\n",
    "print(log(e, e) == exp(0))\n",
    "\n"
   ]
  },
  {
   "cell_type": "code",
   "execution_count": null,
   "metadata": {},
   "outputs": [],
   "source": [
    "import math\n",
    "math.log(10, 100)\n",
    "#It returns the base-10 logarithm of the given number x. as a float"
   ]
  },
  {
   "cell_type": "code",
   "execution_count": null,
   "metadata": {},
   "outputs": [],
   "source": [
    "# Python code to demonstrate the working of\n",
    "# log(a,Base)\n",
    " \n",
    "import math\n",
    " \n",
    "# Printing the log base e of 14\n",
    "print (\"Natural logarithm of 14 is : \", end=\"\")\n",
    "print (math.log(14))\n",
    " \n",
    "# Printing the log base 5 of 14\n",
    "print (\"Logarithm base 5 of 14 is : \", end=\"\")\n",
    "print (math.log(14,5))"
   ]
  },
  {
   "cell_type": "code",
   "execution_count": null,
   "metadata": {},
   "outputs": [],
   "source": [
    "# Python code to demonstrate the working of\n",
    "# log2(a)\n",
    " \n",
    "import math\n",
    " \n",
    "# Printing the log base 2 of 14\n",
    "print (\"Logarithm base 2 of 14 is : \", end=\"\")\n",
    "print (math.log2(14))"
   ]
  },
  {
   "cell_type": "code",
   "execution_count": null,
   "metadata": {},
   "outputs": [],
   "source": [
    "# Python code to demonstrate the working of\n",
    "# log10(a)\n",
    " \n",
    "import math\n",
    " \n",
    "# Printing the log base 10 of 14\n",
    "print (\"Logarithm base 10 of 14 is : \", end=\"\")\n",
    "print (math.log10(14))"
   ]
  },
  {
   "cell_type": "code",
   "execution_count": null,
   "metadata": {},
   "outputs": [],
   "source": [
    "# Python3 program to demonstrate the \n",
    "# sqrt() method \n",
    "  \n",
    "# import the math module \n",
    "import math \n",
    "  \n",
    "# print the square root of  0 \n",
    "print(math.sqrt(0)) \n",
    "  \n",
    "# print the square root of 4\n",
    "print(math.sqrt(4)) \n",
    "  \n",
    "# print the square root of 3.5\n",
    "print(math.sqrt(3.5)) "
   ]
  },
  {
   "cell_type": "code",
   "execution_count": null,
   "metadata": {},
   "outputs": [],
   "source": [
    "import math\n",
    "math.pow(4,4)\n"
   ]
  },
  {
   "cell_type": "code",
   "execution_count": null,
   "metadata": {},
   "outputs": [],
   "source": [
    "pow(5,3)\n"
   ]
  },
  {
   "cell_type": "markdown",
   "metadata": {},
   "source": [
    "The exp() function in Python allows users to calculate the exponential value with the base set to e.\n",
    "\n",
    "Note:\n",
    "\n",
    "e is a Mathematical constant, with a value approximately equal to 2.71828.\n",
    "The math library must be imported for this function to be executed."
   ]
  },
  {
   "cell_type": "code",
   "execution_count": null,
   "metadata": {},
   "outputs": [],
   "source": [
    "#exp(4,5)only takes one arg\n",
    "exp(4)"
   ]
  },
  {
   "cell_type": "code",
   "execution_count": null,
   "metadata": {},
   "outputs": [],
   "source": [
    "base = 3\n",
    "exponent = 4\n",
    "print(\"Exponential Value is: \", base ** exponent)"
   ]
  },
  {
   "cell_type": "code",
   "execution_count": null,
   "metadata": {},
   "outputs": [],
   "source": [
    "exp(5)#import math is already executed in previous cell\n",
    "#exp(exponent)\n"
   ]
  },
  {
   "cell_type": "code",
   "execution_count": null,
   "metadata": {},
   "outputs": [],
   "source": [
    "import math\n",
    "\n",
    "exponent = 10\n",
    "\n",
    "print(f\"Exponential Value is: {exp(exponent)}\")\n",
    "      \n",
    "                               "
   ]
  },
  {
   "cell_type": "code",
   "execution_count": null,
   "metadata": {},
   "outputs": [],
   "source": [
    "#python math exp\n",
    "import math\n",
    "math.exp(x)"
   ]
  },
  {
   "cell_type": "code",
   "execution_count": null,
   "metadata": {},
   "outputs": [],
   "source": [
    "#Math Module exp() Function in python\n",
    "import math\n",
    "math.exp(3)\n",
    "20.085536923187668"
   ]
  },
  {
   "cell_type": "code",
   "execution_count": null,
   "metadata": {},
   "outputs": [],
   "source": [
    "import math\n",
    "x = 3.86356\n",
    "math.floor(x)\n",
    "#Returns: 3\n",
    "math.ceil(x)\n",
    "#Returns: 4"
   ]
  },
  {
   "cell_type": "markdown",
   "metadata": {},
   "source": [
    "The logging module lets you track events when your code runs so that when the code crashes you can check the logs and identify what caused it"
   ]
  },
  {
   "cell_type": "code",
   "execution_count": null,
   "metadata": {},
   "outputs": [],
   "source": [
    "import logging #note the below on the PCAP I added this incase you got confused between logging module and the math module log\n",
    "\n",
    "logging.debug('This is a debug message')\n",
    "logging.info('This is an info message')\n",
    "logging.warning('This is a warning message')\n",
    "logging.error('This is an error message')\n",
    "logging.critical('This is a critical message')"
   ]
  },
  {
   "cell_type": "markdown",
   "metadata": {},
   "source": [
    "The output of the above program would look like this:\n",
    "\n",
    "1. WARNING:root:This is a warning message\n",
    "2. ERROR:root:This is an error message\n",
    "3. CRITICAL:root:This is a critical message"
   ]
  },
  {
   "cell_type": "markdown",
   "metadata": {},
   "source": [
    "The last group consists of some general-purpose functions like:\n",
    "\n",
    "1. ceil(x) → the ceiling of x (the smallest integer greater than or equal to x)\n",
    "2. floor(x) → the floor of x (the largest integer less than or equal to x)\n",
    "3. trunc(x) → the value of x truncated to an integer (be careful - it's not an equivalent either of ceil or floor)\n",
    "4. factorial(x) → returns x! (x has to be an integral and not a negative)\n",
    "5. hypot(x, y) → returns the length of the hypotenuse of a right-angle triangle with the leg lengths equal to x and y (the same as sqrt(pow(x, 2) + pow(y, 2)) but more precise)\n",
    "Look at the code in the code cell below. Analyze the program carefully, change int values to help you understand.\n",
    "\n",
    "It demonstrates the fundamental differences between ceil(), floor() and trunc().\n",
    "\n",
    "Run the program and check its output."
   ]
  },
  {
   "cell_type": "code",
   "execution_count": null,
   "metadata": {},
   "outputs": [],
   "source": [
    "from math import ceil, floor, trunc\n",
    "\n",
    "x = 1.4\n",
    "y = 2.6\n",
    "\n",
    "print(floor(x), floor(y))\n",
    "print(floor(-x), floor(-y))\n",
    "print(ceil(x), ceil(y))\n",
    "print(ceil(-x), ceil(-y))\n",
    "print(trunc(x), trunc(y))\n",
    "print(trunc(-x), trunc(-y))\n",
    "\n"
   ]
  },
  {
   "cell_type": "code",
   "execution_count": null,
   "metadata": {},
   "outputs": [],
   "source": [
    "# Python code to demonstrate the working of factorial()\n",
    "\n",
    "# importing \"math\" for mathematical operations\n",
    "import math\n",
    "\n",
    "x = 3\n",
    "y = 6\n",
    "# returning the factorial\n",
    "\n",
    "print (math.factorial(x))\n",
    "print (math.factorial(y))"
   ]
  },
  {
   "cell_type": "code",
   "execution_count": null,
   "metadata": {},
   "outputs": [],
   "source": [
    "# Python code to demonstrate the working of factorial()\n",
    "\n",
    "# importing \"math\" for mathematical operations\n",
    "import math\n",
    "\n",
    "x = 5\n",
    "y = 15\n",
    "z = 8\n",
    "\n",
    "# returning the factorial\n",
    "print (\"The factorial of 5 is : \", math.factorial(x))\n",
    "print (\"The factorial of 15 is : \", math.factorial(y))\n",
    "print (\"The factorial of 8 is : \", math.factorial(z))\n"
   ]
  },
  {
   "cell_type": "code",
   "execution_count": null,
   "metadata": {},
   "outputs": [],
   "source": [
    "# Python code to demonstrate the working of factorial()\n",
    "    \n",
    "# importing \"math\" for mathematical operations \n",
    "import math \n",
    "    \n",
    "# when x is not integer\n",
    "print (\"math.factorial(13.7) : \", math.factorial(13.7))"
   ]
  },
  {
   "cell_type": "markdown",
   "metadata": {},
   "source": [
    "### factorial() in Python\n",
    "\n",
    "Not many people know, but python offers a direct function that can compute the factorial of a number without writing the whole code for computing factorial.\n",
    "\n",
    "first method to compute factorial"
   ]
  },
  {
   "cell_type": "code",
   "execution_count": null,
   "metadata": {},
   "outputs": [],
   "source": [
    "# Python code to demonstrate naive method\n",
    "# to compute factorial\n",
    "n = 23\n",
    "fact = 1\n",
    "\n",
    "for i in range(1,n+1):\n",
    "    fact = fact * i\n",
    "\n",
    "print (\"The factorial of 23 is : \",end=\"\")\n",
    "print (fact)\n"
   ]
  },
  {
   "cell_type": "markdown",
   "metadata": {},
   "source": [
    "#### Python range() function\n",
    "\n",
    "Lets have a quick look at the range function in Python to ensure you understand the above and any other code blocks for PCAP.\n",
    "\n",
    "__Python range() function returns the sequence of the given number between the given range.__\n",
    "\n",
    "range() is a built-in function of Python. \n",
    "\n",
    "It is used when a user needs to perform an action a specific number of times. range() in Python(3.x) is just a renamed version of a function called xrange in Python(2.x). The range() function is used to generate a sequence of numbers. \n",
    "\n",
    "### Python range() function for loop is commonly used. \n",
    "So understanding it is vital and a key aspect when dealing with any kind of Python code. \n",
    "\n",
    "The most common use of range() function in Python is to iterate sequence type (Python range() List, string, etc. ) with for and while loop. \n",
    "\n",
    "### Python range syntax\n",
    "\n",
    "1. range(stop)\n",
    "\n",
    "2. range(start, stop, step(default is one if no value given))\n",
    "\n",
    "for i in range(1,n+1):\n",
    "    fact = fact * i\n",
    "    \n",
    "so the above code snippet taken from the above code cell, its the for loop which contained a range. Which of the two range syntax apply? \n",
    "\n",
    "Is it \n",
    "1. range(stop) or, \n",
    "2. range(start, stop, step)\n",
    "\n",
    "the answer is # 2, a start and stop and step is av null value(default 1)\n",
    "so lets look at a copy of the code from the above cell, which is below:\n"
   ]
  },
  {
   "cell_type": "code",
   "execution_count": null,
   "metadata": {},
   "outputs": [],
   "source": [
    "# Python code to demonstrate naive method\n",
    "# to compute factorial\n",
    "n = 23\n",
    "fact = 1\n",
    "\n",
    "for i in range(1,n+1): #for i in range(1,24) same as 1 to 23\n",
    "    fact = fact * i\n",
    "\n",
    "print (\"The factorial of 23 is : \",end=\"\") #remember the keyword end='' joins the next line to the current line, bypassing a newline\n",
    "print (fact)"
   ]
  },
  {
   "cell_type": "markdown",
   "metadata": {},
   "source": [
    "### Python range() Basics \n",
    "__(note you can bypass lecture on range(), I have vincluded to ensure you have a solid understanding of the range() as a lot of PCAP questions will contain it and the for loop__\n",
    "\n",
    "In simple terms, range() allows the user to generate a series of numbers within a given range. \n",
    "\n",
    "Depending on how many arguments the user is passing to the function, a user can decide where that series of numbers will begin and end, as well as how big the difference will be between one number and the next.range() (which takes mainly three arguments, as mentioned earlier)\n",
    "\n",
    "1. start: integer starting from which the sequence of integers is to be returned\n",
    "2. stop: integer before which the sequence of integers is to be returned. The range of integers end at stop – 1. for example if the int is 24 the stop is 23.\n",
    "3. step: integer value which determines the increment between each integer in the sequence(default is 0 if notb specified)"
   ]
  },
  {
   "cell_type": "markdown",
   "metadata": {},
   "source": [
    "### Example of Python range() methods\n",
    "Example 1: \n",
    "Demonstration of Python range()"
   ]
  },
  {
   "cell_type": "code",
   "execution_count": null,
   "metadata": {},
   "outputs": [],
   "source": [
    "# Python Program to\n",
    "# show range() basics\n",
    "\n",
    "# printing a number\n",
    "for i in range(10): #0 to 9 is ten iterations, is vthe int value of 9, remember the fact code sample earlier.\n",
    "    print(i, end=\" \") # the keyword end='' joins this print line with the next.(removes the Python default of printing to a new line.)\n",
    "print() #prints a empty line(creates a space between each output to screen)\n",
    "\n",
    "# using range for iteration\n",
    "l = [10, 20, 30, 40]\n",
    "for i in range(len(l)): # go through the list by the len 4 to pick up the four values. \n",
    "    print(l[i], end=\" \") #print 4 \n",
    "print()\n",
    "\n",
    "# performing sum of natural\n",
    "# number\n",
    "sum = 0\n",
    "for i in range(1, 11):#start at 1 up to 10 and add it to the sum, 1 + 2 = 3, 3 + 3 = 6, 6 + 4 = 10, 10 + 5 = 15, until 45 + 10 is 55\n",
    "    sum = sum + i\n",
    "print(\"Sum of first 10 natural number :\", sum)\n"
   ]
  },
  {
   "cell_type": "markdown",
   "metadata": {},
   "source": [
    "### There are three ways you can call range() : \n",
    "1. range(stop) takes one argument.\n",
    "2. range(start, stop) takes two arguments.\n",
    "3. range(start, stop, step) takes three arguments.\n",
    "\n",
    "#### range(stop)\n",
    "When a user calls range() with one argument, the user will get a series of numbers that starts at 0 and includes every whole number up to, but not including, the number that a user has provided as the stop. For Example:"
   ]
  },
  {
   "attachments": {
    "PythonRange6.png": {
     "image/png": "[encoded data removed]"
    }
   },
   "cell_type": "markdown",
   "metadata": {},
   "source": [
    "![PythonRange6.png](attachment:PythonRange6.png)"
   ]
  },
  {
   "cell_type": "markdown",
   "metadata": {},
   "source": [
    "#### Example 2:  Demonstration of Python range(stop)"
   ]
  },
  {
   "cell_type": "code",
   "execution_count": null,
   "metadata": {},
   "outputs": [],
   "source": [
    "# Python program to\n",
    "# print whole number\n",
    "# using range()\n",
    "\n",
    "# printing first 10\n",
    "# whole number\n",
    "for i in range(10):\n",
    "    print(i, end=\" \")\n",
    "print()\n",
    "\n",
    "# printing first 20\n",
    "# whole number\n",
    "for i in range(20):\n",
    "    print(i, end=\" \")\n"
   ]
  },
  {
   "cell_type": "markdown",
   "metadata": {},
   "source": [
    "### range(start, stop)\n",
    "When a user calls the range() with two arguments, the user gets to decide not only where the series of numbers stops but also where it starts, a user does not have to start at 0 all of the time. We can use range() to generate a series of numbers from X to Y using a range(X, Y). For Example arguments"
   ]
  },
  {
   "attachments": {
    "PythonRange206.png": {
     "image/png": "[encoded data removed]"
    }
   },
   "cell_type": "markdown",
   "metadata": {},
   "source": [
    "![PythonRange206.png](attachment:PythonRange206.png)"
   ]
  },
  {
   "cell_type": "markdown",
   "metadata": {},
   "source": [
    "### Example 3:  Demonstration of Python range(start, stop)"
   ]
  },
  {
   "cell_type": "code",
   "execution_count": null,
   "metadata": {},
   "outputs": [],
   "source": [
    "# Python program to\n",
    "# print natural number\n",
    "# using range\n",
    "\n",
    "# printing a natural\n",
    "# number upto 20\n",
    "for i in range(1, 20):\n",
    "    print(i, end=\" \")\n",
    "print()\n",
    "\n",
    "# printing a natural\n",
    "# number from 5 t0 20\n",
    "for i in range(5, 20):\n",
    "    print(i, end=\" \")\n"
   ]
  },
  {
   "cell_type": "markdown",
   "metadata": {},
   "source": [
    "### range(start, stop, step)\n",
    "When the user calls range() with three arguments, the user can choose not only where the series of numbers will start and stop but also how big the difference will be between one number and the next. If the user doesn’t provide a step, then range() will automatically behave as if the step is 1. "
   ]
  },
  {
   "cell_type": "markdown",
   "metadata": {},
   "source": [
    "#### Example 4:  Demonstration of Python range(start, stop, step)"
   ]
  },
  {
   "cell_type": "code",
   "execution_count": null,
   "metadata": {},
   "outputs": [],
   "source": [
    "# Python program to\n",
    "# print all number\n",
    "# divisible by 3 and 5\n",
    "\n",
    "# using range to print number\n",
    "# divisible by 3\n",
    "for i in range(0, 30, 3):#includes the 0 in the output\n",
    "    print(i, end=\" \")\n",
    "print()\n",
    "\n",
    "# using range to print number\n",
    "# divisible by 5\n",
    "for i in range(0, 50, 5): #includes the 0 in the output\n",
    "    print(i, end=\" \")\n"
   ]
  },
  {
   "attachments": {
    "PythonRange0102-1.png": {
     "image/png": "[encoded data removed]"
    }
   },
   "cell_type": "markdown",
   "metadata": {},
   "source": [
    "![PythonRange0102-1.png](attachment:PythonRange0102-1.png)"
   ]
  },
  {
   "cell_type": "markdown",
   "metadata": {},
   "source": [
    "In the image above, we are printing an even number between 0 to 10 so we choose our starting point from 0(start = 0) and stop the series at 10(stop = 10). For printing even number the difference between one number and the next must be 2 (step = 2) after providing a step we get a following output ( 0, 2, 4, 8). "
   ]
  },
  {
   "cell_type": "markdown",
   "metadata": {},
   "source": [
    "### Example 5: Incrementing with the range using positive step \n",
    "If a user wants to increment, then the user needs steps to be a positive number. \n",
    "\n",
    "For example:"
   ]
  },
  {
   "cell_type": "code",
   "execution_count": null,
   "metadata": {},
   "outputs": [],
   "source": [
    "# Python program to\n",
    "# increment with\n",
    "# range()\n",
    "\n",
    "# incremented by 2\n",
    "for i in range(2, 25, 2):\n",
    "    print(i, end=\" \")\n",
    "print()\n",
    "\n",
    "# incremented by 4\n",
    "for i in range(0, 30, 4):\n",
    "    print(i, end=\" \")\n",
    "print()\n",
    "\n",
    "# incremented by 3\n",
    "for i in range(15, 25, 3):\n",
    "    print(i, end=\" \")\n"
   ]
  },
  {
   "cell_type": "markdown",
   "metadata": {},
   "source": [
    "### Example 6: Python range() backwards\n",
    "If a user wants to decrement, then the user needs steps to be a negative number. For example: "
   ]
  },
  {
   "cell_type": "code",
   "execution_count": null,
   "metadata": {},
   "outputs": [],
   "source": [
    "# Python program to\n",
    "# decrement with\n",
    "# range()\n",
    "\n",
    "# incremented by -2\n",
    "for i in range(25, 2, -2):\n",
    "    print(i, end=\" \")\n",
    "print()\n",
    "\n",
    "# incremented by -4\n",
    "for i in range(30, 1, -4):\n",
    "    print(i, end=\" \")\n",
    "print()\n",
    "\n",
    "# incremented by -3\n",
    "for i in range(25, -6, -3):\n",
    "    print(i, end=\" \")\n"
   ]
  },
  {
   "cell_type": "markdown",
   "metadata": {},
   "source": [
    "### Example 7: Python range() float\n",
    "Python range() function doesn’t support float numbers. i.e. a user cannot use floating-point or non-integer number values in any of its range() arguments. Users can use only integer numbers. For example "
   ]
  },
  {
   "cell_type": "code",
   "execution_count": null,
   "metadata": {},
   "outputs": [],
   "source": [
    "# Python program to\n",
    "# show using float\n",
    "# number in range()\n",
    "\n",
    "# using a float number\n",
    "for i in range(3.3):\n",
    "    print(i)\n",
    "\n",
    "# using a float number\n",
    "for i in range(5.5):\n",
    "    print(i)\n",
    "#returns TypeError: 'float' object cannot be interpreted as an integer"
   ]
  },
  {
   "cell_type": "markdown",
   "metadata": {},
   "source": [
    "### Example 8: Concatenation of two range() functions\n",
    "The result from two range() functions can be concatenated by using the chain() method of itertools module. Meaning we can use the import clause, to import itertools, or from itertools import chain. (See the code cell below)\n",
    "The chain() method is used to print all the values in iterable targets one after another mentioned in its arguments."
   ]
  },
  {
   "cell_type": "code",
   "execution_count": null,
   "metadata": {},
   "outputs": [],
   "source": [
    "# Python program to concatenate\n",
    "# the result of two range functions\n",
    "from itertools import chain\n",
    "\n",
    "# Using chain method\n",
    "print(\"Concatenating the result\")\n",
    "res = chain(range(5), range(10, 20, 2)) # first range is 0, 1, 2, 3, 4. the second is 10, 12, 14, 16, 18\n",
    "\n",
    "for i in res:\n",
    "    print(i, end=\" \")\n"
   ]
  },
  {
   "cell_type": "markdown",
   "metadata": {},
   "source": [
    "### Example 9: Accessing range() with index value\n",
    "A sequence of numbers is returned by the range() function as its object that can be accessed by its index value, selecting that element at the specified index. __Both positive and negative indexing is supported by its object.__"
   ]
  },
  {
   "cell_type": "code",
   "execution_count": null,
   "metadata": {},
   "outputs": [],
   "source": [
    "# Python program to demonstrate\n",
    "# range function\n",
    "\n",
    "ele = range(10)[0]\n",
    "print(\"First element:\", ele)\n",
    "\n",
    "ele = range(10)[-1]\n",
    "print(\"\\nLast element:\", ele)\n",
    "\n",
    "ele = range(10)[4]\n",
    "print(\"\\nFifth element:\", ele)#note how the exlement in range reflects same value as the index position.\n"
   ]
  },
  {
   "cell_type": "markdown",
   "metadata": {},
   "source": [
    "### Summary: Python range() function : \n",
    "\n",
    "1. range() function only works with the integers as whole numbers.\n",
    "2. All arguments must be integers. Users can not pass a string or float number or any other type in a start, stop and step argument of a range().\n",
    "3. All three arguments can be positive or negative.\n",
    "4. The step value must not be zero. If a step is zero python raises a ValueError exception.\n",
    "5. range() is a type in Python\n",
    "6. Users can access items in a range() by index, just as users do with a list:"
   ]
  },
  {
   "cell_type": "markdown",
   "metadata": {},
   "source": [
    "# range() to a list in Python\n",
    "\n",
    "\n",
    "Often times we want to create a list containing a continuous value like, in a range of 100-200. Let’s discuss how to create a list using the range() function.\n",
    "\n",
    "Will this work ?"
   ]
  },
  {
   "cell_type": "code",
   "execution_count": null,
   "metadata": {},
   "outputs": [],
   "source": [
    "# Create a list in a range of 10-20\n",
    "My_list = [range(10, 20, 1)]\n",
    "\n",
    "# Print the list\n",
    "print(My_list)\n"
   ]
  },
  {
   "cell_type": "markdown",
   "metadata": {},
   "source": [
    "As we can see in the output, the result is not exactly what we were expecting because Python does not unpack the result of the range() function.\n",
    "\n",
    "In the first Code Example below: We can use argument-unpacking operator i.e. *."
   ]
  },
  {
   "cell_type": "code",
   "execution_count": null,
   "metadata": {},
   "outputs": [],
   "source": [
    "# Create a list in a range of 10-20\n",
    "My_list = [*range(10, 21, 1)]\n",
    "\n",
    "# Print the list\n",
    "print(My_list)\n"
   ]
  },
  {
   "cell_type": "markdown",
   "metadata": {},
   "source": [
    "As we can see in the output, the argument-unpacking operator has successfully unpacked the result of the range function."
   ]
  },
  {
   "cell_type": "markdown",
   "metadata": {},
   "source": [
    "### Create list of numbers with given range in Python\n",
    "\n",
    "\n",
    "Given two numbers r1 and r2 (which defines the range), lets write a Python program to create a list with the given range (inclusive).\n",
    "\n",
    "Examples:\n",
    "\n",
    "Input : r1 = -1, r2 = 1\n",
    "\n",
    "Output : [-1, 0, 1]\n",
    "\n",
    "Input : r1 = 5, r2 = 9\n",
    "\n",
    "Output : [5, 6, 7, 8, 9]\n",
    "\n",
    "Let’s look at a few approaches to do this task.\n",
    "\n",
    "#### Approach 1 : Naive Approach\n",
    "\n",
    "A naive method to create a list within a given range is to first create an empty list and append a successor of each integer in every iteration of for loop."
   ]
  },
  {
   "cell_type": "code",
   "execution_count": null,
   "metadata": {},
   "outputs": [],
   "source": [
    "# Python3 Program to Create list\n",
    "# with integers within given range\n",
    "# Driver Code\n",
    "#r1, r2 = -1, 1\n",
    "def createList(r1, r2):\n",
    "    # Driver Code\n",
    "    #r1, r2 = -1, 1\n",
    "\n",
    "    # Testing if range r1 and r2\n",
    "    # are equal\n",
    "    # Driver Code\n",
    "    #r1, r2 = -1, 1\n",
    "    if (r1 == r2):\n",
    "        return r1\n",
    "\n",
    "    else:\n",
    "\n",
    "        # Create empty list\n",
    "        res = []\n",
    "\n",
    "        # loop to append successors to\n",
    "        # list until r2 is reached.\n",
    "        while(r1 < r2+1 ):\n",
    "            \n",
    "            res.append(r1)\n",
    "            r1 += 1\n",
    "        return res\n",
    "\n",
    "# Driver Code typically located here, note all the places I have positioned the driver code to demo same result returned(in case you get question in PCAP with driver code in different position)\n",
    "r1, r2 = -1, 1\n",
    "print(createList(r1, r2))\n"
   ]
  },
  {
   "cell_type": "markdown",
   "metadata": {},
   "source": [
    " \n",
    "#### Approach 2 : List comprehension\n",
    "\n",
    "We can also use list comprehension for the purpose. Just iterate ‘item’ in a for loop from r1 to r2 and return all ‘item’ as list. This will be a simple one liner code."
   ]
  },
  {
   "cell_type": "code",
   "execution_count": null,
   "metadata": {},
   "outputs": [],
   "source": [
    "# Python3 Program to Create list\n",
    "# with integers within given range\n",
    "# Driver Code\n",
    "#r1, r2 = -1, 1\n",
    "def createList(r1, r2):\n",
    "    return [item for item in range(r1, r2+1)]\n",
    "\n",
    "# Driver Code\n",
    "r1, r2 = -1, 1\n",
    "print(createList(r1, r2))\n"
   ]
  },
  {
   "cell_type": "markdown",
   "metadata": {},
   "source": [
    "### Approach 3 : using Python range()\n",
    "\n",
    "Python comes with a direct function range() which creates a sequence of numbers from start to stop values and prints each item in the sequence. We use range() with r1 and r2 and then convert the sequence into list, using casting."
   ]
  },
  {
   "cell_type": "code",
   "execution_count": null,
   "metadata": {},
   "outputs": [],
   "source": [
    "# Python3 Program to Create list\n",
    "# with integers within given range\n",
    "# Driver Code\n",
    "#r1, r2 = -1, 1 #note driver code can be here or below.\n",
    "def createList(r1, r2):\n",
    "    return list(range(r1, r2+1))\n",
    "\n",
    "# Driver Code\n",
    "r1, r2 = -1, 1\n",
    "#print(createList) #returns the location <function createList at 0x000001A54901A790>\n",
    "print(createList(r1, r2))\n"
   ]
  },
  {
   "cell_type": "markdown",
   "metadata": {},
   "source": [
    "## Approach 4 : Using numpy.arange()\n",
    "\n",
    "Python numpy.arange() returns a list with evenly spaced elements as per the interval. Here we set the interval as 1 according to our need to get the desired output. Numphy is a module in Python for import and arange() is a function contained within numphy."
   ]
  },
  {
   "cell_type": "code",
   "execution_count": null,
   "metadata": {},
   "outputs": [],
   "source": [
    "# Python3 Program to Create list\n",
    "# with integers within given range\n",
    "import numpy as np\n",
    "def createList(r1, r2):\n",
    "    return np.arange(r1, r2+1, 1)\n",
    "\n",
    "# Driver Code\n",
    "r1, r2 = -1, 1\n",
    "print(createList(r1, r2))\n"
   ]
  },
  {
   "cell_type": "markdown",
   "metadata": {},
   "source": [
    "## Operator Overloading in Python\n",
    "\n",
    "\n",
    "Operator Overloading means giving extended meaning beyond their predefined operational meaning. \n",
    "\n",
    "For example operator + is used to add two integers as well as join two strings and merge two lists. \n",
    "\n",
    "It is achievable because ‘+’ operator is overloaded by int class and str class. \n",
    "\n",
    "You might have noticed that the same built-in operator or function shows different behavior for objects of different classes, this is called Operator Overloading. "
   ]
  },
  {
   "cell_type": "code",
   "execution_count": null,
   "metadata": {},
   "outputs": [],
   "source": [
    "# Python program to show use of\n",
    "# + operator for different purposes.\n",
    "\n",
    "print(1 + 2)\n",
    "\n",
    "# concatenate two strings\n",
    "print(\"Python Course\"+\"For PCAP 31-03\")\n",
    "\n",
    "# Product two numbers\n",
    "print(3 * 4)\n",
    "\n",
    "# Repeat the String\n",
    "print(\"Python\"*4, end='.')\n"
   ]
  },
  {
   "cell_type": "markdown",
   "metadata": {},
   "source": [
    "## How to overload the operators in Python? \n",
    "Lets assume we have two objects which are a physical representation of a class (user-defined data type) we want our program to add two objects using the binary ‘+’ operator,  it throws an error, the compiler does not know how to add two objects. \n",
    "\n",
    "We can define a method for such an operator(operator overloading.) We can overload all existing operators.(we can’t create a new operator.) \n",
    "\n",
    "To perform operator overloading, Python provides some special function or magic function that is automatically invoked when it is associated with that particular operator. \n",
    "\n",
    "For example, when we use the + operator, the magic method __add__ is automatically invoked in which the operation for + operator is defined.\n",
    "\n",
    "### Overloading binary + operator in Python : \n",
    "When we use an operator on user defined data types then automatically a special function or magic function associated with that operator is invoked. This results in changing the behavior of the operator and is as simple as changing the behavior of a method or a function. \n",
    "\n",
    "We can define methods in a user defined class and use the magic function, __add__ to overload the + operator,  essentially changing the operators to now work according to the behavior we defined in the newly created methods. \n",
    "\n",
    "When we use + operator, the magic method __add__ is automatically invoked in which the operation for + operator is defined. resulting in changing the magic method’s code, essentially we can give extra meaning to the + operator.\n",
    "We can use the __str__ in a method, and additional constructor methods to perform overloading."
   ]
  },
  {
   "cell_type": "code",
   "execution_count": null,
   "metadata": {},
   "outputs": [],
   "source": [
    "#Example One\n",
    "# Python Program illustrate how\n",
    "# to overload an binary + operator\n",
    "\n",
    "class A:\n",
    "    def __init__(self, a):\n",
    "        self.a = a\n",
    "\n",
    "    # adding two objects\n",
    "    def __add__(self, o):\n",
    "        return self.a + o.a\n",
    "ob1 = A(1)\n",
    "ob2 = A(2)\n",
    "ob3 = A(\"P\")\n",
    "ob4 = A(\"CAP\")\n",
    "\n",
    "print(ob1 + ob2)\n",
    "print(ob3 + ob4)\n"
   ]
  },
  {
   "cell_type": "code",
   "execution_count": null,
   "metadata": {},
   "outputs": [],
   "source": [
    "#Example Two\n",
    "# Python Program to perform addition\n",
    "# of two complex numbers using binary\n",
    "# + operator overloading.\n",
    "\n",
    "class complex:\n",
    "    def __init__(self, a, b):\n",
    "        self.a = a\n",
    "        self.b = b\n",
    "\n",
    "    # adding two objects\n",
    "    def __add__(self, other):\n",
    "        return self.a + other.a, self.b + other.b\n",
    "\n",
    "Ob1 = complex(1, 2)\n",
    "Ob2 = complex(2, 3)\n",
    "Ob3 = Ob1 + Ob2\n",
    "print(Ob3)\n"
   ]
  },
  {
   "cell_type": "markdown",
   "metadata": {},
   "source": [
    "### Overloading comparison operators in Python : \n",
    "we are essentially taking Pythons constructor methods and utilising them(changing their behaviour) for a one time operation."
   ]
  },
  {
   "cell_type": "code",
   "execution_count": 126,
   "metadata": {},
   "outputs": [
    {
     "name": "stdout",
     "output_type": "stream",
     "text": [
      "ob2 is greater than ob1\n"
     ]
    }
   ],
   "source": [
    "#Example One:\n",
    "# Python program to overload\n",
    "# a comparison operators\n",
    "\n",
    "class A:\n",
    "    def __init__(self, a):\n",
    "        self.a = a\n",
    "    def __gt__(self, other):\n",
    "        if(self.a>other.a):\n",
    "            return True\n",
    "        else:\n",
    "            return False\n",
    "ob1 = A(2)\n",
    "ob2 = A(3)\n",
    "if(ob1>ob2):\n",
    "    print(\"ob1 is greater than ob2\")\n",
    "else:\n",
    "    print(\"ob2 is greater than ob1\")\n"
   ]
  },
  {
   "cell_type": "markdown",
   "metadata": {},
   "source": [
    "### Overloading equality and less than operators :"
   ]
  },
  {
   "cell_type": "code",
   "execution_count": null,
   "metadata": {},
   "outputs": [],
   "source": [
    "# Python program to overload equality\n",
    "# and less than operators\n",
    "\n",
    "class A:\n",
    "    def __init__(self, a):\n",
    "        self.a = a\n",
    "    def __lt__(self, other):\n",
    "        if(self.a<other.a):\n",
    "            return \"ob1 is less than ob2\"\n",
    "        else:\n",
    "            return \"ob2 is less than ob1\"\n",
    "    def __eq__(self, other):\n",
    "        if(self.a == other.a):\n",
    "            return \"Both are equal\"\n",
    "        else:\n",
    "            return \"Not equal\"\n",
    "\n",
    "ob1 = A(2)\n",
    "ob2 = A(3)\n",
    "print(ob1 < ob2)\n",
    "\n",
    "ob3 = A(4)\n",
    "ob4 = A(4)\n",
    "print(ob1 == ob2)\n"
   ]
  },
  {
   "cell_type": "code",
   "execution_count": null,
   "metadata": {},
   "outputs": [],
   "source": [
    "#Do not run this cell\n",
    "\n",
    "Binary Operators:\n",
    "    \n",
    "Operator\tMagic Method\n",
    "+\t__add__(self, other)\n",
    "–\t__sub__(self, other)\n",
    "*\t__mul__(self, other)\n",
    "/\t__truediv__(self, other)\n",
    "//\t__floordiv__(self, other)\n",
    "%\t__mod__(self, other)\n",
    "**\t__pow__(self, other)\n",
    ">>\t__rshift__(self, other)\n",
    "<<\t__lshift__(self, other)\n",
    "&\t__and__(self, other)\n",
    "|\t__or__(self, other)\n",
    "^\t__xor__(self, other)"
   ]
  },
  {
   "cell_type": "code",
   "execution_count": null,
   "metadata": {},
   "outputs": [],
   "source": [
    "Comparison Operators :\n",
    "Operator\tMagic Method\n",
    "<\t__lt__(self, other)\n",
    ">\t__gt__(self, other)\n",
    "<=\t__le__(self, other)\n",
    ">=\t__ge__(self, other)\n",
    "==\t__eq__(self, other)\n",
    "!=\t__ne__(self, other)"
   ]
  },
  {
   "cell_type": "code",
   "execution_count": null,
   "metadata": {},
   "outputs": [],
   "source": [
    "Assignment Operators :\n",
    "Operator\tMagic Method\n",
    "-=\t__isub__(self, other)\n",
    "+=\t__iadd__(self, other)\n",
    "*=\t__imul__(self, other)\n",
    "/=\t__idiv__(self, other)\n",
    "//=\t__ifloordiv__(self, other)\n",
    "%=\t__imod__(self, other)\n",
    "**=\t__ipow__(self, other)\n",
    ">>=\t__irshift__(self, other)\n",
    "<<=\t__ilshift__(self, other)\n",
    "&=\t__iand__(self, other)\n",
    "|=\t__ior__(self, other)\n",
    "^=\t__ixor__(self, other)"
   ]
  },
  {
   "cell_type": "code",
   "execution_count": null,
   "metadata": {},
   "outputs": [],
   "source": [
    "Unary Operators :\n",
    "Operator\tMagic Method\n",
    "–\t__neg__(self)\n",
    "+\t__pos__(self)\n",
    "~\t__invert__(self)"
   ]
  },
  {
   "cell_type": "markdown",
   "metadata": {},
   "source": [
    "Note: It is not possible to change the number of operands of an operator. For ex. you cannot overload a unary operator as a binary operator. The following code will throw a syntax error."
   ]
  },
  {
   "cell_type": "code",
   "execution_count": 130,
   "metadata": {},
   "outputs": [
    {
     "ename": "SyntaxError",
     "evalue": "invalid syntax (2365539031.py, line 16)",
     "output_type": "error",
     "traceback": [
      "\u001b[1;36m  Input \u001b[1;32mIn [130]\u001b[1;36m\u001b[0m\n\u001b[1;33m    print((ob1~ob2))\u001b[0m\n\u001b[1;37m              ^\u001b[0m\n\u001b[1;31mSyntaxError\u001b[0m\u001b[1;31m:\u001b[0m invalid syntax\n"
     ]
    }
   ],
   "source": [
    "# Python program which attempts to\n",
    "# overload ~ operator as binary operator\n",
    "\n",
    "class A:\n",
    "    def __init__(self, a):\n",
    "        self.a = a\n",
    "\n",
    "    # Overloading ~ operator, but with two operands\n",
    "    def __invert__(self, other):\n",
    "        return \"This is the ~ operator, overloaded as binary operator.\"\n",
    "\n",
    "\n",
    "ob1 = A(2)\n",
    "ob2 = A(3)\n",
    "\n",
    "print((ob1~ob2))\n"
   ]
  },
  {
   "cell_type": "markdown",
   "metadata": {},
   "source": [
    "The random function\n",
    "\n",
    "The most general function named random() (not to be confused with the module's name) produces \n",
    "a float number x coming from the range (0.0, 1.0) - in other words: (0.0 <= x < 1.0).\n",
    "\n",
    "The example program below will produce five pseudorandom values - \n",
    "as their values are determined by the current (rather unpredictable) seed value, you can't guess them:"
   ]
  },
  {
   "cell_type": "code",
   "execution_count": null,
   "metadata": {},
   "outputs": [],
   "source": [
    "from random import random\n",
    "\n",
    "for i in range(5):#five random values between 0.0 and 1.0 returned\n",
    "    print(random())"
   ]
  },
  {
   "cell_type": "code",
   "execution_count": null,
   "metadata": {},
   "outputs": [],
   "source": [
    "#The seed function\n",
    "\n",
    "#The seed() function is able to directly set the generator's seed. We'll show you two of its variants:\n",
    "\n",
    "seed() #- sets the seed with the current time;\n",
    "seed(int_value) #- sets the seed with the integer value int_value.\n",
    "#We've modified the previous program - in effect, we've removed any trace of randomness from the code:\n",
    "#see code cell below:"
   ]
  },
  {
   "cell_type": "code",
   "execution_count": null,
   "metadata": {},
   "outputs": [],
   "source": [
    "from random import random, seed\n",
    "\n",
    "seed(10)\n",
    "\n",
    "for i in range(5):\n",
    "    print(random())"
   ]
  },
  {
   "cell_type": "markdown",
   "metadata": {},
   "source": [
    "Due to the fact that the seed is always set with the same value, \n",
    "the sequence of generated values always looks the same.\n",
    "\n",
    "Run the program. do not be surprised if they are similar\n",
    "1. 0.844421851525\n",
    "2. 0.75795440294\n",
    "3. 0.420571580831\n",
    "4. 0.258916750293\n",
    "5. 0.511274721369"
   ]
  },
  {
   "cell_type": "markdown",
   "metadata": {},
   "source": [
    "VERY IMPORTANT READ OVER ONCE AT MIN\n",
    "The randrange and randint functions\n",
    "\n",
    "If you want integer random values, one of the following functions would fit better:\n",
    "\n",
    "1. randrange(end)\n",
    "2. randrange(beg, end)\n",
    "3. randrange(beg, end, step)\n",
    "4. randint(left, right)\n",
    "The first three invocations will generate an integer taken (pseudorandomly) from the range (respectively):\n",
    "\n",
    "1. range(end)\n",
    "2. range(beg, end)\n",
    "3. range(beg, end, step)\n",
    "Note the implicit right-sided exclusion!\n",
    "\n",
    "The last function is an equivalent of randrange(left, right+1) - \n",
    "it generates the integer value i, which falls in the range [left, right] (no exclusion on the right side).\n",
    "\n",
    "Look at the code in the cell below. \n",
    "This sample program will consequently output a line consisting of three zeros and either a zero or one at \n",
    "the fourth place."
   ]
  },
  {
   "cell_type": "code",
   "execution_count": null,
   "metadata": {},
   "outputs": [],
   "source": [
    "from random import randrange, randint\n",
    "\n",
    "print(randrange(4), end=' ')#change to a 3 rand up to 2\n",
    "print(randrange(0, 3), end=' ')\n",
    "print(randrange(0, 3, 1), end=' ')\n",
    "print(randint(0, 3))#change to a 3 and up to a 3\n",
    "#randrange(end)\n",
    "#randrange(beg, end)\n",
    "#randrange(beg, end, step)\n",
    "#randint(left, right)\n"
   ]
  },
  {
   "cell_type": "markdown",
   "metadata": {},
   "source": [
    "For the above code, change the int values to see differences, helps you to understand."
   ]
  },
  {
   "cell_type": "markdown",
   "metadata": {},
   "source": [
    "The previous functions have one important disadvantage - they may produce repeating values even if the number of subsequent invocations is not greater than the width of the specified range.\n",
    "\n",
    "Look at the code below - the program very likely outputs a set of numbers in which some elements are not unique:"
   ]
  },
  {
   "cell_type": "code",
   "execution_count": null,
   "metadata": {},
   "outputs": [],
   "source": [
    "from random import randint\n",
    "\n",
    "for i in range(10):\n",
    "    print(randint(1, 10), end=',')"
   ]
  },
  {
   "cell_type": "markdown",
   "metadata": {},
   "source": [
    "The choice and sample functions\n",
    "\n",
    "As you can see, this is not a good tool for generating numbers in a lottery. Fortunately, there is a better solution than writing your own code to check the uniqueness of the \"drawn\" numbers.\n",
    "\n",
    "\n",
    "It's a function named in a very suggestive way - choice:\n",
    "\n",
    "1. choice(sequence)\n",
    "2. sample(sequence, elements_to_choose)\n",
    "1. The first variant chooses a \"random\" element from the input sequence and returns it.\n",
    "\n",
    "2. The second one builds a list (a sample) consisting of the elements_to_choose element \"drawn\" from the input sequence.\n",
    "\n",
    "In other words, the function chooses some of the input elements, returning a list with the choice. The elements in the sample are placed in random order. Note: the elements_to_choose must not be greater than the length of the input sequence.\n",
    "\n",
    "Look at the code below:"
   ]
  },
  {
   "cell_type": "code",
   "execution_count": null,
   "metadata": {},
   "outputs": [],
   "source": [
    "from random import choice, sample\n",
    "\n",
    "my_list = [1, 2, 3, 4, 5, 6, 7, 8, 9, 10]\n",
    "\n",
    "print(choice(my_list))\n",
    "print(sample(my_list, 5))\n",
    "print(sample(my_list, 10))"
   ]
  },
  {
   "cell_type": "markdown",
   "metadata": {},
   "source": [
    "THE PLATFORM MODULE\n",
    "Sometimes, it may be necessary to find out information unrelated to Python. For example, you may need to know the location of your program within the greater environment of the computer.\n",
    "\n",
    "Imagine your program's environment as a pyramid consisting of a number of layers or platforms."
   ]
  },
  {
   "cell_type": "markdown",
   "metadata": {},
   "source": [
    "Help you to understand the layers!!!!\n",
    "\n",
    "1. your code wants to create a file, so it invokes one of Python's functions;\n",
    "2. Python accepts the order, rearranges it to meet local OS requirements \n",
    "   (it's like putting the stamp \"approved\" on your request) and sends it down \n",
    "   (this may remind you of a chain of command)\n",
    "3. the OS checks if the request is reasonable and valid \n",
    "   (e.g., whether the file name conforms to some syntax rules) and tries to create the file; such an operation,\n",
    "    seemingly very simple, isn't atomic - it consists of many minor steps taken by...\n",
    "3. the hardware, which is responsible for activating storage devices (hard disk, solid state devices, etc.) \n",
    "   to satisfy the OS's needs.\n",
    "Usually, you're not aware of all that fuss - you want the file to be created and that's that.\n",
    "\n",
    "But sometimes you want to know more - for example, \n",
    "1. the name of the OS which hosts Python, and some characteristics describing the hardware that hosts the OS.\n",
    "\n",
    "2. There is a module providing some means to allow you to know where you are and what components work for you. \n",
    "   The module is named platform. We'll show you some of the functions it provides to you."
   ]
  },
  {
   "cell_type": "markdown",
   "metadata": {},
   "source": [
    "The platform function\n",
    "\n",
    "The platform module lets you access the underlying platform's data, i.e., hardware, operating system, and interpreter version information.\n",
    "\n",
    "There is a function that can show you all the underlying layers in one glance, named platform, too. It just returns a string describing the environment; thus, its output is rather addressed to humans than to automated processing (you'll see it soon).\n",
    "\n",
    "This is how you can invoke it:"
   ]
  },
  {
   "cell_type": "code",
   "execution_count": null,
   "metadata": {},
   "outputs": [],
   "source": [
    "platform(aliased = False, terse = False)"
   ]
  },
  {
   "cell_type": "markdown",
   "metadata": {},
   "source": [
    "And now:Understand the code\n",
    "\n",
    "1. aliased → when set to True (or any non-zero value) \n",
    "   it may cause the function to present the alternative underlying layer names instead of the common ones;\n",
    "2. terse → when set to True (or any non-zero value) \n",
    "   it may convince the function to present a briefer form of the result (if possible)"
   ]
  },
  {
   "cell_type": "markdown",
   "metadata": {},
   "source": [
    "You can also run the sample program below in IDLE on your local machine to check what output you will have."
   ]
  },
  {
   "cell_type": "code",
   "execution_count": null,
   "metadata": {},
   "outputs": [],
   "source": [
    "from platform import platform\n",
    "\n",
    "print(platform())\n",
    "print(platform(1))\n",
    "print(platform(0, 1))\n",
    "print(platform(False, True))"
   ]
  },
  {
   "cell_type": "markdown",
   "metadata": {},
   "source": [
    "The machine function\n",
    "\n",
    "Sometimes, you may just want to know the generic name of the processor which runs your OS together \n",
    "with Python and your code - \n",
    "1. a function named machine() will tell you that. As previously, the function returns a string."
   ]
  },
  {
   "cell_type": "code",
   "execution_count": null,
   "metadata": {},
   "outputs": [],
   "source": [
    "from platform import machine\n",
    "\n",
    "print(machine())\n"
   ]
  },
  {
   "cell_type": "markdown",
   "metadata": {},
   "source": [
    "The processor function\n",
    "\n",
    "1. The processor() function returns a string filled with the real processor name (if possible).\n",
    "\n"
   ]
  },
  {
   "cell_type": "code",
   "execution_count": null,
   "metadata": {},
   "outputs": [],
   "source": [
    "from platform import processor\n",
    "\n",
    "print(processor()) #important to remember it returns a string"
   ]
  },
  {
   "cell_type": "markdown",
   "metadata": {},
   "source": [
    "The system function, you will more rhan likely be asked about one of the above functions from the platform module\n",
    "\n",
    "1. A function named system() returns the generic OS name as a string."
   ]
  },
  {
   "cell_type": "code",
   "execution_count": null,
   "metadata": {},
   "outputs": [],
   "source": [
    "from platform import system\n",
    "\n",
    "print(system())"
   ]
  },
  {
   "cell_type": "markdown",
   "metadata": {},
   "source": [
    "The version function this is included in the platform module\n",
    "\n",
    "The OS version is provided as a string by the version() function."
   ]
  },
  {
   "cell_type": "code",
   "execution_count": null,
   "metadata": {},
   "outputs": [],
   "source": [
    "from platform import version\n",
    "\n",
    "print(version())\n"
   ]
  },
  {
   "cell_type": "markdown",
   "metadata": {},
   "source": [
    "1. The python_implementation and the python_version_tuple functions\n",
    "\n",
    "2. If you need to know what version of Python is running your code, \n",
    "3. you can check it using a number of dedicated functions - here are two of them:\n",
    "\n",
    "1. python_implementation() → returns a string denoting the Python implementation \n",
    "   (expect CPython here, unless you decide to use any non-canonical Python branch)\n",
    "\n",
    "2. python_version_tuple() → returns a three-element tuple filled with:\n",
    "    1. the major part of Python's version;\n",
    "     2.    the minor part;\n",
    "      3. the patch level number."
   ]
  },
  {
   "cell_type": "code",
   "execution_count": null,
   "metadata": {},
   "outputs": [],
   "source": [
    "from platform import python_implementation, python_version_tuple\n",
    "\n",
    "print(python_implementation())\n",
    "\n",
    "for atr in python_version_tuple():\n",
    "    print(atr, end=' ')\n"
   ]
  },
  {
   "cell_type": "markdown",
   "metadata": {},
   "source": [
    "Python Module Index\n",
    "We have only covered the basics of Python modules here. Python's modules make up their own universe, in which Python itself is only a galaxy, and we would venture to say that exploring the depths of these modules can take significantly more time than getting acquainted with \"pure\" Python.\n",
    "\n",
    "Moreover, the Python community all over the world creates and maintains hundreds of additional modules used in very niche applications like genetics, psychology, or even astrology.\n",
    "\n",
    "These modules aren't (and won't be) distributed along with Python, or through official channels, which makes the Python universe broader - almost infinite.\n",
    "\n",
    "You can read about all standard Python modules here: https://docs.python.org/3/py-modindex.html.\n",
    "\n",
    "Don't worry - you won't need all these modules. Many of them are very specific.\n",
    "\n",
    "All you need to do is find the modules you want, and teach yourself how to use them. It's easy."
   ]
  },
  {
   "cell_type": "markdown",
   "metadata": {},
   "source": [
    "Key takeaways\n",
    "\n",
    "1. A function named dir() can show you a list of the entities contained inside an imported module. For example:"
   ]
  },
  {
   "cell_type": "code",
   "execution_count": null,
   "metadata": {},
   "outputs": [],
   "source": [
    "import os\n",
    "dir(os)#important to also note dir() returns a LIST of the entities of \n",
    "        #whatever module our pass thru the function as an arg"
   ]
  },
  {
   "cell_type": "markdown",
   "metadata": {},
   "source": [
    "\n",
    "prints out the list of all the os module's facilities you can use in your code."
   ]
  },
  {
   "cell_type": "markdown",
   "metadata": {},
   "source": [
    "2. The math module couples more than 50 symbols (functions and constants) that perform mathematical operations (like sine(), pow(), factorial()) or providing important values (like π and the Euler symbol e)."
   ]
  },
  {
   "cell_type": "markdown",
   "metadata": {},
   "source": [
    "3. The random module groups more than 60 entities designed to help you use pseudo-random numbers. Don't forget the prefix \"random\", as there is no such thing as a real random number when it comes to generating them using the computer's algorithms."
   ]
  },
  {
   "cell_type": "markdown",
   "metadata": {},
   "source": [
    "4. The platform module contains about 70 functions which let you dive into the underlaying layers of the OS and hardware. Using them allows you to get to know more about the environment in which your code is executed."
   ]
  },
  {
   "cell_type": "markdown",
   "metadata": {},
   "source": [
    "5. Python Module Index (https://docs.python.org/3/py-modindex.html is a community-driven directory of modules available in the Python universe. If you want to find a module fitting your needs, start your search there."
   ]
  },
  {
   "cell_type": "code",
   "execution_count": null,
   "metadata": {},
   "outputs": [],
   "source": [
    "#A Question from PCAP on the __name__ is:\n",
    "#A predefined Python variable that stores a modules name is called?\n",
    "#the answer is __name__\n",
    "#When we import a module the __name__ changes to that import modules namean example is:\n",
    "    "
   ]
  },
  {
   "cell_type": "markdown",
   "metadata": {},
   "source": [
    "Understanding __main__ and __main__ variables"
   ]
  },
  {
   "cell_type": "markdown",
   "metadata": {},
   "source": [
    "The main function in Python acts as the point of execution of the program. Defining the main function in Python programming is a necessity to start the execution of the program as it(The main function)gets executed only when the program is run directly and not executed when imported as a module.\n",
    "\n",
    "To understand more about python main function, let’s have a look at the topics below:\n",
    "1. What is Python functions?\n",
    "2. What is the main function in Python\n",
    "3. A Basic Python main()\n",
    "4. Python Execution modes\n",
    "\n",
    "\n",
    "Let’s get started.\n",
    "\n",
    "1. A function is a block of reusable code that forms the foundation of performing actions \n",
    "    in a programming language. They are leveraged to perform computations on the input data and present \n",
    "    the output to the end user.\n",
    "\n",
    "We have already learned that a function is a piece of code written to perform a specific task. \n",
    "There are three types of functions in Python namely \n",
    "1. Built-in function, \n",
    "2. user-defined functions, and anonymous functions. Now, \n",
    "3. the main function is like any other function in Python.\n",
    "\n",
    "So let’s understand what exactly is the main function in Python.\n",
    "\n",
    "2. What is Main Function in Python?\n",
    "\n",
    "In most programming languages, there is a special function which is executed automatically every \n",
    "time the program is run. \n",
    "This is the main function, or main() as it is usually denoted. \n",
    "It essentially serves as a starting point for the execution of a program.\n",
    "\n",
    "In Python, \n",
    "1. it is not necessary to define the main function every time you write a program. \n",
    "2. This is because the Python interpreter executes from the top of the file unless a specific function \n",
    "is defined. Hence, \n",
    "3. having a defined starting point for the execution of your Python program \n",
    "is useful to better understand how your program works.\n",
    "\n",
    "3. A Basic Python main()\n",
    "   \n",
    "   \n",
    "In most Python programs/scripts, you might see a function definition, followed by a conditional \n",
    "statement that looks like the example shown below:"
   ]
  },
  {
   "cell_type": "code",
   "execution_count": null,
   "metadata": {},
   "outputs": [],
   "source": [
    "# if __name__ == '__main__' checks if a file is imported as a module or not.\n",
    "# example: \n",
    "def main():\n",
    "    print('Hello World')\n",
    "    \n",
    "if __name__ == '__main__':\n",
    "    # This code won't run if this file is imported.\n",
    "    main()"
   ]
  },
  {
   "cell_type": "markdown",
   "metadata": {},
   "source": [
    "Does Python need a Main Function?\n",
    "1. In the code example, there is a function called ‘main()’. This is followed by a conditional ‘if’ statement \n",
    "that checks the value of(double underscore) __name__, and compares \n",
    "it to the string (double underscore)“__main__“. On evaluation to True, it executes main().\n",
    "\n",
    "2. And on execution, it prints “Hello, World!”.\n",
    "\n",
    "3. This kind of code pattern is very common when you are dealing with files that are to be executed \n",
    "   as Python scripts, and/or to be imported in other modules.\n",
    "\n",
    "\n",
    "4. Let’s understand how this code executes. Before that, \n",
    "   it’s very necessary to understand that the Python interpreter sets(double underscore) __name__ depending \n",
    "   on the way how the code is executed. So, let’s learn about the execution modes in Python\n",
    "\n"
   ]
  },
  {
   "cell_type": "markdown",
   "metadata": {},
   "source": [
    "Python Execution Modes\n",
    "There are two ways by which you can tell the Python interpreter to execute the code:\n",
    "\n",
    "1. The most common way is to execute the file as a Python Script.\n",
    "2. By importing the necessary code from one Python file to another.\n",
    "\n",
    "\n",
    "\n",
    "Whatever the mode of execution you choose, Python defines a special variable \n",
    "called(double underscore) __name__, that contains a string. \n",
    "The value of this string depends on how the code is being executed.\n",
    "\n",
    "1. Sometimes, when you are importing from a module, you would like to know whether a particular \n",
    "module’s function is being used as an import, or if you are just using the original .py (Python script) \n",
    "file of that module.\n",
    "\n",
    "4. To help with this, Python has a special built-in variable, called(double underscore) __name__. \n",
    "   This variable gets assigned the string (double underscore)“__main__” depending on how you are running \n",
    "   or executing the script.\n",
    "\n",
    "5. What is __main__ in Python?\n",
    "Python Main Function is the beginning of any Python program. When we run a program, \n",
    "the interpreter runs the code sequentially and will not run the main function if imported as a module, \n",
    "but the Main Function gets executed only when it is run as a Python program.\n",
    "\n",
    "6. So, if you are running the script directly, \n",
    "   Python is going to assign\n",
    "   (double underscore) “__main__” to (double underscore)__name__, i.e., __name__= “__main__”. \n",
    "   (This happens in the background). \n",
    "   Reference the above code. It is important you follow the coding \n",
    "   instructions below at least once to have a solid understanding."
   ]
  },
  {
   "cell_type": "markdown",
   "metadata": {},
   "source": [
    "NEXT SECTION FROM MODULE ONE OF PCAP CREATING A MODULE.PY FILE AND A MAIN.PY FILE TO DEMO \n",
    "1. create a file called module.py\n",
    "2. create a file called main.py\n",
    "3. make sure they are in same folder, for this demo its not a rule\n",
    "4. In the main file enter this line of code: import module.\n",
    "5. Please read the below 5 to 9 points and then follow the coding instructions from point 12"
   ]
  },
  {
   "cell_type": "markdown",
   "metadata": {},
   "source": [
    "IT IS VITAL YOU READ THRU THE BELOW A QUESTION WILL BE IN PCAP ON WHAT IS A __PYCACHE__ WHAT IS PYC ETC\n",
    "(pyc is python compiled code machine code)\n",
    "\n",
    "5. Launch IDLE (or any other IDE you prefer) and run the main.py file. What do you see?\n",
    "\n",
    "You should see nothing. This means that Python has successfully imported the contents of the module.py file.\n",
    "\n",
    "It doesn't matter that the module is empty for now. The very first step has been done, but before you take the next step, we want you to take a look into the folder in which both files exist.\n",
    "\n",
    "Do you notice something interesting?\n",
    "\n",
    "6. A new subfolder has appeared - can you see it? Its name is(double underscore) __pycache__. Take a look inside. What do you see?\n",
    "\n",
    "7. There is a file named (more or less) module.cpython-xy.pyc where x and y are digits derived from your version of Python (e.g., they will be 3 and 8 if you use Python 3.8).\n",
    "remember our from platform import python_implementation, python_version_tuple\n",
    "8. The name of the file is the same as your module's name (module here). The part after the first dot says which Python implementation has created the file (CPython here) and its version number. The last part (pyc) comes from the words Python and compiled.\n",
    "\n",
    "You can look inside the file - the content is completely unreadable to humans. It has to be like that, as the file is intended for Python's use only.\n",
    "\n",
    "9. When Python imports a module for the first time, it translates its contents into a somewhat compiled shape.\n",
    "\n",
    "10. The file doesn't contain machine code - it's internal Python semi-compiled code, ready to be executed by Python's interpreter. As such a file doesn't require lots of the checks needed for a pure source file, the execution starts faster, and runs faster, too.\n",
    "\n",
    "Thanks to that, every subsequent import will go quicker than interpreting the source text from scratch.\n",
    "\n",
    "11. Python is able to check if the module's source file has been modified (in this case, the pyc file will be rebuilt) or not (when the pyc file may be run at once). As this process is fully automatic and transparent, you don't have to keep it in mind."
   ]
  },
  {
   "cell_type": "markdown",
   "metadata": {},
   "source": [
    "12. Next step add the below code line to your module.py file"
   ]
  },
  {
   "cell_type": "code",
   "execution_count": null,
   "metadata": {},
   "outputs": [],
   "source": [
    "print(\"I like to be a module.\")"
   ]
  },
  {
   "cell_type": "markdown",
   "metadata": {},
   "source": [
    "Can you notice any differences between a module and an ordinary script? There are none so far.\n",
    "\n",
    "It's possible to run this file like any other script. Try it for yourself.\n",
    "\n",
    "What happens? You should see the following line inside your console:\n",
    "\n",
    "I like to be a module."
   ]
  },
  {
   "cell_type": "markdown",
   "metadata": {},
   "source": [
    "\n",
    "13. add the below line of code to your main.py file"
   ]
  },
  {
   "cell_type": "code",
   "execution_count": null,
   "metadata": {},
   "outputs": [],
   "source": [
    "\n",
    "import module"
   ]
  },
  {
   "cell_type": "markdown",
   "metadata": {},
   "source": [
    "14. Run it. What do you see? Hopefully, you see something like this:\n",
    "\n",
    "output: I like to be a module.\n",
    "\n",
    "\n",
    "15. What does it actually mean?\n",
    "\n",
    "16. When a module is imported, its content is implicitly executed by Python. (COMMON QUESTION)\n",
    "    It gives the module the chance to initialize some of its internal aspects \n",
    "    (e.g., it may assign some variables with useful values).\n",
    "\n",
    "Note: the initialization takes place only once, when the first import occurs, \n",
    "so the assignments done by the module aren't repeated unnecessarily.(COMMON QUESTION)\n",
    "\n",
    "17. Imagine the following context:\n",
    "\n",
    "    1. there is a module named mod1;\n",
    "    2.  there is a module named mod2 which contains the import mod1 instruction;\n",
    "    3.  there is a main file containing the import mod1 and import mod2 instructions.\n",
    "    4.  you may think that mod1 will be imported twice - fortunately, \n",
    "        only the first import occurs. \n",
    "    5.  Python remembers the imported modules and silently omits all subsequent imports.(COMMON QUESTION)"
   ]
  },
  {
   "cell_type": "markdown",
   "metadata": {},
   "source": [
    "18. Python can do much more. It also creates a variable called (double underscore on either side of name) __name__.\n",
    "\n",
    "19. Moreover, each source file uses its own, separate version of the variable - it isn't shared between modules.\n",
    "\n",
    "We'll show you how to use it. Modify the module a bit:"
   ]
  },
  {
   "cell_type": "code",
   "execution_count": null,
   "metadata": {},
   "outputs": [],
   "source": [
    "#add this code to module.py\n",
    "print(\"I like to be a module.\")\n",
    "print(__name__)\n",
    "#Now run the module.py file. You should see the following lines:\n",
    "#I like to be a module\n",
    "#__main__#a module __name__is set to  __main__"
   ]
  },
  {
   "cell_type": "markdown",
   "metadata": {},
   "source": [
    "20. Now run the main.py file. And? Do you see the same as us?\n",
    "output:\n",
    "    1. I like to be a module\n",
    "    2. module\n",
    "\n",
    "We can say that:\n",
    "\n",
    "    1. when you run a file directly, its __name__ variable is set to __main__;\n",
    "    2. when a file is imported as a module, its __name__ variable is set to the file's name (excluding .py)\n"
   ]
  },
  {
   "cell_type": "markdown",
   "metadata": {},
   "source": [
    "21. This is how you can make use of the(double underscore) __main__ variable in order to detect the context in which your code has been activated:"
   ]
  },
  {
   "cell_type": "code",
   "execution_count": null,
   "metadata": {},
   "outputs": [],
   "source": [
    "#update module.py to have the following:\n",
    "if __name__ == \"__main__\":\n",
    "    print(\"I prefer to be a module.\")\n",
    "else:\n",
    "    print(\"I like to be a module.\")"
   ]
  },
  {
   "cell_type": "markdown",
   "metadata": {},
   "source": [
    "22. There's a cleverer way to utilize the variable, however. If you write a module filled with a number of \n",
    "    complex functions, you can use it to place a series of tests to check if the functions work properly.\n",
    "\n",
    "23. Each time you modify any of these functions, you can simply run the module to make sure that your \n",
    "    amendments didn't spoil the code. These tests will be omitted when the code is imported as a module."
   ]
  },
  {
   "cell_type": "markdown",
   "metadata": {},
   "source": [
    "23. This module will contain two simple functions, and if you want to know how many times the functions have been invoked, you need a counter initialized to zero when the module is being imported."
   ]
  },
  {
   "cell_type": "code",
   "execution_count": null,
   "metadata": {},
   "outputs": [],
   "source": [
    "#module.py\n",
    "counter = 0\n",
    "\n",
    "if __name__ == \"__main__\":\n",
    "    print(\"I prefer to be a module.\")\n",
    "else:\n",
    "    print(\"I like to be a module.\")"
   ]
  },
  {
   "cell_type": "markdown",
   "metadata": {},
   "source": [
    "24. Introducing such a variable is absolutely correct, but may cause important side effects that you must be aware of.\n",
    "\n",
    "Take a look at the modified main.py file:"
   ]
  },
  {
   "cell_type": "markdown",
   "metadata": {},
   "source": [
    "25. As you can see, the main file tries to access the module's counter variable. Is this legal? Yes, it is. Is it usable? It may be very usable. Is it safe?\n",
    "\n",
    "26. That depends - if you trust your module's users, there's no problem; however, you may not want the rest of the world to see your personal/private variable.\n",
    "\n",
    "27. Unlike many other programming languages, Python has no means of allowing you to hide such variables from the eyes of the module's users.\n",
    "\n",
    "28. You can only inform your users that this is your variable, that they may read it, but that they should not modify it under any circumstances.\n",
    "\n",
    "29. This is done by preceding the variable's name with _ (one underscore) or __ (two underscores), but remember, it's only a convention. Your module's users may obey it or they may not.\n",
    "\n",
    "30. Of course, we'll follow the convention. Now let's put two functions into the module - they'll evaluate the sum and product of the numbers collected in a list.\n",
    "\n",
    "31. In addition, let's add some ornaments there and remove any superfluous remnants."
   ]
  },
  {
   "cell_type": "markdown",
   "metadata": {},
   "source": [
    "32. Okay. Let's write some brand new code in our module.py file. The updated module is ready here:"
   ]
  },
  {
   "cell_type": "code",
   "execution_count": null,
   "metadata": {},
   "outputs": [],
   "source": [
    "#!/usr/bin/env python3 #remember this line is a shebang needed for unix or mac os systems\n",
    "\n",
    "\"\"\" module.py - an example of a Python module \"\"\"\n",
    "\n",
    "__counter = 0\n",
    "\n",
    "\n",
    "def suml(the_list):\n",
    "    global __counter\n",
    "    __counter += 1\n",
    "    the_sum = 0\n",
    "    for element in the_list:\n",
    "        the_sum += element\n",
    "    return the_sum\n",
    "\n",
    "\n",
    "def prodl(the_list):\n",
    "    global __counter    \n",
    "    __counter += 1\n",
    "    prod = 1\n",
    "    for element in the_list:\n",
    "        prod *= element\n",
    "    return prod\n",
    "\n",
    "\n",
    "if __name__ == \"__main__\":\n",
    "    print(\"I prefer to be a module, but I can do some tests for you.\")\n",
    "    my_list = [i+1 for i in range(5)]\n",
    "    print(suml(my_list) == 15)\n",
    "    print(prodl(my_list) == 120)\n",
    "\n"
   ]
  },
  {
   "cell_type": "markdown",
   "metadata": {},
   "source": [
    "32. A few elements need some explanation, we think:\n",
    "\n",
    "33. the line starting with #! has many names - it may be called shabang, shebang, hashbang, poundbang or even hashpling (don't ask us why). The name itself means nothing here - its role is more important. \n",
    "    From Python's point of view, it's just a comment as it starts with #. For Unix and Unix-like OSs \n",
    "    (including MacOS) such a line instructs the OS how to execute the contents of the file \n",
    "    (in other words, what program needs to be launched to interpret the text). \n",
    "    In some environments (especially those connected with web servers) \n",
    "    the absence of that line will cause trouble;\n",
    "34. a string (maybe a multiline) placed before any module instructions (including imports) \n",
    "    is called the doc-string, and should briefly explain the purpose and contents of the module;\n",
    "35. the functions defined inside the module (suml() and prodl()) are available for import;\n",
    "36. we've used the double underscore '__name__' variable to detect when the file is run stand-alone, \n",
    "    and seized this opportunity to perform some simple tests."
   ]
  },
  {
   "cell_type": "markdown",
   "metadata": {},
   "source": [
    "Now it's possible to use the updated module - this is one way:"
   ]
  },
  {
   "cell_type": "code",
   "execution_count": null,
   "metadata": {},
   "outputs": [],
   "source": [
    "#main.py\n",
    "from module import suml, prodl\n",
    "\n",
    "zeroes = [0 for i in range(5)]\n",
    "ones = [1 for i in range(5)]\n",
    "print(suml(zeroes))\n",
    "print(prodl(ones))"
   ]
  },
  {
   "cell_type": "markdown",
   "metadata": {},
   "source": [
    "1. It's time to make our example more complicated - so far we've assumed that the main Python file is located in the same folder/directory as the module to be imported.\n",
    "\n",
    "2. Let's give up this assumption and conduct the following thought experiment:\n",
    "\n",
    "3. we are using Windows ® OS (this assumption is important, as the file name's shape depends on it)\n",
    "4. the main Python script lies in C:\\Users\\user\\py\\progs and is named main.py\n",
    "5. the module to import is located in C:\\Users\\user\\py\\modules"
   ]
  },
  {
   "cell_type": "code",
   "execution_count": null,
   "metadata": {},
   "outputs": [],
   "source": [
    "#update main.py to:\n",
    "from sys import path\n",
    "\n",
    "path.append('..\\\\modules')\n",
    "\n",
    "import module\n",
    "\n",
    "zeroes = [0 for i in range(5)]\n",
    "ones = [1 for i in range(5)]\n",
    "print(module.suml(zeroes))\n",
    "print(module.prodl(ones))\n",
    "\n"
   ]
  },
  {
   "cell_type": "markdown",
   "metadata": {},
   "source": [
    "1. How to deal with it?\n",
    "\n",
    "2. To answer this question, we have to talk about how Python searches for modules. There's a special variable (actually a list) storing all locations (folders/directories) that are searched in order to find a module which has been requested by the import instruction.\n",
    "\n",
    "3. Python browses these folders in the order in which they are listed in the list - if the module cannot be found in any of these directories, the import fails.\n",
    "\n",
    "4. Otherwise, the first folder containing a module with the desired name will be taken into consideration (if any of the remaining folders contains a module of that name, it will be ignored).\n",
    "\n",
    "5. The variable is named path, and it's accessible through the module named sys. This is how you can check its regular value:"
   ]
  },
  {
   "cell_type": "code",
   "execution_count": null,
   "metadata": {},
   "outputs": [],
   "source": [
    "import sys\n",
    "\n",
    "for p in sys.path:\n",
    "    print(p)\n",
    "    #the below 1 through 6 is a sample output from running this code\n",
    "\n"
   ]
  },
  {
   "cell_type": "markdown",
   "metadata": {},
   "source": [
    "7. We've launched the code inside the C:\\User\\user folder, and this is what we've got:\n",
    "    (i numbered below simply to have a new line per path address)\n",
    "   1. C:\\Users\\user\n",
    "   2. C:\\Users\\user\\AppData\\Local\\Programs\\Python\\Python36-32\\python36.zip\n",
    "   3. C:\\Users\\user\\AppData\\Local\\Programs\\Python\\Python36-32\\DLLs\n",
    "   4.  C:\\Users\\user\\AppData\\Local\\Programs\\Python\\Python36-32\\lib\n",
    "   5.  C:\\Users\\user\\AppData\\Local\\Programs\\Python\\Python36-32\n",
    "   6.  C:\\Users\\user\\AppData\\Local\\Programs\\Python\\Python36-32\\lib\\site-packages\n",
    "\n",
    "   7.  Note: the folder in which the execution starts is listed in the first path's element.\n",
    "\n",
    "   8.  Note once again: there is a zip file listed as one of the path's elements - it's not an error. Python is able to treat zip files as ordinary folders - this can save lots of storage.\n",
    "\n",
    "\n",
    "8.  Can you figure out how we can solve our problem now? We can add a folder containing the module to the path variable (it's fully modifiable)."
   ]
  },
  {
   "cell_type": "markdown",
   "metadata": {},
   "source": [
    "9. One of several possible solutions looks like this:"
   ]
  },
  {
   "cell_type": "code",
   "execution_count": null,
   "metadata": {},
   "outputs": [],
   "source": [
    "#main.py\n",
    "from sys import path\n",
    "\n",
    "path.append('..\\\\modules')\n",
    "\n",
    "import module\n",
    "\n",
    "zeroes = [0 for i in range(5)]\n",
    "ones = [1 for i in range(5)]\n",
    "print(module.suml(zeroes))\n",
    "print(module.prodl(ones))\n",
    "\n"
   ]
  },
  {
   "cell_type": "markdown",
   "metadata": {},
   "source": [
    "1. Note:\n",
    "\n",
    "we've doubled the \\ inside folder name - do you know why?\n",
    "\n",
    "2. Answer\n",
    "Because a backslash is used to escape other characters - if you want to get just a backslash, you have to escape it.\n",
    "\n",
    "\n",
    "we've used the relative name of the folder - this will work if you start the main.py file directly from its home folder, and won't work if the current directory doesn't fit the relative path; you can always use an absolute path, like this:"
   ]
  },
  {
   "cell_type": "code",
   "execution_count": null,
   "metadata": {},
   "outputs": [],
   "source": [
    "path.append('C:\\\\Users\\\\user\\\\py\\\\modules')"
   ]
  },
  {
   "cell_type": "markdown",
   "metadata": {},
   "source": [
    "we've used the append() method - in effect, the new path will occupy the last element in the path list; if you don't like the idea, you can use insert() instead."
   ]
  },
  {
   "cell_type": "markdown",
   "metadata": {},
   "source": [
    "Imagine that in the not-so-distant future you and your associates write a large number of Python functions.\n",
    "\n",
    "Your team decides to group the functions in separate modules, and this is the final result of the ordering:"
   ]
  },
  {
   "cell_type": "code",
   "execution_count": null,
   "metadata": {},
   "outputs": [],
   "source": [
    "#! /usr/bin/env python3\n",
    "\n",
    "\"\"\" module: alpha \"\"\"\n",
    "\n",
    "def funA():\n",
    "    return \"Alpha\"\n",
    "\n",
    "if __name__ == \"__main__\":\n",
    "    print(\"I prefer to be a module.\")\n",
    "\n"
   ]
  },
  {
   "cell_type": "markdown",
   "metadata": {},
   "source": [
    "Note: we've presented the whole content for the alpha.py module only - assume that all the modules look similar (they contain one function named funX, where X is the first letter of the module's name)."
   ]
  },
  {
   "cell_type": "markdown",
   "metadata": {},
   "source": [
    "Suddenly, somebody notices that these modules form their own hierarchy, so putting them all in a flat structure won't be a good idea.\n",
    "\n",
    "After some discussion, the team comes to the conclusion that the modules have to be grouped. All participants agree that the following tree structure perfectly reflects the mutual relationships between the modules:"
   ]
  },
  {
   "cell_type": "markdown",
   "metadata": {},
   "source": [
    "Let's review this from the bottom up:\n",
    "\n",
    "1. the ugly group contains two modules: psi and omega;\n",
    "2. the best group contains two modules: sigma and tau;\n",
    "3. the good group contains two modules (alpha and beta) and one subgroup (best)\n",
    "4. the extra group contains two subgroups (good and bad) and one module (iota)\n",
    "5. Does it look bad? Not at all - analyze the structure carefully. It resembles something, doesn't it?\n",
    "\n",
    "It looks like a directory structure.\n",
    "\n",
    "Let's build a tree reflecting projected dependencies between the modules."
   ]
  },
  {
   "cell_type": "markdown",
   "metadata": {},
   "source": [
    "Such a structure is almost a package (in the Python sense). It lacks the fine detail to be both functional and operative. We'll complete it in a moment.\n",
    "\n",
    "If you assume that extra is the name of a newly created package (think of it as the package's root), it will impose a naming rule which allows you to clearly name every entity from the tree."
   ]
  },
  {
   "cell_type": "markdown",
   "metadata": {},
   "source": [
    "For example:\n",
    "\n",
    "the location of a function named funT() from the tau package may be described as:"
   ]
  },
  {
   "cell_type": "code",
   "execution_count": null,
   "metadata": {},
   "outputs": [],
   "source": [
    "extra.good.best.tau.funT()"
   ]
  },
  {
   "cell_type": "markdown",
   "metadata": {},
   "source": [
    "a function marked as"
   ]
  },
  {
   "cell_type": "code",
   "execution_count": null,
   "metadata": {},
   "outputs": [],
   "source": [
    "extra.ugly.psi.funP()"
   ]
  },
  {
   "cell_type": "markdown",
   "metadata": {},
   "source": [
    "comes from the psi module being stored in the ugly subpackage of the extra package."
   ]
  },
  {
   "cell_type": "markdown",
   "metadata": {},
   "source": [
    "There are two questions to answer:\n",
    "\n",
    "1. how do you transform such a tree (actually, a subtree) into a real Python package (in other words, how do you convince Python that such a tree is not just a bunch of junk files, but a set of modules)?\n",
    "2. where do you put the subtree to make it accessible to Python?\n",
    "The first question has a surprising answer: packages, like modules, may require initialization.\n",
    "\n",
    "1. The initialization of a module is done by an unbound code (not a part of any function) located inside the module's file. As a package is not a file, this technique is useless for initializing packages.\n",
    "\n",
    "2. You need to use a different trick instead - Python expects that there is a file with a very unique name inside the package's folder: __init__.py.\n",
    "\n",
    "3. The content of the file is executed when any of the package's modules is imported. If you don't want any special initializations, you can leave the file empty, but you mustn't omit it.\n",
    "\n"
   ]
  },
  {
   "cell_type": "markdown",
   "metadata": {},
   "source": [
    "Remember: the presence of the __init.py__ file finally makes up the package. see code below to reinforce its a double underscore"
   ]
  },
  {
   "cell_type": "code",
   "execution_count": null,
   "metadata": {},
   "outputs": [],
   "source": [
    "#Remember: the presence of the __init.py__ file finally makes up the package."
   ]
  },
  {
   "cell_type": "markdown",
   "metadata": {},
   "source": [
    "Note: it's not only the root folder that can contain __init.py__ file - you can put it inside any of its subfolders (subpackages) too. It may be useful if some of the subpackages require individual treatment and special kinds of initialization.\n",
    "\n",
    "Now it's time to answer the second question - the answer is simple: anywhere. You only have to ensure that Python is aware of the package's location. You already know how to do that.\n",
    "\n",
    "You're ready to make use of your first package."
   ]
  },
  {
   "cell_type": "markdown",
   "metadata": {},
   "source": [
    "Let's assume that the working environment looks as follows:"
   ]
  },
  {
   "cell_type": "markdown",
   "metadata": {},
   "source": [
    "We've prepared a zip file containing all the files from the packages branch. You can download it and use it for your own experiments, but remember to unpack it in the folder presented in the scheme, otherwise, it won't be accessible to the code from the main file."
   ]
  },
  {
   "cell_type": "markdown",
   "metadata": {},
   "source": [
    "You'll be continuing your experiments using the main2.py file. and a zipfile is made available"
   ]
  },
  {
   "cell_type": "markdown",
   "metadata": {},
   "source": [
    "We are going to access the funI() function from the iota module from the top of the extra package. It forces us to use qualified package names (associate this with naming folders and subfolders - the conventions are very similar).\n",
    "\n",
    "This is how to do it:"
   ]
  },
  {
   "cell_type": "code",
   "execution_count": null,
   "metadata": {},
   "outputs": [],
   "source": [
    "from sys import path\n",
    "path.append('..\\\\packages')\n",
    "\n",
    "import extra.iota\n",
    "print(extra.iota.funI())\n",
    "\n"
   ]
  },
  {
   "cell_type": "markdown",
   "metadata": {},
   "source": [
    "Note:\n",
    "\n",
    "we've modified the path variable to make it accessible to Python;\n",
    "the import doesn't point directly to the module, but specifies the fully qualified path from the top of the package;\n",
    "replacing import extra.iota with import iota will cause an error.\n",
    "\n"
   ]
  },
  {
   "cell_type": "markdown",
   "metadata": {},
   "source": [
    "The following variant is valid too:"
   ]
  },
  {
   "cell_type": "code",
   "execution_count": null,
   "metadata": {},
   "outputs": [],
   "source": [
    "from sys import path\n",
    "path.append('..\\\\packages')\n",
    "\n",
    "from extra.iota import funI\n",
    "print(funI())\n",
    "\n",
    "#Note the qualified name of the iota module."
   ]
  },
  {
   "cell_type": "markdown",
   "metadata": {},
   "source": [
    "Now let's reach all the way to the bottom of the tree - this is how to get access to the sigma and tau modules:"
   ]
  },
  {
   "cell_type": "code",
   "execution_count": null,
   "metadata": {},
   "outputs": [],
   "source": [
    "from sys import path\n",
    "\n",
    "path.append('..\\\\packages')\n",
    "\n",
    "import extra.good.best.sigma\n",
    "from extra.good.best.tau import funT\n",
    "\n",
    "print(extra.good.best.sigma.funS())\n",
    "print(funT())\n",
    "\n"
   ]
  },
  {
   "cell_type": "markdown",
   "metadata": {},
   "source": [
    "You can make your life easier by using aliasing:"
   ]
  },
  {
   "cell_type": "code",
   "execution_count": null,
   "metadata": {},
   "outputs": [],
   "source": [
    "from sys import path\n",
    "\n",
    "path.append('..\\\\packages')\n",
    "\n",
    "import extra.good.best.sigma as sig\n",
    "import extra.good.alpha as alp\n",
    "\n",
    "print(sig.funS())\n",
    "print(alp.funA())\n",
    "\n"
   ]
  },
  {
   "cell_type": "markdown",
   "metadata": {},
   "source": [
    "Let's assume that we've zipped the whole subdirectory, starting from the extra folder (including it), and let's get a file named extrapack.zip. Next, we put the file inside the packages folder.\n",
    "\n",
    "Now we are able to use the zip file in a role of packages:"
   ]
  },
  {
   "cell_type": "code",
   "execution_count": null,
   "metadata": {},
   "outputs": [],
   "source": [
    "from sys import path\n",
    "\n",
    "path.append('..\\\\packages\\\\extrapack.zip')\n",
    "\n",
    "import extra.good.best.sigma as sig\n",
    "import extra.good.alpha as alp\n",
    "from extra.iota import funI\n",
    "from extra.good.beta import funB\n",
    "\n",
    "print(sig.funS())\n",
    "print(alp.funA())\n",
    "print(funI())\n",
    "print(funB())\n",
    "\n"
   ]
  },
  {
   "cell_type": "markdown",
   "metadata": {},
   "source": [
    "If you want to conduct your own experiments with the package we've created, you can download it below. We encourage you to do so. A zip file is made available for you"
   ]
  },
  {
   "cell_type": "markdown",
   "metadata": {},
   "source": [
    "Now you can create modules and combine them into packages. It's time to start a completely different discussion - about errors, failures and crashes."
   ]
  },
  {
   "cell_type": "markdown",
   "metadata": {},
   "source": [
    "Key takeaways\n",
    "\n",
    "1. While a module is designed to couple together some related entities (functions, variables, constants, etc.), a package is a container which enables the coupling of several related modules under one common name. Such a container can be distributed as-is (as a batch of files deployed in a directory sub-tree) or it can be packed inside a zip file.\n",
    "\n",
    "\n",
    "2. During the very first import of the actual module, Python translates its source code into the semi-compiled format stored inside the pyc files, and deploys these files into the __pycache__ directory located in the module's home directory.\n",
    "\n",
    "\n",
    "3. If you want to instruct your module's user that a particular entity should be treated as private (i.e. not to be explicitly used outside the module) you can mark its name with either the _ or __ prefix. Don't forget that this is only a recommendation, not an order.\n",
    "\n",
    "\n",
    "4. The names shabang, shebang, hasbang, poundbang, and hashpling describe the digraph written as #!, used to instruct Unix-like OSs how the Python source file should be launched. This convention has no effect under MS Windows.\n",
    "\n",
    "\n",
    "5. If you want convince Python that it should take into account a non-standard package's directory, its name needs to be inserted/appended into/to the import directory list stored in the path variable contained in the sys module.\n",
    "\n",
    "\n",
    "6. A Python file named __init__.py is implicitly run when a package containing it is subject to import, and is used to initialize a package and/or its sub-packages (if any). The file may be empty, but must not be absent.\n",
    "\n"
   ]
  },
  {
   "cell_type": "markdown",
   "metadata": {},
   "source": [
    "Exercise 1\n",
    "\n",
    "You want to prevent your module's user from running your code as an ordinary script. How will you achieve such an effect?"
   ]
  },
  {
   "cell_type": "code",
   "execution_count": null,
   "metadata": {},
   "outputs": [],
   "source": [
    "import sys\n",
    "\n",
    "if __name__ == \"__main__\":\n",
    "    print \"Don't do that!\"\n",
    "    sys.exit()"
   ]
  },
  {
   "cell_type": "markdown",
   "metadata": {},
   "source": [
    "Exercise 2\n",
    "\n",
    "Some additional and necessary packages are stored inside the D:\\Python\\Project\\Modules directory. Write a code ensuring that the directory is traversed by Python in order to find all requested modules."
   ]
  },
  {
   "cell_type": "code",
   "execution_count": null,
   "metadata": {},
   "outputs": [],
   "source": [
    "import sys\n",
    "\n",
    "# note the double backslashes!\n",
    "sys.path.append(\"D:\\\\Python\\\\Project\\\\Modules\")"
   ]
  },
  {
   "cell_type": "code",
   "execution_count": null,
   "metadata": {},
   "outputs": [],
   "source": [
    "\n",
    "#Exercise 3 do not run the below structure is part of the question below.\n",
    "\n",
    "#The directory mentioned in the previous exercise contains a sub-tree of the following structure:\n",
    "\n",
    "abc\n",
    " |__ def\n",
    "      |__ mymodule.py"
   ]
  },
  {
   "cell_type": "markdown",
   "metadata": {},
   "source": [
    "Assuming that D:\\Python\\Project\\Modules has been successfully appended to the sys.path list, write an import directive letting you use all the mymodule entities."
   ]
  },
  {
   "cell_type": "code",
   "execution_count": null,
   "metadata": {},
   "outputs": [],
   "source": [
    "import abc.def.mymodule"
   ]
  },
  {
   "cell_type": "markdown",
   "metadata": {},
   "source": [
    "As you know, Python was created as open-source software, and this also works as an invitation for all coders to maintain the whole Python ecosystem as an open, friendly, and free environment. To make the model work and evolve, some additional tools should be provided, tools that help the creators to publish, maintain, and take care of their code."
   ]
  },
  {
   "cell_type": "markdown",
   "metadata": {},
   "source": [
    "Questions from a PCAP practice Module One test\n"
   ]
  },
  {
   "cell_type": "markdown",
   "metadata": {},
   "source": [
    "Question 1:\n",
    "What is true about the pip search command? (Select three answers)\n",
    "1. all its searches are limited to locally installed packages\n",
    "2. it needs working internet connection to work \n",
    "3. it searches through all PyPI packages\n",
    "4. it searches through package names only"
   ]
  },
  {
   "cell_type": "markdown",
   "metadata": {},
   "source": [
    "Question 2: A list of package’s dependencies can be obtained from pip using its command named:\n",
    "1. deps\n",
    "2. show\n",
    "3. dir\n",
    "4. list"
   ]
  },
  {
   "cell_type": "markdown",
   "metadata": {},
   "source": [
    "Question 3: During the first import of a module, Python deploys the pyc files in the directory called:\n",
    "1. mymodules\n",
    "2. __init__ Double underscore\n",
    "3. hashbang\n",
    "4. __pycache__ Double underscore"
   ]
  },
  {
   "cell_type": "markdown",
   "metadata": {},
   "source": [
    "Question 4:\n",
    "The pip list command presents a list of:\n",
    "1. available pip commands\n",
    "2. outdated local package\n",
    "3. locally installed package\n",
    "4. all packages available at PyPI"
   ]
  },
  {
   "cell_type": "markdown",
   "metadata": {},
   "source": [
    "Question 5: Knowing that a function named fun() resides in a module named mod , choose the correct way to import it:\n",
    "1. from mod import fun True\n",
    "2. import fun from mod\n",
    "3. from fun import mod\n",
    "4. import fun"
   ]
  },
  {
   "cell_type": "code",
   "execution_count": null,
   "metadata": {},
   "outputs": [],
   "source": [
    "#Question 6: What is the expected output of the following code? \n",
    "from random import randint\n",
    "for i in range(2):  \n",
    "print (randint(1,2), end='')\n",
    "#12, or 21\n",
    "#there are millions of possible combinations, and the exact output cannot be predicted\n",
    "#12\n",
    "#11, 12, 21, or 22"
   ]
  },
  {
   "cell_type": "markdown",
   "metadata": {},
   "source": [
    "Question 7:\n",
    "How to use pip to remove an installed package?\n",
    "1. pip --uninstall package\n",
    "2. pip remove package\n",
    "3. pip install --uninstall package\n",
    "4. pip uninstall package"
   ]
  },
  {
   "cell_type": "code",
   "execution_count": null,
   "metadata": {},
   "outputs": [],
   "source": [
    "#Question 8\n",
    "#What is the expected value of the result variable after the following code is executed? \n",
    "import math\n",
    "\n",
    "result = math.e != math.pow(2, 4)\n",
    "\n",
    "print(int(result))\n",
    "#0\n",
    "#1\n",
    "#False\n",
    "#True"
   ]
  },
  {
   "cell_type": "markdown",
   "metadata": {},
   "source": [
    "Question 9.\n",
    "The following statement\n",
    "from a.b import c\n",
    "causes the import of:\n",
    "1. entity a from module b from package c\n",
    "2. entity c from module  a from package b\n",
    "3. entity b from module a from package c\n",
    "4. entity c from module b from package a"
   ]
  },
  {
   "cell_type": "markdown",
   "metadata": {},
   "source": [
    "Question 10:\n",
    "The pyc file contains:\n",
    "1. a Python interpreter\n",
    "2. compiled Python code\n",
    "3. Python source code\n",
    "4. a Python compiler"
   ]
  },
  {
   "cell_type": "markdown",
   "metadata": {},
   "source": [
    "Question 11:\n",
    "A predefined Python variable that stores the current module name is called: Note all the below are Double underscore\n",
    "1. __name__\n",
    "2. __mod__\n",
    "3. __modname__\n",
    "4. __module__"
   ]
  },
  {
   "cell_type": "markdown",
   "metadata": {},
   "source": [
    "Question 12:\n",
    "When a module is imported, its contents:\n",
    "1. are executed once (implicitly)\n",
    "2. are ignored\n",
    "3. are executed as many times as they are imported\n",
    "4. may be executed (explicitly) "
   ]
  },
  {
   "cell_type": "markdown",
   "metadata": {},
   "source": [
    "Question 13:\n",
    "Choose the true statements. (Select two answers)\n",
    "1. The version function from the platform module returns a string with your Python version\n",
    "2. The processor function from the platform module returns an integer with the number of processes currently running in your OS\n",
    "3. The version function from the platform module returns a string with your OS version\n",
    "4. The system function from the platform module returns a string with your OS name"
   ]
  },
  {
   "cell_type": "markdown",
   "metadata": {},
   "source": [
    "Question 14:\n",
    "What is true about the pip install command? (Select two answers)\n",
    "1. it allows the user to install a specific version of the package\n",
    "2. it installs a package system-wide only when the --system option is specified \n",
    "3. it installs a package per user only when the --user option is specified\n",
    "4. it always installs the newest package version and it cannot be changed"
   ]
  },
  {
   "cell_type": "markdown",
   "metadata": {},
   "source": [
    "Question 15:\n",
    "Knowing that a function named fun() resides in a module named mod , and it has been imported using the following line:\n",
    "import mod\n",
    "Choose the way it can be invoked in your code:\n",
    "1. mod->fun()\n",
    "2. mod::fun()\n",
    "3. mod.fun()\n",
    "4. fun()"
   ]
  },
  {
   "cell_type": "markdown",
   "metadata": {},
   "source": [
    "Question 16:\n",
    "The digraph written as #! is used to:\n",
    "1. tell a Unix or Unix-like OS how to execute the contents of a Python file\n",
    "2. tell an MS Windows OS how to execute the contents of a Python file\n",
    "3. create a docstring\n",
    "4. make a particular module entity a private one"
   ]
  },
  {
   "cell_type": "markdown",
   "metadata": {},
   "source": [
    "Question 17:\n",
    "A function which returns a list of all entities available in a module is called:\n",
    "1. entities()\n",
    "2. content()\n",
    "3. dir()\n",
    "4. listmodule()\n",
    "\n",
    "Question 18:\n",
    "What is true about updating already installed Python packages?\n",
    "1. it can be done only by uninstalling and installing the package once again\n",
    "2. it’s an automatic process which doesn’t require any user attention\n",
    "3. it can be done by reinstalling the package using the reinstall command\n",
    "4. it’s performed by the install command accompanied by the -U option"
   ]
  },
  {
   "cell_type": "markdown",
   "metadata": {},
   "source": [
    "To make this world go round, two basic entities have to be established and kept in motion: a centralized repository of all available software packages; and a tool allowing users to access the repository. Both these entities already exist and can be used at any time."
   ]
  },
  {
   "cell_type": "markdown",
   "metadata": {},
   "source": [
    "The repository (or repo for short) we mentioned before is named PyPI (it's short for Python Package Index) and it's maintained by a workgroup named the Packaging Working Group, a part of the Python Software Foundation, whose main task is to support Python developers in efficient code dissemination.\n",
    "\n",
    "You can find their website here:\n",
    "https://wiki.python.org/psf/PackagingWG.\n",
    "\n",
    "\n",
    "The PyPI website (administered by PWG) is located at the address:\n",
    "https://pypi.org/."
   ]
  },
  {
   "cell_type": "markdown",
   "metadata": {},
   "source": [
    "We must point out that PyPI is not the only existing Python repository. On the contrary, there are lots of them, created for projects and led by many larger and smaller Python communities. It's likely that someday you and your colleagues may want to create your own repos.\n",
    "\n",
    "Anyway, PyPI is the most important Python repo in the world. If we modify the classic saying a little, we can state that “all Python roads lead to PyPl”, and that’s no exaggeration at all."
   ]
  },
  {
   "cell_type": "markdown",
   "metadata": {},
   "source": [
    "The PyPI repo is sometimes referred to as the Cheese Shop. Really."
   ]
  },
  {
   "cell_type": "markdown",
   "metadata": {},
   "source": [
    "PyPI is a very specific shop, not just because it offers all its products for free. It also requires a special tool to make use of it.\n",
    "\n",
    "Fortunately, this tool is also free, so if you want to make your own digital cheeseburger by using the goods offered by the PyPI Shop, you’ll need a free tool named pip."
   ]
  },
  {
   "cell_type": "markdown",
   "metadata": {},
   "source": [
    "The power of pip comes from the fact that it’s actually a gateway to the Python software universe. Thanks to that, you can browse and install any of the hundreds of ready-to-use packages gathered in the PyPI repositories. Don't forget that pip is not able to store all PyPI content locally (it’s unnecessary and it would be uneconomical).\n",
    "\n",
    "In effect, pip uses the Internet to query PyPI and to download the required data. This means that you have to have a network connection working whenever you’re going to ask pip for anything that may involve direct interactions with the PyPI infrastructure.\n",
    "\n",
    "One of these cases occurs when you want to search through PyPI in order to find a desired package. This kind of search is initiated by the following command:"
   ]
  },
  {
   "cell_type": "markdown",
   "metadata": {},
   "source": [
    "pip --version\n",
    "pip3 --version\n",
    "pip help\n",
    "pip help operation\n",
    "pip help install\n",
    "pip install package name\n",
    "pip list\n",
    "pip show package_name\n",
    "pip search anystring"
   ]
  },
  {
   "cell_type": "markdown",
   "metadata": {},
   "source": [
    "The anystring provided by you will be searched in:\n",
    "\n",
    "the names of all the packages;\n",
    "the summary strings of all the packages.\n",
    "Be aware of the fact that some searches may generate a real avalanche of data, so try to be as specific as possible. For example, an innocent-looking query like this one:\n",
    "pip search pip\n",
    "produces more than 100 lines of results (try it yourself – don't take our word for it). By the way – the search is case insensitive.\n",
    "\n",
    "If you’re not a fan of console reading, you can use the alternative way of browsing PyPI content offered by a search engine, available at https://pypi.org/search."
   ]
  },
  {
   "cell_type": "markdown",
   "metadata": {},
   "source": [
    "Two possible scenarios may be put into action now:\n",
    "\n",
    "you want to install a new package for you only – it won't be available for any other user (account) existing on your computer; this procedure is the only one available if you can’t elevate your permissions and act as a system administrator;\n",
    "you’ve decided to install a new package system-wide – you have administrative rights and you're not afraid to use them.\n",
    "To distinguish between these two actions, pip uses a dedicated option named --user (note the double dash). The presence of this option instructs pip to act locally on behalf of your (non-administrative) user.\n",
    "\n",
    "If you don’t add this, pip assumes that you’re as a system administrator and it’ll do nothing to correct you if you’re not.\n",
    "\n",
    "In our case, we’re going to install a package named pygame – it's an extended and complex library allowing programmers to develop computer games using Python.\n",
    "\n",
    "The project has been in development since the year 2000, so it's a mature and reliable piece of code. If you want to know more about the project and about the community which leads it, visit https://www.pygame.org.\n",
    "\n",
    "If you’re a system administrator, you can install pygame using the following command:\n",
    "\n",
    "pip install pygame"
   ]
  },
  {
   "cell_type": "code",
   "execution_count": null,
   "metadata": {},
   "outputs": [],
   "source": [
    "pip install pygame"
   ]
  },
  {
   "cell_type": "markdown",
   "metadata": {},
   "source": [
    "If you're not an admin, or you don't want to fatten up your OS by installing pygame system-wide, you can install it for you only:"
   ]
  },
  {
   "cell_type": "code",
   "execution_count": null,
   "metadata": {},
   "outputs": [],
   "source": [
    "pip install --user pygame"
   ]
  },
  {
   "cell_type": "code",
   "execution_count": null,
   "metadata": {},
   "outputs": [],
   "source": [
    "pip show pygame\n",
    "#and\n",
    "pip list\n",
    "#to get more info about what actually happened"
   ]
  },
  {
   "cell_type": "markdown",
   "metadata": {},
   "source": [
    "Pip has a habit of displaying fancy textual animation indicating the installation progress, so watch the screen carefully – don't miss the show! If the process is successful, you’ll see something like this:\n",
    "\n",
    "We encourage you to use:"
   ]
  },
  {
   "cell_type": "markdown",
   "metadata": {},
   "source": [
    "1. How to use pip: a simple test program\n",
    "2. Now that pygame is finally accessible, we can try to use it in a very simple test program. Let’s comment on it briefly.\n",
    "\n",
    "1. line 1: import pygame and let it serve us;\n",
    "2. line 3: the program will run as long as the run variable is True;\n",
    "3. lines 4 and 5: determine the window's size;\n",
    "4. line 6: initialize the pygame environment;\n",
    "5. line 7: prepare the application window and set its size;\n",
    "6. line 8: make an object representing the default font of size 48 points;\n",
    "7. line 9: make an object representing a given text – the text will be anti-aliased (True) and white (255,255,255)\n",
    "8. line 10: insert the text into the (currently invisible) screen buffer;\n",
    "9. line 11: flip the screen buffers to make the text visible;\n",
    "10. line 12: the pygame main loop starts here;\n",
    "11. line 13: get a list of all pending pygame events;\n",
    "12. lines 14 through 16: check whether the user has closed the window or clicked somewhere inside it or pressed any key;\n",
    "13. line 15: if yes, stop executing the code.\n"
   ]
  },
  {
   "cell_type": "code",
   "execution_count": null,
   "metadata": {},
   "outputs": [],
   "source": [
    "import pygame #line 1: import pygame and let it serve us;\n",
    "\n",
    "run = True#line 3: the program will run as long as the run variable is True;\n",
    "width = 400\n",
    "height = 100#lines 4 and 5: determine the window's size;\n",
    "pygame.init()#line 6: initialize the pygame environment;\n",
    "screen = pygame.display.set_mode((width, height))#line 7: prepare the application window and set its size;\n",
    "font = pygame.font.SysFont(None, 48)#line 8: make an object representing the default font of size 48 points;\n",
    "text = font.render(\"Welcome to pygame\", True, (255, 255, 255))#line 9: make an object representing a given text – \n",
    "#the text will be anti-aliased (True) and white (255,255,255)\n",
    "screen.blit(text, ((width - text.get_width()) // 2, (height - text.get_height()) // 2))\n",
    "#line 11: insert the text into the (currently invisible) screen buffer;\n",
    "pygame.display.flip()#line 13: flip the screen buffers to make the text visible;\n",
    "while run:#line 14: the pygame main loop starts here;\n",
    "    for event in pygame.event.get():#line 13: get a list of all pending pygame events;\n",
    "        if event.type == pygame.QUIT\\\n",
    "        or event.type == pygame.MOUSEBUTTONUP\\\n",
    "        or event.type == pygame.KEYUP:#line 18: if yes, stop executing the code.\n",
    "            run = False\n",
    "#lines 16 through 18: check whether the user \n",
    "#has closed the window or clicked somewhere inside it or pressed any key;"
   ]
  },
  {
   "cell_type": "code",
   "execution_count": null,
   "metadata": {},
   "outputs": [],
   "source": [
    "import pygame\n",
    "\n",
    "run = True\n",
    "width = 400\n",
    "height = 100\n",
    "pygame.init()\n",
    "screen = pygame.display.set_mode((width, height))\n",
    "font = pygame.font.SysFont(None, 48)\n",
    "text = font.render(\"Welcome to pygame\", True, (255, 255, 255))\n",
    "screen.blit(text, ((width - text.get_width()) // 2, (height - text.get_height()) // 2))\n",
    "pygame.display.flip()\n",
    "while run:\n",
    "    for event in pygame.event.get():\n",
    "        if event.type == pygame.QUIT\\\n",
    "        or event.type == pygame.MOUSEBUTTONUP\\\n",
    "        or event.type == pygame.KEYUP:\n",
    "            run = False"
   ]
  },
  {
   "cell_type": "markdown",
   "metadata": {},
   "source": [
    "he pip install has two important additional abilities:\n",
    "\n",
    "it is able to update a locally installed package – e.g., if you want to make sure that you’re using the latest version of a particular package, you can run the following command:\n",
    "\n",
    "1. code example pip install -U package_name\n",
    "\n",
    "\n",
    "where -U means update. Note: this form of the command makes use of the --user option for the same purpose as presented previously;\n",
    "\n",
    "it is able to install a user-selected version of a package (pip installs the newest available version by default); to achieve this goal you should use the following syntax:\n",
    "\n",
    "2. code example pip install package_name==package_version\n",
    "\n",
    "\n",
    "(note the double equals sign) e.g.,\n",
    "\n",
    "3. code example pip install pygame==1.9.2"
   ]
  },
  {
   "cell_type": "markdown",
   "metadata": {},
   "source": [
    "If any of the currently installed packages are no longer needed and you want to get rid of them, pip will be useful, too. Its uninstall command will execute all the needed steps.\n",
    "\n",
    "The required syntax is clear and simple:"
   ]
  },
  {
   "cell_type": "code",
   "execution_count": null,
   "metadata": {},
   "outputs": [],
   "source": [
    "pip uninstall package_name"
   ]
  },
  {
   "cell_type": "markdown",
   "metadata": {},
   "source": [
    "so if you don't want pygame anymore you can execute the following command:"
   ]
  },
  {
   "cell_type": "code",
   "execution_count": null,
   "metadata": {},
   "outputs": [],
   "source": [
    "pip uninstall pygame"
   ]
  },
  {
   "cell_type": "markdown",
   "metadata": {},
   "source": [
    "Pip will want to know if you’re sure about the choice you're making – be prepared to give the right answer."
   ]
  },
  {
   "cell_type": "markdown",
   "metadata": {},
   "source": [
    "Pip's capabilities don't end here, but the command set we've presented to you is enough to start successfully managing packages that aren't a part of the regular Python installation.\n",
    "\n",
    "We hope we’ve encouraged you to carry out your own experiments with pip and the Python package universe. PyPI invites you to dive into its extensive resources.\n",
    "\n",
    "Some say that one of the most important programming virtues is laziness. Don't get us wrong – we don't want you to spend all day napping on the couch and dreaming of Python code.\n",
    "\n",
    "A lazy programmer is a programmer who looks for existing solutions and analyzes the available code before they start to develop their own software from scratch.\n",
    "\n",
    "This is why PyPI and pip exist – use them!"
   ]
  },
  {
   "cell_type": "markdown",
   "metadata": {},
   "source": [
    "Key takeaways\n",
    "\n",
    "1. A repository (or repo for short) designed to collect and share free Python code exists and works under the name Python Package Index (PyPI) although it's also likely that you come across a very niche name The Cheese Shop. The Shop's website is available at https://pypi.org/.\n",
    "\n",
    "\n",
    "2. To make use of The Cheese Shop the specialized tool has been created and its name is pip (pip installs packages while pip stands for... ok, don't mind). As pip may not be deployed as a part of standard Python installation, it is possible that you will need to install it manually. Pip is a console tool.\n",
    "\n",
    "\n",
    "3. To check pip's version one the following commands should be issued:"
   ]
  },
  {
   "cell_type": "code",
   "execution_count": null,
   "metadata": {},
   "outputs": [],
   "source": [
    "pip --version\n",
    "\n",
    "\n",
    "#or\n",
    "\n",
    "pip3 --version\n",
    "\n",
    "\n",
    "#Check yourself which of these works for you in your OS' environment."
   ]
  },
  {
   "cell_type": "code",
   "execution_count": null,
   "metadata": {},
   "outputs": [],
   "source": [
    "#4. #List of main pip activities looks as follows:\n",
    "\n",
    "pip help #operation - shows brief pip's description;\n",
    "pip list #- shows list of currently installed packages;\n",
    "pip show package_name #- shows package_name info including package's dependencies;\n",
    "pip search anystring #- searches through PyPI directories in order to find packages which name contains anystring;\n",
    "pip install name #- installs name system-wide (expect problems when you don't have administrative rights);\n",
    "pip install --user name #- install name for you only; no other your platform's user will be able to use it;\n",
    "pip install -U name #- updates previously installed package;\n",
    "pip uninstall name #- uninstalls previously installed package;"
   ]
  },
  {
   "cell_type": "markdown",
   "metadata": {},
   "source": [
    "Well done! You've reached the end of Module 1 and completed a major milestone in your Python programming education. Here's a short summary of the objectives you've covered and got familiar with in Module 1:\n",
    "\n",
    "1. working with Python modules; importing, creating, and using modules;\n",
    "2. using selected Python STL modules (math, random, and platform)\n",
    "3. constructing and using packages in Python;\n",
    "4. PIP (Python Package Installer.)\n",
    "\n"
   ]
  },
  {
   "cell_type": "markdown",
   "metadata": {},
   "source": [
    "Objectives covered by the block: Reference to test block\n",
    "\n",
    "Modules and Packages\n",
    "import variants; advanced qualifiying for nested modules\n",
    "dir(); the sys.path variable\n",
    "math: ceil(), floor(), trunc(), factorial(), hypot(), sqrt(); random: random(), seed(), choice(), sample()\n",
    "platform: platform(), machine(), processor(), system(), version(), python_implementation(), python_version_tuple()\n",
    "rationale (why do we need modules?), __pycache__, __name__, public variables, __init__.py\n",
    "searching for/through modules/packages; nested packages vs. directory tree"
   ]
  },
  {
   "cell_type": "markdown",
   "metadata": {},
   "source": [
    "The essentials of modules and packages\n",
    "1. A namespace is a space (understood in a non-physical context) \n",
    "   in which some names exist and the names don't conflict with each other \n",
    "   (i.e., there are no two objects with the same name).\n",
    "\n",
    "2. A module is a file containing Python definitions and statements \n",
    "   which can be imported and used by another Python code.\n",
    "\n",
    "3. A package is a way of structuring a module's namespace by using dotted \n",
    "   module names. It can be said that the module is a hierarchical collection of \n",
    "   modules.\n",
    "\n",
    "4. To import a module and to make its content available, the import directive is used. \n",
    "Let's assume that there is a module named mod which contains a function named fun(). \n",
    "The following import forms can be used:\n",
    "\n",
    "1. import mod \n",
    "the clause contains the import keyword followed by the name of the imported module \n",
    "(or a comma-separated list of names)\n",
    "when any of the imported module's entities (variables, functions, classes, etc.) \n",
    "should be used, its name must be encoded in the dotted (qualified) \n",
    "form, e.g. mod.fun().\n",
    "2. from mod import fun\n",
    "the clause starts with the phrase from module_name followed by the name \n",
    "(or a comma-separated list of names) of the imported module's entity/entities;\n",
    "when any of the imported names is used inside the code, its name must be used as is, \n",
    "without any dots or qualification, e.g. fun();\n",
    "Note: unless you know all the names provided by the module, you may not be able to \n",
    "avoid name conflicts inside your current namespace.\n",
    "3. from mod import *\n",
    "the clause is similar to the previously presented variant, but uses an asterisk (*) \n",
    "instead of any explicit name/names. The asterisk works as a wild card and implicitly \n",
    "imports all the module's entities; the names of any of the imported entities must be \n",
    "used as is – no qualification is allowed.\n",
    "\n",
    "A built-in function named dir() can be used to obtain an \n",
    "alphabetically sorted list which contains all entity names available in the module \n",
    "passed to the function as an argument, e.g. print(dir(math)) will print a list of \n",
    "the math module's contents.\n"
   ]
  },
  {
   "cell_type": "markdown",
   "metadata": {},
   "source": [
    "The math module\n",
    "The math module comes with the standard Python release, and contains some \n",
    "useful constants and functions for carrying out mathematical operations. \n",
    "Note: all trigonometrical functions take their arguments expressed in radians.\n",
    "\n",
    "1. math.pi → π constant value.\n",
    "2. math.e → Euler's number value.\n",
    "3. math.sqrt(x) → the square root of x.\n",
    "4. math.sin(x) → the sine of x.\n",
    "5. math.cos(x) → the cosine of x.\n",
    "6. math.tan(x) → the tangent of x.\n",
    "7. math.asin(x) → the arcsine of x.\n",
    "8. math.acos(x) → the arccosine of x.\n",
    "9. math.atan(x) → the arctangent of x.\n",
    "10. math.radians(x) → a function that converts x from degrees to radians.\n",
    "11. math.degrees(x) → acting in the other direction (from radians to degrees).\n",
    "12. math.sinh(x) → the hyperbolic sine.\n",
    "13. math.cosh(x) → the hyperbolic cosine.\n",
    "14. math.tanh(x) → the hyperbolic tangent.\n",
    "15. math.asinh(x) → the hyperbolic arcsine.\n",
    "16. math.acosh(x) → the hyperbolic arccosine.\n",
    "17. math.atanh(x) → the hyperbolic arctangent.\n",
    "18. math.exp(x) → finds the value of ex.\n",
    "19. math.log(x) → the natural logarithm of x.\n",
    "20. math.log(x, b) → the logarithm of x to base b.\n",
    "21. math.log10(x) → the decimal logarithm of x (more precise than math.log(x, 10)).\n",
    "22. log2(x) → the binary logarithm of x (more precise than math.log(x, 2)).\n",
    "24. math.ceil(x) → the ceiling of x (the smallest integer greater than or equal to x).\n",
    "25. math.floor(x) → the floor of x (the largest integer less than or equal to x).\n",
    "26. math.trunc(x) → the value of x truncated to an integer (be careful – it's not an equivalent of either ceil or floor).\n",
    "27. math.factorial(x) → returns x! (x has to be an integral and not a negative).\n",
    "28. math.hypot(x, y) → returns the length of the hypotenuse of a right-angle triangle with the leg lengths equal to x and y (the same as math.sqrt(pow(x, 2) + pow(y, 2)) but more precise)."
   ]
  },
  {
   "cell_type": "markdown",
   "metadata": {},
   "source": [
    "The random module\n",
    "1. The random module delivers some mechanisms allowing you to operate with \n",
    "   pseudorandom numbers.\n",
    "\n",
    "2. A random number generator takes a value called a seed, treats it as an input value,\n",
    "    calculates a \"random\" number based on it (the method depends on the chosen \n",
    "    algorithm) and produces a new seed value. The length of a cycle in which all seed \n",
    "    values are unique may be very long, but it is finite – sooner or later the seed \n",
    "    values will start repeating, and the generating values will repeat, too. \n",
    "    The initial seed value, set during the start of the program, determines the order\n",
    "    in which the generated values will appear.\n",
    "\n",
    "3. The seed() function directly sets the generator's seed. Possible variants of its \n",
    "   invocation are:\n",
    "    1. seed() – sets the seed with the current time which makes the seed a \n",
    "    bit unpredictable;\n",
    "    2. seed(int_value) – sets the seed with the integer value int_value.\n",
    "4. The random module's pseudorandom generator is available through the following \n",
    "   functions:\n",
    "    1. random() → produces a float number x, \n",
    "    2. which falls within the range 0.0 ≤ x < 1.0.\n"
   ]
  },
  {
   "cell_type": "code",
   "execution_count": null,
   "metadata": {},
   "outputs": [],
   "source": [
    "#Example:\n",
    "\n",
    "import random\n",
    "\n",
    "random.seed(0)\n",
    "print(random.random())"
   ]
  },
  {
   "cell_type": "markdown",
   "metadata": {},
   "source": [
    "The code will always print the same value, regardless of the number of launches."
   ]
  },
  {
   "cell_type": "markdown",
   "metadata": {},
   "source": [
    "1. random.randrange(start, stop ,step) → produces an integer number x, \n",
    "2. which is taken from the range start ≤ x < stop with step step. \n",
    "Note: the start argument defaults to 0 and the step argument defaults to 1"
   ]
  },
  {
   "cell_type": "code",
   "execution_count": null,
   "metadata": {},
   "outputs": [],
   "source": [
    "#Example: all of the invocations below are equivalent:\n",
    "\n",
    "import random\n",
    "\n",
    "print(random.randrange(100))\n",
    "print(random.randrange(0,100))\n",
    "print(random.randrange(0,100,1))"
   ]
  },
  {
   "cell_type": "markdown",
   "metadata": {},
   "source": [
    "1. random.randint(start, stop) → equivalent of random.randrange(start, stop+1);\n",
    "\n",
    "2. choice(sequence) → chooses a \"random\" element from the input sequence (e.g. a list or tuple) and returns it;\n",
    "\n",
    "3. sample(sequence, elements_to_choose=1) → returns a list (a sample) consisting of the elements_to_choose elements (which defaults to 1) \"drawn\" from the input sequence."
   ]
  },
  {
   "cell_type": "markdown",
   "metadata": {},
   "source": [
    "The platform module\n",
    "1. The platform module lets you access the underlying platform's data, that is, \n",
    "   the hardware, the operating system, and the interpreter version information. \n",
    "   Some of the module's functions are:\n",
    "2. platform.platform(aliased = False, terse = False) → returns a string describing \n",
    "   the underlying hardware architecture and OS.\n",
    "3. platform.aliased → when set to True (or any non-zero value) it may cause the \n",
    "   function to present the alternative underlying layer names instead of \n",
    "   the common ones.\n",
    "4. terse → when set to True (or any non-zero value) it may convince the function to \n",
    "   present a briefer form of the result (if possible).\n",
    "\n",
    "1. platform.machine() → returns a string with the generic name of the host processor.\n",
    "\n",
    "2. platform.processor() → returns a string with the real name of the host processor.\n",
    "\n",
    "3. platform.system() → returns a string with the generic name of the host OS.\n",
    "\n",
    "4. platform.version() → returns a string with the version of the host OS.\n",
    "\n",
    "5. platform.python_implementation() → returns a string denoting the Python \n",
    "   implementation (expect CPython here, unless you decide to use any non-canonical \n",
    "   Python branch).\n",
    "\n",
    "platform.python_version_tuple() → returns a three-element tuple filled with:\n",
    "1. the major part of Python's version;\n",
    "2. the minor part; the patch level number.\n",
    "3. The complete list of currently available, community-led Python modules can \n",
    "   be found here.\n",
    "\n"
   ]
  },
  {
   "cell_type": "markdown",
   "metadata": {},
   "source": [
    "How Python deals with modules\n",
    "1. When a certain module is imported for the first time, \n",
    "   Python converts its contents into a semi-compiled code which can be used to \n",
    "   execute module functions faster.\n",
    "\n",
    "2. The semi-compiled files are placed in the directory named (double underscore)\n",
    "    __pycache__, located in the same directory in which the source module exists.\n",
    "\n",
    "3. If the source file of a module is named mod.py, its semi-compiled counterpart \n",
    "   will be named mod.cpython-xy.pyc where x and y are numbers derived from your \n",
    "   Python's version number.\n",
    "\n",
    "4. There is a special built-in variable named(double underscore) __name__ \n",
    "   whose value:is set to(double underscore) \"__main__\" when the module is run as \n",
    "   a standalone code; is set to the source file's name (excluding .py) \n",
    "   when the file is imported as a module.\n",
    "\n",
    "Example: the snippet below can be used to determine the context in which the source \n",
    "file is used."
   ]
  },
  {
   "cell_type": "code",
   "execution_count": null,
   "metadata": {},
   "outputs": [],
   "source": [
    "if __name__ == \"__main__\":\n",
    "    print(\"Run as a program\")\n",
    "else:\n",
    "    print(\"Imported as a module\")\n",
    "\n"
   ]
  },
  {
   "cell_type": "markdown",
   "metadata": {},
   "source": [
    "\n",
    "1. The very first line of a Python source file can start with #!, \n",
    "   in which case it's called the shabang, shebang, hashbang, poundbang, \n",
    "   or even the hashpling line. From Python's point of view, it's just a comment. \n",
    "   For Unix and Unix-like OSs (including MacOS) such a line instructs the OS on how \n",
    "   to execute the contents of the file (in other words, what program needs to be \n",
    "   launched to interpret the text). This is what it may look like in some \n",
    "   environments:\n",
    "\n",
    "#!/usr/bin/env python3\n",
    "\n",
    "2. The module of the name given in the import directive is searched inside directories whose names are listed in the sys.path variable (it's a list of strings). The first element of the list is the directory in which the code that performs the import resides. The user is allowed to modify the sys.path contents in order to limit or extend the range of directories being searched through.\n",
    "\n",
    "\n"
   ]
  },
  {
   "cell_type": "markdown",
   "metadata": {},
   "source": [
    "Packages\n",
    "1. A group of Python source files deployed in a certain subtree of the file \n",
    "   system may form a package. Let's assume that the following set of files and \n",
    "   directories exists:"
   ]
  },
  {
   "cell_type": "code",
   "execution_count": null,
   "metadata": {},
   "outputs": [],
   "source": [
    "#the below is for the purposes of a structure of a directory and not code!\n",
    "''''''\n",
    "[any directory]\n",
    "        │\n",
    "        └── package             ← directory\n",
    "            │   \n",
    "            ├── gearbox.py      ← file: contains turn_on() function  \n",
    "            │\n",
    "            ├── __init__.py     ← empty file\n",
    "            │\n",
    "            └── subpackage      ← directory\n",
    "                │\n",
    "                └── engine.py   ← file: contains start() function \n"
   ]
  },
  {
   "cell_type": "markdown",
   "metadata": {},
   "source": [
    "2.  source file named(double underscore) __init__.py located in a certain place \n",
    "of the directory structure defines the root of the package, in other words, \n",
    "it determines the location and name of the package. If the file is not empty, \n",
    "its contents will be executed when any of the package's modules is imported, \n",
    "so it may be used to initialize the package's state."
   ]
  },
  {
   "cell_type": "markdown",
   "metadata": {},
   "source": [
    "3. Importing a module from within a package requires more detailed import \n",
    "   specifications. If we assume that the package directory is listed in the sys.path \n",
    "   variable, it's guaranteed that it will be searched through when Python \n",
    "   is looking for modules.\n",
    "\n",
    "If you want to invoke the turn_on() function provided by the gearbox.py module \n",
    "located inside the package package, this is the way you can do it:"
   ]
  },
  {
   "cell_type": "code",
   "execution_count": null,
   "metadata": {},
   "outputs": [],
   "source": [
    "import package.gearbox\n",
    "\n",
    "package.gearbox.turn_on()\n",
    "\n"
   ]
  },
  {
   "cell_type": "markdown",
   "metadata": {},
   "source": [
    "An alternative way of achieving almost the same effect is the following"
   ]
  },
  {
   "cell_type": "code",
   "execution_count": null,
   "metadata": {},
   "outputs": [],
   "source": [
    "from package.gearbox import turn_on\n",
    "\n",
    "turn_on()"
   ]
  },
  {
   "cell_type": "code",
   "execution_count": null,
   "metadata": {},
   "outputs": [],
   "source": [
    "#Note the difference in the invocation syntax.\n",
    "\n",
    "#This form of import will work, too:\n",
    "\n",
    "from package.gearbox import *\n",
    "\n",
    "start()"
   ]
  },
  {
   "cell_type": "markdown",
   "metadata": {},
   "source": [
    "Invoking the start() function delivered by the engine.py module \n",
    "provided by the (subpackage) subpackage existing in the package package can \n",
    "be gained in the following three ways:"
   ]
  },
  {
   "cell_type": "code",
   "execution_count": null,
   "metadata": {},
   "outputs": [],
   "source": [
    "# Example 1\n",
    "import package.subpackage.engine\n",
    "\n",
    "package.subpackage.engine.start()"
   ]
  },
  {
   "cell_type": "code",
   "execution_count": null,
   "metadata": {},
   "outputs": [],
   "source": [
    "# Example 2\n",
    "from package.subpackage.engine import start\n",
    "\n",
    "start()"
   ]
  },
  {
   "cell_type": "code",
   "execution_count": null,
   "metadata": {},
   "outputs": [],
   "source": [
    "# Example 3\n",
    "from package.subpackage.engine import *\n",
    "\n",
    "start()"
   ]
  },
  {
   "cell_type": "markdown",
   "metadata": {},
   "source": [
    "4. Executing the imports above (Examples 1-3) will provoke Python \n",
    "   to create two(double underscore) __pycache__ directories located under the \n",
    "   package and subpackage directories, and will fill them with .pyc files, which \n",
    "   contain semi-compiled code of the modules imported. In effect, the subtree \n",
    "   contents structure will look like this:"
   ]
  },
  {
   "cell_type": "code",
   "execution_count": null,
   "metadata": {},
   "outputs": [],
   "source": [
    "#The below is not code, its a structured diagram of a directory structure.\n",
    "\n",
    "[any directory]    \n",
    "        └── package\n",
    "               │\n",
    "               ├── gearbox.py\n",
    "               ├── __init__.py\n",
    "               ├── __pycache__\n",
    "               │   ├── gearbox.cpython-39.pyc\n",
    "               │   └── __init__.cpython-39.pyc\n",
    "               └── subpackage\n",
    "                   ├── engine.py\n",
    "                   └── __pycache__\n",
    "                       ├── engine.cpython-39.pyc\n",
    "                       └── __init__.cpython-39.pyc  "
   ]
  },
  {
   "cell_type": "markdown",
   "metadata": {},
   "source": [
    "# Section 2: Exceptions (14%)\n",
    "1. Python's way of handling runtime errors; \n",
    "2. Controlling the flow of errors using try and except; Hierarchy of exceptions.\n",
    "\n",
    "## Objectives covered by the block (5 exam items)\n",
    "\n",
    "### PCAP-31-03 2.1 – Handle errors using Python-defined exceptions\n",
    "\n",
    "except, except:-except, except:-else:, except (e1, e2)\n",
    "the hierarchy of exceptions\n",
    "raise, raise ex\n",
    "assert\n",
    "event classes\n",
    "except E as e\n",
    "the arg property\n",
    "\n",
    "### PCAP-31-02 2.2 – Extend the Python exceptions hierarchy with self-defined exceptions\n",
    "\n",
    "self-defined exceptions\n",
    "defining and using self-defined exceptions"
   ]
  },
  {
   "cell_type": "markdown",
   "metadata": {},
   "source": [
    "Make sure you understand the below\n",
    "\n",
    "1. Exceptions\n",
    "2. except, finally, except:-except; except:-else:, except (e1, e2)\n",
    "3. the hierarchy of exceptions;\n",
    "4. raise, raise ex, assert\n",
    "5. event classes, except E as e, the arg property;\n",
    "6. self-defined exceptions; defining and using user-created exceptions."
   ]
  },
  {
   "cell_type": "markdown",
   "metadata": {},
   "source": [
    "Exceptions\n",
    "1. In Python, exceptions are events which break the normal course of code execution.\n",
    "\n",
    "2. Exceptions can be handled using the try-except clause, or left alone, \n",
    "   which causes abnormal program termination.\n",
    "\n",
    "3. To ensure that an exception is handled in a controlled way, the following syntax has to be used \n",
    "   (the parts of the code highlighted are optional):"
   ]
  },
  {
   "cell_type": "markdown",
   "metadata": {},
   "source": [
    "BELOW are TEST QUESTIONS REFERRING TO EXCEPTION ERROR HANDLING AND ADVANCED STRINGS, IF YOU ARE COMFORTABLE WITH BOTH MODULES FEEL FREE TO GO THROUGH THIS TEST, IF NOT GO THROUGH THE MODULES MATERIAL AND THEN RETURN TO THIS TEST YOURSELF SECTION "
   ]
  },
  {
   "cell_type": "markdown",
   "metadata": {},
   "source": [
    "Question 1. Which of the following operations will raise an error? Select two Answers:\n",
    "1. Indexing a list\n",
    "2. Incrementing an integer variable by one\n",
    "3. slicing a string\n",
    "4. invoking the int() function."
   ]
  },
  {
   "cell_type": "markdown",
   "metadata": {},
   "source": [
    "Indexing a list may raise the IndexError when an index value exceeds the list boundaries\n",
    "Invoking the int() may raise the ValueError exception when the argument does not represent a valid integer number"
   ]
  },
  {
   "cell_type": "markdown",
   "metadata": {},
   "source": [
    "Question 2 Which of the following are names of built in python exceptions? Select two\n",
    "1. LookupException\n",
    "2. AssertionError\n",
    "3. ProgramTooComplicated\n",
    "4. KeyError"
   ]
  },
  {
   "cell_type": "markdown",
   "metadata": {},
   "source": [
    "AssertionError and KeyError"
   ]
  },
  {
   "cell_type": "markdown",
   "metadata": {},
   "source": [
    "Question 3. Review the following code (in the cell below) and what is the expected outcome printed to the screen?\n",
    "\n",
    "1. -1\n",
    "2. +INF\n",
    "3. -2\n",
    "4. An error message appears on the screen"
   ]
  },
  {
   "cell_type": "code",
   "execution_count": null,
   "metadata": {},
   "outputs": [],
   "source": [
    "x,y = 3.0,0.0\n",
    "try:\n",
    "    z = x/y\n",
    "except ArithmeticError:\n",
    "    z = -1\n",
    "else: z = -2\n",
    "print(z)"
   ]
  },
  {
   "cell_type": "markdown",
   "metadata": {},
   "source": [
    "Answer to Question 3: -1.\n",
    "Reason: Division by 0 will raise the ZeroDivisionError exception, so it falls to the except branch, which sets the value to -1 resulting in the else being bypassed in effect -1 is output to the screen."
   ]
  },
  {
   "cell_type": "markdown",
   "metadata": {},
   "source": [
    "Question 4 What is the expected output of the following code?\n",
    "1. -1\n",
    "2. +INF\n",
    "3. -2\n",
    "4. An error message"
   ]
  },
  {
   "cell_type": "code",
   "execution_count": null,
   "metadata": {},
   "outputs": [],
   "source": [
    "x,y = 0.0, 3.0\n",
    "try:\n",
    "    z= x/y\n",
    "except ArithmeticError:\n",
    "        z = -1\n",
    "else: z = -2\n",
    "print(z)\n",
    "    "
   ]
  },
  {
   "cell_type": "markdown",
   "metadata": {},
   "source": [
    "Answer to Question 4: The answer is -2.\n",
    "division by 0.3 will not raise an exception, so the else block is executed and -2 is output to the screen."
   ]
  },
  {
   "cell_type": "markdown",
   "metadata": {},
   "source": [
    "Question 5:\n",
    "What is the expected output of the below?\n",
    "1. -1\n",
    "2. An error appears on the screen\n",
    "3. 0\n",
    "4. -2"
   ]
  },
  {
   "cell_type": "code",
   "execution_count": null,
   "metadata": {},
   "outputs": [],
   "source": [
    "def fun(x):\n",
    "    return 1/x\n",
    "def mid_level(x):\n",
    "    try:\n",
    "        fun(x)\n",
    "    except:\n",
    "        raise AssertionError\n",
    "    else:\n",
    "        return 0\n",
    "try:\n",
    "    x = mid_level(0)\n",
    "except Exception:\n",
    "    x = -1\n",
    "except:\n",
    "    x = -2\n",
    "print(x)"
   ]
  },
  {
   "cell_type": "markdown",
   "metadata": {},
   "source": [
    "Answer to Question 5:\n",
    "1. The fun(0) invocation raises the ZeroDivisionError exception.\n",
    "2. The exception is caught by the except branch; and the AssertionError is raised.\n",
    "3. As the AssertError is a subclass of Error, it is handled by the except Exception: branch.\n",
    "4. In effect the x variable is set to -1 and the value of x is printed to screen"
   ]
  },
  {
   "cell_type": "markdown",
   "metadata": {},
   "source": [
    "Question 6: What is the output of the following code?\n",
    "1. -1\n",
    "2. an error appears on the screen\n",
    "3. 0\n",
    "4. -2"
   ]
  },
  {
   "cell_type": "code",
   "execution_count": null,
   "metadata": {},
   "outputs": [],
   "source": [
    "def fun(x):\n",
    "    assert x >=0\n",
    "    return x**0.5\n",
    "def mid_level(x):\n",
    "    try:\n",
    "        fun(x)\n",
    "    except Error:\n",
    "        raise\n",
    "\n",
    "try:\n",
    "    x = mid_level(-1)\n",
    "except RuntimeError:\n",
    "    x = -1\n",
    "except:\n",
    "    x = -2\n",
    "print(x)"
   ]
  },
  {
   "cell_type": "markdown",
   "metadata": {},
   "source": [
    "Quest 6: The answer is -2\n",
    "1. mid_level is invoked with the argument set to -1\n",
    "2. Assertion fails and the AssertionError Exception is raised\n",
    "3. The exception is handled by the except error branch: inside the mid_level function, in effect the raise instruction is executed\n",
    "   and the AssertionError is raised again.\n",
    "4. Because AssertionError IS NOT a subclass of RuntimeError the control falls into the default except branch\n",
    "5. which sets the x variable to -2 and this is printed to the screen with the print function."
   ]
  },
  {
   "cell_type": "markdown",
   "metadata": {},
   "source": [
    "Question 7.\n",
    "What is the output to screen of the code?\n",
    "1. 2.718282\n",
    "2. ('Success')\n",
    "3. 3.141592\n",
    "4. ('tuple index out of range',)\n"
   ]
  },
  {
   "cell_type": "code",
   "execution_count": null,
   "metadata": {},
   "outputs": [],
   "source": [
    "consts = (3.141592, 2.718282)\n",
    "try:\n",
    "    print(consts[2])\n",
    "except Exception as exception:\n",
    "    print(exception.args)\n",
    "else:\n",
    "    print(('success'))"
   ]
  },
  {
   "cell_type": "markdown",
   "metadata": {},
   "source": [
    "Question 7: Answer is ('tuple index out of range',)\n",
    "Trying to access a non-existent element of a tuple raises the IndexError exception, which is a subclass of Exception\n",
    "that is why the control falls into the only \"named\" except branch: the exceptionj args tuple will carry the following:\n",
    "text tuple index is out of range. as follows ('tuple index out of range',)"
   ]
  },
  {
   "cell_type": "markdown",
   "metadata": {},
   "source": [
    "Question 8.\n",
    "What is the output to screen of the code?\n",
    "1. False\n",
    "2. ('Success')\n",
    "3. -1\n",
    "4. ('3.14 is not in the list',)"
   ]
  },
  {
   "cell_type": "code",
   "execution_count": null,
   "metadata": {},
   "outputs": [],
   "source": [
    "consts = [3.141592, 2.718282]\n",
    "try:\n",
    "    print(consts.index(314e-2))\n",
    "except Exception as exception:\n",
    "    print(exception.args)\n",
    "else:\n",
    "    print(('success'))"
   ]
  },
  {
   "cell_type": "markdown",
   "metadata": {},
   "source": [
    "Answer to Question 8 is ('3.14 is not in list',)\n",
    "Although 3.141592 is close to 314e-2 the values are different so the .index() method fails raising \n",
    "the ValueError the exception args tuple will carry the following text ('3.14 is not in list',) which is evidently true."
   ]
  },
  {
   "cell_type": "markdown",
   "metadata": {},
   "source": [
    "Question 9, what is the output of the following? Select two answers.\n",
    "1. accident\n",
    "2. problem\n",
    "3. success\n",
    "4. action\n"
   ]
  },
  {
   "cell_type": "code",
   "execution_count": null,
   "metadata": {},
   "outputs": [],
   "source": [
    "class Accident(Exception):\n",
    "    def __init__(self, message):\n",
    "        self.message = message\n",
    "    \n",
    "    def __str__(self):\n",
    "        return\"problem\"\n",
    "try:\n",
    "    print(\"action\")\n",
    "    raise Accident(\"accident\")\n",
    "except Accident as accident:\n",
    "    print(accident)\n",
    "else:\n",
    "    print(\"Success\")"
   ]
  },
  {
   "cell_type": "markdown",
   "metadata": {},
   "source": [
    "Answer to Question 9: action and Problem in that order. The accident message will appear on the screen as \n",
    "a result of print(accident) function invocation the message is problem. as the Accident class has its __str__ function \n",
    "overridden every time, printing this class's object will show on the screen.\n",
    "action is printed as there are no obstacles to it.\n"
   ]
  },
  {
   "cell_type": "markdown",
   "metadata": {},
   "source": [
    "Question 10: What is the result of the following code?\n",
    "1. launch\n",
    "2. ignore\n",
    "3. ignition\n",
    "4. problem"
   ]
  },
  {
   "cell_type": "code",
   "execution_count": null,
   "metadata": {},
   "outputs": [],
   "source": [
    "class Failure(IndexError):\n",
    "    def __init__(self, message):\n",
    "        self.message = message\n",
    "    \n",
    "    def __str__(self):\n",
    "        return\"problem\"\n",
    "try:\n",
    "    print(\"launch\")\n",
    "    raise Failure(\"ignition\")\n",
    "except RuntimeError as error:\n",
    "    print(error)\n",
    "except IndexError as error:\n",
    "    print(\"ignore\")\n",
    "else:\n",
    "    print(\"landing\")"
   ]
  },
  {
   "cell_type": "markdown",
   "metadata": {},
   "source": [
    "Question 10: Answer launch and ignore:\n",
    "There is nothing in the code to stop the message launch from printing to the screen.\n",
    "Because failure is derived from IndexError, exceptions of this kind will fall into the except IndexError \n",
    "branch and that is why this message ignore prints to the screen \n"
   ]
  },
  {
   "cell_type": "markdown",
   "metadata": {},
   "source": [
    "The unnamed except block in python must be?\n",
    "Must be the last one"
   ]
  },
  {
   "cell_type": "markdown",
   "metadata": {},
   "source": [
    "Which are examples of concrete built in type Exceptions in Python:\n",
    "IndexError and ImportError"
   ]
  },
  {
   "cell_type": "code",
   "execution_count": null,
   "metadata": {},
   "outputs": [],
   "source": [
    "print(ord('c') - ord('a'))"
   ]
  },
  {
   "cell_type": "code",
   "execution_count": null,
   "metadata": {},
   "outputs": [],
   "source": [
    "print(chr(ord('z') -2))"
   ]
  },
  {
   "cell_type": "code",
   "execution_count": null,
   "metadata": {},
   "outputs": [],
   "source": [
    "#what is expected from the following code?\n",
    "try:\n",
    "    print(\"5\"/0)#do not forget this is a value error so the Arithmetic and Zero will be skipped\n",
    "except ArithmeticError:\n",
    "    print('arit')\n",
    "except ZeroDivisionError:\n",
    "    print('zero')\n",
    "except:\n",
    "    print('some')"
   ]
  },
  {
   "cell_type": "markdown",
   "metadata": {},
   "source": []
  },
  {
   "cell_type": "markdown",
   "metadata": {},
   "source": [
    "UTF-8 is?\n",
    "A form of encoding code points"
   ]
  },
  {
   "cell_type": "markdown",
   "metadata": {},
   "source": [
    "Entering the try block means:\n",
    "Some of the instructions may not be executed"
   ]
  },
  {
   "cell_type": "markdown",
   "metadata": {},
   "source": [
    "The top most Exception is called?\n",
    "BaseException"
   ]
  },
  {
   "cell_type": "code",
   "execution_count": null,
   "metadata": {},
   "outputs": [],
   "source": [
    "print('Mike' > \"Mikey\")"
   ]
  },
  {
   "cell_type": "code",
   "execution_count": null,
   "metadata": {},
   "outputs": [],
   "source": [
    "print(3* 'abc' + 'xyz')"
   ]
  },
  {
   "cell_type": "markdown",
   "metadata": {},
   "source": [
    "Entering the try block means?\n",
    "Some of the instructions from this block may not be executed."
   ]
  },
  {
   "cell_type": "code",
   "execution_count": null,
   "metadata": {},
   "outputs": [],
   "source": [
    "\n",
    "# Python program to demonstrate the use of\n",
    "# len() method \n",
    " \n",
    "dic = {'a':1, 'b': 2}\n",
    "print(len(dic))\n",
    " \n",
    "s = { 1, 2, 3, 4}\n",
    "print(len(s))"
   ]
  },
  {
   "cell_type": "code",
   "execution_count": null,
   "metadata": {},
   "outputs": [],
   "source": [
    "\n",
    "class Public:\n",
    "    def __init__(self, number):\n",
    "        self.number = number\n",
    "    def __len__(self):\n",
    "        return self.number\n",
    "     \n",
    "obj = Public(12)\n",
    "print(len(obj))"
   ]
  },
  {
   "cell_type": "code",
   "execution_count": null,
   "metadata": {},
   "outputs": [],
   "source": [
    "x = '\\''\n",
    "print(len(x))\n",
    "#python does not count excape characters \\ so its one white space, it will count it as a new line"
   ]
  },
  {
   "cell_type": "code",
   "execution_count": null,
   "metadata": {},
   "outputs": [],
   "source": [
    "print(float(\"1, 3\"))\n",
    "#raises a ValueError Exception"
   ]
  },
  {
   "cell_type": "markdown",
   "metadata": {},
   "source": [
    "ASCII is?"
   ]
  },
  {
   "cell_type": "code",
   "execution_count": null,
   "metadata": {},
   "outputs": [],
   "source": [
    "print(float(\"1, 3\"))"
   ]
  },
  {
   "cell_type": "code",
   "execution_count": null,
   "metadata": {},
   "outputs": [],
   "source": [
    "x = '\\''\n",
    "print(len(x))"
   ]
  },
  {
   "cell_type": "code",
   "execution_count": null,
   "metadata": {},
   "outputs": [],
   "source": [
    "'mike' > 'Mike'"
   ]
  },
  {
   "cell_type": "code",
   "execution_count": null,
   "metadata": {},
   "outputs": [],
   "source": [
    "'Mike' > 'mike'"
   ]
  },
  {
   "cell_type": "code",
   "execution_count": null,
   "metadata": {},
   "outputs": [],
   "source": [
    "'mike' == 'Mike'"
   ]
  },
  {
   "cell_type": "code",
   "execution_count": null,
   "metadata": {},
   "outputs": [],
   "source": [
    "assert var == 0"
   ]
  },
  {
   "cell_type": "markdown",
   "metadata": {},
   "source": [
    "Module 2 PCAP Example of Test without answers Try to answer without referencing the section above with the answers provided."
   ]
  },
  {
   "cell_type": "markdown",
   "metadata": {},
   "source": [
    "Question 1\n",
    "The following code:\n",
    "print(ord('c') - ord('a'))\n",
    "prints:\n",
    "1. 0\n",
    "2. 2\n",
    "3. 3\n",
    "4. 1\n",
    "\n",
    "Question 2:\n",
    "The following code:\n",
    "print (float(\"1, 3\" ))\n",
    "\n",
    "1. prints 1, 3\n",
    "2. raises a ValueError exception\n",
    "3. prints 1.3\n",
    "4. prints 13\n",
    "\n",
    "\n",
    "Question 3:\n",
    "The top-most Python exception is called:\n",
    "\n",
    "1. TopException\n",
    "2. Exception\n",
    "3. BaseException\n",
    "4. PythonException\n",
    "\n",
    "Question 4:\n",
    "The following statement:\n",
    "assert var == 0\n",
    "\n",
    "1. is erroneous\n",
    "2. will stop the program when var != 0\n",
    "3. has no effect\n",
    "4. will stop the program when var == 0\n",
    "\n",
    "Question 5:\n",
    "UNICODE is a standard:\n",
    "\n",
    "1. used by coders from universities\n",
    "2. honored by the whole universe\n",
    "3. like ASCII, but much more expansive\n",
    "4. for coding floating-point numbers\n",
    "\n",
    "Question 6:\n",
    "ASCII is:\n",
    "\n",
    "1. a predefined Python variable name\n",
    "2. a standard Python module name\n",
    "3. a character name\n",
    "4. short for American Standard Code for Information Interchange\n"
   ]
  },
  {
   "cell_type": "code",
   "execution_count": null,
   "metadata": {},
   "outputs": [],
   "source": [
    "#Question 7: The following code:\n",
    "print(3 * 'abc' +'xyz')\n",
    "#prints:\n",
    "#1. xyzxyzxyzxyz\n",
    "#2. abcabcxyzxyz\n",
    "#3. abcabcabcxyz\n",
    "#4. abcxyzxyzxyz"
   ]
  },
  {
   "cell_type": "markdown",
   "metadata": {},
   "source": [
    "Question 8:\n",
    "UTF-8 is:\n",
    "1. a Python version name\n",
    "2. the 9th version of the UTF standard\n",
    "3. a form of encoding Unicode code points\n",
    "4. a synonym for byte\n",
    " \n",
    " Question 9:\n",
    " Entering the try: block implies that:\n",
    "1. all of the instructions from this block will be executed\n",
    "2. some of the instructions from this block may not be executed\n",
    "3. the block will be omitted\n",
    "4. none of the instructions from this block will be executed"
   ]
  },
  {
   "cell_type": "code",
   "execution_count": null,
   "metadata": {},
   "outputs": [],
   "source": [
    "#Question 10: What is the expected output of the following code?\n",
    "try\n",
    "     print(\"5\"/0)\n",
    "except ArithmeticError:\n",
    "     print(\"arith\")\n",
    "except ZeroDivisionError:\n",
    "     print(\"zero\")\n",
    "except:\n",
    "     print(\"some\")\n",
    "#1. zero\n",
    "#2. 0\n",
    "#3. some\n",
    "#4 arith"
   ]
  },
  {
   "cell_type": "markdown",
   "metadata": {},
   "source": [
    "Question 11.\n",
    "The unnamed except: block:\n",
    "\n",
    "1. must be the first one \n",
    "2. can be placed anywhere\n",
    "3. cannot be used if any named block has been used\n",
    "4. must be the last one"
   ]
  },
  {
   "cell_type": "code",
   "execution_count": null,
   "metadata": {},
   "outputs": [],
   "source": [
    "#Question 12:\n",
    "#The following code:\n",
    "print('Mike' > \" Mikey\")\n",
    "#prints:\n",
    "#1. 0\n",
    "#2. 1\n",
    "#3. True\n",
    "#4. False"
   ]
  },
  {
   "cell_type": "markdown",
   "metadata": {},
   "source": [
    "Question 13:\n",
    "Which of the following are examples of Python built-in concrete exceptions?(Select two answers)\n",
    "1. ArithemticError\n",
    "2. IndexError\n",
    "3. BaseException\n",
    "4. ImportError"
   ]
  },
  {
   "cell_type": "code",
   "execution_count": null,
   "metadata": {},
   "outputs": [],
   "source": [
    "#Question 14:\n",
    "#The following code:\n",
    "print(chr(ord('z') - 2))\n",
    "prints:\n",
    "#1. z\n",
    "#2. y\n",
    "#3. a\n",
    "#4. x"
   ]
  },
  {
   "cell_type": "code",
   "execution_count": null,
   "metadata": {},
   "outputs": [],
   "source": [
    "#Question 15:\n",
    "\n",
    "#The following code:\n",
    "x  = '\\' '\n",
    "print(len(x))\n",
    "#prints:\n",
    "#1. 3\n",
    "#2. 2\n",
    "#3. 20\n",
    "#4. 1"
   ]
  },
  {
   "cell_type": "markdown",
   "metadata": {},
   "source": [
    "### Handling exceptions and list comprehension"
   ]
  },
  {
   "cell_type": "code",
   "execution_count": null,
   "metadata": {},
   "outputs": [],
   "source": [
    "new_list=[variable_name  <for loop>  <if-condition>]"
   ]
  },
  {
   "cell_type": "markdown",
   "metadata": {},
   "source": [
    "1) Handling ZeroDivisionError\n",
    "\n",
    "Consider two lists (list1, list2) that contain integers. Now a new list (list3) is required to be formed by dividing the list1 elements by list2 elements. It can be formulated as given below.\n",
    "\n",
    "list3 [i] = list1 [i] / list2 [i]\n",
    "On diving the elements by 0, error raises. This exception should be caught and the error message should be displayed. This can be achieved by writing a utility function as given in the coding snippet below."
   ]
  },
  {
   "cell_type": "code",
   "execution_count": null,
   "metadata": {},
   "outputs": [],
   "source": [
    "list1 = [2, 6, 41, 1, 58, 33, -7, 90]\n",
    "list2 = [1, 3, 2, 0, 6, 3, 7, 0]\n",
    "\n",
    "\n",
    "def util_func(a, b):\n",
    "    try:\n",
    "        return round(a/b, 3)\n",
    "    except ZeroDivisionError as e:\n",
    "        print(\"Division by zero not permitted!!!\")\n",
    "\n",
    "\n",
    "list3 = [util_func(x, y) for x, y in zip(list1, list2)]\n",
    "\n",
    "print(list3)\n"
   ]
  },
  {
   "cell_type": "markdown",
   "metadata": {},
   "source": [
    "2) Handling ValueError\n",
    "\n",
    "Consider a list that contains integers, integers in string format, and also words put together. Now a new list is required to be formed by taking the numerals (which is in the string and int format) alone and squaring them up. But here the string values need to just skip and no error message is required to be printed."
   ]
  },
  {
   "cell_type": "code",
   "execution_count": null,
   "metadata": {},
   "outputs": [],
   "source": [
    "li = ['10', '11', 7, 'abc', 'cats', 3, '5']\n",
    "\n",
    "# helper function\n",
    "def util_func(a):\n",
    "    try:\n",
    "        return int(a)*int(a)\n",
    "    except ValueError:\n",
    "    pass\n",
    "\n",
    "\n",
    "# list comprehension\n",
    "new_li = [util_func(x) for x in li]\n",
    "\n",
    "print(new_li)\n"
   ]
  },
  {
   "cell_type": "markdown",
   "metadata": {},
   "source": [
    "### User-defined exception handling\n",
    "The user-defined exceptions can be anything like the value should be in a specified range or the value should be divisible by some number or anything else. For this, a class that inherits the built-in Exception class has to be constructed. Then the exception can be checked with the use of helper function. Consider the below examples.\n",
    "\n",
    "Example 1: Consider a list of integers [2,43,56,-78,12,51,-29,17,-24]. The task is to pick out the integers that are divisible by 2 and form a new list. For the non-divisible numbers, the number should be printed with an error message."
   ]
  },
  {
   "cell_type": "code",
   "execution_count": null,
   "metadata": {},
   "outputs": [],
   "source": [
    "# class for user-defined exception handling\n",
    "class error(Exception):\n",
    "    def __init__(self, a):\n",
    "        self.msg = \"The number \"+str(a)+\" is not divisible by 2!!\"\n",
    "\n",
    "# helper function\n",
    "def util_func(a):\n",
    "    try:\n",
    "        if a % 2 != 0:\n",
    "            raise error(a)\n",
    "        return(a)\n",
    "    except error as e:\n",
    "        print(e.msg)\n",
    "\n",
    "\n",
    "# input list\n",
    "li = [2, 43, 56, -78, 12, 51, -29, 17, -24]\n",
    "\n",
    "# list comprehension to choose numbers\n",
    "# divisible by 2\n",
    "new_li = [util_func(x) for x in li]\n",
    "\n",
    "print(\"\\nThe new list has :\", new_li)\n"
   ]
  },
  {
   "cell_type": "markdown",
   "metadata": {},
   "source": [
    "### Example 2: \n",
    "Form a new list from the existing one such that the selected values are between 10 and 20."
   ]
  },
  {
   "cell_type": "code",
   "execution_count": null,
   "metadata": {},
   "outputs": [],
   "source": [
    "# class for user-defined exception handling\n",
    "class error(Exception):\n",
    "    def __init__(self, a):\n",
    "        self.msg = \"The number \"+str(a)+\" is not in range!!!\"\n",
    "\n",
    "# helper function\n",
    "def util_func(a):\n",
    "    try:\n",
    "        if a < 10 or a > 20:\n",
    "            raise error(a)\n",
    "        return(a)\n",
    "    except error as e:\n",
    "        print(e.msg)\n",
    "        return 0\n",
    "\n",
    "\n",
    "# input list\n",
    "li = [11, 16, 43, 89, 10, 14, 1, 43, 12, 21]\n",
    "\n",
    "# list comprehension to choose numbers\n",
    "# in range 10 to 20\n",
    "new_li = [util_func(x) for x in li]\n",
    "\n",
    "print(\"\\nThe new list has :\", new_li)\n"
   ]
  },
  {
   "cell_type": "code",
   "execution_count": null,
   "metadata": {},
   "outputs": [],
   "source": []
  },
  {
   "cell_type": "code",
   "execution_count": null,
   "metadata": {},
   "outputs": [],
   "source": []
  },
  {
   "cell_type": "markdown",
   "metadata": {},
   "source": [
    "# Section 3: Strings (18%)\n",
    "\n",
    "## Objectives covered by the block (8 exam items)\n",
    "1. Characters, strings and coding standards; Strings vs. lists – similarities and differences; \n",
    "2. Lists methods; String methods;\n",
    "\n",
    "\n",
    "### PCAP-31-03 3.1 – Understand machine representation of characters\n",
    "\n",
    "encoding standards: ASCII, UNICODE, UTF-8, code points, escape sequences\n",
    "\n",
    "### PCAP-31-03 3.2 – Operate on strings\n",
    "\n",
    "functions: ord(), chr()\n",
    "indexing, slicing, immutability\n",
    "iterating through strings, concatenating, multiplying, comparing (against strings and numbers)\n",
    "operators: in, not in\n",
    "\n",
    "### PCAP-31-03 3.3 – Employ built-in string methods\n",
    "\n",
    "methods: .isxxx(), .join(), .split(), .sort(), sorted(), .index(), .find(), .rfind()"
   ]
  },
  {
   "cell_type": "markdown",
   "metadata": {},
   "source": [
    "1. Computers store characters as numbers. There is more than one possible way of encoding characters, but only some of them gained worldwide popularity and are commonly used in IT: these are ASCII (used mainly to encode the Latin alphabet and some of its derivates) and UNICODE (able to encode virtually all alphabets being used by humans).\n",
    "\n",
    "\n",
    "2. A number corresponding to a particular character is called a codepoint.\n",
    "\n",
    "\n",
    "3. UNICODE uses different ways of encoding when it comes to storing the characters using files or computer memory: two of them are UCS-4 and UTF-8 (the latter is the most common as it wastes less memory space)."
   ]
  },
  {
   "cell_type": "markdown",
   "metadata": {},
   "source": [
    "1. Code points and code pages\n",
    "2. We need a new term now: a code point.\n",
    "3. A code point is a number which makes a character. For example, 32 is a code point which makes a space in ASCII encoding. We can say that standard ASCII code consists of 128 code points.\n",
    "4. As standard ASCII occupies 128 out of 256 possible code points, you can only make use of the remaining 128.\n",
    "5. It's not enough for all possible languages, but it may be sufficient for one language, or for a small group of similar languages.\n",
    "6. Can you set the higher half of the code points differently for different languages? Yes, you can. Such a concept is called a code page.\n",
    "7. A code page is a standard for using the upper 128 code points to store specific national characters. For example, there are different code pages for Western Europe and Eastern Europe, Cyrillic and Greek alphabets, Arabic and Hebrew languages, and so on.\n",
    "8. This means that the one and same code point can make different characters when used in different code pages.\n",
    "9. For example, the code point 200 makes Č (a letter used by some Slavic languages) when utilized by the ISO/IEC 8859-2 code page, and makes Ш (a Cyrillic letter) when used by the ISO/IEC 8859-5 code page.\n",
    "10. In consequence, to determine the meaning of a specific code point, you have to know the target code page.\n",
    "11. vIn other words, the code points derived from the code page concept are ambiguous.\n",
    "Unicode\n",
    "12. Code pages helped the computer industry to solve I18N issues for some time, but it soon turned out that they would not be a permanent solution.\n",
    "13. The concept that solved the problem in the long term was Unicode.\n",
    " \n",
    "\n",
    "\n",
    "14. Unicode assigns unique (unambiguous) characters (letters, hyphens, ideograms, etc.) to more than a million code points. The first 128 Unicode code points are identical to ASCII, and the first 256 Unicode code points are identical to the ISO/IEC 8859-1 code page (a code page designed for western European languages).\n",
    "UCS-4\n",
    "15. The Unicode standard says nothing about how to code and store the characters in the memory and files. It only names all available characters and assigns them to planes (a group of characters of similar origin, application, or nature).\n",
    " \n",
    "\n",
    "\n",
    "16. There is more than one standard describing the techniques used to implement Unicode in actual computers and computer storage systems. The most general of them is UCS-4.\n",
    "17. The name comes from Universal Character Set.\n",
    "18. UCS-4 uses 32 bits (four bytes) to store each character, and the code is just the Unicode code points' unique number. A file containing UCS-4 encoded text may start with a BOM (byte order mark), an unprintable combination of bits announcing the nature of the file's contents. Some utilities may require it.\n",
    "\n",
    "\n",
    "\n",
    "\n",
    "19. As you can see, UCS-4 is a rather wasteful standard - it increases a text's size by four times compared to standard ASCII. Fortunately, there are smarter forms of encoding Unicode texts.\n",
    "UTF-8\n",
    "20. One of the most commonly used is UTF-8.\n",
    "21. The name is derived from Unicode Transformation Format.\n",
    "23. The concept is very smart. UTF-8 uses as many bits for each of the code points as it really needs to represent them.\n",
    " \n",
    "\n",
    "\n",
    "24. For example:\n",
    "•\tall Latin characters (and all standard ASCII characters) occupy eight bits;\n",
    "•\tnon-Latin characters occupy 16 bits;\n",
    "•\tCJK (China-Japan-Korea) ideographs occupy 24 bits.\n",
    "25. Due to features of the method used by UTF-8 to store the code points, there is no need to use the BOM, but some of the tools look for it when reading the file, and many editors set it up during the save.\n",
    "26. Python 3 fully supports Unicode and UTF-8:\n",
    "•\tyou can use Unicode/UTF-8 encoded characters to name variables and other entities;\n",
    "•\tyou can use them during all input and output.\n",
    "27. This means that Python3 is completely I18Ned.\n"
   ]
  },
  {
   "cell_type": "markdown",
   "metadata": {},
   "source": [
    "Exercise 1\n",
    "\n",
    "What is BOM?\n",
    "\n",
    "Answer:\n",
    "\n",
    "BOM (Byte Order Mark) is a special combination of bits announcing encoding used by a file's content (eg. UCS-4 or UTF-B)."
   ]
  },
  {
   "cell_type": "markdown",
   "metadata": {},
   "source": [
    "Exercise 2\n",
    "\n",
    "Is Python 3 I18Ned?\n",
    "\n",
    "Answer:\n",
    "\n",
    "Yes, it's completely internationalized - we can use UNICODE characters inside our code, read them from input and send to output."
   ]
  },
  {
   "cell_type": "markdown",
   "metadata": {},
   "source": [
    "What is a Code Point?\n",
    "A number representing a Character for example space is 32(code point) a is 65 and A is 97"
   ]
  },
  {
   "cell_type": "markdown",
   "metadata": {},
   "source": [
    "What does ACSII mean? short for American Standard Code for Information Interchange"
   ]
  },
  {
   "cell_type": "markdown",
   "metadata": {},
   "source": [
    "What is UTF 8\n",
    "UNICODE uses different ways of encoding when it comes to storing the characters using files or computer memory: two of them are UCS-4 and UTF-8 (the latter is the most common as it wastes less memory space).\n",
    "a character takes 4 bytes of storage"
   ]
  },
  {
   "cell_type": "markdown",
   "metadata": {},
   "source": [
    "UCS-4 uses 32 bits (four bytes) to store each character, and the code is just the Unicode code points' unique number. A file containing UCS-4 encoded text may start with a BOM (byte order mark), an unprintable combination of bits announcing the nature of the file's contents. Some utilities may require it."
   ]
  },
  {
   "cell_type": "markdown",
   "metadata": {},
   "source": [
    "As you can see, UCS-4 is a rather wasteful standard - it increases a text's size by four times compared to standard ASCII. Fortunately, there are smarter forms of encoding Unicode texts.\n",
    "UTF-8\n",
    "One of the most commonly used is UTF-8.\n",
    "The name is derived from Unicode Transformation Format.\n",
    "The concept is very smart. UTF-8 uses as many bits for each of the code points as it really needs to represent them.\n"
   ]
  },
  {
   "cell_type": "markdown",
   "metadata": {},
   "source": [
    "1. For example:\n",
    "2. •\tall Latin characters (and all standard ASCII characters) occupy eight bits;\n",
    "3. •\tnon-Latin characters occupy 16 bits;\n",
    "4. •\tCJK (China-Japan-Korea) ideographs occupy 24 bits.\n",
    "5. Due to features of the method used by UTF-8 to store the code points, there is no need to use the BOM, but some of the tools look for it when reading the file, and many editors set it up during the save.\n",
    "6. Python 3 fully supports Unicode and UTF-8:\n",
    "7. •\tyou can use Unicode/UTF-8 encoded characters to name variables and other entities;\n",
    "8. •\tyou can use them during all input and output.\n",
    "9. This means that Python3 is completely I18Ned.\n"
   ]
  },
  {
   "cell_type": "markdown",
   "metadata": {},
   "source": [
    "1. Computers store characters as numbers. There is more than one possible way of encoding characters, but only some of them gained worldwide popularity and are commonly used in IT: these are ASCII (used mainly to encode the Latin alphabet and some of its derivates) and UNICODE (able to encode virtually all alphabets being used by humans).\n",
    "\n",
    "\n",
    "2. A number corresponding to a particular character is called a codepoint.\n",
    "\n",
    "\n",
    "3. UNICODE uses different ways of encoding when it comes to storing the characters using files or computer memory: two of them are UCS-4 and UTF-8 (the latter is the most common as it wastes less memory space).\n",
    "\n"
   ]
  },
  {
   "cell_type": "markdown",
   "metadata": {},
   "source": [
    "Strings - a brief review\n",
    "1. Let's do a brief review of the nature of Python's strings.\n",
    "\n",
    "2. First of all, Python's strings (or simply strings, as we're not going to discuss any other language's strings) are immutable sequences.\n",
    "\n",
    "3. It's very important to note this, because it means that you should expect some familiar behavior from them.\n",
    "\n",
    "4. Let's analyze the code in the editor to understand what we're talking about:\n",
    "\n",
    "1. Take a look at Example \n",
    "   The len() function used for strings returns a number of characters contained by the arguments. \n",
    "2. The snippet outputs 2.\n",
    "3. Any string can be empty. Its length is 0 then - just like in Example 2.\n",
    "4. Don't forget that a backslash (\\) used as an escape character \n",
    "   is not included in the string's total length. The code in Example 3, therefore, outputs 3.\n",
    "Run the three example codes and check."
   ]
  },
  {
   "cell_type": "code",
   "execution_count": null,
   "metadata": {},
   "outputs": [],
   "source": [
    "# Example 1\n",
    "\n",
    "word = '\\by'\n",
    "print(len(word))\n",
    "\n"
   ]
  },
  {
   "cell_type": "code",
   "execution_count": null,
   "metadata": {},
   "outputs": [],
   "source": [
    "# Example 2\n",
    "\n",
    "empty = ''\n",
    "print(len(empty))\n"
   ]
  },
  {
   "cell_type": "code",
   "execution_count": null,
   "metadata": {},
   "outputs": [],
   "source": [
    "\n",
    "# Example 3\n",
    "\n",
    "i_am = 'I\\'m'\n",
    "#print(i_am)\n",
    "print(len(i_am))"
   ]
  },
  {
   "cell_type": "markdown",
   "metadata": {},
   "source": [
    "Multiline strings:\n",
    "\n",
    "Now is a very good moment to show you another way of specifying strings inside the Python source code. \n",
    "Note that the syntax you already know won't let you use a string occupying more than one line of text:\n",
    "\n",
    "For this reason, the code here is erroneous:"
   ]
  },
  {
   "cell_type": "code",
   "execution_count": null,
   "metadata": {},
   "outputs": [],
   "source": [
    "multiline = 'Line #1\n",
    "Line #2'\n",
    "\n",
    "print(len(multiline))"
   ]
  },
  {
   "cell_type": "markdown",
   "metadata": {},
   "source": [
    "Fortunately, for these kinds of strings, Python offers separate, convenient, and simple syntax:\n",
    "\n",
    "\n",
    "Look at the code in the Cell below. This is what it looks like:"
   ]
  },
  {
   "cell_type": "code",
   "execution_count": null,
   "metadata": {},
   "outputs": [],
   "source": [
    "multiline = '''Line #1\n",
    "Line #2'''\n",
    "\n",
    "print(len(multiline))\n"
   ]
  },
  {
   "cell_type": "markdown",
   "metadata": {},
   "source": [
    "1. As you can see, the string starts with three apostrophes, not one. The same tripled apostrophe is used \n",
    "to terminate it.\n",
    "\n",
    "2. The number of text lines put inside such a string is arbitrary.\n",
    "\n",
    "3. The snippet outputs 15.\n",
    "\n",
    "3. Count the characters carefully. Is this result correct or not? It looks okay at first glance, \n",
    "   but when you count the characters, it doesn't.\n",
    "\n",
    "4. Line #1 contains seven characters. Two such lines comprise 14 characters. \n",
    "   Did we lose a character? Where? How?\n",
    "\n",
    "5. No, we didn't.\n",
    "\n",
    "6. The missing character is simply invisible - it's a whitespace. \n",
    "   It's located between the two text lines.\n",
    "\n",
    "7. It's denoted as: \\n.\n",
    "\n",
    "8. Do you remember? It's a special (control) character used to force a line feed \n",
    "   (hence its name: LF). You can't see it, but it counts.\n",
    "\n",
    "9. The multiline strings can be delimited by triple quotes, too, just like here:"
   ]
  },
  {
   "cell_type": "markdown",
   "metadata": {},
   "source": [
    "Operations on strings\n",
    "Like other kinds of data, strings have their own set of permissible operations, \n",
    "although they're rather limited compared to numbers:\n",
    "\n",
    "In general, strings can be:\n",
    "\n",
    "1. concatenated (joined)\n",
    "2. replicated.\n",
    "\n",
    "1. The first operation is performed by the + operator (note: it's not an addition)\n",
    "2. while the second by the * operator (note again: it's not a multiplication).\n",
    "\n",
    "The ability to use the same operator against completely different kinds of data \n",
    "(like numbers vs. strings) is called overloading (as such an operator is overloaded with different duties).\n",
    "\n",
    "Analyze the example:\n",
    "\n",
    "1. The + operator used against two or more strings produces a new string \n",
    "   containing all the characters from its arguments (note: the order matters - this overloaded +, \n",
    "   in contrast to its numerical version, is not commutative)\n",
    "2. the * operator needs a string and a number as arguments; \n",
    "   in this case, the order doesn't matter - you can put the number before the string, or vice versa, \n",
    "   the result will be the same - a new string created by the nth replication of the argument's string.\n",
    "3. The snippet produces the following output: Run the code below:\n"
   ]
  },
  {
   "cell_type": "code",
   "execution_count": null,
   "metadata": {},
   "outputs": [],
   "source": [
    "str1 = 'a'\n",
    "str2 = 'b'\n",
    "\n",
    "print(str1 + str2)\n",
    "print(str2 + str1)\n",
    "print(5 * 'a')\n",
    "print('b' * 4)\n"
   ]
  },
  {
   "cell_type": "markdown",
   "metadata": {},
   "source": [
    "1. Operations on strings: ord()\n",
    "If you want to know a specific character's ASCII/UNICODE code point value, \n",
    "you can use a function named ord() (as in ordinal).\n",
    "\n",
    "2. The function needs a one-character string as its argument - breaching this requirement causes a TypeError exception, and returns a number representing the argument's code point.\n",
    "\n",
    "3. Look at the code in the editor, and run it. The snippet outputs:"
   ]
  },
  {
   "cell_type": "code",
   "execution_count": null,
   "metadata": {},
   "outputs": [],
   "source": [
    "# Demonstrating the ord() function.\n",
    "\n",
    "char_1 = 'a'\n",
    "char_2 = 'A'  \n",
    "char_3 = ' ' # space\n",
    "print(ord(char_1))\n",
    "print(ord(char_2))\n",
    "print(ord(char_3))"
   ]
  },
  {
   "cell_type": "code",
   "execution_count": null,
   "metadata": {},
   "outputs": [],
   "source": [
    "print(chr(97)) #number is the code point, chr() is the character\n",
    "print(chr(32)) \n",
    "print(chr(65))"
   ]
  },
  {
   "cell_type": "markdown",
   "metadata": {},
   "source": [
    "1. Now assign different values to char_1 and char_2, e.g., α (Greek alpha), \n",
    "2. and ę (a letter in the Polish alphabet); then run the code and see what result it outputs. \n",
    "3. Carry out your own experiments."
   ]
  },
  {
   "cell_type": "code",
   "execution_count": null,
   "metadata": {},
   "outputs": [],
   "source": [
    "# Demonstrating the ord() function.\n",
    "\n",
    "char_1 = 'α' #Greek alpha\n",
    "char_2 = 'ę'  # a letter in the Polish alphabet\n",
    "\n",
    "print(ord(char_1))\n",
    "print(ord(char_2))\n",
    "#print(ord(A))\n"
   ]
  },
  {
   "cell_type": "markdown",
   "metadata": {},
   "source": [
    "1. Operations on strings: chr()\n",
    "2.  If you know the code point (number) and want to get the corresponding character, \n",
    "you can use a function named chr().see the code in first cell below.\n",
    "3. The function takes a code point and returns its character.\n",
    "\n",
    "4. Invoking it with an invalid argument (e.g., a negative or invalid code point) \n",
    "   causes ValueError or TypeError exceptions.\n",
    "\n",
    "5. Run the code in the cell below. The example snippet outputs:"
   ]
  },
  {
   "cell_type": "code",
   "execution_count": null,
   "metadata": {},
   "outputs": [],
   "source": [
    "print(chr(945))\n",
    "print(chr(281))"
   ]
  },
  {
   "cell_type": "code",
   "execution_count": null,
   "metadata": {},
   "outputs": [],
   "source": [
    "# Demonstrating the chr() function.\n",
    "x = 'a'\n",
    "y = 'A'\n",
    "#print(ord(x))#returns an int\n",
    "#print(ord(y))\n",
    "#Note:\n",
    "\n",
    "#chr(ord(x)) == x #returns true\n",
    "#ord(chr(x)) == x #TypeError\n",
    "#Again, run your own experiments.\n",
    "#ord(x) == x returns a false\n",
    "#chr(x) == x #TypeError: 'str' object cannot be interpreted as an integer"
   ]
  },
  {
   "cell_type": "markdown",
   "metadata": {},
   "source": [
    "1. Strings as sequences: indexing\n",
    "2. We told you before that Python strings are sequences. It's time to show you what that actually means.\n",
    "\n",
    "3. Strings aren't lists, but you can treat them like lists in many particular cases.\n",
    "\n",
    "4. For example, if you want to access any of a string's characters, you can do it using indexing, \n",
    "   just like in the example below. Run the program:"
   ]
  },
  {
   "cell_type": "code",
   "execution_count": null,
   "metadata": {},
   "outputs": [],
   "source": [
    "# Indexing strings.\n",
    "\n",
    "the_string = 'silly walks'\n",
    "\n",
    "for ix in range(len(the_string)):\n",
    "    print(the_string[ix], end=' ')\n",
    "\n",
    "print()\n",
    "\n",
    "#Be careful - don't try to pass a string's boundaries - it will cause an exception."
   ]
  },
  {
   "cell_type": "markdown",
   "metadata": {},
   "source": [
    "1. Strings as sequences: iterating\n",
    "2. Iterating through the strings works, too. Look at the example below:"
   ]
  },
  {
   "cell_type": "code",
   "execution_count": null,
   "metadata": {},
   "outputs": [],
   "source": [
    "# Iterating through a string.\n",
    "\n",
    "the_string = 'silly walks'\n",
    "\n",
    "for character in the_string:\n",
    "    print(character, end=' ')\n",
    "\n",
    "print()\n",
    "#The output is the same as previously. Check.\n"
   ]
  },
  {
   "cell_type": "markdown",
   "metadata": {},
   "source": [
    "1. Slices\n",
    "2. Moreover, everything you know about slices is still usable.\n",
    "\n",
    "3. We've gathered some examples showing how slices work in the string world. \n",
    "4. Look at the code in the editor, analyze it, and run it.\n",
    "\n",
    "5. You won't see anything new in the example, but we want you to be sure that you can explain \n",
    "   all the lines of the code."
   ]
  },
  {
   "cell_type": "code",
   "execution_count": null,
   "metadata": {},
   "outputs": [],
   "source": [
    "# Slices\n",
    "\n",
    "alpha = \"abdefg\"\n",
    "\n",
    "print(alpha[1:3]) #start at 1 and take everything up to not including 3\n",
    "print(alpha[3:]) #start at 3 and take everything after\n",
    "print(alpha[:3]) #start at default 0 and take everything up to not including 3\n",
    "print(alpha[3:-2]) #start at 3 take everything up to not including -2\n",
    "print(alpha[-3:4]) #start at -3 take everything to -4 same as above.\n",
    "print(alpha[::2]) #depending on the position of the :, in this case the 2 is in the step position\n",
    "print(alpha[1::2]) # two is in steps and the start is at 1 and end is not specified so default 0\n"
   ]
  },
  {
   "cell_type": "markdown",
   "metadata": {},
   "source": [
    "1. The in and not in operators\n",
    "2. The in operator\n",
    "\n",
    "1. The in operator shouldn't surprise you when applied to strings - \n",
    "   it simply checks if its left argument (a string) can be found anywhere within the right argument \n",
    "   (another string).\n",
    "\n",
    "2. The result of the check is simply True or False.\n",
    "\n",
    "Look at the example program below. This is how the in operator works:"
   ]
  },
  {
   "cell_type": "code",
   "execution_count": null,
   "metadata": {},
   "outputs": [],
   "source": [
    "alphabet = \"abcdefghijklmnopqrstuvwxyz\"\n",
    "\n",
    "print(\"f\" in alphabet)\n",
    "print(\"F\" in alphabet)\n",
    "print(\"1\" in alphabet)\n",
    "print(\"ghi\" in alphabet)\n",
    "print(\"Xyz\" in alphabet)\n",
    "\n"
   ]
  },
  {
   "cell_type": "markdown",
   "metadata": {},
   "source": [
    "1. The not in operator\n",
    "\n",
    "2. As you probably suspect, the not in operator is also applicable here.\n",
    "\n",
    "This is how it works:"
   ]
  },
  {
   "cell_type": "code",
   "execution_count": null,
   "metadata": {},
   "outputs": [],
   "source": [
    "alphabet = \"abcdefghijklmnopqrstuvwxyz\"\n",
    "\n",
    "print(\"f\" not in alphabet)\n",
    "print(\"F\" not in alphabet)\n",
    "print(\"1\" not in alphabet)\n",
    "print(\"ghi\" not in alphabet)\n",
    "print(\"Xyz\" not in alphabet)\n",
    "\n"
   ]
  },
  {
   "cell_type": "markdown",
   "metadata": {},
   "source": [
    "1. Python strings are immutable\n",
    "2. We've also told you that Python's strings are immutable. \n",
    "   This is a very important feature. What does it mean?\n",
    "\n",
    "3. This primarily means that the similarity of strings and lists is limited. \n",
    "   Not everything you can do with a list may be done with a string.\n",
    "\n",
    "3. The first important difference doesn't allow you to use the del instruction to remove anything \n",
    "   from a string.\n",
    "\n",
    "The example here won't work:"
   ]
  },
  {
   "cell_type": "code",
   "execution_count": null,
   "metadata": {},
   "outputs": [],
   "source": [
    "alphabet = \"abcdefghijklmnopqrstuvwxyz\"\n",
    "del alphabet[0]"
   ]
  },
  {
   "cell_type": "markdown",
   "metadata": {},
   "source": [
    "1. The only thing you can do with del and a string is to remove the string as a whole. Try to do it.\n",
    "\n",
    "\n",
    "2. Python strings don't have the append() method - you cannot expand them in any way.\n",
    "\n",
    "3. The example below is erroneous:"
   ]
  },
  {
   "cell_type": "code",
   "execution_count": null,
   "metadata": {},
   "outputs": [],
   "source": [
    "alphabet = \"abcdefghijklmnopqrstuvwxyz\"\n",
    "alphabet.append(\"A\")"
   ]
  },
  {
   "cell_type": "code",
   "execution_count": null,
   "metadata": {},
   "outputs": [],
   "source": [
    "#with the absence of the append() method, the insert() method is illegal, too:\n",
    "\n",
    "alphabet = \"abcdefghijklmnopqrstuvwxyz\"\n",
    "alphabet.insert(0, \"A\")"
   ]
  },
  {
   "cell_type": "code",
   "execution_count": null,
   "metadata": {},
   "outputs": [],
   "source": [
    "alphabet = \"abcdefghijklmnopqrstuvwxyz\"\n",
    "\n",
    "# Write test code here.\n"
   ]
  },
  {
   "cell_type": "markdown",
   "metadata": {},
   "source": [
    "Operations on strings: continued:\n",
    "\n",
    "1. Don't think that a string's immutability limits your ability to operate with strings.\n",
    "\n",
    "2. The only consequence is that you have to remember about it, and implement your code in a \n",
    "   slightly different way - look at the example code in the editor.\n",
    "\n",
    "3. This form of code is fully acceptable, will work without bending Python's rules, \n",
    "   and will bring the full Latin alphabet to your screen:"
   ]
  },
  {
   "cell_type": "code",
   "execution_count": null,
   "metadata": {},
   "outputs": [],
   "source": [
    "abcdefghijklmnopqrstuvwxyz\n",
    "#You may want to ask if creating a new copy of a string each time you modify \n",
    "# its contents worsens the effectiveness of the code.\n",
    "\n",
    "#Yes, it does. A bit. It's not a problem at all, though."
   ]
  },
  {
   "cell_type": "code",
   "execution_count": null,
   "metadata": {},
   "outputs": [],
   "source": [
    "alphabet = \"bcdefghijklmnopqrstuvwxy\"\n",
    "\n",
    "alphabet = \"a\" + alphabet\n",
    "alphabet = alphabet + \"z\"\n",
    "\n",
    "print(alphabet)\n"
   ]
  },
  {
   "cell_type": "markdown",
   "metadata": {},
   "source": [
    "1. Operations on strings: min()\n",
    "2. Now that you understand that strings are sequences, we can show you some less obvious \n",
    "   sequence capabilities. We'll present them using strings, but don't forget that \n",
    "   lists can adopt the same tricks, too.\n",
    "\n",
    "1. Let's start with a function named min().\n",
    "\n",
    "2. The function finds the minimum element of the sequence passed as an argument. \n",
    "3. There is one condition - the sequence (string, list, it doesn't matter) cannot be empty, \n",
    "    or else you'll get a ValueError exception:\n",
    "\n",
    "The Example 1 program outputs:"
   ]
  },
  {
   "cell_type": "code",
   "execution_count": null,
   "metadata": {},
   "outputs": [],
   "source": [
    "# Demonstrating min() - Example 1:\n",
    "print(min(\"aAbByYzZ\"))\n",
    "\n"
   ]
  },
  {
   "cell_type": "code",
   "execution_count": null,
   "metadata": {},
   "outputs": [],
   "source": [
    "# Demonstrating min() - Examples 2 & 3:\n",
    "t = 'The Knights Who Say \"Ni!\"'\n",
    "print('[' + min(t) + ']')"
   ]
  },
  {
   "cell_type": "markdown",
   "metadata": {},
   "source": [
    "1. Note: It's an upper-case A. Why? Recall the ASCII table - \n",
    "   which letters occupy first locations - upper or lower?\n",
    "\n",
    "2. We've prepared two more examples to analyze: Examples 2 & 3.\n",
    "\n",
    "3. As you can see, they present more than just strings. Check the three samples:"
   ]
  },
  {
   "cell_type": "markdown",
   "metadata": {},
   "source": [
    "Note: we've used the square brackets to prevent the space from being overlooked on your screen."
   ]
  },
  {
   "cell_type": "code",
   "execution_count": null,
   "metadata": {},
   "outputs": [],
   "source": [
    "#Example 3\n",
    "t = [0, 1, 2]\n",
    "print(min(t))"
   ]
  },
  {
   "cell_type": "markdown",
   "metadata": {},
   "source": [
    "1. Operations on strings: max()\n",
    "2. Similarly, a function named max() finds the maximum element of the sequence.\n",
    "\n",
    "3. Look at Example 1 in the editor below. The example program outputs:\n",
    "\n",
    "z\n",
    "\n",
    "\n",
    "Note: It's a lower-case z.\n",
    "\n",
    "1. Now let's see the max() function applied to the same data as previously. \n",
    "2. Look at Examples 2 & 3 in the editor.\n",
    "\n",
    "The expected output is:\n",
    "\n",
    "1. [y]\n",
    "2. 2\n",
    "\n",
    "\n",
    "Carry out your own experiments."
   ]
  },
  {
   "cell_type": "code",
   "execution_count": null,
   "metadata": {},
   "outputs": [],
   "source": [
    "# Demonstrating max() - Example 1:\n",
    "print(max(\"aAbByYzZ\"))\n",
    "\n",
    "\n",
    "\n"
   ]
  },
  {
   "cell_type": "code",
   "execution_count": null,
   "metadata": {},
   "outputs": [],
   "source": [
    "# Demonstrating max() - Examples 2 & 3:\n",
    "t = 'The Knights Who Say \"Ni!\"'\n",
    "print('[' + max(t) + ']')\n",
    "\n",
    "t = [0, 1, 2]\n",
    "print(max(t))\n",
    "print(min(t))"
   ]
  },
  {
   "cell_type": "markdown",
   "metadata": {},
   "source": [
    "1. Operations on strings: the index() method\n",
    "2. The index() method (it's a method, not a function) searches the sequence from the beginning, \n",
    "   in order to find the first element of the value specified in its argument.\n",
    "\n",
    "Note: the element searched for must occur in the sequence - its absence will cause a ValueError exception.\n",
    "\n",
    "1. The method returns the index of the first occurrence of the argument \n",
    "   (which means that the lowest possible result is 0, while the highest is the length of argument \n",
    "   decremented by 1).\n",
    "\n",
    "2. Therefore, the example in the editor outputs:\n",
    "\n",
    "2\n",
    "7\n",
    "1"
   ]
  },
  {
   "cell_type": "code",
   "execution_count": null,
   "metadata": {},
   "outputs": [],
   "source": [
    "# Demonstrating the index() method:\n",
    "print(\"aAbByYzZaA\".index(\"b\"))\n",
    "print(\"aAbByYzZaA\".index(\"Z\"))\n",
    "print(\"aAbByYzZaA\".index(\"A\"))\n"
   ]
  },
  {
   "cell_type": "markdown",
   "metadata": {},
   "source": [
    "1. Operations on strings: the list() function\n",
    "2. The list() function takes its argument (a string) and creates a new list containing all the string's characters, one per list element.\n",
    "\n",
    "3. Note: it's not strictly a string function - list() is able to create a new list from many other entities (e.g., from tuples and dictionaries).\n",
    "\n",
    "4. Take a look at the code example in the editor."
   ]
  },
  {
   "cell_type": "code",
   "execution_count": null,
   "metadata": {},
   "outputs": [],
   "source": [
    "# Demonstrating the list() function:\n",
    "print(list(\"abcabc\"))"
   ]
  },
  {
   "cell_type": "markdown",
   "metadata": {},
   "source": [
    "1. Operations on strings: the count() method\n",
    "2. The count() method counts all occurrences of the element inside the sequence. The absence of such elements doesn't cause any problems.\n",
    "\n",
    "3. Look at the second example in the editor. Can you guess its output?"
   ]
  },
  {
   "cell_type": "code",
   "execution_count": null,
   "metadata": {},
   "outputs": [],
   "source": [
    "# Demonstrating the count() method:\n",
    "print(\"abcabc\".count(\"b\"))\n",
    "print('abcabc'.count(\"d\"))"
   ]
  },
  {
   "cell_type": "markdown",
   "metadata": {},
   "source": [
    "1. Moreover, Python strings have a significant number of methods intended exclusively for processing characters. Don't expect them to work with any other collections. The complete list of is presented here: https://docs.python.org/3.4/library/stdtypes.html#string-methods.\n",
    "\n"
   ]
  },
  {
   "cell_type": "markdown",
   "metadata": {},
   "source": [
    "Key takeaways\n",
    "\n",
    "1. Python strings are immutable sequences and can be indexed, sliced, and iterated like any other sequence, as well as being subject to the in and not in operators. There are two kinds of strings in Python:\n",
    "\n",
    "one-line strings, which cannot cross line boundaries – we denote them using either apostrophes ('string') or quotes (\"string\")\n",
    "multi-line strings, which occupy more than one line of source code, delimited by trigraphs:\n",
    "\n",
    "'''\n",
    "string\n",
    "'''\n",
    "\n",
    "\n",
    "or\n",
    "\n",
    "\"\"\"\n",
    "string\n",
    "\"\"\"\n",
    "\n",
    "2. Some other functions that can be applied to strings are:\n",
    "\n",
    "list() – create a list consisting of all the string's characters;\n",
    "max() – finds the character with the maximal codepoint;\n",
    "min() – finds the character with the minimal codepoint.\n",
    "\n",
    "3. The method named index() finds the index of a given substring inside the string."
   ]
  },
  {
   "cell_type": "markdown",
   "metadata": {},
   "source": [
    "Exercise 1\n",
    "\n",
    "1. What is the length of the following string assuming there is no whitespaces between the quotes?\n",
    "\n",
    "1. Line one: \"\"\"\n",
    "2. Line two: \"\"\"\n",
    "\n",
    "\n",
    "2. Answer\n",
    "1"
   ]
  },
  {
   "cell_type": "code",
   "execution_count": null,
   "metadata": {},
   "outputs": [],
   "source": [
    "#Exercise 2\n",
    "\n",
    "#What is the expected output of the following code?\n",
    "\n",
    "s = 'yesteryears'\n",
    "the_list = list(s)\n",
    "print(the_list[3:6])\n",
    "\n",
    "\n",
    "#answer\n",
    "#['t', 'e', 'r']\n",
    "\n"
   ]
  },
  {
   "cell_type": "code",
   "execution_count": null,
   "metadata": {},
   "outputs": [],
   "source": [
    "\n",
    "#Exercise 3\n",
    "\n",
    "#What is the expected output of the following code?\n",
    "\n",
    "for ch in \"abc\":\n",
    "    print(chr(ord(ch) + 1), end='')\n",
    "\n",
    "\n",
    "#answer\n",
    "#bcd"
   ]
  },
  {
   "cell_type": "markdown",
   "metadata": {},
   "source": [
    "1. The capitalize() method\n",
    "2. Let's go through some standard Python string methods. We're going to go through them in alphabetical order - to be honest, any order has as many disadvantages as advantages, so the choice may as well be random.\n",
    "\n",
    "3. The capitalize() method does exactly what it says - it creates a new string filled with characters taken from the source string, but it tries to modify them in the following way:\n",
    "\n",
    "4. if the first character inside the string is a letter (note: the first character is an element with an index equal to 0, not just the first visible character), it will be converted to upper-case;\n",
    "5. all remaining letters from the string will be converted to lower-case."
   ]
  },
  {
   "cell_type": "code",
   "execution_count": null,
   "metadata": {},
   "outputs": [],
   "source": [
    "print(\"Alpha\".capitalize())\n",
    "print('ALPHA'.capitalize())\n",
    "print(' Alpha'.capitalize())\n",
    "print('123'.capitalize())\n",
    "print(\"αβγδ\".capitalize())\n",
    "\n"
   ]
  },
  {
   "cell_type": "markdown",
   "metadata": {},
   "source": [
    "1. Don't forget that:\n",
    "\n",
    "2. the original string (from which the method is invoked) is not changed in any way (a string's immutability must be obeyed without reservation)\n",
    "3. the modified (capitalized in this case) string is returned as a result - if you don't use it in any way (assign it to a variable, or pass it to a function/method) it will disappear without a trace.\n",
    "4. Note: methods don't have to be invoked from within variables only. They can be invoked directly from within string literals. We're going to use that convention regularly - it will simplify the examples, as the most important aspects will not disappear among unnecessary assignments.\n",
    "\n",
    "5. Take a look at the example in the editor. Run it."
   ]
  },
  {
   "cell_type": "code",
   "execution_count": null,
   "metadata": {},
   "outputs": [],
   "source": [
    "# Demonstrating the capitalize() method:\n",
    "print('aBcD'.capitalize())\n"
   ]
  },
  {
   "cell_type": "code",
   "execution_count": null,
   "metadata": {},
   "outputs": [],
   "source": [
    "print(\"Alpha\".capitalize())\n",
    "print('ALPHA'.capitalize())\n",
    "print(' Alpha'.capitalize())\n",
    "print('123'.capitalize())\n",
    "print(\"αβγδ\".capitalize())\n",
    "\n"
   ]
  },
  {
   "cell_type": "markdown",
   "metadata": {},
   "source": [
    "1. The center() method\n",
    "2. The one-parameter variant of the center() method makes a copy of the original string, trying to center it inside a field of a specified width.\n",
    "\n",
    "3. The centering is actually done by adding some spaces before and after the string.\n",
    "\n",
    "4. Don't expect this method to demonstrate any sophisticated skills. It's rather simple.\n",
    "\n",
    "5. The example in the editor uses brackets to clearly show you where the centered string actually begins and terminates.\n",
    "\n",
    "6. Its output looks as follows:"
   ]
  },
  {
   "cell_type": "code",
   "execution_count": null,
   "metadata": {},
   "outputs": [],
   "source": [
    "# Demonstrating the center() method:\n",
    "print('[' + 'alpha'.center(10) + ']')\n"
   ]
  },
  {
   "cell_type": "code",
   "execution_count": null,
   "metadata": {},
   "outputs": [],
   "source": [
    "#If the target field's length is too small to fit the string, the original string is returned.\n",
    "\n",
    "#You can see the center() method in more examples here:\n",
    "\n",
    "print('[' + 'Beta'.center(2) + ']')\n",
    "print('[' + 'Beta'.center(4) + ']')\n",
    "print('[' + 'Beta'.center(6) + ']')\n",
    "\n",
    "\n",
    "#Run the snippets above and check what output they produce."
   ]
  },
  {
   "cell_type": "code",
   "execution_count": null,
   "metadata": {},
   "outputs": [],
   "source": [
    "#The two-parameter variant of center() makes use of the character from the second argument, \n",
    "# instead of a space. Analyze the example below:\n",
    "\n",
    "print('[' + 'gamma'.center(20, '*') + ']')\n",
    "\n",
    "\n",
    "#This is why the output now looks like this:\n",
    "\n",
    "#[*******gamma********]\n",
    "#Carry out more experiments."
   ]
  },
  {
   "cell_type": "markdown",
   "metadata": {},
   "source": [
    "1. The endswith() method\n",
    "2. The endswith() method checks if the given string ends with the specified argument and returns True or False, depending on the check result.\n",
    "\n",
    "3. Note: the substring must adhere to the string's last character - it cannot just be located somewhere near the end of the string.\n",
    "\n",
    "4. Look at our example in the editor, analyze it, and run it. It outputs:"
   ]
  },
  {
   "cell_type": "code",
   "execution_count": null,
   "metadata": {},
   "outputs": [],
   "source": [
    "# Demonstrating the endswith() method:\n",
    "if \"epsilon\".endswith(\"on\"):\n",
    "    print(\"yes\")\n",
    "else:\n",
    "    print(\"no\")\n"
   ]
  },
  {
   "cell_type": "code",
   "execution_count": null,
   "metadata": {},
   "outputs": [],
   "source": [
    "#You should now be able to predict the output of the snippet below:\n",
    "\n",
    "t = \"zeta\"\n",
    "print(t.endswith(\"a\"))\n",
    "print(t.endswith(\"A\"))\n",
    "print(t.endswith(\"et\"))\n",
    "print(t.endswith(\"eta\"))\n",
    "\n",
    "\n",
    "#Run the code to check your predictions."
   ]
  },
  {
   "cell_type": "markdown",
   "metadata": {},
   "source": [
    "1. The find() method\n",
    "2. The find() method is similar to index(), which you already know - it looks for a substring and returns the index of first occurrence of this substring, but:\n",
    "\n",
    "3. it's safer - it doesn't generate an error for an argument containing a non-existent substring (it returns -1 then)\n",
    "4. it works with strings only - don't try to apply it to any other sequence.\n",
    "5. Look at the code in the editor. This is how you can use it."
   ]
  },
  {
   "cell_type": "code",
   "execution_count": null,
   "metadata": {},
   "outputs": [],
   "source": [
    "# Demonstrating the find() method:\n",
    "print(\"Eta\".find(\"ta\"))\n",
    "print(\"Eta\".find(\"mma\"))"
   ]
  },
  {
   "cell_type": "code",
   "execution_count": null,
   "metadata": {},
   "outputs": [],
   "source": [
    "#Note: don't use find() if you only want to check \n",
    "# if a single character occurs within a string - the in operator will be significantly faster.\n",
    "\n",
    "#Here is another example:\n",
    "\n",
    "t = 'theta'\n",
    "print(t.find('eta'))\n",
    "print(t.find('et'))\n",
    "print(t.find('the'))\n",
    "print(t.find('ha'))\n",
    "\n",
    "\n",
    "#Can you predict the output? Run it and check your predictions."
   ]
  },
  {
   "cell_type": "code",
   "execution_count": null,
   "metadata": {},
   "outputs": [],
   "source": [
    "#If you want to perform the find, not from the string's beginning, \n",
    "#but from any position, you can use a two-parameter variant of the find() method. Look at the example:\n",
    "\n",
    "print('kappa'.find('a', 2))\n",
    "\n",
    "\n",
    "#The second argument specifies the index at which the search will be started \n",
    "#(it doesn't have to fit inside the string).\n",
    "\n",
    "#Among the two a letters, only the second will be found. Run the snippet and check."
   ]
  },
  {
   "cell_type": "code",
   "execution_count": null,
   "metadata": {},
   "outputs": [],
   "source": [
    "#You can use the find() method to search for all the substring's occurrences, like here:\n",
    "\n",
    "the_text = \"\"\"A variation of the ordinary lorem ipsum\n",
    "text has been used in typesetting since the 1960s \n",
    "or earlier, when it was popularized by advertisements \n",
    "for Letraset transfer sheets. It was introduced to \n",
    "the Information Age in the mid-1980s by the Aldus Corporation, \n",
    "which employed it in graphics and word-processing templates\n",
    "for its desktop publishing program PageMaker (from Wikipedia)\"\"\"\n",
    "\n",
    "fnd = the_text.find('the')\n",
    "while fnd != -1:\n",
    "    print(fnd)\n",
    "    fnd = the_text.find('the', fnd + 1)\n",
    "    #The code prints the indices of all occurrences of the article the"
   ]
  },
  {
   "cell_type": "code",
   "execution_count": null,
   "metadata": {},
   "outputs": [],
   "source": [
    "#There is also a three-parameter mutation of the find() method - the third argument points to the first \n",
    "#index which won't be taken into consideration during the search \n",
    "# (it's actually the upper limit of the search).\n",
    "\n",
    "#Look at our example below:\n",
    "\n",
    "print('kappa'.find('a', 1, 4))\n",
    "print('kappa'.find('a', 2, 4))\n",
    "\n",
    "\n",
    "#The second argument specifies the index at which the search will be started \n",
    "# (it doesn't have to fit inside the string).\n",
    "#NOTE THE -1 (a cannot be found within the given search boundaries in the second print()."
   ]
  },
  {
   "cell_type": "markdown",
   "metadata": {},
   "source": [
    "1. The isalnum() method\n",
    "2. The parameterless method named isalnum() checks if the string contains only digits or alphabetical characters (letters), and returns True or False according to the result.\n",
    "\n",
    "3. Look at the example in the editor and run it.\n",
    "\n",
    "4. Note: any string element that is not a digit or a letter causes the method to return False. An empty string does, too.\n",
    "\n",
    "5. The example output is:"
   ]
  },
  {
   "cell_type": "code",
   "execution_count": null,
   "metadata": {},
   "outputs": [],
   "source": [
    "# Demonstrating the isalnum() method:\n",
    "print('lambda30'.isalnum())\n",
    "print('lambda'.isalnum())\n",
    "print('30'.isalnum())\n",
    "print('@'.isalnum())\n",
    "print('lambda_30'.isalnum())\n",
    "print(''.isalnum())\n"
   ]
  },
  {
   "cell_type": "code",
   "execution_count": null,
   "metadata": {},
   "outputs": [],
   "source": [
    "#Three more intriguing examples are here:\n",
    "\n",
    "t = 'Six lambdas'\n",
    "print(t.isalnum())\n",
    "\n",
    "t = 'ΑβΓδ'\n",
    "print(t.isalnum())\n",
    "\n",
    "t = '20E1'\n",
    "print(t.isalnum())\n",
    "\n",
    "\n",
    "#Run them and check their output.\n",
    "\n",
    "#Hint: the cause of the first result is a space - it's neither a digit nor a letter."
   ]
  },
  {
   "cell_type": "markdown",
   "metadata": {},
   "source": [
    "1. The isalpha() method\n",
    "2. The isalpha() method is more specialized - it's interested in letters only.\n",
    "\n",
    "3. Look at Example 1 - its output is:\n",
    "\n",
    "True\n",
    "False\n",
    "output\n",
    "\n",
    "1. The isdigit() method\n",
    "2. In turn, the isdigit() method looks at digits only - anything else produces False as the result.\n",
    "\n",
    "3. Look at Example 2 - its output is:\n",
    "\n",
    "True\n",
    "False\n",
    "output\n",
    "\n",
    "Carry out more experiments."
   ]
  },
  {
   "cell_type": "code",
   "execution_count": null,
   "metadata": {},
   "outputs": [],
   "source": [
    "# Example 1: Demonstrating the islower() method:\n",
    "print(\"Moooo\".islower())\n",
    "print('moooo'.islower())\n",
    "\n",
    "# Example 2: Demonstrating the isspace() method:\n",
    "print(' \\n '.isspace())\n",
    "print(\" \".isspace())\n",
    "print(\"mooo mooo mooo\".isspace())\n",
    "\n",
    "# Example 3: Demonstrating the isupper() method:\n",
    "print(\"Moooo\".isupper())\n",
    "print('moooo'.isupper())\n",
    "print('MOOOO'.isupper())\n"
   ]
  },
  {
   "cell_type": "code",
   "execution_count": null,
   "metadata": {},
   "outputs": [],
   "source": [
    "# Example 1: Demonstrating the isapha() method:\n",
    "print(\"Moooo\".isalpha())\n",
    "print('Mu40'.isalpha())\n",
    "\n",
    "# Example 2: Demonstrating the isdigit() method:\n",
    "print('2018'.isdigit())\n",
    "print(\"Year2019\".isdigit())\n"
   ]
  },
  {
   "cell_type": "markdown",
   "metadata": {},
   "source": [
    "1. The islower() method\n",
    "2. The islower() method is a fussy variant of isalpha() - it accepts lower-case letters only.\n",
    "\n",
    "3. Look at Example 1 in the editor - it outputs:\n",
    "\n",
    "False\n",
    "True\n",
    "output\n",
    "\n",
    "\n",
    "1. The isspace() method\n",
    "2. The isspace() method identifies whitespaces only - it disregards any other character (the result is False then).\n",
    "\n",
    "3. Look at Example 2 in the editor - the output is:\n",
    "\n",
    "True\n",
    "True\n",
    "False\n"
   ]
  },
  {
   "cell_type": "code",
   "execution_count": null,
   "metadata": {},
   "outputs": [],
   "source": [
    "# Demonstrating the join() method:\n",
    "print(\",\".join([\"omicron\", \"pi\", \"rho\"]))\n"
   ]
  },
  {
   "cell_type": "markdown",
   "metadata": {},
   "source": [
    "1. The join() method\n",
    "2. The join() method is rather complicated, so let us guide you step by step thorough it:\n",
    "\n",
    "3. as its name suggests, the method performs a join - it expects one argument as a list; it must be assured that all the list's elements are strings - the method will raise a TypeError exception otherwise;\n",
    "4. all the list's elements will be joined into one string but...\n",
    "...the string from which the method has been invoked is used as a separator, put among the strings;\n",
    "5. the newly created string is returned as a result.\n",
    "6. Take a look at the example in the editor. Let's analyze it:\n",
    "\n",
    "1. the join() method is invoked from within a string containing a comma (the string can be arbitrarily long, or it can be empty)\n",
    "2. the join's argument is a list containing three strings;\n",
    "3. the method returns a new string.\n",
    "Here it is:\n",
    "\n",
    "omicron,pi,rh"
   ]
  },
  {
   "cell_type": "code",
   "execution_count": null,
   "metadata": {},
   "outputs": [],
   "source": [
    "# Demonstrating the lower() method:\n",
    "print(\"SiGmA=60\".lower())\n"
   ]
  },
  {
   "cell_type": "markdown",
   "metadata": {},
   "source": [
    "1. The lower() method\n",
    "2. The lower() method makes a copy of a source string, replaces all upper-case letters with their lower-case counterparts, and returns the string as the result. Again, the source string remains untouched.\n",
    "\n",
    "3. If the string doesn't contain any upper-case characters, the method returns the original string.\n",
    "\n",
    "4. Note: The lower() method doesn't take any parameters.\n",
    "\n",
    "5. The example in the editor outputs:\n",
    "\n",
    "sigma=60\n",
    "output\n",
    "\n",
    "6. As usual, carry out your own experiments."
   ]
  },
  {
   "cell_type": "markdown",
   "metadata": {},
   "source": [
    "1. The lstrip() method\n",
    "2. The parameterless lstrip() method returns a newly created string formed from the original one by removing all leading whitespaces.\n",
    "\n",
    "3. Analyze the example code in the editor.\n",
    "\n",
    "4. The brackets are not a part of the result - they only show the result's boundaries.\n",
    "\n",
    "5. The example outputs:\n",
    "\n",
    "[tau ]"
   ]
  },
  {
   "cell_type": "code",
   "execution_count": null,
   "metadata": {},
   "outputs": [],
   "source": [
    "# Demonstrating the lstrip() method:\n",
    "print(\"[\" + \" tau \".lstrip() + \"]\")\n"
   ]
  },
  {
   "cell_type": "code",
   "execution_count": null,
   "metadata": {},
   "outputs": [],
   "source": [
    "#The one-parameter lstrip() method does the same as its parameterless version, \n",
    "# but removes all characters enlisted in its argument (a string), not just whitespaces:\n",
    "\n",
    "print(\"www.cisco.com\".lstrip(\"w.\"))\n",
    "#Brackets aren't needed here, as the output looks as follows:\n",
    "\n",
    "#cisco.com"
   ]
  },
  {
   "cell_type": "code",
   "execution_count": null,
   "metadata": {},
   "outputs": [],
   "source": [
    "#Can you guess the output of the snippet below? Think carefully. Run the code and check your predictions.\n",
    "\n",
    "print(\"pythoninstitute.org\".lstrip(\".org\"))\n",
    "\n",
    "\n",
    "#Surprised? Leading characters, leading whitespaces. Again, experiment with your own examples."
   ]
  },
  {
   "cell_type": "markdown",
   "metadata": {},
   "source": [
    "1. The replace() method\n",
    "2. The two-parameter replace() method returns a copy of the original string in which all occurrences of the first argument have been replaced by the second argument.\n",
    "\n",
    "3. Look at the example code in the editor. Run it."
   ]
  },
  {
   "cell_type": "code",
   "execution_count": null,
   "metadata": {},
   "outputs": [],
   "source": [
    "# Demonstrating the replace() method:\n",
    "print(\"www.netacad.com\".replace(\"netacad.com\", \"pythoninstitute.org\"))\n",
    "print(\"This is it!\".replace(\"is\", \"are\"))\n",
    "print(\"Apple juice\".replace(\"juice\", \"\"))\n"
   ]
  },
  {
   "cell_type": "markdown",
   "metadata": {},
   "source": [
    "1. If the second argument is an empty string, replacing is actually removing the first argument's string. What kind of magic happens if the first argument is an empty string?\n",
    "\n",
    "\n",
    "2. The three-parameter replace() variant uses the third argument (a number) to limit the number of replacements.\n",
    "\n",
    "3. Look at the modified example code below:"
   ]
  },
  {
   "cell_type": "code",
   "execution_count": null,
   "metadata": {},
   "outputs": [],
   "source": [
    "#the modified example code below:\n",
    "\n",
    "print(\"This is it!\".replace(\"is\", \"are\", 1))\n",
    "print(\"This is it!\".replace(\"is\", \"are\", 2))\n",
    "\n",
    "\n",
    "#Can you guess its output? Run the code and check your guesses."
   ]
  },
  {
   "cell_type": "markdown",
   "metadata": {},
   "source": [
    "1. The rfind() method\n",
    "2. The one-, two-, and three-parameter methods named rfind() do nearly the same things as their counterparts (the ones devoid of the r prefix), but start their searches from the end of the string, not the beginning (hence the prefix r, for right).\n",
    "\n",
    "3. Take a look at the example code in the editor and try to predict its output. Run the code to check if you were right."
   ]
  },
  {
   "cell_type": "code",
   "execution_count": null,
   "metadata": {},
   "outputs": [],
   "source": [
    "# Demonstrating the rfind() method:\n",
    "print(\"tau tau tau\".rfind(\"ta\"))\n",
    "print(\"tau tau tau\".rfind(\"ta\", 9))\n",
    "print(\"tau tau tau\".rfind(\"ta\", 3, 9))\n"
   ]
  },
  {
   "cell_type": "markdown",
   "metadata": {},
   "source": [
    "1. The rstrip() method\n",
    "2. Two variants of the rstrip() method do nearly the same as lstrips, but affect the opposite side of the string.\n",
    "\n",
    "3. Look at the code example in the editor. Can you guess its output? Run the code to check your guesses.\n",
    "\n",
    "As usual, you should experiment with your own examples."
   ]
  },
  {
   "cell_type": "code",
   "execution_count": null,
   "metadata": {},
   "outputs": [],
   "source": [
    "# Demonstrating the rstrip() method:\n",
    "print(\"[\" + \" upsilon \".rstrip() + \"]\")\n",
    "print(\"cisco.com\".rstrip(\".com\"))\n"
   ]
  },
  {
   "cell_type": "markdown",
   "metadata": {},
   "source": [
    "1. The split() method\n",
    "2. The split() method does what it says - it splits the string and builds a list of all detected substrings.\n",
    "\n",
    "3. The method assumes that the substrings are delimited by whitespaces - the spaces don't take part in the operation, and aren't copied into the resulting list.\n",
    "\n",
    "4. If the string is empty, the resulting list is empty too.\n",
    "\n",
    "5. Look at the code in the editor. The example produces the following output:\n",
    "\n",
    "6. ['phi', 'chi', 'psi']\n",
    "\n",
    "\n",
    "7. Note: the reverse operation can be performed by the join() method."
   ]
  },
  {
   "cell_type": "code",
   "execution_count": null,
   "metadata": {},
   "outputs": [],
   "source": [
    "# Demonstrating the split() method:\n",
    "print(\"phi       chi\\npsi\".split())\n"
   ]
  },
  {
   "cell_type": "markdown",
   "metadata": {},
   "source": [
    "1. The startswith() method\n",
    "2. The startswith() method is a mirror reflection of endswith() - it checks if a given string starts with the specified substring.\n",
    "\n",
    "3. Look at the example in the editor. This is the result from it:\n",
    "\n",
    "False\n",
    "True\n",
    "output\n",
    "\n",
    "1. The strip() method\n",
    "2. The strip() method combines the effects caused by rstrip() and lstrip() - it makes a new string lacking all the leading and trailing whitespaces.\n",
    "\n",
    "3. Look at the second example in the editor. This is the result it returns:\n",
    "\n",
    "[aleph]\n",
    "output\n",
    "\n",
    "Now carry out your own experiments with the two methods."
   ]
  },
  {
   "cell_type": "code",
   "execution_count": null,
   "metadata": {},
   "outputs": [],
   "source": [
    "# Demonstrating the startswith() method:\n",
    "print(\"omega\".startswith(\"meg\"))\n",
    "print(\"omega\".startswith(\"om\"))\n",
    "\n",
    "print()"
   ]
  },
  {
   "cell_type": "code",
   "execution_count": null,
   "metadata": {},
   "outputs": [],
   "source": [
    "# Demonstrating the strip() method:\n",
    "print(\"[\" + \"   aleph   \".strip() + \"]\")"
   ]
  },
  {
   "cell_type": "markdown",
   "metadata": {},
   "source": [
    "1. The swapcase() method\n",
    "The swapcase() method makes a new string by swapping the case of all letters within the source string: lower-case characters become upper-case, and vice versa.\n",
    "\n",
    "2. All other characters remain untouched.\n",
    "\n",
    "3. Look at the first example in the editor. Can you guess the output? It won't look good, but you must see it:\n",
    "\n",
    "i KNOW THAT i KNOW NOTHING.\n",
    "\n",
    "\n",
    "1. The title() method\n",
    "2. The title() method performs a somewhat similar function - it changes every word's first letter to upper-case, turning all other ones to lower-case.\n",
    "\n",
    "3. Look at the second example in the editor. Can you guess its output? This is the result:\n",
    "\n",
    "I Know That I Know Nothing. Part 1.\n",
    "\n",
    "\n",
    "1. The upper() method\n",
    "2. Last but not least, the upper() method makes a copy of the source string, replaces all lower-case letters with their upper-case counterparts, and returns the string as the result.\n",
    "\n",
    "3. Look at the third example in the editor. It outputs:\n",
    "\n",
    "I KNOW THAT I KNOW NOTHING. PART 2.\n",
    "\n",
    "\n",
    "\n",
    "\n"
   ]
  },
  {
   "cell_type": "code",
   "execution_count": null,
   "metadata": {},
   "outputs": [],
   "source": [
    "# Demonstrating the swapcase() method:\n",
    "print(\"I know that I know nothing.\".swapcase())\n",
    "\n",
    "print()\n",
    "\n",
    "# Demonstrating the title() method:\n",
    "print(\"I know that I know nothing. Part 1.\".title())\n",
    "\n",
    "print()\n",
    "\n",
    "# Demonstrating the upper() method:\n",
    "print(\"I know that I know nothing. Part 2.\".upper())\n"
   ]
  },
  {
   "cell_type": "markdown",
   "metadata": {},
   "source": [
    "Key takeaways\n",
    "\n",
    "1. Some of the methods offered by strings are:\n",
    "\n",
    "1. capitalize() – changes all string letters to capitals;\n",
    "2. center() – centers the string inside the field of a known length;\n",
    "3. count() – counts the occurrences of a given character;\n",
    "4. join() – joins all items of a tuple/list into one string;\n",
    "5. lower() – converts all the string's letters into lower-case letters;\n",
    "6. lstrip() – removes the white characters from the beginning of the string;\n",
    "7. replace() – replaces a given substring with another;\n",
    "8. rfind() – finds a substring starting from the end of the string;\n",
    "9. rstrip() – removes the trailing white spaces from the end of the string;\n",
    "10. split() – splits the string into a substring using a given delimiter;\n",
    "11. strip() – removes the leading and trailing white spaces;\n",
    "12. swapcase() – swaps the letters' cases (lower to upper and vice versa)\n",
    "13. title() – makes the first letter in each word upper-case;\n",
    "14. upper() – converts all the string's letter into upper-case letters.\n",
    "\n",
    "2. String content can be determined using the following methods (all of them return Boolean values):\n",
    "\n",
    "1. endswith() – does the string end with a given substring?\n",
    "2. isalnum() – does the string consist only of letters and digits?\n",
    "3. isalpha() – does the string consist only of letters?\n",
    "4. islower() – does the string consists only of lower-case letters?\n",
    "5. isspace() – does the string consists only of white spaces?\n",
    "6. isupper() – does the string consists only of upper-case letters?\n",
    "7. startswith() – does the string begin with a given substring?"
   ]
  },
  {
   "cell_type": "code",
   "execution_count": 132,
   "metadata": {},
   "outputs": [
    {
     "name": "stdout",
     "output_type": "stream",
     "text": [
      "nohtyP gninevE"
     ]
    }
   ],
   "source": [
    "# Python program to reverse a string using recursion\n",
    "\n",
    "# Function to print reverse of the passed string\n",
    "def reverse(string):\n",
    "    if len(string) == 0:\n",
    "        return\n",
    "\n",
    "    temp = string[0]\n",
    "    reverse(string[1:])\n",
    "    print(temp, end='')\n",
    "\n",
    "# Driver program to test above function\n",
    "string = \"Evening Python\"\n",
    "reverse(string)\n",
    "\n",
    "# A single line statement to reverse string in python\n",
    "# string[::-1]"
   ]
  },
  {
   "cell_type": "code",
   "execution_count": null,
   "metadata": {},
   "outputs": [],
   "source": [
    "#Exercise 1\n",
    "\n",
    "#What is the expected output of the following code?\n",
    "\n",
    "for ch in \"abc123XYX\":\n",
    "    if ch.isupper():\n",
    "        print(ch.lower(), end='')\n",
    "    elif ch.islower():\n",
    "        print(ch.upper(), end='')\n",
    "    else:\n",
    "        print(ch, end='')"
   ]
  },
  {
   "cell_type": "code",
   "execution_count": null,
   "metadata": {},
   "outputs": [],
   "source": [
    "#Exercise 2\n",
    "\n",
    "#What is the expected output of the following code?\n",
    "\n",
    "s1 = 'Where are the snows of yesteryear?'\n",
    "s2 = s1.split()\n",
    "print(s2[-2])"
   ]
  },
  {
   "cell_type": "code",
   "execution_count": null,
   "metadata": {},
   "outputs": [],
   "source": [
    "#Exercise 3\n",
    "\n",
    "#What is the expected output of the following code?\n",
    "\n",
    "the_list = ['Where', 'are', 'the', 'snows?']\n",
    "s = '*'.join(the_list)\n",
    "print(s)"
   ]
  },
  {
   "cell_type": "code",
   "execution_count": null,
   "metadata": {},
   "outputs": [],
   "source": [
    "#Exercise 4\n",
    "\n",
    "#What is the expected output of the following code?\n",
    "\n",
    "s = 'It is either easy or impossible'\n",
    "s = s.replace('easy', 'hard').replace('im', '')\n",
    "print(s)"
   ]
  },
  {
   "cell_type": "markdown",
   "metadata": {},
   "source": [
    "Errors using Exceptions and user defined exceptions to control error handling "
   ]
  },
  {
   "cell_type": "markdown",
   "metadata": {},
   "source": [
    "1. Errors, failures, and other plagues\n",
    "2. Anything that can go wrong, will go wrong.\n",
    "\n",
    "3. This is Murphy's law, and it works everywhere and always. Your code's execution can go wrong, too. If it can, it will.\n",
    "\n",
    "4. Look the code in the editor. There are at least two possible ways it can \"go wrong\". Can you see them?\n",
    "\n",
    "5. As a user is able to enter a completely arbitrary string of characters, there is no guarantee that the string can be converted into a float value - this is the first vulnerability of the code;\n",
    "the second is that the sqrt() function fails if it gets a negative argument."
   ]
  },
  {
   "cell_type": "code",
   "execution_count": null,
   "metadata": {},
   "outputs": [],
   "source": [
    "import math\n",
    "\n",
    "x = float(input(\"Enter x: \"))\n",
    "y = math.sqrt(x)\n",
    "\n",
    "print(\"The square root of\", x, \"equals to\", y)\n"
   ]
  },
  {
   "cell_type": "markdown",
   "metadata": {},
   "source": [
    "You may have received a ValueError\n",
    "Can you protect yourself from such surprises? Of course you can. Moreover, you have to do it in order to be considered a good programmer.\n",
    "\n"
   ]
  },
  {
   "cell_type": "markdown",
   "metadata": {},
   "source": [
    "1. Exceptions\n",
    "2. Each time your code tries to do something wrong/foolish/irresponsible/crazy/unenforceable, Python does two things:\n",
    "\n",
    "1. it stops your program;\n",
    "2. it creates a special kind of data, called an exception.\n",
    "3. Both of these activities are called raising an exception. We can say that Python always raises an exception (or that an exception has been raised) when it has no idea what to do with your code.\n",
    "\n",
    "What happens next?\n",
    "\n",
    "1. the raised exception expects somebody or something to notice it and take care of it;\n",
    "2. if nothing happens to take care of the raised exception, the program will be forcibly terminated, and you will see an error message sent to the console by Python;\n",
    "otherwise, \n",
    "3. if the exception is taken care of and handled properly, the suspended program can be resumed and its execution can continue.\n",
    "4. Python provides effective tools that allow you to observe exceptions, identify them and handle them efficiently. This is possible due to the fact that all potential exceptions have their unambiguous names, so you can categorize them and react appropriately."
   ]
  },
  {
   "cell_type": "markdown",
   "metadata": {},
   "source": [
    "\n",
    "You know some exception names already. Take a look at the following diagnostic message:\n",
    "\n",
    "ValueError: math domain error \n",
    "output\n",
    "\n",
    "The word highlighted above is just the exception name. Let's get familiar with some other exceptions."
   ]
  },
  {
   "cell_type": "code",
   "execution_count": null,
   "metadata": {},
   "outputs": [],
   "source": [
    "value = 1\n",
    "value /= 0\n"
   ]
  },
  {
   "cell_type": "markdown",
   "metadata": {},
   "source": [
    "1. Exceptions: continued\n",
    "2. Look at the code in the editor. Run the (obviously incorrect) program.\n",
    "\n",
    "1. You will see the following message in reply:\n",
    "\n",
    "Traceback (most recent call last):\n",
    "File \"div.py\", line 2, in \n",
    "value /= 0\n",
    "ZeroDivisionError: division by zero\n",
    "output\n",
    "\n",
    "2. This exception error is called ZeroDivisionError."
   ]
  },
  {
   "cell_type": "markdown",
   "metadata": {},
   "source": [
    "1. Exceptions: continued\n",
    "2. Look at the code in the editor. What will happen when you run it? Check.\n",
    "\n",
    "You will see the following message in reply:\n",
    "\n",
    "Traceback (most recent call last):\n",
    "File \"lst.py\", line 2, in \n",
    "x = list[0]\n",
    "IndexError: list index out of range\n",
    "output\n",
    "\n",
    "3. This is the IndexError."
   ]
  },
  {
   "cell_type": "code",
   "execution_count": null,
   "metadata": {},
   "outputs": [],
   "source": [
    "my_list = []\n",
    "x = my_list[0]"
   ]
  },
  {
   "cell_type": "markdown",
   "metadata": {},
   "source": [
    "1. Exceptions: continued\n",
    "2. How do you handle exceptions? The word try is key to the solution.\n",
    "\n",
    "3. What's more, it's a keyword, too.\n",
    "\n",
    "4. The recipe for success is as follows:\n",
    "\n",
    "1. first, you have to try to do something;\n",
    "2. next, you have to check whether everything went well.\n",
    "3. But wouldn't it be better to check all circumstances first and then do something only if it's safe?\n",
    "\n",
    "Just like the example in the editor.\n",
    "\n",
    "1. Admittedly, this way may seem to be the most natural and understandable, but in reality, this method doesn't make programming any easier. All these checks can make your code bloated and illegible.\n",
    "\n",
    "2. Python prefers a completely different approach."
   ]
  },
  {
   "cell_type": "code",
   "execution_count": null,
   "metadata": {},
   "outputs": [],
   "source": [
    "first_number = int(input(\"Enter the first number: \"))\n",
    "second_number = int(input(\"Enter the second number: \"))\n",
    "\n",
    "if second_number != 0:\n",
    "    print(first_number / second_number)\n",
    "else:\n",
    "    print(\"This operation cannot be done.\")\n",
    "\n",
    "print(\"THE END.\")\n"
   ]
  },
  {
   "cell_type": "markdown",
   "metadata": {},
   "source": [
    "1. Exceptions: continued\n",
    "2. Look at the code in the editor. This is the favorite Python approach.\n",
    "\n",
    "Note:\n",
    "\n",
    "1. the try keyword begins a block of the code which may or may not be performing correctly;\n",
    "2. next, Python tries to perform the risky action; if it fails, an exception is raised and Python starts to look for a solution;\n",
    "3. the except keyword starts a piece of code which will be executed if anything inside the try block goes wrong - if an exception is raised inside a previous try block, it will fail here, so the code located after the except keyword should provide an adequate reaction to the raised exception;\n",
    "4. returning to the previous nesting level ends the try-except section.\n",
    "Run the code and test its behavior.\n",
    "\n",
    "\n"
   ]
  },
  {
   "cell_type": "code",
   "execution_count": null,
   "metadata": {},
   "outputs": [],
   "source": [
    "first_number = int(input(\"Enter the first number: \"))\n",
    "second_number = int(input(\"Enter the second number: \"))\n",
    "\n",
    "try:\n",
    "    print(first_number / second_number)\n",
    "except:\n",
    "    print(\"This operation cannot be done.\")\n",
    "\n",
    "print(\"THE END.\")\n"
   ]
  },
  {
   "cell_type": "markdown",
   "metadata": {},
   "source": [
    "Let's summarize this:"
   ]
  },
  {
   "cell_type": "markdown",
   "metadata": {},
   "source": [
    "1. try:\n",
    "2.     :\n",
    "3.     :\n",
    "4. except:\n",
    "5.     :\n",
    "6.     :\n",
    "\n",
    "\n",
    "1. in the first step, Python tries to perform all instructions placed between the try: and except: statements;\n",
    "2. if nothing is wrong with the execution and all instructions are performed successfully, \n",
    "   the execution jumps to the point after the last line of the except: block, and the block's execution is considered complete;\n",
    "3. if anything goes wrong inside the try: and except: block, the execution immediately \n",
    "   jumps out of the block and into the first instruction located after the except: \n",
    "   keyword; this means that some of the instructions from the block may be silently omitted."
   ]
  },
  {
   "cell_type": "markdown",
   "metadata": {},
   "source": [
    "1. Exceptions: continued\n",
    "2. Look at the code in the editor. It will help you understand this mechanism."
   ]
  },
  {
   "cell_type": "code",
   "execution_count": null,
   "metadata": {},
   "outputs": [],
   "source": [
    "try:\n",
    "    print(\"1\")\n",
    "    x = 1 / 0\n",
    "    print(\"2\")\n",
    "except:\n",
    "    print(\"Oh dear, something went wrong...\")\n",
    "\n",
    "print(\"3\")\n"
   ]
  },
  {
   "cell_type": "markdown",
   "metadata": {},
   "source": [
    "1. This is the output it produces:\n",
    "\n",
    "2. 1\n",
    "3. Oh dear, something went wrong...\n",
    "4. 3\n",
    "\n",
    "\n",
    "1. Note: the print(\"2\") instruction was lost in the process."
   ]
  },
  {
   "cell_type": "markdown",
   "metadata": {},
   "source": [
    "1. Exceptions: continued\n",
    "2. This approach has one important disadvantage - if there is a possibility that more than one exception may skip into an except: branch, you may have trouble figuring out what actually happened."
   ]
  },
  {
   "cell_type": "code",
   "execution_count": null,
   "metadata": {},
   "outputs": [],
   "source": [
    "try:\n",
    "    x = int(input(\"Enter a number: \"))\n",
    "    y = 1 / x\n",
    "except:\n",
    "    print(\"Oh dear, something went wrong...\")\n",
    "\n",
    "print(\"THE END.\")\n"
   ]
  },
  {
   "cell_type": "markdown",
   "metadata": {},
   "source": [
    "1. Just like in our code in the editor. Run it and see what happens.\n",
    "\n",
    "2. The message: Oh dear, something went wrong... appearing in the console says nothing about the reason, while there are two possible causes of the exception:\n",
    "\n",
    "3. non-integer data entered by the user;\n",
    "4. an integer value equal to 0 assigned to the x variable.\n",
    "\n",
    "1. Technically, there are two ways to solve the issue:\n",
    "\n",
    "2. build two consecutive try-except blocks, one for each possible exception reason (easy, but will cause unfavorable code growth)\n",
    "3. use a more advanced variant of the instruction.\n",
    "4. It looks like this:"
   ]
  },
  {
   "cell_type": "code",
   "execution_count": null,
   "metadata": {},
   "outputs": [],
   "source": [
    "try:\n",
    "    :\n",
    "except exc1:\n",
    "    :\n",
    "except exc2:\n",
    "    :\n",
    "except:\n",
    "    :\n"
   ]
  },
  {
   "cell_type": "markdown",
   "metadata": {},
   "source": [
    "1. This is how it works:\n",
    "\n",
    "2. if the try branch raises the exc1 exception, it will be handled by the except exc1: block;\n",
    "3. similarly, if the try branch raises the exc2 exception, it will be handled by the except exc2: block;\n",
    "4. if the try branch raises any other exception, it will be handled by the unnamed except block.\n",
    "5. Let's move on to the next part of the course and see it in action."
   ]
  },
  {
   "cell_type": "markdown",
   "metadata": {},
   "source": [
    "1. Exceptions: continued\n",
    "2. Look at the code in the editor. Our solution is there.\n",
    "\n",
    "3. The code, when run, produces one of the following four variants of output:\n",
    "\n",
    "4. if you enter a valid, non-zero integer value (e.g., 5) it say"
   ]
  },
  {
   "cell_type": "code",
   "execution_count": null,
   "metadata": {},
   "outputs": [],
   "source": [
    "try:\n",
    "    x = int(input(\"Enter a number: \"))\n",
    "    y = 1 / x\n",
    "    print(y)\n",
    "except ZeroDivisionError:\n",
    "    print(\"You cannot divide by zero, sorry.\")\n",
    "except ValueError:\n",
    "    print(\"You must enter an integer value.\")\n",
    "except:\n",
    "    print(\"Oh dear, something went wrong...\")\n",
    "\n",
    "print(\"THE END.\")\n"
   ]
  },
  {
   "cell_type": "markdown",
   "metadata": {},
   "source": [
    "1. if you enter a valid, non-zero integer value (e.g., 5) it says:\n",
    "    \n",
    "0.2\n",
    "THE END.\n",
    "\n",
    "\n",
    "1. if you enter 0, it says:\n",
    "\n",
    "You cannot divide by zero, sorry.\n",
    "THE END.\n",
    "\n",
    "\n",
    "1. if you enter any non-integer string, you see:\n",
    "\n",
    "You must enter an integer value.\n",
    "THE END.\n",
    "\n",
    "\n",
    "2. (locally on your machine) if you press Ctrl-C while the program is waiting for the user's input (which causes an exception named KeyboardInterrupt), the program says:\n",
    "\n",
    "Oh dear, something went wrong...\n",
    "THE END."
   ]
  },
  {
   "cell_type": "markdown",
   "metadata": {},
   "source": [
    "1. Exceptions: continued\n",
    "2. Don't forget that:\n",
    "\n",
    "1. the except branches are searched in the same order in which they appear in the code;\n",
    "2. you must not use more than one except branch with a certain exception name;\n",
    "3. the number of different except branches is arbitrary - the only condition is that if you use try, you must put at least one except (named or not) after it;\n",
    "4. the except keyword must not be used without a preceding try;\n",
    "5. if any of the except branches is executed, no other branches will be visited;\n",
    "6. if none of the specified except branches matches the raised exception, the exception remains unhandled (we'll discuss it soon)\n",
    "7. if an unnamed except branch exists (one without an exception name), it has to be specified as the last."
   ]
  },
  {
   "cell_type": "code",
   "execution_count": null,
   "metadata": {},
   "outputs": [],
   "source": [
    "try:\n",
    "    :\n",
    "except exc1:\n",
    "    :\n",
    "except exc2:\n",
    "    :\n",
    "except:\n",
    "    :"
   ]
  },
  {
   "cell_type": "markdown",
   "metadata": {},
   "source": [
    "Look at the code in the editor. We've modified the previous program - we've removed the ZeroDivisionError branch.\n",
    "\n",
    "What happens now if the user enters 0 as an input?"
   ]
  },
  {
   "cell_type": "markdown",
   "metadata": {},
   "source": [
    "As there are no dedicated branches for division by zero, the raised exception falls into the general (unnamed) branch; this means that in this case, the program will say:"
   ]
  },
  {
   "cell_type": "code",
   "execution_count": null,
   "metadata": {},
   "outputs": [],
   "source": [
    "try:\n",
    "    x = int(input(\"Enter a number: \"))\n",
    "    y = 1 / x\n",
    "    print(y)\n",
    "except ValueError:\n",
    "    print(\"You must enter an integer value.\")\n",
    "except:\n",
    "    print(\"Oh dear, something went wrong...\")\n",
    "\n",
    "print(\"THE END.\")\n"
   ]
  },
  {
   "cell_type": "markdown",
   "metadata": {},
   "source": [
    "1. Exceptions: continued\n",
    "2. Let's spoil the code once again.\n",
    "\n",
    "1. Look at the program in the editor. This time, we've removed the unnamed branch.\n",
    "\n",
    "2. The user enters 0 once again and:\n",
    "\n",
    "3. the exception raised won't be handled by ValueError - it has nothing to do with it;\n",
    "4. as there's no other branch, you should to see this message:\n",
    "\n",
    "Traceback (most recent call last):\n",
    "File \"exc.py\", line 3, in \n",
    "y = 1 / x\n",
    "5. ZeroDivisionError: division by zero"
   ]
  },
  {
   "cell_type": "code",
   "execution_count": null,
   "metadata": {},
   "outputs": [],
   "source": [
    "try:\n",
    "    x = int(input(\"Enter a number: \"))\n",
    "    y = 1 / x\n",
    "    print(y)\n",
    "except ValueError:\n",
    "    print(\"You must enter an integer value.\")\n",
    "\n",
    "print(\"THE END.\")\n"
   ]
  },
  {
   "cell_type": "markdown",
   "metadata": {},
   "source": [
    "You've learned a lot about exception handling in Python. In the next section, we will focus on Python built-in exceptions and their hierarchies."
   ]
  },
  {
   "cell_type": "markdown",
   "metadata": {},
   "source": [
    "Key takeaways\n",
    "\n",
    "1. An exception is an event in a program execution's life caused by an abnormal situation. The exception should he handled to avoid program termination. The part of your code that is suspected of being the source of the exception should be put inside the try branch.\n",
    "\n",
    "When the exception happens, the execution of the code is not terminated, but instead jumps into the except branch. This is the place where the handling of the exception should take place. The general scheme for such a construction looks as follows:"
   ]
  },
  {
   "cell_type": "code",
   "execution_count": null,
   "metadata": {},
   "outputs": [],
   "source": [
    ":\n",
    "# The code that always runs smoothly.\n",
    ":\n",
    "try:\n",
    "    :\n",
    "    # Risky code.\n",
    "    :\n",
    "except:\n",
    "    :\n",
    "    # Crisis management takes place here.\n",
    "    : \n",
    ":\n",
    "# Back to normal.\n",
    ":"
   ]
  },
  {
   "cell_type": "markdown",
   "metadata": {},
   "source": [
    "2. If you need to handle more than one exception coming from the same try branch ,you can add more than one except branch, but you have to label them with different exception names, like this:"
   ]
  },
  {
   "cell_type": "code",
   "execution_count": null,
   "metadata": {},
   "outputs": [],
   "source": [
    "\n",
    ":\n",
    "# The code that always runs smoothly.\n",
    ":\n",
    "try:\n",
    "    :\n",
    "    # Risky code.\n",
    "    :\n",
    "except Except_1:\n",
    "    # Crisis management takes place here.\n",
    "except Except_2:\n",
    "    # We save the world here.\n",
    ":\n",
    "# Back to normal.\n",
    ":\n"
   ]
  },
  {
   "cell_type": "markdown",
   "metadata": {},
   "source": [
    "At most, one of the except branches is executed – none of the branches is performed when the raised exception doesn't match to the specified exceptions."
   ]
  },
  {
   "cell_type": "markdown",
   "metadata": {},
   "source": [
    "3. You cannot add more than one anonymous (unnamed) except branch after the named ones."
   ]
  },
  {
   "cell_type": "code",
   "execution_count": null,
   "metadata": {},
   "outputs": [],
   "source": [
    "\n",
    "\n",
    ":\n",
    "# The code that always runs smoothly.\n",
    ":\n",
    "try:\n",
    "    :\n",
    "    # Risky code.\n",
    "    :\n",
    "except Except_1:\n",
    "    # Crisis management takes place here.\n",
    "except Except_2:\n",
    "    # We save the world here.\n",
    "except:\n",
    "    # All other issues fall here.\n",
    ":\n",
    "# Back to normal.\n",
    ":\n",
    "\n"
   ]
  },
  {
   "cell_type": "code",
   "execution_count": null,
   "metadata": {},
   "outputs": [],
   "source": [
    "#Exercise 1\n",
    "\n",
    "#What is the expected output of the following code?\n",
    "\n",
    "try:\n",
    "    print(\"Let's try to do this\")\n",
    "    print(\"#\"[2])\n",
    "    print(\"We succeeded!\")\n",
    "except:\n",
    "    print(\"We failed\")\n",
    "print(\"We're done\")"
   ]
  },
  {
   "cell_type": "code",
   "execution_count": null,
   "metadata": {},
   "outputs": [],
   "source": [
    "#Exercise 2\n",
    "\n",
    "#What is the expected output of the following code?\n",
    "\n",
    "try:\n",
    "    print(\"alpha\"[1/0])\n",
    "except ZeroDivisionError:\n",
    "    print(\"zero\")\n",
    "except IndexingError:\n",
    "    print(\"index\")\n",
    "except:\n",
    "    print(\"some\")"
   ]
  },
  {
   "cell_type": "markdown",
   "metadata": {},
   "source": [
    "1. Exceptions\n",
    "2. Python 3 defines 63 built-in exceptions, and all of them form a tree-shaped hierarchy, although the tree is a bit weird as its root is located on top.\n",
    "\n",
    "3. Some of the built-in exceptions are more general (they include other exceptions) while others are completely concrete (they represent themselves only). We can say that the closer to the root an exception is located, the more general (abstract) it is. In turn, the exceptions located at the branches' ends (we can call them leaves) are concrete.\n",
    "\n"
   ]
  },
  {
   "cell_type": "code",
   "execution_count": null,
   "metadata": {},
   "outputs": [],
   "source": [
    "#Take a look at the figure:\n",
    "            BaseException\n",
    "\n",
    "SystemExit  Exception   KeyboardInterrupt\n",
    "\n",
    "ValueError  LookupError  ArithmeticError\n",
    "\n",
    "IndexError  KeyError    ZeroDivisionError\n",
    "#It shows a small section of the complete exception tree. \n",
    "#Let's begin examining the tree from the ZeroDivisionError leaf."
   ]
  },
  {
   "cell_type": "markdown",
   "metadata": {},
   "source": [
    "1. Note:\n",
    "\n",
    "1. ZeroDivisionError is a special case of more a general exception class named ArithmeticError;\n",
    "2. ArithmeticError is a special case of a more general exception class named just Exception;\n",
    "3. Exception is a special case of a more general class named BaseException;\n",
    "4. We can describe it in the following way (note the direction of the arrows - they always point to the more general entity):"
   ]
  },
  {
   "cell_type": "code",
   "execution_count": null,
   "metadata": {},
   "outputs": [],
   "source": [
    "BaseException\n",
    "↑\n",
    "Exception\n",
    "↑\n",
    "ArithmeticError\n",
    "↑\n",
    "ZeroDivisionError"
   ]
  },
  {
   "cell_type": "markdown",
   "metadata": {},
   "source": [
    "We're going to show you how this generalization works. Let's start with some really simple code."
   ]
  },
  {
   "cell_type": "markdown",
   "metadata": {},
   "source": [
    "1. Exceptions: continued\n",
    "2. Look at the code in the editor. It is a simple example to start with. Run it.\n",
    "\n",
    "3. The output we expect to see looks like this:"
   ]
  },
  {
   "cell_type": "code",
   "execution_count": null,
   "metadata": {},
   "outputs": [],
   "source": [
    "try:\n",
    "    y = 1 / 0\n",
    "except ZeroDivisionError:\n",
    "    print(\"Oooppsss...\")\n",
    "\n",
    "print(\"THE END.\")\n"
   ]
  },
  {
   "cell_type": "markdown",
   "metadata": {},
   "source": [
    "Now look at the code below:\n"
   ]
  },
  {
   "cell_type": "code",
   "execution_count": null,
   "metadata": {},
   "outputs": [],
   "source": [
    "\n",
    "try:\n",
    "    y = 1 / 0\n",
    "except ArithmeticError:\n",
    "    print(\"Oooppsss...\")\n",
    "\n",
    "print(\"THE END.\")"
   ]
  },
  {
   "cell_type": "markdown",
   "metadata": {},
   "source": [
    "1. Something has changed in it - we've replaced ZeroDivisionError with ArithmeticError.\n",
    "\n",
    "2. You already know that ArithmeticError is a general class including (among others) the ZeroDivisionError exception.\n",
    "\n",
    "3. Thus, the code's output remains unchanged. Test it.\n",
    "\n",
    "4. This also means that replacing the exception's name with either Exception or BaseException won't change the program's behavior.\n",
    "\n",
    "\n",
    "5. Let's summarize:\n",
    "\n",
    "6. each exception raised falls into the first matching branch;\n",
    "7. the matching branch doesn't have to specify the same exception exactly - it's enough that the exception is more general (more abstract) than the raised one."
   ]
  },
  {
   "cell_type": "markdown",
   "metadata": {},
   "source": [
    "1. Exceptions: continued\n",
    "2. Look at the code in the editor. What will happen here?\n",
    "\n",
    "3. The first matching branch is the one containing ZeroDivisionError. It means that the console will show:"
   ]
  },
  {
   "cell_type": "code",
   "execution_count": null,
   "metadata": {},
   "outputs": [],
   "source": [
    "try:\n",
    "    y = 1 / 0\n",
    "except ZeroDivisionError:\n",
    "    print(\"Zero Division!\")\n",
    "except ArithmeticError:\n",
    "    print(\"Arithmetic problem!\")\n",
    "\n",
    "print(\"THE END.\")\n"
   ]
  },
  {
   "cell_type": "markdown",
   "metadata": {},
   "source": [
    "1. Will it change anything if we swap the two except branches around? Just like here below:"
   ]
  },
  {
   "cell_type": "code",
   "execution_count": null,
   "metadata": {},
   "outputs": [],
   "source": [
    "try:\n",
    "    y = 1 / 0\n",
    "except ArithmeticError:\n",
    "    print(\"Arithmetic problem!\")\n",
    "except ZeroDivisionError:\n",
    "    print(\"Zero Division!\")\n",
    "\n",
    "print(\"THE END.\")\n",
    "\n"
   ]
  },
  {
   "cell_type": "markdown",
   "metadata": {},
   "source": [
    "2. The change is radical - the code's output is now:\n",
    "3. output\n",
    "Arithmetic problem!\n",
    "THE END.\n",
    "\n",
    "\n",
    "4. Why, if the exception raised is the same as previously?\n",
    "\n",
    "5. The exception is the same, but the more general exception is now listed first - it will catch all zero divisions too. It also means that there's no chance that any exception hits the ZeroDivisionError branch. This branch is now completely unreachable.\n",
    "\n",
    "6. Remember:\n",
    "\n",
    "1. the order of the branches matters!\n",
    "2. don't put more general exceptions before more concrete ones;\n",
    "3. this will make the latter one unreachable and useless;\n",
    "4. moreover, it will make your code messy and inconsistent;\n",
    "5. Python won't generate any error messages regarding this issue."
   ]
  },
  {
   "cell_type": "markdown",
   "metadata": {},
   "source": [
    "1. Exceptions: continued\n",
    "2. If you want to handle two or more exceptions in the same way, you can use the following syntax:"
   ]
  },
  {
   "cell_type": "code",
   "execution_count": null,
   "metadata": {},
   "outputs": [],
   "source": [
    "try:\n",
    "    :\n",
    "except (exc1, exc2):#reference this line of code\n",
    "    :"
   ]
  },
  {
   "cell_type": "markdown",
   "metadata": {},
   "source": [
    "1. You simply have to put all the engaged exception names into a comma-separated list and not to forget the parentheses.\n",
    "\n",
    "\n",
    "2. If an exception is raised inside a function, it can be handled:\n",
    "\n",
    "3. inside the function;\n",
    "4. outside the function;\n",
    "Let's start with the first variant - look at the code in the editor."
   ]
  },
  {
   "cell_type": "markdown",
   "metadata": {},
   "source": [
    "The ZeroDivisionError exception (being a concrete case of the ArithmeticError exception class) is raised inside the bad_fun() function, and it doesn't leave the function - the function itself takes care of it."
   ]
  },
  {
   "cell_type": "code",
   "execution_count": null,
   "metadata": {},
   "outputs": [],
   "source": [
    "def bad_fun(n):\n",
    "    try:\n",
    "        return 1 / n\n",
    "    except ArithmeticError:\n",
    "        print(\"Arithmetic Problem!\")\n",
    "    return None\n",
    "\n",
    "bad_fun(0)\n",
    "\n",
    "print(\"THE END.\")\n"
   ]
  },
  {
   "cell_type": "markdown",
   "metadata": {},
   "source": [
    "It's also possible to let the exception propagate outside the function. Let's test it now."
   ]
  },
  {
   "cell_type": "code",
   "execution_count": null,
   "metadata": {},
   "outputs": [],
   "source": [
    "def bad_fun(n):\n",
    "    return 1 / n\n",
    "\n",
    "try:\n",
    "    bad_fun(0)\n",
    "except ArithmeticError:\n",
    "    print(\"What happened? An exception was raised!\")\n",
    "\n",
    "print(\"THE END.\")\n",
    "\n"
   ]
  },
  {
   "cell_type": "markdown",
   "metadata": {},
   "source": [
    "The problem has to be solved by the invoker (or by the invoker's invoker, and so on)."
   ]
  },
  {
   "cell_type": "markdown",
   "metadata": {},
   "source": [
    "1. Note: the exception raised can cross function and module boundaries, and travel through the invocation chain looking for a matching except clause able to handle it.\n",
    "\n",
    "2. If there is no such clause, the exception remains unhandled, and Python solves the problem in its standard way - by terminating your code and emitting a diagnostic message.\n",
    "\n",
    "3. Now we're going to suspend this discussion, as we want to introduce you to a brand new Python instruction."
   ]
  },
  {
   "cell_type": "markdown",
   "metadata": {},
   "source": [
    "1. Exceptions: continued\n",
    "3. The raise instruction raises the specified exception named exc as if it was raised in a normal (natural) way:"
   ]
  },
  {
   "cell_type": "code",
   "execution_count": null,
   "metadata": {},
   "outputs": [],
   "source": [
    "raise exc\n",
    "\n",
    "\n",
    "#Note: raise is a keyword."
   ]
  },
  {
   "cell_type": "markdown",
   "metadata": {},
   "source": [
    "1. The instruction enables you to:\n",
    "\n",
    "2. simulate raising actual exceptions (e.g., to test your handling strategy)\n",
    "3. partially handle an exception and make another part of the code responsible for completing the handling (separation of concerns).\n",
    "4. Look at the code in the editor. This is how you can use it in practice.\n",
    "\n",
    "5. The program's output remains unchanged.\n",
    "\n",
    "6. In this way, you can test your exception handling routine without forcing the code to do stupid things."
   ]
  },
  {
   "cell_type": "code",
   "execution_count": null,
   "metadata": {},
   "outputs": [],
   "source": [
    "def bad_fun(n):\n",
    "    raise ZeroDivisionError\n",
    "\n",
    "\n",
    "try:\n",
    "    bad_fun(0)\n",
    "except ArithmeticError:\n",
    "    print(\"What happened? An error?\")\n",
    "\n",
    "print(\"THE END.\")\n"
   ]
  },
  {
   "cell_type": "markdown",
   "metadata": {},
   "source": [
    "1. Exceptions: continued\n",
    "2. The raise instruction may also be utilized in the following way (note the absence of the exception's name):"
   ]
  },
  {
   "cell_type": "code",
   "execution_count": null,
   "metadata": {},
   "outputs": [],
   "source": [
    "raise"
   ]
  },
  {
   "cell_type": "markdown",
   "metadata": {},
   "source": [
    "1. There is one serious restriction: this kind of raise instruction may be used inside the except branch only; using it in any other context causes an error.\n",
    "\n",
    "2. The instruction will immediately re-raise the same exception as currently handled.\n",
    "\n",
    "\n",
    "3. Thanks to this, you can distribute the exception handling among different parts of the code.\n",
    "\n",
    "4. Look at the code in the editor. Run it - we'll see it in action."
   ]
  },
  {
   "cell_type": "code",
   "execution_count": null,
   "metadata": {},
   "outputs": [],
   "source": [
    "def bad_fun(n):\n",
    "    try:\n",
    "        return n / 0\n",
    "    except:\n",
    "        print(\"I did it again!\")\n",
    "        raise\n",
    "\n",
    "\n",
    "try:\n",
    "    bad_fun(0)\n",
    "except ArithmeticError:\n",
    "    print(\"I see!\")\n",
    "\n",
    "print(\"THE END.\")\n"
   ]
  },
  {
   "cell_type": "markdown",
   "metadata": {},
   "source": [
    "1. The ZeroDivisionError is raised twice:\n",
    "\n",
    "2. first, inside the try part of the code (this is caused by actual zero division)\n",
    "3. second, inside the except part by the raise instruction.\n",
    "4. In effect, the code outputs:the three lines below\n",
    "\n"
   ]
  },
  {
   "cell_type": "markdown",
   "metadata": {},
   "source": [
    "1. I did it again!\n",
    "2. I see!\n",
    "3. THE END."
   ]
  },
  {
   "cell_type": "markdown",
   "metadata": {},
   "source": [
    "1. Exceptions: continued\n",
    "2. Now is a good moment to show you another Python instruction, named assert. This is a keyword."
   ]
  },
  {
   "cell_type": "code",
   "execution_count": null,
   "metadata": {},
   "outputs": [],
   "source": [
    "assert expression"
   ]
  },
  {
   "cell_type": "markdown",
   "metadata": {},
   "source": [
    "1. How does it work?\n",
    "\n",
    "2. It evaluates the expression;\n",
    "3. if the expression evaluates to True, or a non-zero numerical value, or a non-empty string, or any other value different than None, it won't do anything else;\n",
    "4. otherwise, it automatically and immediately raises an exception named AssertionError (in this case, we say that the assertion has failed)"
   ]
  },
  {
   "cell_type": "markdown",
   "metadata": {},
   "source": [
    "How it can be used?\n",
    "\n",
    "1. you may want to put it into your code where you want to be absolutely safe from evidently wrong data, and where you aren't absolutely sure that the data has been carefully examined before (e.g., inside a function used by someone else)\n",
    "2. raising an AssertionError exception secures your code from producing invalid results, and clearly shows the nature of the failure;\n",
    "3. assertions don't supersede exceptions or validate the data - they are their supplements.\n",
    "4. \n",
    "   \n",
    "   If exceptions and data validation are like careful driving, assertion can play the role of an airbag."
   ]
  },
  {
   "cell_type": "markdown",
   "metadata": {},
   "source": [
    "Let's see the assert instruction in action. Look at the code in the editor. Run it."
   ]
  },
  {
   "cell_type": "code",
   "execution_count": null,
   "metadata": {},
   "outputs": [],
   "source": [
    "import math\n",
    "\n",
    "x = float(input(\"Enter a number: \"))\n",
    "assert x >= 0.0\n",
    "\n",
    "x = math.sqrt(x)\n",
    "\n",
    "print(x)\n"
   ]
  },
  {
   "cell_type": "markdown",
   "metadata": {},
   "source": [
    "The program runs flawlessly if you enter a valid numerical value greater than or equal to zero; otherwise, it stops and emits the following message:"
   ]
  },
  {
   "cell_type": "markdown",
   "metadata": {},
   "source": [
    "Key takeaways\n",
    "\n",
    "1. You cannot add more than one anonymous (unnamed) except branch after the named ones."
   ]
  },
  {
   "cell_type": "code",
   "execution_count": null,
   "metadata": {},
   "outputs": [],
   "source": [
    ":\n",
    "# The code that always runs smoothly.\n",
    ":\n",
    "try:\n",
    "    :\n",
    "    # Risky code.\n",
    "    :\n",
    "except Except_1:\n",
    "    # Crisis management takes place here.\n",
    "except Except_2:\n",
    "    # We save the world here.\n",
    "except:\n",
    "    # All other issues fall here.\n",
    ":\n",
    "# Back to normal.\n",
    ":\n"
   ]
  },
  {
   "cell_type": "markdown",
   "metadata": {},
   "source": [
    "2. All the predefined Python exceptions form a hierarchy, i.e. some of them are more general (the one named BaseException is the most general one) while others are more or less concrete (e.g. IndexError is more concrete than LookupError).\n",
    "\n",
    "You shouldn't put more concrete exceptions before the more general ones inside the same except branch sequence. For example, you can do this:"
   ]
  },
  {
   "cell_type": "code",
   "execution_count": null,
   "metadata": {},
   "outputs": [],
   "source": [
    "try:\n",
    "    # Risky code.\n",
    "except IndexError:\n",
    "    # Taking care of mistreated lists\n",
    "except LookupError:\n",
    "    # Dealing with other erroneous lookups"
   ]
  },
  {
   "cell_type": "markdown",
   "metadata": {},
   "source": [
    "but don't do that (unless you're absolutely sure that you want some part of your code to be useless)"
   ]
  },
  {
   "cell_type": "code",
   "execution_count": null,
   "metadata": {},
   "outputs": [],
   "source": [
    "try:\n",
    "    # Risky code.\n",
    "except LookupError:\n",
    "    # Dealing with erroneous lookups\n",
    "except IndexError:\n",
    "    # You'll never get here "
   ]
  },
  {
   "cell_type": "markdown",
   "metadata": {},
   "source": [
    "3. The Python statement raise ExceptionName can raise an exception on demand. The same statement, but lacking ExceptionName, can be used inside the try branch only, and raises the same exception which is currently being handled."
   ]
  },
  {
   "cell_type": "markdown",
   "metadata": {},
   "source": [
    "4. The Python statement assert expression evaluates the expression and raises the AssertError exception when the expression is equal to zero, an empty string, or None. You can use it to protect some critical parts of your code from devastating data."
   ]
  },
  {
   "cell_type": "code",
   "execution_count": null,
   "metadata": {},
   "outputs": [],
   "source": [
    "#Exercise 1\n",
    "\n",
    "#What is the expected output of the following code?\n",
    "\n",
    "try:\n",
    "    print(1/0)\n",
    "except ZeroDivisionError:\n",
    "    print(\"zero\")\n",
    "except ArithmeticError:\n",
    "    print(\"arith\")\n",
    "except:\n",
    "    print(\"some\")"
   ]
  },
  {
   "cell_type": "code",
   "execution_count": null,
   "metadata": {},
   "outputs": [],
   "source": [
    "#Exercise 2\n",
    "\n",
    "#What is the expected output of the following code?\n",
    "\n",
    "try:\n",
    "    print(1/0)\n",
    "except ArithmeticError:\n",
    "    print(\"arith\")\n",
    "except ZeroDivisionError:\n",
    "    print(\"zero\")\n",
    "except:\n",
    "    print(\"some\")"
   ]
  },
  {
   "cell_type": "code",
   "execution_count": null,
   "metadata": {},
   "outputs": [],
   "source": [
    "#Exercise 3\n",
    "\n",
    "#What is the expected output of the following code?\n",
    "\n",
    "def foo(x):\n",
    "    assert x\n",
    "    return 1/x\n",
    "\n",
    "\n",
    "try:\n",
    "    print(foo(0))\n",
    "except ZeroDivisionError:\n",
    "    print(\"zero\")\n",
    "except:\n",
    "    print(\"some\")"
   ]
  },
  {
   "cell_type": "markdown",
   "metadata": {},
   "source": [
    "1. Built-in exceptions\n",
    "2. We're going to show you a short list of the most useful exceptions. While it may sound strange to call \"useful\" a thing or a phenomenon which is a visible sign of failure or setback, as you know, to err is human and if anything can go wrong, it will go wrong.\n",
    "\n",
    "3. Exceptions are as routine and normal as any other aspect of a programmer's life.\n",
    "\n",
    "4. For each exception, we'll show you:\n",
    "\n",
    "5. its name;\n",
    "6. its location in the exception tree;\n",
    "7. a short description;\n",
    "8. a concise snippet of code showing the circumstances in which the exception may be raised.\n",
    "9. There are lots of other exceptions to explore - we simply don't have the space to go through them all here."
   ]
  },
  {
   "cell_type": "markdown",
   "metadata": {},
   "source": [
    "1. ArithmeticError\n",
    "2. Location: BaseException ← Exception ← ArithmeticError\n",
    "\n",
    "3. Description: an abstract exception including all exceptions caused by arithmetic operations like zero division or an argument's invalid domain\n",
    "\n"
   ]
  },
  {
   "cell_type": "markdown",
   "metadata": {},
   "source": [
    "1. AssertionError\n",
    "2. Location: BaseException ← Exception ← AssertionError\n",
    "\n",
    "3. Description: a concrete exception raised by the assert instruction when its argument evaluates to False, None, 0, or an empty string"
   ]
  },
  {
   "cell_type": "code",
   "execution_count": null,
   "metadata": {},
   "outputs": [],
   "source": [
    "from math import tan, radians\n",
    "angle = int(input('Enter integral angle in degrees: '))\n",
    "\n",
    "# We must be sure that angle != 90 + k * 180\n",
    "assert angle % 180 != 90\n",
    "print(tan(radians(angle)))"
   ]
  },
  {
   "cell_type": "markdown",
   "metadata": {},
   "source": [
    "1. BaseException\n",
    "2. Location: BaseException\n",
    "\n",
    "3. Description: the most general (abstract) of all Python exceptions - all other exceptions are included in this one; it can be said that the following two except branches are equivalent: except: and except BaseException:.\n",
    "\n"
   ]
  },
  {
   "cell_type": "markdown",
   "metadata": {},
   "source": [
    "1. IndexError\n",
    "2. Location: BaseException ← Exception ← LookupError ← IndexError\n",
    "\n",
    "3. Description: a concrete exception raised when you try to access a non-existent sequence's element (e.g., a list's element)"
   ]
  },
  {
   "cell_type": "code",
   "execution_count": null,
   "metadata": {},
   "outputs": [],
   "source": [
    "# The code shows an extravagant way\n",
    "# of leaving the loop.\n",
    "\n",
    "the_list = [1, 2, 3, 4, 5]\n",
    "ix = 0\n",
    "do_it = True\n",
    "\n",
    "while do_it:\n",
    "    try:\n",
    "        print(the_list[ix])\n",
    "        ix += 1\n",
    "    except IndexError:\n",
    "        do_it = False\n",
    "\n",
    "print('Done')\n",
    "\n"
   ]
  },
  {
   "cell_type": "markdown",
   "metadata": {},
   "source": [
    "1. KeyboardInterrupt\n",
    "2. Location: BaseException ← KeyboardInterrupt\n",
    "\n",
    "3. Description: a concrete exception raised when the user uses a keyboard shortcut designed to terminate a program's execution (Ctrl-C in most OSs); if handling this exception doesn't lead to program termination, the program continues its execution.\n",
    "\n",
    "Note: this exception is not derived from the Exception class. Run the program in IDLE."
   ]
  },
  {
   "cell_type": "code",
   "execution_count": null,
   "metadata": {},
   "outputs": [],
   "source": [
    "# This code cannot be terminated\n",
    "# by pressing Ctrl-C.\n",
    "\n",
    "from time import sleep\n",
    "\n",
    "seconds = 0\n",
    "\n",
    "while True:\n",
    "    try:\n",
    "        print(seconds)\n",
    "        seconds += 1\n",
    "        sleep(1)\n",
    "    except KeyboardInterrupt:\n",
    "        print(\"Don't do that!\")\n",
    "\n"
   ]
  },
  {
   "cell_type": "markdown",
   "metadata": {},
   "source": [
    "1. LookupError\n",
    "2. Location: BaseException ← Exception ← LookupError\n",
    "\n",
    "3. Description: an abstract exception including all exceptions caused by errors resulting from invalid references to different collections (lists, dictionaries, tuples, etc.)"
   ]
  },
  {
   "cell_type": "markdown",
   "metadata": {},
   "source": [
    "1. MemoryError\n",
    "2. Location: BaseException ← Exception ← MemoryError\n",
    "\n",
    "3. Description: a concrete exception raised when an operation cannot be completed due to a lack of free memory."
   ]
  },
  {
   "cell_type": "code",
   "execution_count": null,
   "metadata": {},
   "outputs": [],
   "source": [
    "# This code causes the MemoryError exception.\n",
    "# Warning: executing this code may affect your OS.\n",
    "# Don't run it in production environments!\n",
    "\n",
    "string = 'x'\n",
    "try:\n",
    "    while True:\n",
    "        string = string + string\n",
    "        print(len(string))\n",
    "except MemoryError:\n",
    "    print('This is not funny!')\n",
    "\n"
   ]
  },
  {
   "cell_type": "markdown",
   "metadata": {},
   "source": [
    "1. OverflowError\n",
    "2. Location: BaseException ← Exception ← ArithmeticError ← OverflowError\n",
    "\n",
    "3. Description: a concrete exception raised when an operation produces a number too big to be successfully stored\n",
    "\n",
    "Code:"
   ]
  },
  {
   "cell_type": "code",
   "execution_count": null,
   "metadata": {},
   "outputs": [],
   "source": [
    "# The code prints subsequent\n",
    "# values of exp(k), k = 1, 2, 4, 8, 16, ...\n",
    "\n",
    "from math import exp\n",
    "\n",
    "ex = 1\n",
    "\n",
    "try:\n",
    "    while True:\n",
    "        print(exp(ex))\n",
    "        ex *= 2\n",
    "except OverflowError:\n",
    "    print('The number is too big.')\n",
    "\n"
   ]
  },
  {
   "cell_type": "markdown",
   "metadata": {},
   "source": [
    "1. ImportError\n",
    "2. Location: BaseException ← Exception ← StandardError ← ImportError\n",
    "\n",
    "3. Description: a concrete exception raised when an import operation fails"
   ]
  },
  {
   "cell_type": "code",
   "execution_count": null,
   "metadata": {},
   "outputs": [],
   "source": [
    "# One of these imports will fail - which one?\n",
    "\n",
    "try:\n",
    "    import math\n",
    "    import time\n",
    "    import abracadabra\n",
    "\n",
    "except:\n",
    "    print('One of your imports has failed.')\n",
    "\n"
   ]
  },
  {
   "cell_type": "markdown",
   "metadata": {},
   "source": [
    "1. KeyError\n",
    "2. Location: BaseException ← Exception ← LookupError ← KeyError\n",
    "\n",
    "3. Description: a concrete exception raised when you try to access a collection's non-existent element (e.g., a dictionary's element)"
   ]
  },
  {
   "cell_type": "code",
   "execution_count": null,
   "metadata": {},
   "outputs": [],
   "source": [
    "# How to abuse the dictionary\n",
    "# and how to deal with it?\n",
    "\n",
    "dictionary = { 'a': 'b', 'b': 'c', 'c': 'd' }\n",
    "ch = 'a'\n",
    "\n",
    "try:\n",
    "    while True:\n",
    "        ch = dictionary[ch]\n",
    "        print(ch)\n",
    "except KeyError:\n",
    "    print('No such key:', ch)\n",
    "\n"
   ]
  },
  {
   "cell_type": "markdown",
   "metadata": {},
   "source": [
    "We are done with exceptions for now, but they'll return when we discuss object-oriented programming in Python. You can use them to protect your code from bad accidents, but you also have to learn how to dive into them, exploring the information they carry.\n",
    "\n",
    "Exceptions are in fact objects - however, we can tell you nothing about this aspect until we present you with classes, objects, and the like.\n",
    "\n",
    "For the time being, if you'd like to learn more about exceptions on your own, you look into Standard Python Library at https://docs.python.org/3.6/library/exceptions.html."
   ]
  },
  {
   "cell_type": "markdown",
   "metadata": {},
   "source": [
    "Key takeaways\n",
    "\n",
    "1. Some abstract built-in Python exceptions are:"
   ]
  },
  {
   "cell_type": "code",
   "execution_count": null,
   "metadata": {},
   "outputs": [],
   "source": [
    "ArithmeticError,\n",
    "BaseException,\n",
    "LookupError."
   ]
  },
  {
   "cell_type": "markdown",
   "metadata": {},
   "source": [
    "2. Some concrete built-in Python exceptions are:\n",
    "\n"
   ]
  },
  {
   "cell_type": "code",
   "execution_count": null,
   "metadata": {},
   "outputs": [],
   "source": [
    "AssertionError,\n",
    "ImportError,\n",
    "IndexError,\n",
    "KeyboardInterrupt,\n",
    "KeyError,\n",
    "MemoryError,\n",
    "OverflowError."
   ]
  },
  {
   "cell_type": "markdown",
   "metadata": {},
   "source": [
    "1. Exercise 1\n",
    "\n",
    "2. Which of the exceptions will you use to protect your code from being interrupted through the use of the keyboard?\n",
    "\n",
    "Answer: \n",
    "\n",
    "KeyboardInterrupt"
   ]
  },
  {
   "cell_type": "markdown",
   "metadata": {},
   "source": [
    "1. Exercise 2\n",
    "\n",
    "2. What is the name of the most general of all Python exceptions?\n",
    "\n",
    "3. Answer\n",
    "BaseException"
   ]
  },
  {
   "cell_type": "markdown",
   "metadata": {},
   "source": [
    "\n",
    "1. Exercise 3\n",
    "\n",
    "2. Which of the exceptions will be raised through the following unsuccessful evaluation?\n",
    "\n",
    "3. huge_value = 1E250 ** 2\n",
    "\n",
    "\n",
    "4. Answer\n",
    "OverflowError"
   ]
  },
  {
   "cell_type": "markdown",
   "metadata": {},
   "source": [
    "1. Congratulations! You have completed PE2: Module 2.\n",
    "\n",
    "2. Well done! You've reached the end of Module 2 and completed a major milestone in your Python programming education. Here's a short summary of the objectives you've covered and got familiar with in Module 2:\n",
    "\n",
    "3. characters, strings, and coding standards;\n",
    "4. the nature of strings in Python; strings vs. lists - similarities and differences;\n",
    "5. list and string methods;\n",
    "6. handling errors in Python;\n",
    "7. controlling the flow of errors using try and except;\n",
    "8. the hierarchy of exceptions; review of the most useful exceptions.\n",
    "\n",
    "9. You are now ready to take the module quiz and attempt the final challenge: Module 2 Test, which will help you gauge what you've learned so far.\n",
    "10. Check the PCAP Questions after Module 5 in this NoteBook "
   ]
  },
  {
   "cell_type": "markdown",
   "metadata": {},
   "source": [
    "START of MODULE OOP for PCAP"
   ]
  },
  {
   "cell_type": "markdown",
   "metadata": {},
   "source": [
    "Below are a Series of Questions to test your knowledge of OOP before yuou read thru the OOP Section of our Modules for PCAP prep"
   ]
  },
  {
   "cell_type": "markdown",
   "metadata": {},
   "source": [
    "Question 2:\n",
    "A data structure described as LIFO is actually a:\n",
    "1. list \n",
    "2. stack\n",
    "3. heap\n",
    "4. tree"
   ]
  },
  {
   "cell_type": "code",
   "execution_count": null,
   "metadata": {},
   "outputs": [],
   "source": [
    "#Question 3 What will be the output of the following code?\n",
    "class A:\n",
    "    A = 1\n",
    "\n",
    "print(hasattr(A, 'A'))\n",
    "\n",
    "#1. 0\n",
    "#2. False\n",
    "#3. 1\n",
    "#4. True"
   ]
  },
  {
   "cell_type": "code",
   "execution_count": null,
   "metadata": {},
   "outputs": [],
   "source": [
    "#Question 4: What will be the result of executing the following code?\n",
    "class A:\n",
    "    pass\n",
    "\n",
    "class B(A):\n",
    "    pass\n",
    "\n",
    "class C(B):\n",
    "     pass\n",
    "\n",
    "print(issubclass(C,A))\n",
    "#1. it will print 1\n",
    "#2. it will print False\n",
    "#3. it will print True\n",
    "#4. it will raise an exception"
   ]
  },
  {
   "cell_type": "code",
   "execution_count": null,
   "metadata": {},
   "outputs": [],
   "source": [
    "#Question 5: What will be the effect of running the following code?\n",
    "class A:\n",
    "    def_init_(self,v):\n",
    "        self._a = v + 1\n",
    "\n",
    "a = A(0)\n",
    "print(a._a)\n",
    "# 1. 2\n",
    "#2. The code will raise an AttributeError exception\n",
    "#3. 0\n",
    "4. 1"
   ]
  },
  {
   "cell_type": "code",
   "execution_count": null,
   "metadata": {},
   "outputs": [],
   "source": [
    "#Question 6: What will be the result of executing the following code?\n",
    "class A:\n",
    "    def_str_(self):\n",
    "        return 'a'\n",
    "\n",
    "class B:\n",
    "    def_str_(self):\n",
    "        return 'b'\n",
    "\n",
    "class C(A, B):\n",
    "     pass\n",
    "\n",
    "o = C()\n",
    "print(o)\n",
    "#1. it will print b\n",
    "#2. it will print c\n",
    "#3. it will print a\n",
    "#4. it will raise an exception"
   ]
  },
  {
   "cell_type": "code",
   "execution_count": null,
   "metadata": {},
   "outputs": [],
   "source": [
    "#Question 7. What will be the result of executing the following code?\n",
    "class A:\n",
    "    def a(self):\n",
    "        print('a')\n",
    "\n",
    "class B:\n",
    "    def a(self):\n",
    "        self.a()\n",
    "\n",
    "\n",
    "o = C()\n",
    "o.c()\n",
    "#1. it will raise an exception\n",
    "#2. it will print a\n",
    "#3. it will print c\n",
    "#4. it will print b"
   ]
  },
  {
   "cell_type": "code",
   "execution_count": null,
   "metadata": {},
   "outputs": [],
   "source": [
    "#Question 8: What will be the result of executing the following code?\n",
    "try:\n",
    "   raise Exception(1,2,3)\n",
    "except Exception as e:\n",
    "   print (len(e.args))\n",
    "#1. it will print 1\n",
    "#2. it will print 2\n",
    "#3. it will raise as unhandled exception\n",
    "#4 it will print 3"
   ]
  },
  {
   "cell_type": "code",
   "execution_count": null,
   "metadata": {},
   "outputs": [],
   "source": [
    "#Question 9 What will be the output of the following code?\n",
    "class A:\n",
    "   X = 0\n",
    "   def __init__(self,v = 0):\n",
    "       self.Y = v\n",
    "       A.X += v\n",
    "a = A()\n",
    "b = A(1)\n",
    "c = A(2)\n",
    "print(c.X)\n",
    "#1. 2\n",
    "#2. 3\n",
    "#3. 0\n",
    "#4. 1"
   ]
  },
  {
   "cell_type": "code",
   "execution_count": null,
   "metadata": {},
   "outputs": [],
   "source": [
    "#Question 10: If the class’s constructor is declared as below, which one of  the assignments is valid?\n",
    "class Class:\n",
    "     def __init__(self):\n",
    "         pass\n",
    "#1. object = Class\n",
    "#2. object = Class()\n",
    "#3. object = Class(self)\n",
    "#4. object = Class(object)"
   ]
  },
  {
   "cell_type": "code",
   "execution_count": null,
   "metadata": {},
   "outputs": [],
   "source": [
    "#Question 11: What will be the result of executing the following code?\n",
    "def f(x):\n",
    "    try:\n",
    "        x = x / x\n",
    "     except:\n",
    "        print(\"a\",end='')\n",
    "     else:\n",
    "        print(\"b\",end='')\n",
    "     finally:\n",
    "        print(\"c\",end='')\n",
    "f(1)\n",
    "f(0)\n",
    "#1. it will raise an unhandled exception\n",
    "#2. it will print bcac \n",
    "#3. it will print acac\n",
    "#4. it will print bcbc "
   ]
  },
  {
   "cell_type": "code",
   "execution_count": null,
   "metadata": {},
   "outputs": [],
   "source": [
    "#Question 12: \n",
    "#If there is a superclass named A and a subclass named B, \n",
    "#which one of the presented invocations should you put instead of the comment?\n",
    "class A:\n",
    "     def __init__(self):\n",
    "        self.a = 1\n",
    "class B(A):\n",
    "     def __init__(self):\n",
    "         # put selected line here.\n",
    "         self.b = 2\n",
    "#1. A.__init__(self)\n",
    "#2. __init__()\n",
    "#3. A.__init__()\n",
    "#4. A.__init__(1)"
   ]
  },
  {
   "cell_type": "code",
   "execution_count": null,
   "metadata": {},
   "outputs": [],
   "source": [
    "#Question 13: What will be the result of executing the following code?\n",
    "class A:\n",
    "     def__init__(self):\n",
    "         pass\n",
    "a = A(1)\n",
    "print(hasattr(a,'A'))\n",
    "#1. 1\n",
    "#2. False\n",
    "#3. it will raise an exception\n",
    "#4. True"
   ]
  },
  {
   "cell_type": "code",
   "execution_count": null,
   "metadata": {},
   "outputs": [],
   "source": [
    "#Question 14: What will be the result of executing the following code?\n",
    "class A:\n",
    "​​​​     def__init__(self):\n",
    "          return 'a'\n",
    "class B(A):\n",
    "      def__init__(self):\n",
    "           return 'b'\n",
    "class c(B):\n",
    "      pass\n",
    "o = C()\n",
    "print(o)\n",
    "#1. it will print c \n",
    "#2. it will print b\n",
    "#3. it will print a \n",
    "#4. it will raise an exception"
   ]
  },
  {
   "cell_type": "code",
   "execution_count": null,
   "metadata": {},
   "outputs": [],
   "source": [
    "#Question 15: What will be the output of the following code?\n",
    "class A:\n",
    "     def__init__(self,v = 1):\n",
    "         self.v =v\n",
    "     def set(self,v):\n",
    "         self.v = v\n",
    "         return v\n",
    "a = A()\n",
    "print(a.set(a.v + 1))        \n",
    "#1. 2\n",
    "#2. 1\n",
    "#3. 3\n",
    "#4. 0"
   ]
  },
  {
   "cell_type": "code",
   "execution_count": null,
   "metadata": {},
   "outputs": [],
   "source": [
    "#Question 16: What will be the result of executing the following code?\n",
    "class A:\n",
    "      v = 2\n",
    "class B(A):\n",
    "      v = 1\n",
    "class C(B):\n",
    "      pass\n",
    "o =C()\n",
    "print(o.v)\n",
    "#1. it will raise an exception \n",
    "#2. it will print 2\n",
    "#3. it will print an empty line\n",
    "#4. it will print 1"
   ]
  },
  {
   "cell_type": "markdown",
   "metadata": {},
   "source": [
    "# Section 4: Object-Oriented Programming (34%)\n",
    "\n",
    "## Objectives covered by the block (12 exam items)\n",
    "1. Basic concepts of object-oriented programming (OOP); \n",
    "2. The differences between the procedural and object approaches (motivations and profits); \n",
    "3. Classes, objects, properties, and methods; \n",
    "4. Designing reusable classes and creating objects; \n",
    "5. Inheritance and polymorphism; Exceptions as objects.\n",
    "\n",
    "### PCAP-31-03 4.1 – Understand the Object-Oriented approach\n",
    "\n",
    "ideas and notions: class, object, property, method, encapsulation, inheritance, superclass, subclass, identifying class components\n",
    "### PCEP-31-03 4.2 – Employ class and object properties\n",
    "\n",
    "instance vs. class variables: declarations and initializations\n",
    "the __dict__ property (objects vs. classes)\n",
    "private components (instances vs. classes)\n",
    "name mangling\n",
    "\n",
    "### PCAP-31-03 4.3 – Equip a class with methods\n",
    "\n",
    "declaring and using methods\n",
    "the self parameter\n",
    "PCAP-31-03 4.4 – Discover the class structure\n",
    "\n",
    "introspection and the hasattr() function (objects vs classes)\n",
    "properties: __name__, __module__ , __bases__\n",
    "### PCAP-31-03 4.5 – Build a class hierarchy using inheritance\n",
    "\n",
    "single and multiple inheritance\n",
    "the isinstance() function\n",
    "overriding\n",
    "operators:\n",
    "not is\n",
    ", is\n",
    "polymorphism\n",
    "overriding the __str__() method\n",
    "diamonds\n",
    "\n",
    "### PCAP-31-03 4.6 – Construct and initialize objects\n",
    "\n",
    "declaring and invoking constructors"
   ]
  },
  {
   "cell_type": "markdown",
   "metadata": {},
   "source": [
    "This exam block is the fourth section that appears in the exam. It constitutes a maximum of 34% of the overall exam score. It contains twelve (12) single-choice and multiple-choice items, each one can be graded 1, 2 or 4 points."
   ]
  },
  {
   "cell_type": "markdown",
   "metadata": {},
   "source": [
    "\n",
    "Study Pages\n",
    "\n",
    "Objectives covered by the block:\n",
    "\n",
    "Object-Oriented Programming\n",
    "1. ideas: class, object, property, method, encapsulation, inheritance, grammar vs class, superclass, subclass;\n",
    "2. instance vs class variables: declaring, initializing;\n",
    "3. __dict__ property (objects vs classes)\n",
    "4. private components (instance vs classes), name mangling;\n",
    "5. methods: declaring, using; the self parameter;\n",
    "6. instrospection: hasattr() (objects vs classes), __name__, __module__, __bases__ properties;\n",
    "7. inheritance: single, multiple, isinstance(), overriding, not is and is operators;\n",
    "8. constructors: declaring and invoking;\n",
    "9. polymorphism;\n",
    "10. the __str__() method;\n",
    "11. multiple inheritance, diamonds."
   ]
  },
  {
   "cell_type": "markdown",
   "metadata": {},
   "source": [
    "Below is a test to gauge your level of knowledge prior to revision:"
   ]
  },
  {
   "cell_type": "markdown",
   "metadata": {},
   "source": [
    "Question 1 Select one answer\n",
    "A subclass is usually:\n",
    "1. More specialized than its superclass.\n",
    "2. More General than its superclass\n",
    "3. A twin of its superclass"
   ]
  },
  {
   "cell_type": "markdown",
   "metadata": {},
   "source": [
    "Question 2. Select one answer with the three correct characteristics.\n",
    "An object is characterized by the following three:\n",
    "1. Properties, name, land.\n",
    "2. Name, properties, objects.\n",
    "3. Name properties, activities.\n",
    "4. Name, owner, functions."
   ]
  },
  {
   "cell_type": "markdown",
   "metadata": {},
   "source": [
    "Question 3. An alternative name for a data structure called a stack is:(select one)\n",
    "1. MRO\n",
    "2. LOFI\n",
    "3. LIFO\n",
    "4. MIRO"
   ]
  },
  {
   "cell_type": "markdown",
   "metadata": {},
   "source": [
    "Q4. A variable that exists as a separate being in separate objects is called:(select one)\n",
    "1. An object Variable.\n",
    "2. A Instance Variable.\n",
    "3. A Class Variable.\n",
    "4. A method Variable."
   ]
  },
  {
   "cell_type": "markdown",
   "metadata": {},
   "source": [
    "Question 5. A function that is able to check if an object is equipped with a certain property is:\n",
    "1. hasattr()\n",
    "2. hasatrr()\n",
    "3. hsattr()\n",
    "4. hasattri()"
   ]
  },
  {
   "cell_type": "markdown",
   "metadata": {},
   "source": [
    "Question 6. Is there a way to check if a class is a subclass of another class:\n",
    "1. No\n",
    "2. Yes there is a function to do that.\n",
    "3. It may be possible but only under special conditions."
   ]
  },
  {
   "cell_type": "markdown",
   "metadata": {},
   "source": [
    "Question 7. The function named super() may be used to:\n",
    "1. Create a super function.\n",
    "2. Create a super method.\n",
    "3. Make a class better.\n",
    "4. Make a class super.\n",
    "5. Access a superclasses attributes and or methods"
   ]
  },
  {
   "cell_type": "markdown",
   "metadata": {},
   "source": [
    "Question 8. A user defined exception:\n",
    "1. Must not be derived from the exception class.\n",
    "2. Must be derived from the exception class.\n",
    "3. May be derived from the exception class."
   ]
  },
  {
   "cell_type": "markdown",
   "metadata": {},
   "source": [
    "Question 9. Select the two true statements:\n",
    "1. You cannot define new exception as subclasses from predefined exceptions.\n",
    "2. The finally branch of the try statement is always executed.\n",
    "3. The finally branch of the try statement may be executed if special conditions are met.\n",
    "4. The args property is a tuple designed to gather all arguments passed through the class constructor.\n",
    "   "
   ]
  },
  {
   "cell_type": "code",
   "execution_count": null,
   "metadata": {},
   "outputs": [],
   "source": [
    "#Q10. What is the output of the code below:\n",
    "#1. B\n",
    "#2. A\n",
    "#3. TypeError\n",
    "#4. 4\n",
    "#5. The program will cause a ValueType Error Exception.\n",
    "import math\n",
    "try:\n",
    "    print(math.pow(2))\n",
    "except TypeError:\n",
    "    print('A')\n",
    "else:\n",
    "    print('B')"
   ]
  },
  {
   "cell_type": "markdown",
   "metadata": {},
   "source": [
    "Q11. A data structure described as LIFO is:\n",
    "1. A heap\n",
    "2. A algorithm\n",
    "3. A list\n",
    "4. A stack\n",
    "5. A dictionary."
   ]
  },
  {
   "cell_type": "code",
   "execution_count": null,
   "metadata": {},
   "outputs": [],
   "source": [
    "#Question 12: Which is the correct output:\n",
    "#1. A\n",
    "#2. False\n",
    "#3. True\n",
    "#4. A ValueType error\n",
    "class A:\n",
    "    A = 1\n",
    "print(hasattr(A, 'A'))"
   ]
  },
  {
   "cell_type": "code",
   "execution_count": null,
   "metadata": {},
   "outputs": [],
   "source": [
    "#Q13. What is the output of the following code snippet:\n",
    "#1. 2\n",
    "#2. 1\n",
    "#3 Raise an exception\n",
    "#4. Print an empty line\n",
    "class A:\n",
    "    v = 2\n",
    "class B:\n",
    "    v = 1\n",
    "class C(B):\n",
    "    pass\n",
    "o = C\n",
    "print(o.v)\n",
    "\n"
   ]
  },
  {
   "cell_type": "code",
   "execution_count": null,
   "metadata": {},
   "outputs": [],
   "source": [
    "#Q14. \n",
    "#What is the output of the below code snippet:\n",
    "#1. it will raise an exception.\n",
    "#2 it will print a\n",
    "#3 it will print b\n",
    "#4 it will print c\n",
    "\n",
    "class A:\n",
    "    def __str__(self):\n",
    "        return 'a'\n",
    "\n",
    "class B:\n",
    "    def __str__(self):\n",
    "        return 'b'\n",
    "class C(B):#note if i had class C(A, B) the print statement would print a\n",
    "    pass\n",
    "\n",
    "o = C()\n",
    "print(o)\n"
   ]
  },
  {
   "cell_type": "code",
   "execution_count": null,
   "metadata": {},
   "outputs": [],
   "source": [
    "\n",
    "#Question 15. What is the result of the code snippet:\n",
    "#\n",
    "class A:\n",
    "    def __init__(self, v = 1):\n",
    "        self.v = v\n",
    "    def set(self, v):\n",
    "        self.v = v\n",
    "        return v\n",
    "a = A()\n",
    "print(a.set(a.v + 1))\n",
    "    "
   ]
  },
  {
   "cell_type": "code",
   "execution_count": null,
   "metadata": {},
   "outputs": [],
   "source": [
    "#Question 16.\n",
    "#Which is correct:\n",
    "#1 object = class(self)\n",
    "#2 Object = class(object)\n",
    "# Object = class\n",
    "# Object = glass\n",
    "class A:\n",
    "    def __init__(self):\n",
    "        pass\n",
    "        "
   ]
  },
  {
   "cell_type": "code",
   "execution_count": null,
   "metadata": {},
   "outputs": [],
   "source": [
    "#Question 17. What will be the result of the following code:\n",
    "def f(X):\n",
    "    try:\n",
    "        X = X/X\n",
    "    except:\n",
    "        print(\"a\",end='')\n",
    "    else:\n",
    "        print(\"b\",end='')\n",
    "    finally:\n",
    "        print(\"c\",end='')\n",
    "f(1)\n",
    "f(0)"
   ]
  },
  {
   "cell_type": "code",
   "execution_count": null,
   "metadata": {},
   "outputs": [],
   "source": [
    "#Question 18 what is the result:\n",
    "class A:\n",
    "    def __init__(self):\n",
    "        pass\n",
    "a = A(1)\n",
    "print(hasattr(a, 'A'))"
   ]
  },
  {
   "cell_type": "code",
   "execution_count": null,
   "metadata": {},
   "outputs": [],
   "source": [
    "#Question 19. What is the excpected output:\n",
    "class A:\n",
    "    X = 0\n",
    "    def __init__(self, v = 0):\n",
    "        self.Y = v\n",
    "        A.X += v\n",
    "a = A()\n",
    "b = A(1)\n",
    "c = A(2)\n",
    "print(c.X)\n"
   ]
  },
  {
   "cell_type": "code",
   "execution_count": null,
   "metadata": {},
   "outputs": [],
   "source": [
    "#Question 20. what is the expected output?\n",
    "#1. An unhandled exception\n",
    "#2, it will print an empty line\n",
    "#3. it will print ex\n",
    "#4. it will print exex\n",
    "\n",
    "class Ex(Exception):\n",
    "    def __init__(self, msg):\n",
    "        Exception.__init__(self, msg + msg)\n",
    "        self.args = (msg,)\n",
    "\n",
    "try:\n",
    "    raise Ex('ex')\n",
    "except Ex as e:\n",
    "    print(e)\n",
    "except Exception as e:\n",
    "    print(e)"
   ]
  },
  {
   "cell_type": "code",
   "execution_count": null,
   "metadata": {},
   "outputs": [],
   "source": [
    "#Question 21. What is the result of the code snippet:\n",
    "#1. it will raise an unhandled Exception\n",
    "#2. it will print 1\n",
    "#3. it will print 1 2 3\n",
    "#. it will print 3\n",
    "try:\n",
    "    raise exception(1,2,3)\n",
    "except Exception as e:\n",
    "    print(len(e.args))"
   ]
  },
  {
   "cell_type": "code",
   "execution_count": null,
   "metadata": {},
   "outputs": [],
   "source": [
    "#Question 22, if there is a superclass A and a class B which one of the below \n",
    "#invocations is correct, to replace the #comment place code here\n",
    "#1. A.__init__(1)\n",
    "#2. A.__init__()\n",
    "#3 __init__()\n",
    "#4. A.__init__(self)\n",
    "\n",
    "class A:\n",
    "    def __init__(self):\n",
    "        self.a = 1\n",
    "class B(A):\n",
    "    def __init__(self):\n",
    "        A.__init__(self)\n",
    "        self.b = 2"
   ]
  },
  {
   "cell_type": "code",
   "execution_count": null,
   "metadata": {},
   "outputs": [],
   "source": [
    "class A:\n",
    "    def __init__(self):\n",
    "        pass\n",
    "a = A(1)\n",
    "print(hasattr(a, 'A'))"
   ]
  },
  {
   "cell_type": "code",
   "execution_count": null,
   "metadata": {},
   "outputs": [],
   "source": [
    "x = \"\\\\\\\\\"\n",
    "print(len(x))"
   ]
  },
  {
   "cell_type": "code",
   "execution_count": null,
   "metadata": {},
   "outputs": [],
   "source": [
    "from datetime import timedelta\n",
    "delta = timedelta(weeks = 1, days = 7, hours = 11)\n",
    "print(delta * 2)"
   ]
  },
  {
   "cell_type": "code",
   "execution_count": null,
   "metadata": {},
   "outputs": [],
   "source": [
    "\n",
    "def o(p):\n",
    "    def q():\n",
    "        return '*' * p\n",
    "    return q\n",
    "\n",
    "r = o(1)\n",
    "s = o(2)\n",
    "print(r() + s())\n",
    "\n",
    "\n",
    "        \n"
   ]
  },
  {
   "cell_type": "code",
   "execution_count": null,
   "metadata": {},
   "outputs": [],
   "source": [
    "numbers = [i*i for i in range(5)]#list [0, 1, 2, 3, 4] becomes [0, 1, 4, 9, 16] because of i*i\n",
    "#foo = list()\n",
    "foo = list(filter(lambda x: x%2, numbers))#the %2 filters and removes numbers %2 with no value remaining\n",
    "#so 0, 4 and 16 can be divided by 2 and return a 0 value, so they are filtered out leaving 1 and 9\n",
    "print(foo)\n"
   ]
  },
  {
   "cell_type": "code",
   "execution_count": null,
   "metadata": {},
   "outputs": [],
   "source": [
    "class A:\n",
    "    A = 1\n",
    "    def __init__(self):\n",
    "        self.a = 0\n",
    "print(hasattr(A, 'a'))\n",
    "print(__name__)"
   ]
  },
  {
   "cell_type": "code",
   "execution_count": null,
   "metadata": {},
   "outputs": [],
   "source": [
    "class A:\n",
    "    def __init__(self):\n",
    "        pass\n",
    "a = A(1)\n",
    "print(hasattr(a, 'A'))#the code raises an exception because the A has ''"
   ]
  },
  {
   "cell_type": "code",
   "execution_count": null,
   "metadata": {},
   "outputs": [],
   "source": [
    "x = \"\\\\\\\"\n",
    "#is an error, earlier we had an example with four forward slashes and double quotes returned 2\n",
    "\n",
    "print(len(x))\n"
   ]
  },
  {
   "cell_type": "code",
   "execution_count": null,
   "metadata": {},
   "outputs": [],
   "source": [
    "#the compiled python bytecode is stored in files which have their names ending with?\n",
    "#Answer is pyc"
   ]
  },
  {
   "cell_type": "markdown",
   "metadata": {},
   "source": [
    "Answer Key\n",
    "1. Q1. is 1, a subclass is more specialized than its superclass.\n",
    "2. Q2. Name, Properties and activities.\n",
    "3. Q3. LIFO, last in first off, a stack(a data structure) \n",
    "    is like a stack of coins, the last one in is the first one off.\n",
    "4. Q4. A variable that exists as a separate being in separate objects is an instance variable.\n",
    "5. Q5. hasattr() is a function that can check if an object has certain properties, \n",
    "    it takes two args, its syntax is: hasattr(object, name) and returns True or False\n",
    "6. Q6. Yes the function to check if a class is a subclass of another class is the aptly named:  issubclass() is built-in function used to check if a class is a subclass of another class or not. \n",
    "    This function returns True if the given class is the subclass of given class else it returns False.\n",
    "7. Q7. The answer is  Access a superclasses attributes and or methods.\n",
    "8. Q8. May be derived from the Exception class.\n",
    "9. Q9. The args property is a tuple designed to gather all arguments passed through the class constructor. \n",
    "(note:__bases__(dunder meaning it has a double underscore on either side.) is a tuple containing \n",
    "the base classes, in the order of their occurrence in the base class list)\n",
    "10. Q10. The correct answer is A, the try instruction is 2 to the power of nothing, so the except TypeError is\n",
    "    invoked, and the print('A') is executed.\n",
    "11. Q11. A stack, the LIFO is last in first off.\n",
    "12. The return is True, as 'A' is an attribute of Class A, a class or object is an \n",
    "    attribute of itself, and the function hasattr() returns a boolean value.\n",
    "13. It will print 1 to the screen, class C is a subclass of A, Class b has a variable V and it is assigned a\n",
    "    data type int of value 1, an object o is instantiated from the class C, C is a subclass of B and inherits\n",
    "    the class C traits, the class C has no instance or methods. print statement o.v is a qualifier, print \n",
    "    the object o as v, which is 1.\n",
    "14. Prints b to screen\n",
    "15. The answer is 2 is printed to the screen.\n",
    "16. object = class\n",
    "17. and the finally will print regardless so thats the bc, the second object f with the value o, will raise\n",
    "    an exception for ZeroDivisionError so the except is executed and the print a is invoked and again the finally\n",
    "    will always execute, so thats the ac, together its bcac\n",
    "\n",
    "18. it will raise an exception.\n",
    "19. The output is 3\n",
    "20. It will print ex.\n",
    "21. It will count the total args which is 3(1, 2, 3) and print 3 to the screen\n",
    "22. "
   ]
  },
  {
   "cell_type": "markdown",
   "metadata": {},
   "source": [
    "1. A class is an idea (more or less abstract) which can be used to create a number of incarnations – such an incarnation is called an object.\n",
    "\n",
    "\n",
    "2. When a class is derived from another class, their relation is named inheritance. The class which derives from the other class is named a subclass. The second side of this relation is named superclass. A way to present such a relation is an inheritance diagram, where:\n",
    "\n",
    "superclasses are always presented above their subclasses;\n",
    "relations between classes are shown as arrows directed from the subclass toward its superclass.\n",
    "\n",
    "3. Objects are equipped with:\n",
    "\n",
    "a name which identifies them and allows us to distinguish between them;\n",
    "a set of properties (the set can be empty)\n",
    "a set of methods (can be empty, too)\n",
    "\n",
    "4. To define a Python class, you need to use the class keyword. For example:"
   ]
  },
  {
   "cell_type": "code",
   "execution_count": null,
   "metadata": {},
   "outputs": [],
   "source": [
    "class This_Is_A_Class:\n",
    "     pass\n",
    "\n",
    "class Sample:\n",
    "     pass"
   ]
  },
  {
   "cell_type": "markdown",
   "metadata": {},
   "source": [
    "5. To create an object of the previously defined class, you need to use the class as if it were a function. For example:"
   ]
  },
  {
   "cell_type": "code",
   "execution_count": null,
   "metadata": {},
   "outputs": [],
   "source": [
    "this_is_an_object = This_Is_A_Class()\n",
    "Object = Sample()\n"
   ]
  },
  {
   "cell_type": "markdown",
   "metadata": {},
   "source": [
    "1. A stack is an object designed to store data using the LIFO model, The stack usually accomplishes two operations \n",
    "   the push() and pop(). \n",
    "2. Implementing a stack in the procedural model can raise several problems, the OOP model can address and solve these challenges. \n",
    "3. A class method is a function declared inside the class and able to access all the components inside of the class. \n",
    "4. The part of the python class responsible for creating new objects is called the constructor and its implemented \n",
    "   as a method of the name __init__.\n",
    "5. Each class method declaration must contain at least one parameter, always the first one and usually referred to as the self, \n",
    "   its not absolute to call it the self, but its standard practice.\n",
    "6. The self is used by the objects to identify themselves.\n",
    "7. If we want to hide any of the classes components from the outside world we should start its name with __(double underscore) \n",
    "   such components are called private\n",
    "   \n"
   ]
  },
  {
   "cell_type": "markdown",
   "metadata": {},
   "source": [
    "8. How to create a class:\n",
    "   class Snakes: is how to declare a class, use Pascal Case, to declare a subclass of Snakes, class Python(Snakes):\n"
   ]
  },
  {
   "cell_type": "code",
   "execution_count": null,
   "metadata": {},
   "outputs": [],
   "source": [
    "#simple class with the __init__ the self\n",
    "class Snakes\n",
    "    def __init__(self, sound):\n",
    "        self.sound = 'Sssssss'"
   ]
  },
  {
   "cell_type": "code",
   "execution_count": null,
   "metadata": {},
   "outputs": [],
   "source": [
    "#modify the code to create the venomous property as as private \n",
    "class Snakes\n",
    "    def __init__(self):\n",
    "        self.venomous = True\n",
    "#the modified code:\n",
    "class Snakes\n",
    "    def __init__(self):\n",
    "        self.__venomous = True"
   ]
  },
  {
   "cell_type": "markdown",
   "metadata": {},
   "source": [
    "WE create our own stack class that will push and pop values off and on, and count.\n",
    "we want the class to have one property as the stack's storage - we have to \"install\" \n",
    "a list inside each object of the class (note: each object has to have its own list - the list mustn't be shared among \n",
    "different stacks)then, we want the list to be hidden from the class users' sight, How is this done?\n",
    "\n",
    "In contrast to other programming languages, Python has no means of allowing you to declare such a property just like that.\n",
    "\n",
    "Instead, you need to add a specific statement or instruction. The properties have to be added to the class manually.\n",
    "\n",
    "How do you guarantee that such an activity takes place every time the new stack is created?\n",
    "\n",
    "There is a simple way to do it - you have to equip the class with a specific function - its specificity is dual:\n",
    "\n",
    "it has to be named in a strict way;\n",
    "it is invoked implicitly, when the new object is created.\n",
    "Such a function is called a constructor, as its general purpose is to construct a new object. The constructor should know everything about the object's structure, and must perform all the needed initializations.\n",
    "\n",
    "Let's add a very simple constructor to the new class. Take a look at the snippet:\n",
    "\n"
   ]
  },
  {
   "cell_type": "code",
   "execution_count": null,
   "metadata": {},
   "outputs": [],
   "source": [
    "class Stack: ## Defining the Stack class.\n",
    "    def __init__(self,): #Defining the constructor function.\n",
    "        self.stack_list = [] #set a properties value you are creating it, the dot notation is accessing an objects property, name it.\n",
    "stack_object = Stack()  # Instantiating the object.\n"
   ]
  },
  {
   "cell_type": "code",
   "execution_count": null,
   "metadata": {},
   "outputs": [],
   "source": [
    "#When any class component has a name starting with two underscores (__), it becomes private - \n",
    "#this means that it can be accessed only from within the class.\n",
    "\n",
    "#You cannot see it from the outside world. This is how Python implements the encapsulation concept.\n",
    "class Stack:\n",
    "    def __init__(self):\n",
    "        self.__stack_list = []#making the property \n",
    "\n",
    "\n",
    "stack_object = Stack()\n",
    "print(len(stack_object.__stack_list))\n",
    "#if you try Run the programyou will receive - an AttributeError exception should be raised.\n",
    "#we want the constructed list to be hidden from the ordinary class users."
   ]
  },
  {
   "cell_type": "code",
   "execution_count": null,
   "metadata": {},
   "outputs": [],
   "source": [
    "#Now it's time for the two functions (methods) implementing the push and pop operations. \n",
    "#Python assumes that a function of this kind (a class activity) should be immersed inside the class body - just like a constructor.\n",
    "#We want to invoke these functions to push and pop values. This means that they should both be accessible to every class's user \n",
    "#(in contrast to the previously constructed list, which is hidden from the ordinary class's users)\n",
    "#Such a component is called public, so you can't begin its name with two (or more) underscores. \n",
    "#There is one more requirement - the name must have no more than one trailing underscore. \n",
    "#As no trailing underscores at all fully meets the requirement, you can assume that the name is acceptable.\n",
    "class Stack:\n",
    "    def __init__(self):\n",
    "        self.__stack_list = []\n",
    "\n",
    "    def push(self, val):\n",
    "        self.__stack_list.append(val)\n",
    "\n",
    "    def pop(self):\n",
    "        val = self.__stack_list[-1]\n",
    "        del self.__stack_list[-1]\n",
    "        return val\n",
    "\n",
    "stack_object_1 = Stack()\n",
    "stack_object_2 = Stack()\n",
    "\n",
    "stack_object_1.push(1)\n",
    "stack_object_2.push(stack_object_1.pop())\n",
    "\n",
    "print(stack_object_2.pop())"
   ]
  },
  {
   "cell_type": "markdown",
   "metadata": {},
   "source": [
    "WE now create three objects of the class stack"
   ]
  },
  {
   "cell_type": "code",
   "execution_count": null,
   "metadata": {},
   "outputs": [],
   "source": [
    "class Stack:\n",
    "    def __init__(self):\n",
    "        self.__stack_list = []\n",
    "\n",
    "    def push(self, val):\n",
    "        self.__stack_list.append(val)\n",
    "\n",
    "    def pop(self):\n",
    "        val = self.__stack_list[-1]\n",
    "        del self.__stack_list[-1]\n",
    "        return val\n",
    "\n",
    "\n",
    "class AddingStack(Stack):\n",
    "    def __init__(self):\n",
    "        Stack.__init__(self)\n",
    "        self.__sum = 0\n",
    "\n",
    "little_stack = Stack()\n",
    "another_stack = Stack()\n",
    "funny_stack = Stack()\n",
    "\n",
    "little_stack.push(1)\n",
    "another_stack.push(little_stack.pop() + 1)\n",
    "funny_stack.push(another_stack.pop() - 2)\n",
    "\n",
    "print(funny_stack.pop())\n",
    "#line 13 creating a subclass called AddingClass of the superClass Stack, the __sum instance variable is private property\n",
    "#Line 14 Python forces you to explicitly invoke a superclass's constructor. Omitting this point will have harmful effects - \n",
    "#the object will be deprived of the __stack_list list. Such a stack will not function properly. This is the only \n",
    "#time you can invoke any of the available constructors explicitly - it can be done inside the subclass's constructor."
   ]
  },
  {
   "cell_type": "code",
   "execution_count": null,
   "metadata": {},
   "outputs": [],
   "source": [
    "class Stack:\n",
    "    def __init__(self):\n",
    "        self.__stack_list = []\n",
    "\n",
    "    def push(self, val):\n",
    "        self.__stack_list.append(val)\n",
    "\n",
    "    def pop(self):\n",
    "        val = self.__stack_list[-1]\n",
    "        del self.__stack_list[-1]\n",
    "        return val\n",
    "\n",
    "\n",
    "class AddingStack(Stack):\n",
    "    def __init__(self):\n",
    "        Stack.__init__(self)\n",
    "        self.__sum = 0\n",
    "\n",
    "    def get_sum(self):\n",
    "        return self.__sum\n",
    "\n",
    "    def push(self, val):\n",
    "        self.__sum += val\n",
    "        Stack.push(self, val)\n",
    "\n",
    "    def pop(self):\n",
    "        val = Stack.pop(self)\n",
    "        self.__sum -= val\n",
    "        return val\n",
    "#we invoked the superclass using Stack.__init__ inside the subclass this must be declared before additional code.\n",
    "#we added a new method inside the subclass two sum methods(within push and pop) override the superclass ones.\n",
    "#push method with a sum variable to add 1 and a new method to pop with a sum variable to subtract\n",
    "stack_object = AddingStack()\n",
    "\n",
    "for i in range(5):\n",
    "    stack_object.push(i)\n",
    "print(stack_object.get_sum())\n",
    "\n",
    "for i in range(5):\n",
    "    print(stack_object.pop())\n",
    "\n",
    "print(dict(CountingStack))"
   ]
  },
  {
   "cell_type": "code",
   "execution_count": null,
   "metadata": {},
   "outputs": [],
   "source": [
    "class Stack:\n",
    "    def __init__(self):\n",
    "        self.__stk = []\n",
    "\n",
    "    def push(self, val):\n",
    "        self.__stk.append(val)\n",
    "\n",
    "    def pop(self):\n",
    "        val = self.__stk[-1]\n",
    "        del self.__stk[-1]\n",
    "        return val\n",
    "\n",
    "\n",
    "class CountingStack(Stack):\n",
    "    def __init__(self):\n",
    "    #Stack.__init__(self)\n",
    "    # Fill the constructor with appropriate actions.\n",
    "    #\n",
    "\n",
    "    def get_counter(self):\n",
    "        \n",
    "        return \n",
    "    #\n",
    "    # Present the counter's current value to the world.\n",
    "    #\n",
    "\n",
    "    def pop(self):\n",
    "    #\n",
    "    # Do pop and update the counter.\n",
    "    #\n",
    "\t\n",
    "\n",
    "stk = CountingStack()\n",
    "for i in range(100):\n",
    "    stk.push(i)\n",
    "    stk.pop()\n",
    "print(stk.get_counter())\n"
   ]
  },
  {
   "cell_type": "markdown",
   "metadata": {},
   "source": [
    "Your task is to extend the Stack class behavior in such a way so that the class is able to count all the elements that are pushed and popped (we assume that counting pops is enough). Use the Stack class we've provided in the editor.\n",
    "\n",
    "Follow the hints:\n",
    "\n",
    "1. introduce a property designed to count pop operations and name it in a way which guarantees hiding it;\n",
    "2. initialize it to zero inside the constructor;\n",
    "3. provide a method which returns the value currently assigned to the counter (name it get_counter()).\n",
    "4. Complete the code in the editor. Run it to check whether your code outputs 100."
   ]
  },
  {
   "cell_type": "markdown",
   "metadata": {},
   "source": [
    "   KEY TAKEAWAYS IMPORTANT A QUESTION WILL COME UP IN PCAP ON WHAT IS LIFO OR PUSH() POP()\n",
    "1. A stack is an object designed to store data using the LIFO model. The stack usually accomplishes at least two operations, named push() and pop().\n",
    "   \n",
    "2. A queue is a data model characterized by the term FIFO: First In - Fist Out. Note: a regular queue (line) you know from shops or post offices works exactly in the same way - a customer who came first is served first too.\n",
    "   \n",
    "3. Implementing the stack in a procedural model raises several problems which can be solved by the techniques offered by OOP (Object Oriented Programming):\n",
    "\n",
    "\n",
    "4. A class method is actually a function declared inside the class and able to access all the class's components.\n",
    "\n",
    "\n",
    "5. The part of the Python class responsible for creating new objects is called the constructor, and it's implemented as a method of the name __init__.\n",
    "\n",
    "\n",
    "6. Each class method declaration must contain at least one parameter (always the first one) usually referred to as self, and is used by the objects to identify themselves.\n",
    "\n",
    "\n",
    "7. If we want to hide any of a class's components from the outside world, we should start its name with __. Such components are called private.\n",
    "\n"
   ]
  },
  {
   "cell_type": "code",
   "execution_count": null,
   "metadata": {},
   "outputs": [],
   "source": [
    "#Exercise 1\n",
    "\n",
    "#Assuming that there is a class named Snakes, write the very first line of the Python class declaration, \n",
    "#expressing the fact that the new class is actually a subclass of Snake.\n",
    "\n",
    "#Answer\n",
    "class Python(Snakes):"
   ]
  },
  {
   "cell_type": "code",
   "execution_count": null,
   "metadata": {},
   "outputs": [],
   "source": [
    "#Exercise 2\n",
    "\n",
    "#Something is missing from the following declaration – what?\n",
    "\n",
    "class Snakes\n",
    "    def __init__():\n",
    "        self.sound = 'Sssssss'\n",
    "\n",
    "\n",
    "#Answer\n",
    "#The __init__() constructor lacks the obligatory parameter (we should name it self to stay compliant with the standards)."
   ]
  },
  {
   "cell_type": "code",
   "execution_count": null,
   "metadata": {},
   "outputs": [],
   "source": [
    "#Exercise 3\n",
    "\n",
    "#Modify the code to guarantee that the venomous property is private.\n",
    "\n",
    "class Snakes\n",
    "    def __init__(self):\n",
    "        self.venomous = True\n",
    "\t\t\n",
    "\n",
    "#Answer\n",
    "#The code should look as follows:\n",
    "\n",
    "class Snakes\n",
    "    def __init__(self):\n",
    "        self.__venomous = True"
   ]
  },
  {
   "cell_type": "markdown",
   "metadata": {},
   "source": [
    "1. Object-Oriented Programming (OOP) is a programming paradigm (a distinct set of coding techniques) based on the concept of objects. An object is an entity which combines data and code.\n",
    "\n",
    "The data is stored in the form of fields (also known as attributes or properties), and code is represented in the form of functions (also known as methods).\n",
    "\n",
    "The bundling of data and the methods which operate on that data, or restricting direct access to the data, is called encapsulation."
   ]
  },
  {
   "cell_type": "code",
   "execution_count": null,
   "metadata": {},
   "outputs": [],
   "source": [
    "# Example\n",
    "\n",
    "class TheClass:\n",
    "    class_variable = True  # This is a class variable (property).\n",
    "\n",
    "    def __init__(self):\n",
    "        self.instance_variable = False  # This is an instance variable.\n",
    "\n",
    "    def do_this(self):  # This is a class function (method).\n",
    "        return TheClass.class_variable\n",
    "\n"
   ]
  },
  {
   "cell_type": "markdown",
   "metadata": {},
   "source": [
    "2. An object is an incarnation of ideas expressed in a class, while a class is a kind of Blueprint which can be used to create an object."
   ]
  },
  {
   "cell_type": "code",
   "execution_count": null,
   "metadata": {},
   "outputs": [],
   "source": [
    "# Example\n",
    "\n",
    "class TheClass:\n",
    "    pass\n",
    "\n",
    "the_object = TheClass()  # the_object is an object of TheClass class.\n",
    "\n"
   ]
  },
  {
   "cell_type": "markdown",
   "metadata": {},
   "source": [
    "3. Classes form a hierarchy in which the more specialized classes (known as subclasses) are placed below the more general or abstrac classes (known as superclasses). Note: the hierarchy grows from top to bottom, like the roots of a tree, rather than the branches."
   ]
  },
  {
   "cell_type": "code",
   "execution_count": null,
   "metadata": {},
   "outputs": [],
   "source": [
    "# Example\n",
    "\n",
    "class A:\n",
    "    class_variable = 1\n",
    "\n",
    "    def do(self):\n",
    "        self.instance_variable = 2;\n",
    "\n",
    "class B(A):\n",
    "    def do(self):\n",
    "        self.instance_variable = 3;\n",
    "\n",
    "c = A()\n",
    "o = B()\n",
    "o.do()\n",
    "print(o.class_variable, o.instance_variable)\n",
    "print(o)\n"
   ]
  },
  {
   "cell_type": "markdown",
   "metadata": {},
   "source": [
    "4. Inheritance is a mechanism of basing a class upon another class, retaining a similar implementation and a common set of traits. The process can be also defined as deriving new classes (subclasses) from existing ones (superclasses or base classes)."
   ]
  },
  {
   "cell_type": "code",
   "execution_count": null,
   "metadata": {},
   "outputs": [],
   "source": [
    "# Example\n",
    "\n",
    "class TheSuperclass: # This is TheSubclass's superclass.\n",
    "    pass\n",
    "\n",
    "\n",
    "class TheSubclass(TheSuperclass): # This is TheSuperclass's subclass.\n",
    "    pass\n",
    "\n"
   ]
  },
  {
   "cell_type": "markdown",
   "metadata": {},
   "source": [
    "1. In the inheritance hierarchy, a class's component that is defined later (in the inheritance sense) overrides the same component that has been defined earlier.\n",
    "\n",
    "2. Single inheritance happens when a certain class has only one direct superclass.\n",
    "\n",
    "3. Multiple inheritance takes place when a class has more than one direct superclass.\n",
    "\n",
    "4. The diamond problem term describes issues that may derive from multiple inheritance. The problem appears when a class is a subclass of more than one superclass derived from one common super-super-class.\n",
    "\n",
    "5. Polymorphism is a mechanism which enables the programmer to modify the behavior of any of the object's superclasses without modifying these classes themselves.\n",
    "\n",
    "6. Composition is the process of composing an object using other different objects.\n",
    "\n",
    "7. Introspection is the ability of a program to examine the type or properties of an object at runtime.\n",
    "\n",
    "8. Reflection is the ability of a program to manipulate the values, properties, and/or functions of an object at runtime."
   ]
  },
  {
   "cell_type": "markdown",
   "metadata": {},
   "source": [
    "1. Every existing object may be equipped with three groups of attributes:\n",
    "a name that uniquely identifies it within its home namespace;\n",
    "a set (maybe empty) of individual properties which make it original and unique;\n",
    "a set of methods to perform specific activities, able to change the object itself, or some of the other objects."
   ]
  },
  {
   "cell_type": "code",
   "execution_count": null,
   "metadata": {},
   "outputs": [],
   "source": [
    "#2. \n",
    "#The simplest Python class can be defined in the following way:\n",
    "\n",
    "class TheClass:\n",
    "    pass\n"
   ]
  },
  {
   "cell_type": "markdown",
   "metadata": {},
   "source": [
    "3. The instantiation (creation of the object which is an instance of the class) is done in the following way:"
   ]
  },
  {
   "cell_type": "code",
   "execution_count": null,
   "metadata": {},
   "outputs": [],
   "source": [
    "the_object = TheClass()\n",
    "\n"
   ]
  },
  {
   "cell_type": "markdown",
   "metadata": {},
   "source": [
    "4. Any class or object component (either a method or property) must be accessed using dotted notation (i.e. the_object.component).\n",
    "\n",
    "5. Python objects, when created, are gifted with a small set of predefined properties and methods. One of them is a variable named __dict__ (it's a dictionary). The variable contains the names and values of all the properties (variables) the object is currently carrying.\n",
    "\n",
    "6. Each class (not object!) is equipped with a string variable named __name__, which contains the name of the class itself, and with a tuple named __bases__, which contains classes (not class names!) which are direct superclasses of the class.\n",
    "\n",
    "7. All classes and objects have a string variable named __module__, which stores the name of the module containing the definition of the class.\n",
    "\n",
    "8. An instance variable is a kind of property which is closely connected to the object (class instance), not to the class itself. Each of the objects (even when the objects are derived from the same class) can have a different set of instance variables. Modifying the instance variable of any object has no impact on all the remaining objects."
   ]
  },
  {
   "cell_type": "markdown",
   "metadata": {},
   "source": [
    "9. A class variable is a property which exists in just one copy and is stored outside any object. Class variables aren't shown in an object's __dict__ dictionary – they can be found inside the class's __dict__ dictionary. Remember that a class variable always presents the same value in all class instances (objects).\n",
    "\n",
    "10. A variable (either a class or instance) becomes private \n",
    "11. (inaccessible directly from outside the class/object) \n",
    "12. if its name starts with two underscores (___). \n",
    "13. Such a variable can be unhidden by the mechanism called name mangling. For example, \n",
    "14. a property named __property defined inside an object named the_object, \n",
    "15. being an instance of the TheClass class, can be accessed directly as:"
   ]
  },
  {
   "cell_type": "code",
   "execution_count": null,
   "metadata": {},
   "outputs": [],
   "source": [
    "the_object._TheClass__property"
   ]
  },
  {
   "cell_type": "markdown",
   "metadata": {},
   "source": [
    "Mangling won't work if you add an instance variable outside the class code."
   ]
  },
  {
   "cell_type": "markdown",
   "metadata": {},
   "source": [
    "11. Referencing to a non-existent class/object component raises the AttributeError exception. To check a component's existence, the hasattr() function can be used, which expects two arguments to be passed to it:\n",
    "the class or the object being checked;\n",
    "the string with the name of the property whose existence has to be reported.\n",
    "\n",
    "The function returns either True or False."
   ]
  },
  {
   "cell_type": "markdown",
   "metadata": {},
   "source": [
    "12. A method is a function embedded inside a class. Every Python method is obliged to have at least one parameter – a method may be invoked without an argument, but must not be declared without parameters). The first (or even only) parameter is usually named self, and the name suggests the parameter's purpose – it identifies the object for which the method is invoked."
   ]
  },
  {
   "cell_type": "markdown",
   "metadata": {},
   "source": [
    "13.  If you want the method to accept parameters other than self, you should:\n",
    "place them after self in the method's definition;\n",
    "deliver them during invocation without specifying self."
   ]
  },
  {
   "cell_type": "markdown",
   "metadata": {},
   "source": [
    "14. The self parameter is used to obtain access to the object's instance and class variables, as well as to invoke other object/class methods from inside the class."
   ]
  },
  {
   "cell_type": "markdown",
   "metadata": {},
   "source": [
    "1. A method called __init__() is a constructor. If a class has a constructor, it is invoked automatically and implicitly when the object of the class is instantiated."
   ]
  },
  {
   "cell_type": "markdown",
   "metadata": {},
   "source": [
    "2. When a class has a superclass and:\n",
    "it doesn't have its own constructor, then a superclass constructor is invoked implicitly during class creation;\n",
    "has its own constructor, then a superclass constructor has to be invoked explicitly."
   ]
  },
  {
   "cell_type": "markdown",
   "metadata": {},
   "source": [
    "3. The constructor:\n",
    "is obliged to have the self parameter (it's set automatically, as usual)\n",
    "may have more parameters than just self; if this happens, the way in which the class name is used to create the object must reflect the __init__() definition;\n",
    "can be used to set up the object, in other words, to properly initialize its internal state, create instance variables, instantiate any other objects if their existence is needed, etc.\n",
    "cannot return a value;\n",
    "cannot be invoked directly either from the object or from inside the class – you can only invoke a constructor from any of the object's superclass constructors."
   ]
  },
  {
   "cell_type": "markdown",
   "metadata": {},
   "source": [
    "4. When Python needs any class/object to be presented as a string, it tries to invoke a method named __str__() from the object and to use the string it returns. The method can be overridden to construct adequate and useful behavior."
   ]
  },
  {
   "cell_type": "code",
   "execution_count": null,
   "metadata": {},
   "outputs": [],
   "source": [
    "# Example\n",
    "\n",
    "class A:\n",
    "    pass\n",
    "\n",
    "\n",
    "class B:\n",
    "    def __str__(self):\n",
    "        return \"object!\"\n",
    "\n",
    "\n",
    "a = A()\n",
    "b = B()\n",
    "print(a, b)\n",
    "\n"
   ]
  },
  {
   "cell_type": "markdown",
   "metadata": {},
   "source": [
    "The code above outputs <__main__.A object at 0x7ffa07c3adc0> object! to the screen."
   ]
  },
  {
   "cell_type": "markdown",
   "metadata": {},
   "source": [
    "5. To define a class named SubClass as a subclass of a superclass or superclasses, the following syntax has to be used:"
   ]
  },
  {
   "cell_type": "code",
   "execution_count": null,
   "metadata": {},
   "outputs": [],
   "source": [
    "# Example 1\n",
    "\n",
    "class Subclass(SuperClass):\n",
    "    pass\n",
    "\n"
   ]
  },
  {
   "cell_type": "markdown",
   "metadata": {},
   "source": [
    "or"
   ]
  },
  {
   "cell_type": "code",
   "execution_count": null,
   "metadata": {},
   "outputs": [],
   "source": [
    "# Example 2\n",
    "\n",
    "class Subclass2(SuperClass_1, Superclass_2):\n",
    "    pass"
   ]
  },
  {
   "cell_type": "markdown",
   "metadata": {},
   "source": [
    "\n",
    "6. To check if a particular class is a subclass of any other class, a function named issubclass(ClassOne, ClassTwo) is used. The function returns True if the ClassOne class is a subclass of the ClassTwo class, and False otherwise. Note: each class is considered to be a subclass of itself."
   ]
  },
  {
   "cell_type": "code",
   "execution_count": null,
   "metadata": {},
   "outputs": [],
   "source": [
    "# Example\n",
    "\n",
    "class A:\n",
    "    pass\n",
    "class B(A):\n",
    "    pass\n",
    "\n",
    "\n",
    "print(issubclass(A, B), issubclass(B, A), issubclass(B, B))\n",
    "\n"
   ]
  },
  {
   "cell_type": "markdown",
   "metadata": {},
   "source": [
    "The code above outputs False True True to the screen."
   ]
  },
  {
   "cell_type": "markdown",
   "metadata": {},
   "source": [
    "7. To detect if an object is an instance of a certain class, a function named isinstance(the_object, TheClass) is used. The function returns True if the_object object is an instance of the TheClasclass, or False otherwise."
   ]
  },
  {
   "cell_type": "code",
   "execution_count": null,
   "metadata": {},
   "outputs": [],
   "source": [
    "# Example\n",
    "\n",
    "class A:\n",
    "    pass\n",
    "\n",
    "\n",
    "class B:\n",
    "    pass\n",
    "\n",
    "\n",
    "o = A()\n",
    "print(isinstance(o, A), isinstance(o, B))\n",
    "\n"
   ]
  },
  {
   "cell_type": "markdown",
   "metadata": {},
   "source": [
    "1. The is operator checks whether two variables refer to the same object. If they do, the expression evaluates to True, and to False otherwise."
   ]
  },
  {
   "cell_type": "code",
   "execution_count": null,
   "metadata": {},
   "outputs": [],
   "source": [
    "# Example\n",
    "\n",
    "class A:\n",
    "    pass\n",
    "\n",
    "\n",
    "o1 = A()\n",
    "o2 = o1\n",
    "o3 = A()\n",
    "print(o1 is o2, o1 is o3)\n",
    "\n",
    "\n",
    "\n"
   ]
  },
  {
   "cell_type": "markdown",
   "metadata": {},
   "source": [
    "2. The super() function, when used inside any class methods, gives access to the superclass without needing to know its name. It can be said that the super() function creates a context in which you don't have to pass the self argument to the method being invoked – this is why it's possible to activate the superclass constructor using only one argument.\n",
    "\n",
    "You can use this mechanism not only to invoke the superclass constructor, but also to get access to any of the resources available inside the superclass."
   ]
  },
  {
   "cell_type": "code",
   "execution_count": null,
   "metadata": {},
   "outputs": [],
   "source": [
    "# Example\n",
    "\n",
    "class A:\n",
    "    def __init__(self):\n",
    "        print(\"A's __init__()\")\n",
    "\n",
    "\n",
    "class B(A):\n",
    "    def __init__(self):\n",
    "        super().__init__()\n",
    "        A.__init__(self)\n",
    "        pass\n",
    "\n",
    "o = B()\n",
    "\n"
   ]
  },
  {
   "cell_type": "markdown",
   "metadata": {},
   "source": [
    "The code presented above outputs A's __init__() twice to the screen."
   ]
  },
  {
   "cell_type": "markdown",
   "metadata": {},
   "source": [
    "3. The Method Resolution Order (MRO for short) is a strategy in which a particular programming language scans through the upper parts of a class's hierarchy in order to find the method it currently needs. Python does this in the following order:\n",
    "find it inside the object itself;\n",
    "find it in all classes involved in the object's inheritance line from bottom to top.\n",
    "\n",
    "(If there is more than one class inside a certain level of the inheritance, the classes at this level are scanned from left to right in the order in which they have been put in the inheritance declaration.)\n",
    "\n",
    "If both of the above fail, an exception (AttributeError) is raised."
   ]
  },
  {
   "cell_type": "code",
   "execution_count": null,
   "metadata": {},
   "outputs": [],
   "source": [
    "# Example\n",
    "\n",
    "class A:\n",
    "    def do(self):\n",
    "        print(\"A\")\n",
    "\n",
    "\n",
    "class BL(A):\n",
    "    def do(self):\n",
    "        print(\"BL\")\n",
    "\n",
    "\n",
    "class BR(A):\n",
    "    def do(self):\n",
    "        print(\"BR\")\n",
    "\n",
    "\n",
    "class C(BR, BL):\n",
    "    pass\n",
    "\n",
    "o = C()\n",
    "o.do()\n"
   ]
  },
  {
   "cell_type": "markdown",
   "metadata": {},
   "source": [
    "The code above outputs BR to the screen.\n",
    "\n",
    "4. When the class tries to impose an order different than that described above, a TypeError is raised with a message which reads:"
   ]
  },
  {
   "cell_type": "markdown",
   "metadata": {},
   "source": [
    "The message reads Cannot create a consistent method resolution order (MRO) for bases xxx and yyy."
   ]
  },
  {
   "cell_type": "markdown",
   "metadata": {},
   "source": [
    "Key takeaways\n",
    "\n",
    "1. An instance variable is a property whose existence depends on the creation of an object. Every object can have a different set of instance variables.\n",
    "\n",
    "Moreover, they can be freely added to and removed from objects during their lifetime. All object instance variables are stored inside a dedicated dictionary named __dict__, contained in every object separately.\n",
    "\n",
    "\n",
    "2. An instance variable can be private when its name starts with __, but don't forget that such a property is still accessible from outside the class using a mangled name constructed as _ClassName__PrivatePropertyName.\n",
    "\n",
    "\n",
    "3. A class variable is a property which exists in exactly one copy, and doesn't need any created object to be accessible. Such variables are not shown as __dict__ content.\n",
    "\n",
    "All a class's class variables are stored inside a dedicated dictionary named __dict__, contained in every class separately.\n",
    "\n",
    "\n",
    "4. A function named hasattr() can be used to determine if any object/class contains a specified property."
   ]
  },
  {
   "cell_type": "code",
   "execution_count": null,
   "metadata": {},
   "outputs": [],
   "source": [
    "#For Example:\n",
    "class Sample:\n",
    "    gamma = 0 # Class variable.\n",
    "    def __init__(self):\n",
    "        self.alpha = 1 # Instance variable.\n",
    "        self.__delta = 3 # Private instance variable.\n",
    "\n",
    "\n",
    "obj = Sample()\n",
    "obj.beta = 2  # Another instance variable (existing only inside the \"obj\" instance.)\n",
    "print(obj.__dict__)\n",
    "\n"
   ]
  },
  {
   "cell_type": "code",
   "execution_count": null,
   "metadata": {},
   "outputs": [],
   "source": [
    "#Exercise 1\n",
    "\n",
    "#Which of the Python class properties are instance variables and which are class variables? Which of them are private?\n",
    "\n",
    "class Python:\n",
    "    population = 1\n",
    "    victims = 0\n",
    "    def __init__(self):\n",
    "        self.length_ft = 3\n",
    "        self.__venomous = False\n",
    "\n",
    "#Answer\n",
    "#population and victims are class variables, while length and __venomous are instance variables (the latter is also private)."
   ]
  },
  {
   "cell_type": "code",
   "execution_count": null,
   "metadata": {},
   "outputs": [],
   "source": [
    "#Exercise 2\n",
    "\n",
    "#You're going to negate the __venomous property of the version_2 object, ignoring the fact that the property is private. How will you do this?\n",
    "\n",
    "version_2 = Python()\n",
    "\n",
    "#Answer:\n",
    "\n",
    "#version_2._Python__venomous = not version_2._Python__venomous"
   ]
  },
  {
   "cell_type": "code",
   "execution_count": null,
   "metadata": {},
   "outputs": [],
   "source": [
    "#Exercise 3\n",
    "\n",
    "#Write an expression which checks if the version_2 object contains an instance property named constrictor (yes, constrictor!).\n",
    "\n",
    "#Answer\n",
    "hasattr(version_2, 'constrictor')"
   ]
  },
  {
   "cell_type": "markdown",
   "metadata": {},
   "source": [
    "Key takeaways METHODS\n",
    "\n",
    "1. A method is a function embedded inside a class. The first (or only) parameter of each method is usually named self, which is designed to identify the object for which the method is invoked in order to access the object's properties or invoke its methods.\n",
    "\n",
    "\n",
    "2. If a class contains a constructor (a method named __init__) it cannot return any value and cannot be invoked directly.\n",
    "\n",
    "\n",
    "3. All classes (but not objects) contain a property named __name__, which stores the name of the class. Additionally, a property named __module__ stores the name of the module in which the class has been declared, while the property named __bases__ is a tuple containing a class's superclasses.\n",
    "\n",
    "For example:"
   ]
  },
  {
   "cell_type": "code",
   "execution_count": null,
   "metadata": {},
   "outputs": [],
   "source": [
    "class Sample:\n",
    "    def __init__(self):\n",
    "        self.name = Sample.__name__\n",
    "    def myself(self):\n",
    "        print(\"My name is \" + self.name + \" living in a \" + Sample.__module__)\n",
    "\n",
    "\n",
    "obj = Sample()\n",
    "obj.myself()\n",
    "\n"
   ]
  },
  {
   "cell_type": "code",
   "execution_count": null,
   "metadata": {},
   "outputs": [],
   "source": [
    "#Exercise 1\n",
    "\n",
    "#The declaration of the Snake class is given below. Enrich the class with a method named increment(), \n",
    "#adding 1 to the __victims property.\n",
    "\n",
    "class Snake:\n",
    "    def __init__(self):\n",
    "        self.victims = 0\n",
    "\n",
    "Check\n",
    "class Snake:\n",
    "    def __init__(self):\n",
    "        self.victims = 0\n",
    "\n",
    "    def increment(self):\n",
    "        self.victims += 1"
   ]
  },
  {
   "cell_type": "code",
   "execution_count": null,
   "metadata": {},
   "outputs": [],
   "source": [
    "#Exercise 2\n",
    "\n",
    "#Redefine the Snake class constructor so that is has a parameter to initialize the victims \n",
    "#field with a value passed to the object during construction.\n",
    "\n",
    "\n",
    "#Answer:\n",
    "class Snake:\n",
    "    def __init__(self, victims):\n",
    "        self.victims = victims\t"
   ]
  },
  {
   "cell_type": "code",
   "execution_count": null,
   "metadata": {},
   "outputs": [],
   "source": [
    "#Exercise 3\n",
    "\n",
    "#Can you predict the output of the following code?\n",
    "\n",
    "class Snake:\n",
    "    pass\n",
    "\n",
    "\n",
    "class Python(Snake):\n",
    "    pass\n",
    "\n",
    "\n",
    "print(Python.__name__, 'is a', Snake.__name__)\n",
    "print(Python.__bases__[0].__name__, 'can be', Python.__name__)\n",
    "\n",
    "\n",
    "#Answer:\n",
    "#Python is a Snake\n",
    "#Snake can be Python"
   ]
  },
  {
   "cell_type": "markdown",
   "metadata": {},
   "source": [
    "Investigating classes\n",
    "What can you find out about classes in Python? The answer is simple - everything.\n",
    "\n",
    "Both reflection and introspection enable a programmer to do anything with every object, no matter where it comes from.\n",
    "\n",
    "Analyze the the code in the editor.\n",
    "\n",
    "The function named incIntsI() gets an object of any class, scans its contents in order to find all integer attributes with names starting with i, and increments them by one.\n",
    "\n",
    "Impossible? Not at all!\n",
    "\n",
    "This is how it works:\n",
    "\n",
    "1. line 1: define a very simple class...\n",
    "2. lines 3 through 10: ... and fill it with some attributes;\n",
    "3. line 12: this is our function!\n",
    "4. line 13: scan the __dict__ attribute, looking for all attribute names;\n",
    "5. line 14: if a name starts with i...\n",
    "6. line 15: ... use the getattr() function to get its current value; note: getattr() takes two arguments: an object, and its property name (as a string), and returns the current attribute's value;\n",
    "7. line 16: check if the value is of type integer, and use the function isinstance() for this purpose (we'll discuss this later);\n",
    "8. line 17: if the check goes well, increment the property's value by making use of the setattr() function; the function takes three arguments: an object, the property name (as a string), and the property's new value."
   ]
  },
  {
   "cell_type": "code",
   "execution_count": null,
   "metadata": {},
   "outputs": [],
   "source": [
    "class MyClass: #line 1: define a very simple class...\n",
    "    pass\n",
    "\n",
    "#lines 5 through 11: ... and fill it with some attributes;\n",
    "obj = MyClass()\n",
    "obj.a = 1\n",
    "obj.b = 2\n",
    "obj.i = 3\n",
    "obj.ireal = 3.5\n",
    "obj.integer = 4\n",
    "obj.z = 5\n",
    "\n",
    "\n",
    "def incIntsI(obj): #line 14: this is our function!\n",
    "    for name in obj.__dict__.keys():#line 15: scan the __dict__ attribute, looking for all attribute names;\n",
    "        if name.startswith('i'):#line 16: if a name starts with i...\n",
    "            val = getattr(obj, name)#line 17: ... use the getattr() function to get its current value;\n",
    "            if isinstance(val, int):#line 18: check if the value is of type integer, and use the function isinstance() for this purpose\n",
    "                setattr(obj, name, val + 1)#line 19: if the check goes well, \n",
    "                #increment the property's value by making use of the setattr() function\n",
    "\n",
    "\n",
    "print(obj.__dict__)\n",
    "incIntsI(obj)\n",
    "print(obj.__dict__)\n",
    "\n",
    "\n",
    "\n",
    "\n",
    "\n",
    " #note: getattr() takes two arguments: an object, and its property name (as a string), and returns the current attribute's value;\n",
    " #(line 18 we'll discuss this later);\n",
    "#line 19 the function takes three arguments: an object, the property name (as a string), and the property's new value."
   ]
  },
  {
   "cell_type": "code",
   "execution_count": null,
   "metadata": {},
   "outputs": [],
   "source": [
    "class MyClass:\n",
    "    pass\n",
    "\n",
    "\n",
    "obj = MyClass()\n",
    "obj.a = 1\n",
    "obj.b = 2\n",
    "obj.i = 3\n",
    "obj.ireal = 3.5\n",
    "obj.integer = 4\n",
    "obj.z = 5\n",
    "\n",
    "\n",
    "def incIntsI(obj):\n",
    "    for name in obj.__dict__.keys():\n",
    "        if name.startswith('i'):\n",
    "            val = getattr(obj, name)\n",
    "            if isinstance(val, int):\n",
    "                setattr(obj, name, val + 1)\n",
    "\n",
    "\n",
    "print(obj.__dict__)\n",
    "incIntsI(obj)\n",
    "print(obj.__dict__)\n"
   ]
  },
  {
   "cell_type": "markdown",
   "metadata": {},
   "source": [
    "LAB ONE:\n",
    "\n",
    "1. Estimated time\n",
    "2. v30-60 minutes\n",
    "\n",
    "3. Level of difficulty\n",
    "4. Easy/Medium\n",
    "\n",
    "6. Objectives\n",
    "7. improving the student's skills in defining classes from scratch;\n",
    "8. defining and using instance variables;\n",
    "9. defining and using methods.\n",
    "Scenario:\n",
    "\n",
    "1. We need a class able to count seconds. Easy? Not as much as you may think as we're going to have some specific expectations.\n",
    "\n",
    "2. Read them carefully as the class you're about write will be used to launch rockets carrying international missions to Mars. It's a great responsibility. We're counting on you!\n",
    "\n",
    "3. Your class will be called Timer. Its constructor accepts three arguments representing hours (a value from range [0..23] - we will be using the military time), minutes (from range [0..59]) and seconds (from range [0..59]).\n",
    "\n",
    "4. Zero is the default value for all of the above parameters. There is no need to perform any validation checks.\n",
    "\n",
    "The class itself should provide the following facilities:\n",
    "\n",
    "1. objects of the class should be \"printable\", i.e. they should be able to implicitly convert themselves into strings of the following form: \"hh:mm:ss\", with leading zeros added when any of the values is less than 10;\n",
    "the class should be equipped with parameterless methods called next_second() and previous_second(), incrementing the time stored inside objects by +1/-1 second respectively.\n",
    "Use the following hints:\n",
    "\n",
    "2. all object's properties should be private;\n",
    "consider writing a separate function (not method!) to format the time string.\n",
    "Complete the template we've provided in the editor. Run your code and check whether the output looks the same as ours.\n",
    "\n",
    "Expected output:(excluding the 1. Line 1.)\n",
    "\n",
    "1. Line 1. 23:59:59\n",
    "2. Line 2. 00:00:00\n",
    "3. Line 3. 23:59:59"
   ]
  },
  {
   "cell_type": "code",
   "execution_count": null,
   "metadata": {},
   "outputs": [],
   "source": [
    "#FOR LAB ONE\n",
    "class Timer:\n",
    "    def __init__( ??? ):\n",
    "        #\n",
    "        # Write code here\n",
    "        #\n",
    "\n",
    "    def __str__(self):\n",
    "        #\n",
    "        # Write code here\n",
    "        #\n",
    "\n",
    "    def next_second(self):\n",
    "        #\n",
    "        # Write code here\n",
    "        #\n",
    "\n",
    "    def prev_second(self):\n",
    "        #\n",
    "        # Write code here\n",
    "        #\n",
    "\n",
    "\n",
    "timer = Timer(23, 59, 59)\n",
    "print(timer)\n",
    "timer.next_second()\n",
    "print(timer)\n",
    "timer.prev_second()\n",
    "print(timer)\n"
   ]
  },
  {
   "cell_type": "markdown",
   "metadata": {},
   "source": [
    "LAB TWO:\n",
    "\n",
    "Estimated time\n",
    "30-60 minutes\n",
    "\n",
    "Level of difficulty\n",
    "Easy/Medium\n",
    "\n",
    "1. Objectives\n",
    "2. improving the student's skills in defining classes from scratch;\n",
    "3. defining and using instance variables;\n",
    "4. defining and using methods.\n",
    "5. \n",
    "Scenario:\n",
    "1. vYour task is to implement a class called Weeker. Yes, your eyes don't deceive you – this name comes from the fact that objects of that class will be able to store and to manipulate the days of the week.\n",
    "\n",
    "2. The class constructor accepts one argument – a string. The string represents the name of the day of the week and the only acceptable values must come from the following set:\n",
    "\n",
    "Mon Tue Wed Thu Fri Sat Sun\n",
    "\n",
    "3. Invoking the constructor with an argument from outside this set should raise the WeekDayError exception (define it yourself; don't worry, we'll talk about the objective nature of exceptions soon). The class should provide the following facilities:\n",
    "\n",
    "4. objects of the class should be \"printable\", i.e. they should be able to implicitly convert themselves into strings of the same form as the constructor arguments;\n",
    "5. the class should be equipped with one-parameter methods called add_days(n) and subtract_days(n), with n being an integer number and updating the day of week stored inside the object in the way reflecting the change of date by the indicated number of days, forward or backward.\n",
    "6. all object's properties should be private;\n",
    "7. Complete the template we've provided in the editor and run your code and check whether your output looks the same as ours.\n",
    "\n",
    "8. Expected output(on separate lines)\n",
    "Mon\n",
    "Tue\n",
    "Sun\n",
    "\n",
    "\n",
    "Sorry, I can't serve your request."
   ]
  },
  {
   "cell_type": "code",
   "execution_count": null,
   "metadata": {},
   "outputs": [],
   "source": [
    "#for LAB TWO\n",
    "class WeekDayError(Exception):\n",
    "    pass\n",
    "\t\n",
    "\n",
    "class Weeker:\n",
    "    #\n",
    "    # Write code here.\n",
    "    #\n",
    "\n",
    "    def __init__(self, day):\n",
    "        #\n",
    "        # Write code here.\n",
    "        #\n",
    "\n",
    "    def __str__(self):\n",
    "        #\n",
    "        # Write code here.\n",
    "        #\n",
    "\n",
    "    def add_days(self, n):\n",
    "        #\n",
    "        # Write code here.\n",
    "        #\n",
    "\n",
    "    def subtract_days(self, n):\n",
    "        #\n",
    "        # Write code here.\n",
    "        #\n",
    "\n",
    "\n",
    "try:\n",
    "    weekday = Weeker('Mon')\n",
    "    print(weekday)\n",
    "    weekday.add_days(15)\n",
    "    print(weekday)\n",
    "    weekday.subtract_days(23)\n",
    "    print(weekday)\n",
    "    weekday = Weeker('Monday')\n",
    "except WeekDayError:\n",
    "    print(\"Sorry, I can't serve your request.\")\n"
   ]
  },
  {
   "cell_type": "markdown",
   "metadata": {},
   "source": [
    "Key takeaways\n",
    "\n",
    "1. A method named __str__() is responsible for converting an object's contents into a (more or less) readable string. You can redefine it if you want your object to be able to present itself in a more elegant form. For example:"
   ]
  },
  {
   "cell_type": "code",
   "execution_count": null,
   "metadata": {},
   "outputs": [],
   "source": [
    "class Mouse:\n",
    "    def __init__(self, name):\n",
    "        self.my_name = name\n",
    "\n",
    "\n",
    "    def __str__(self):\n",
    "        return self.my_name\n",
    "\n",
    "\n",
    "the_mouse = Mouse('mickey')\n",
    "print(the_mouse)  # Prints \"mickey\". \n",
    "\n"
   ]
  },
  {
   "cell_type": "markdown",
   "metadata": {},
   "source": [
    "2. A function named issubclass(Class_1, Class_2) is able to determine if Class_1 is a subclass of Class_2. For example:"
   ]
  },
  {
   "cell_type": "code",
   "execution_count": null,
   "metadata": {},
   "outputs": [],
   "source": [
    "class Mouse:\n",
    "    pass\n",
    "\n",
    "\n",
    "class LabMouse(Mouse):\n",
    "    pass\n",
    "\n",
    "\n",
    "print(issubclass(Mouse, LabMouse), issubclass(LabMouse, Mouse))  # Prints \"False True\"\n",
    "\n"
   ]
  },
  {
   "cell_type": "markdown",
   "metadata": {},
   "source": [
    "3. A function named isinstance(Object, Class) checks if an object comes from an indicated class. For example:"
   ]
  },
  {
   "cell_type": "code",
   "execution_count": null,
   "metadata": {},
   "outputs": [],
   "source": [
    "class Mouse:\n",
    "    pass\n",
    "\n",
    "\n",
    "class LabMouse(Mouse):\n",
    "    pass\n",
    "\n",
    "\n",
    "mickey = Mouse()\n",
    "print(isinstance(mickey, Mouse), isinstance(mickey, LabMouse))  # Prints \"True False\".\n",
    "\n"
   ]
  },
  {
   "cell_type": "markdown",
   "metadata": {},
   "source": [
    "4. A operator called is checks if two variables refer to the same object. For example:"
   ]
  },
  {
   "cell_type": "code",
   "execution_count": null,
   "metadata": {},
   "outputs": [],
   "source": [
    "class Mouse:\n",
    "    pass\n",
    "\n",
    "\n",
    "mickey = Mouse()\n",
    "minnie = Mouse()\n",
    "cloned_mickey = mickey\n",
    "print(mickey is minnie, mickey is cloned_mickey)  # Prints \"False True\".\n",
    "\n"
   ]
  },
  {
   "cell_type": "markdown",
   "metadata": {},
   "source": [
    "5. A parameterless function named super() returns a reference to the nearest superclass of the class. For example:"
   ]
  },
  {
   "cell_type": "code",
   "execution_count": null,
   "metadata": {},
   "outputs": [],
   "source": [
    "class Mouse:\n",
    "    def __str__(self):\n",
    "        return \"Mouse\"\n",
    "\n",
    "\n",
    "class LabMouse(Mouse):\n",
    "    def __str__(self):\n",
    "        return \"Laboratory \" + super().__str__()\n",
    "\n",
    "\n",
    "doctor_mouse = LabMouse();\n",
    "print(doctor_mouse)  # Prints \"Laboratory Mouse\".\n",
    "\n"
   ]
  },
  {
   "cell_type": "markdown",
   "metadata": {},
   "source": [
    "6. Methods as well as instance and class variables defined in a superclass are automatically inherited by their subclasses. For example:"
   ]
  },
  {
   "cell_type": "code",
   "execution_count": null,
   "metadata": {},
   "outputs": [],
   "source": [
    "class Mouse:\n",
    "    Population = 0\n",
    "    def __init__(self, name):\n",
    "        Mouse.Population += 1\n",
    "        self.name = name\n",
    "\n",
    "    def __str__(self):\n",
    "        return \"Hi, my name is \" + self.name\n",
    "\n",
    "class LabMouse(Mouse):\n",
    "    pass\n",
    "\n",
    "professor_mouse = LabMouse(\"Professor Mouser\")\n",
    "print(professor_mouse, Mouse.Population)  # Prints \"Hi, my name is Professor Mouser 1\"\n",
    "\n"
   ]
  },
  {
   "cell_type": "markdown",
   "metadata": {},
   "source": [
    "7. In order to find any object/class property, Python looks for it inside:\n",
    "\n",
    "the object itself;\n",
    "all classes involved in the object's inheritance line from bottom to top;\n",
    "if there is more than one class on a particular inheritance path, Python scans them from left to right;\n",
    "if both of the above fail, the AttributeError exception is raised."
   ]
  },
  {
   "cell_type": "markdown",
   "metadata": {},
   "source": [
    "8. If any of the subclasses defines a method/class variable/instance variable of the same name as existing in the superclass, the new name overrides any of the previous instances of the name. For example:"
   ]
  },
  {
   "cell_type": "code",
   "execution_count": null,
   "metadata": {},
   "outputs": [],
   "source": [
    "class Mouse:\n",
    "    def __init__(self, name):\n",
    "        self.name = name\n",
    "\n",
    "    def __str__(self):\n",
    "        return \"My name is \" + self.name\n",
    "\n",
    "class AncientMouse(Mouse):\n",
    "    def __str__(self):\n",
    "        return \"Meum nomen est \" + self.name\n",
    "\n",
    "mus = AncientMouse(\"Caesar\")  # Prints \"Meum nomen est Caesar\"\n",
    "print(mus)\n",
    "\n"
   ]
  },
  {
   "cell_type": "code",
   "execution_count": null,
   "metadata": {},
   "outputs": [],
   "source": [
    "#Exercises\n",
    "#Scenario\n",
    "\n",
    "#Assume that the following piece of code has been successfully executed:\n",
    "class Dog:\n",
    "    kennel = 0\n",
    "    def __init__(self, breed):\n",
    "        self.breed = breed\n",
    "        Dog.kennel += 1\n",
    "    def __str__(self):\n",
    "        return self.breed + \" says: Woof!\"\n",
    "\n",
    "\n",
    "class SheepDog(Dog):\n",
    "    def __str__(self):\n",
    "        return super().__str__() + \" Don't run away, Little Lamb!\"\n",
    "\n",
    "\n",
    "class GuardDog(Dog):\n",
    "    def __str__(self):\n",
    "        return super().__str__() + \" Stay where you are, Mister Intruder!\"\n",
    "\n",
    "\n",
    "rocky = SheepDog(\"Collie\")\n",
    "luna = GuardDog(\"Dobermann\")\n",
    "\n",
    "#Now answer the questions from exercises 1-4."
   ]
  },
  {
   "cell_type": "code",
   "execution_count": null,
   "metadata": {},
   "outputs": [],
   "source": [
    "#Exercise 1\n",
    "\n",
    "#What is the expected output of the following piece of code?\n",
    "\n",
    "print(rocky)\n",
    "print(luna)\n",
    "\n",
    "#Answer\n",
    "#Collie says: Woof! Don't run away, Little Lamb!\n",
    "#Dobermann says: Woof! Stay where you are, Mister Intruder!"
   ]
  },
  {
   "cell_type": "code",
   "execution_count": null,
   "metadata": {},
   "outputs": [],
   "source": [
    "#Exercise 2\n",
    "\n",
    "#What is the expected output of the following piece of code?\n",
    "\n",
    "print(issubclass(SheepDog, Dog), issubclass(SheepDog, GuardDog))\n",
    "print(isinstance(rocky, GuardDog), isinstance(luna, GuardDog))\n",
    "\n",
    "#Answer\n",
    "#True False\n",
    "#False True"
   ]
  },
  {
   "cell_type": "code",
   "execution_count": null,
   "metadata": {},
   "outputs": [],
   "source": [
    "#Exercise 3\n",
    "\n",
    "#What is the expected output of the following piece of code?\n",
    "\n",
    "print(luna is luna, rocky is luna)\n",
    "print(rocky.kennel)\n",
    "\n",
    "#Answer:\n",
    "#True False\n",
    "#2"
   ]
  },
  {
   "cell_type": "code",
   "execution_count": null,
   "metadata": {},
   "outputs": [],
   "source": [
    "#Exercise 4\n",
    "\n",
    "#Define a SheepDog's subclass named LowlandDog, and equip it with an __str__() method \n",
    "#overriding an inherited method of the same name. The new dog's __str__() method should return the string \"Woof! I don't like mountains!\" .\n",
    "\n",
    "#Answer\n",
    "class LowlandDog(SheepDog):\n",
    "\tdef __str__(self):\n",
    "\t\treturn Dog.__str__(self) + \" I don't like mountains!\""
   ]
  },
  {
   "cell_type": "markdown",
   "metadata": {},
   "source": [
    "EXCEPTIONS AND OOP"
   ]
  },
  {
   "cell_type": "markdown",
   "metadata": {},
   "source": [
    "Discussing object programming offers a very good opportunity to return to exceptions. The objective nature of Python's exceptions makes them a very flexible tool, able to fit to specific needs, even those you don't yet know about.\n",
    "\n",
    "Before we dive into the objective face of exceptions, we want to show you some syntactical and semantic aspects of the way in which Python treats the try-except block, as it offers a little more than what we have presented so far.\n",
    "\n",
    "The first feature we want discuss here is an additional, possible branch that can be placed inside (or rather, directly behind) the try-except block - it's the part of the code starting with else - just like in the example in the editor.\n",
    "\n",
    "\n",
    "A code labelled in this way is executed when (and only when) no exception has been raised inside the try: part. We can say that exactly one branch can be executed after try: - either the one beginning with except (don't forget that there can be more than one branch of this kind) or the one starting with else.\n",
    "\n",
    "Note: the else: branch has to be located after the last except branch."
   ]
  },
  {
   "cell_type": "code",
   "execution_count": null,
   "metadata": {},
   "outputs": [],
   "source": [
    "def reciprocal(n):\n",
    "    try:\n",
    "        n = 1 / n\n",
    "    except ZeroDivisionError:\n",
    "        print(\"Division failed\")\n",
    "        return None\n",
    "    else:\n",
    "        print(\"Everything went fine\")\n",
    "        return n\n",
    "\n",
    "\n",
    "print(reciprocal(2))\n",
    "print(reciprocal(0))\n"
   ]
  },
  {
   "cell_type": "markdown",
   "metadata": {},
   "source": [
    "The try-except block can be extended in one more way - by adding a part headed by the finally keyword (it must be the last branch of the code designed to handle exceptions).\n",
    "\n",
    "Note: these two variants (else and finally) aren't dependent in any way, and they can coexist or occur independently.\n",
    "\n",
    "The finally block is always executed (it finalizes the try-except block execution, hence its name), no matter what happened earlier, even when raising an exception, no matter whether this has been handled or not.\n",
    "\n",
    "Look at the code in the editor. It outputs:"
   ]
  },
  {
   "cell_type": "code",
   "execution_count": null,
   "metadata": {},
   "outputs": [],
   "source": [
    "def reciprocal(n):\n",
    "    try:\n",
    "        n = 1 / n\n",
    "    except ZeroDivisionError:\n",
    "        print(\"Division failed\")\n",
    "        n = None\n",
    "    else:\n",
    "        print(\"Everything went fine\")\n",
    "    finally:\n",
    "        print(\"It's time to say goodbye\")\n",
    "        return n\n",
    "\n",
    "\n",
    "print(reciprocal(2))\n",
    "print(reciprocal(0))\n"
   ]
  },
  {
   "cell_type": "markdown",
   "metadata": {},
   "source": [
    "Exceptions are classes\n",
    "All the previous examples were content with detecting a specific kind of exception and responding to it in an appropriate way. Now we're going to delve deeper, and look inside the exception itself.\n",
    "\n",
    "You probably won't be surprised to learn that exceptions are classes. Furthermore, when an exception is raised, an object of the class is instantiated, and goes through all levels of program execution, looking for the except branch that is prepared to deal with it.\n",
    "\n",
    "Such an object carries some useful information which can help you to precisely identify all aspects of the pending situation. To achieve that goal, Python offers a special variant of the exception clause - you can find it in the editor.\n",
    "\n",
    "As you can see, the except statement is extended, and contains an additional phrase starting with the as keyword, followed by an identifier. The identifier is designed to catch the exception object so you can analyze its nature and draw proper conclusions.\n",
    "\n",
    "Note: the identifier's scope covers its except branch, and doesn't go any further.\n",
    "\n",
    "The example presents a very simple way of utilizing the received object - just print it out (as you can see, the output is produced by the object's __str__() method) and it contains a brief message describing the reason.\n",
    "\n",
    "The same message will be printed if there is no fitting except block in the code, and Python is forced to handle it alone."
   ]
  },
  {
   "cell_type": "code",
   "execution_count": null,
   "metadata": {},
   "outputs": [],
   "source": [
    "try:\n",
    "    i = int(\"Hello!\")\n",
    "except Exception as e:\n",
    "    print(e)\n",
    "    print(e.__str__())\n"
   ]
  },
  {
   "cell_type": "markdown",
   "metadata": {},
   "source": [
    "Exceptions are classes continued:\n",
    "\n",
    "\n",
    "All the built-in Python exceptions form a hierarchy of classes. There is no obstacle to extending it if you find it reasonable.\n",
    "\n",
    "Look at the code in the editor.\n",
    "\n",
    "This program dumps all predefined exception classes in the form of a tree-like printout.\n",
    "\n",
    "As a tree is a perfect example of a recursive data structure, a recursion seems to be the best tool to traverse through it. The print_exception_tree() function takes two arguments:\n",
    "\n",
    "a point inside the tree from which we start traversing the tree;\n",
    "a nesting level (we'll use it to build a simplified drawing of the tree's branches)\n",
    "Let's start from the tree's root - the root of Python's exception classes is the BaseException class (it's a superclass of all other exceptions).\n",
    "\n",
    "For each of the encountered classes, perform the same set of operations:\n",
    "\n",
    "print its name, taken from the __name__ property;\n",
    "iterate through the list of subclasses delivered by the __subclasses__() method, and recursively invoke the print_exception_tree() function, incrementing the nesting level respectively.\n",
    "Note how we've drawn the branches and forks. The printout isn't sorted in any way - you can try to sort it yourself, if you want a challenge. Moreover, there are some subtle inaccuracies in the way in which some branches are presented. That can be fixed, too, if you wish."
   ]
  },
  {
   "cell_type": "code",
   "execution_count": null,
   "metadata": {},
   "outputs": [],
   "source": [
    "BaseException\n",
    "   +---Exception\n",
    "   |   +---TypeError\n",
    "   |   +---StopAsyncIteration\n",
    "   |   +---StopIteration\n",
    "   |   +---ImportError\n",
    "   |   |   +---ModuleNotFoundError\n",
    "   |   |   +---ZipImportError\n",
    "   |   +---OSError\n",
    "   |   |   +---ConnectionError\n",
    "   |   |   |   +---BrokenPipeError\n",
    "   |   |   |   +---ConnectionAbortedError\n",
    "   |   |   |   +---ConnectionRefusedError\n",
    "   |   |   |   +---ConnectionResetError\n",
    "   |   |   +---BlockingIOError\n",
    "   |   |   +---ChildProcessError\n",
    "   |   |   +---FileExistsError\n",
    "   |   |   +---FileNotFoundError\n",
    "   |   |   +---IsADirectoryError\n",
    "   |   |   +---NotADirectoryError\n",
    "   |   |   +---InterruptedError\n",
    "   |   |   +---PermissionError\n",
    "   |   |   +---ProcessLookupError\n",
    "   |   |   +---TimeoutError\n",
    "   |   |   +---UnsupportedOperation\n",
    "   |   |   +---herror\n",
    "   |   |   +---gaierror\n",
    "   |   |   +---timeout\n",
    "   |   |   +---Error\n",
    "   |   |   |   +---SameFileError\n",
    "   |   |   +---SpecialFileError\n",
    "   |   |   +---ExecError\n",
    "   |   |   +---ReadError\n",
    "   |   +---EOFError\n",
    "   |   +---RuntimeError\n",
    "   |   |   +---RecursionError\n",
    "   |   |   +---NotImplementedError\n",
    "   |   |   +---_DeadlockError\n",
    "   |   |   +---BrokenBarrierError\n",
    "   |   +---NameError\n",
    "   |   |   +---UnboundLocalError\n",
    "   |   +---AttributeError\n",
    "   |   +---SyntaxError\n",
    "   |   |   +---IndentationError\n",
    "   |   |   |   +---TabError\n",
    "   |   +---LookupError\n",
    "   |   |   +---IndexError\n",
    "   |   |   +---KeyError\n",
    "   |   |   +---CodecRegistryError\n",
    "   |   +---ValueError\n",
    "   |   |   +---UnicodeError\n",
    "   |   |   |   +---UnicodeEncodeError\n",
    "   |   |   |   +---UnicodeDecodeError\n",
    "   |   |   |   +---UnicodeTranslateError\n",
    "   |   |   +---UnsupportedOperation\n",
    "   |   +---AssertionError\n",
    "   |   +---ArithmeticError\n",
    "   |   |   +---FloatingPointError\n",
    "   |   |   +---OverflowError\n",
    "   |   |   +---ZeroDivisionError\n",
    "   |   +---SystemError\n",
    "   |   |   +---CodecRegistryError\n",
    "   |   +---ReferenceError\n",
    "   |   +---BufferError\n",
    "   |   +---MemoryError\n",
    "   |   +---Warning\n",
    "   |   |   +---UserWarning\n",
    "   |   |   +---DeprecationWarning\n",
    "   |   |   +---PendingDeprecationWarning\n",
    "   |   |   +---SyntaxWarning\n",
    "   |   |   +---RuntimeWarning\n",
    "   |   |   +---FutureWarning\n",
    "   |   |   +---ImportWarning\n",
    "   |   |   +---UnicodeWarning\n",
    "   |   |   +---BytesWarning\n",
    "   |   |   +---ResourceWarning\n",
    "   |   +---error\n",
    "   |   +---Verbose\n",
    "   |   +---Error\n",
    "   |   +---TokenError\n",
    "   |   +---StopTokenizing\n",
    "   |   +---Empty\n",
    "   |   +---Full\n",
    "   |   +---_OptionError\n",
    "   |   +---TclError\n",
    "   |   +---SubprocessError\n",
    "   |   |   +---CalledProcessError\n",
    "   |   |   +---TimeoutExpired\n",
    "   |   +---Error\n",
    "   |   |   +---NoSectionError\n",
    "   |   |   +---DuplicateSectionError\n",
    "   |   |   +---DuplicateOptionError\n",
    "   |   |   +---NoOptionError\n",
    "   |   |   +---InterpolationError\n",
    "   |   |   |   +---InterpolationMissingOptionError\n",
    "   |   |   |   +---InterpolationSyntaxError\n",
    "   |   |   |   +---InterpolationDepthError\n",
    "   |   |   +---ParsingError\n",
    "   |   |   |   +---MissingSectionHeaderError\n",
    "   |   +---InvalidConfigType\n",
    "   |   +---InvalidConfigSet\n",
    "   |   +---InvalidFgBg\n",
    "   |   +---InvalidTheme\n",
    "   |   +---EndOfBlock\n",
    "   |   +---BdbQuit\n",
    "   |   +---error\n",
    "   |   +---_Stop\n",
    "   |   +---PickleError\n",
    "   |   |   +---PicklingError\n",
    "   |   |   +---UnpicklingError\n",
    "   |   +---_GiveupOnSendfile\n",
    "   |   +---error\n",
    "   |   +---LZMAError\n",
    "   |   +---RegistryError\n",
    "   |   +---ErrorDuringImport\n",
    "   +---GeneratorExit\n",
    "   +---SystemExit\n",
    "   +---KeyboardInterrupt"
   ]
  },
  {
   "cell_type": "code",
   "execution_count": null,
   "metadata": {},
   "outputs": [],
   "source": [
    "def print_exception_tree(thisclass, nest = 0):\n",
    "    if nest > 1:\n",
    "        print(\"   |\" * (nest - 1), end=\"\")\n",
    "    if nest > 0:\n",
    "        print(\"   +---\", end=\"\")\n",
    "\n",
    "    print(thisclass.__name__)\n",
    "\n",
    "    for subclass in thisclass.__subclasses__():\n",
    "        print_exception_tree(subclass, nest + 1)\n",
    "\n",
    "\n",
    "print_exception_tree(BaseException)\n"
   ]
  },
  {
   "cell_type": "markdown",
   "metadata": {},
   "source": [
    "Detailed anatomy of exceptions:\n",
    "\n",
    "\n",
    "Let's take a closer look at the exception's object, as there are some really interesting \n",
    "elements here (we'll return to the issue soon when we consider Python's input/output base techniques, \n",
    "as their exception subsystem extends these objects a bit).\n",
    "\n",
    "The BaseException class introduces a property named args. It's a tuple designed to gather all \n",
    "arguments passed to the class constructor. It is empty if the construct has been invoked without \n",
    "any arguments, or contains just one element when the constructor gets one argument \n",
    "(we don't count the self argument here), and so on.\n",
    "\n",
    "We've prepared a simple function to print the args property in an elegant way. \n",
    "You can see the function in the editor.\n",
    "\n",
    "\n",
    "We've used the function to print the contents of the args property in three different cases, \n",
    "where the exception of the Exception class is raised in three different ways. \n",
    "To make it more spectacular, we've also printed the object itself, along with the result of \n",
    "the __str__() invocation.\n",
    "\n",
    "The first case looks routine - there is just the name Exception after the raise keyword. \n",
    "This means that the object of this class has been created in a most routine way.\n",
    "\n",
    "The second and third cases may look a bit weird at first glance, but there's nothing odd here - these are just the constructor invocations. In the second raise statement, the constructor is invoked with one argument, and in the third, with two.\n",
    "\n",
    "As you can see, the program output reflects this, showing the appropriate contents of the args property:"
   ]
  },
  {
   "cell_type": "code",
   "execution_count": null,
   "metadata": {},
   "outputs": [],
   "source": [
    "def print_args(args):\n",
    "    lng = len(args)\n",
    "    if lng == 0:\n",
    "        print(\"\")\n",
    "    elif lng == 1:\n",
    "        print(args[0])\n",
    "    else:\n",
    "        print(str(args))\n",
    "\n",
    "\n",
    "try:\n",
    "    raise Exception\n",
    "except Exception as e:\n",
    "    print(e, e.__str__(), sep=' : ' ,end=' : ')\n",
    "    print_args(e.args)\n",
    "\n",
    "try:\n",
    "    raise Exception(\"my exception\")\n",
    "except Exception as e:\n",
    "    print(e, e.__str__(), sep=' : ', end=' : ')\n",
    "    print_args(e.args)\n",
    "\n",
    "try:\n",
    "    raise Exception(\"my\", \"exception\")\n",
    "except Exception as e:\n",
    "    print(e, e.__str__(), sep=' : ', end=' : ')\n",
    "    print_args(e.args)\n"
   ]
  },
  {
   "cell_type": "markdown",
   "metadata": {},
   "source": [
    "How to Define your own Exceptions"
   ]
  },
  {
   "cell_type": "code",
   "execution_count": null,
   "metadata": {},
   "outputs": [],
   "source": [
    "class MyZeroDivisionError(ZeroDivisionError):\t\n",
    "    pass\n",
    "\n",
    "\n",
    "def do_the_division(mine):\n",
    "    if mine:\n",
    "        raise MyZeroDivisionError(\"some worse news\")\n",
    "    else:\t\t\n",
    "        raise ZeroDivisionError(\"some bad news\")\n",
    "\n",
    "\n",
    "for mode in [False, True]:\n",
    "    try:\n",
    "        do_the_division(mode)\n",
    "    except ZeroDivisionError:\n",
    "        print('Division by zero')\n",
    "\n",
    "for mode in [False, True]:\n",
    "    try:\n",
    "        do_the_division(mode)\n",
    "    except MyZeroDivisionError:\n",
    "        print('My division by zero')\n",
    "    except ZeroDivisionError:\n",
    "        print('Original division by zero')\n"
   ]
  },
  {
   "cell_type": "markdown",
   "metadata": {},
   "source": [
    "In the above Code cell, We've defined our own exception, named MyZeroDivisionError, \n",
    "\n",
    "derived from the built-in ZeroDivisionError. As you can see, we've decided not to add any new components to the class.\n",
    "\n",
    "In effect, an exception of this class can be - depending on the desired point of view - treated like a plain ZeroDivisionError, or considered separately.\n",
    "\n",
    "The do_the_division() function raises either a MyZeroDivisionError or ZeroDivisionError exception, depending on the argument's value.\n",
    "\n",
    "The function is invoked four times in total, while the first two invocations are handled using only one except branch (the more general one) and the last two ones with two different branches, able to distinguish the exceptions (don't forget: the order of the branches makes a fundamental difference!)"
   ]
  },
  {
   "cell_type": "code",
   "execution_count": null,
   "metadata": {},
   "outputs": [],
   "source": [
    "class MyZeroDivisionError(ZeroDivisionError):\t\n",
    "    pass\n",
    "\n",
    "\n",
    "def do_the_division(mine):\n",
    "    if mine:\n",
    "        raise MyZeroDivisionError(\"some worse news\")\n",
    "    else:\t\t\n",
    "        raise ZeroDivisionError(\"some bad news\")\n",
    "\n",
    "\n",
    "for mode in [False, True]:\n",
    "    try:\n",
    "        do_the_division(mode)\n",
    "    except ZeroDivisionError:\n",
    "        print('Division by zero')\n",
    "\n",
    "for mode in [False, True]:\n",
    "    try:\n",
    "        do_the_division(mode)\n",
    "    except MyZeroDivisionError:\n",
    "        print('My division by zero')\n",
    "    except ZeroDivisionError:\n",
    "        print('Original division by zero')\n"
   ]
  },
  {
   "cell_type": "markdown",
   "metadata": {},
   "source": [
    "In the above Code Cell:\n",
    "\n",
    "We've defined our own exception, named MyZeroDivisionError, derived from the built-in ZeroDivisionError. As you can see, we've decided not to add any new components to the class.\n",
    "\n",
    "In effect, an exception of this class can be - depending on the desired point of view - treated like a plain ZeroDivisionError, or considered separately.\n",
    "\n",
    "The do_the_division() function raises either a MyZeroDivisionError or ZeroDivisionError exception, depending on the argument's value.\n",
    "\n",
    "The function is invoked four times in total, while the first two invocations are handled using only one except branch (the more general one) and the last two ones with two different branches, able to distinguish the exceptions (don't forget: the order of the branches makes a fundamental difference!)"
   ]
  },
  {
   "cell_type": "markdown",
   "metadata": {},
   "source": [
    "How to create your own exception: continued:\n",
    "\n",
    "\n",
    "When you're going to build a completely new universe filled with completely new creatures that have nothing in common with all the familiar things, you may want to build your own exception structure.\n",
    "\n",
    "For example, if you work on a large simulation system which is intended to model the activities of a pizza restaurant, it can be desirable to form a separate hierarchy of exceptions.\n",
    "\n",
    "You can start building it by defining a general exception as a new base class for any other specialized exception. We've done in in the following way:"
   ]
  },
  {
   "cell_type": "code",
   "execution_count": null,
   "metadata": {},
   "outputs": [],
   "source": [
    "class PizzaError(Exception):\n",
    "    def __init__(self, pizza, message):\n",
    "        Exception.__init__(self, message)\n",
    "        self.pizza = pizza\n",
    "\n"
   ]
  },
  {
   "cell_type": "markdown",
   "metadata": {},
   "source": [
    "Note: we're going to collect more specific information here than a regular Exception does, so our constructor will take two arguments:\n",
    "\n",
    "one specifying a pizza as a subject of the process,\n",
    "and one containing a more or less precise description of the problem.\n",
    "As you can see, we pass the second parameter to the superclass constructor, and save the first inside our own property.\n",
    "\n",
    "A more specific problem (like an excess of cheese) can require a more specific exception. It's possible to derive the new class from the already defined PizzaError class, like we've done here:"
   ]
  },
  {
   "cell_type": "code",
   "execution_count": null,
   "metadata": {},
   "outputs": [],
   "source": [
    "class TooMuchCheeseError(PizzaError):\n",
    "    def __init__(self, pizza, cheese, message):\n",
    "        PizzaError._init__(self, pizza, message)\n",
    "        self.cheese = cheese\n",
    "\n"
   ]
  },
  {
   "cell_type": "markdown",
   "metadata": {},
   "source": [
    "The TooMuchCheeseError exception needs more information than the regular PizzaError exception, so we add it to the constructor - the name cheese is then stored for further processing."
   ]
  },
  {
   "cell_type": "code",
   "execution_count": null,
   "metadata": {},
   "outputs": [],
   "source": [
    "class PizzaError(Exception):\n",
    "    def __init__(self, pizza, message):\n",
    "        Exception.__init__(self, message)\n",
    "        self.pizza = pizza\n",
    "\n",
    "\n",
    "class TooMuchCheeseError(PizzaError):\n",
    "    def __init__(self, pizza, cheese, message):\n",
    "        PizzaError._init__(self, pizza, message)\n",
    "        self.cheese = cheese\n"
   ]
  },
  {
   "cell_type": "markdown",
   "metadata": {},
   "source": [
    "Look at the code in the editor. We've coupled together the two previously defined exceptions and harnessed them to work in a small example snippet.\n",
    "\n",
    "One of these is raised inside the make_pizza() function when any of these two erroneous situations is discovered: a wrong pizza request, or a request for too much cheese.\n",
    "\n",
    "Note:\n",
    "\n",
    "removing the branch starting with except TooMuchCheeseError will cause all appearing exceptions to be classified as PizzaError;\n",
    "removing the branch starting with except PizzaErrorwill cause the TooMuchCheeseError exceptions to remain unhandled, and will cause the program to terminate."
   ]
  },
  {
   "cell_type": "code",
   "execution_count": null,
   "metadata": {},
   "outputs": [],
   "source": [
    "class PizzaError(Exception):\n",
    "    def __init__(self, pizza, message):\n",
    "        Exception.__init__(self, message)\n",
    "        self.pizza = pizza\n",
    "\n",
    "\n",
    "class TooMuchCheeseError(PizzaError):\n",
    "    def __init__(self, pizza, cheese, message):\n",
    "        PizzaError.__init__(self, pizza, message)\n",
    "        self.cheese = cheese\n",
    "\n",
    "\n",
    "def make_pizza(pizza, cheese):\n",
    "    if pizza not in ['margherita', 'capricciosa', 'calzone']:\n",
    "        raise PizzaError(pizza, \"no such pizza on the menu\")\n",
    "    if cheese > 100:\n",
    "        raise TooMuchCheeseError(pizza, cheese, \"too much cheese\")\n",
    "    print(\"Pizza ready!\")\n",
    "\n",
    "for (pz, ch) in [('calzone', 0), ('margherita', 110), ('mafia', 20)]:\n",
    "    try:\n",
    "        make_pizza(pz, ch)\n",
    "    except TooMuchCheeseError as tmce:\n",
    "        print(tmce, ':', tmce.cheese)\n",
    "    except PizzaError as pe:\n",
    "        print(pe, ':', pe.pizza)\n"
   ]
  },
  {
   "cell_type": "markdown",
   "metadata": {},
   "source": [
    "The previous solution, although elegant and efficient, has one important weakness. Due to the somewhat easygoing way of declaring the constructors, the new exceptions cannot be used as-is, without a full list of required arguments.\n",
    "\n",
    "We'll remove this weakness by setting the default values for all constructor parameters. Take a look:"
   ]
  },
  {
   "cell_type": "code",
   "execution_count": null,
   "metadata": {},
   "outputs": [],
   "source": [
    "class PizzaError(Exception):\n",
    "    def __init__(self, pizza='uknown', message=''):\n",
    "        Exception.__init__(self, message)\n",
    "        self.pizza = pizza\n",
    "\n",
    "\n",
    "class TooMuchCheeseError(PizzaError):\n",
    "    def __init__(self, pizza='uknown', cheese='>100', message=''):\n",
    "        PizzaError.__init__(self, pizza, message)\n",
    "        self.cheese = cheese\n",
    "\n",
    "\n",
    "def make_pizza(pizza, cheese):\n",
    "    if pizza not in ['margherita', 'capricciosa', 'calzone']:\n",
    "        raise PizzaError\n",
    "    if cheese > 100:\n",
    "        raise TooMuchCheeseError\n",
    "    print(\"Pizza ready!\")\n",
    "\n",
    "\n",
    "for (pz, ch) in [('calzone', 0), ('margherita', 110), ('mafia', 20)]:\n",
    "    try:\n",
    "        make_pizza(pz, ch)\n",
    "    except TooMuchCheeseError as tmce:\n",
    "        print(tmce, ':', tmce.cheese)\n",
    "    except PizzaError as pe:\n",
    "        print(pe, ':', pe.pizza)\n",
    "\n"
   ]
  },
  {
   "cell_type": "markdown",
   "metadata": {},
   "source": [
    "Now, if the circumstances permit, it is possible to use the class names alone."
   ]
  },
  {
   "cell_type": "markdown",
   "metadata": {},
   "source": [
    "Key takeaways\n",
    "\n",
    "1. The else: branch of the try statement is executed when there has been no exception during the execution of the try: block.\n",
    "\n",
    "\n",
    "2. The finally: branch of the try statement is always executed.\n",
    "\n",
    "\n",
    "3. The syntax except Exception_Name as an exception_object: lets you intercept an object carrying information about a pending exception. The object's property named args (a tuple) stores all arguments passed to the object's constructor.\n",
    "\n",
    "\n",
    "4. The exception classes can be extended to enrich them with new capabilities, or to adopt their traits to newly defined exceptions.\n",
    "\n",
    "For example"
   ]
  },
  {
   "cell_type": "code",
   "execution_count": null,
   "metadata": {},
   "outputs": [],
   "source": [
    "try:\n",
    "    assert __name__ == \"__main__\"\n",
    "except:\n",
    "    print(\"fail\", end=' ')\n",
    "else:\n",
    "    print(\"success\", end=' ')\n",
    "finally:\n",
    "    print(\"done\")\n",
    "\n"
   ]
  },
  {
   "cell_type": "code",
   "execution_count": null,
   "metadata": {},
   "outputs": [],
   "source": [
    "#Exercise 1\n",
    "\n",
    "#What is the expected output of the following code?\n",
    "\n",
    "import math\n",
    "\n",
    "try:\n",
    "    print(math.sqrt(9))\n",
    "except ValueError:\n",
    "    print(\"inf\")\n",
    "else:\n",
    "    print(\"fine\")\n",
    "\n",
    "\n",
    "#Answer:\n",
    "#3.0\n",
    "#fine"
   ]
  },
  {
   "cell_type": "code",
   "execution_count": null,
   "metadata": {},
   "outputs": [],
   "source": [
    "#Exercise 2\n",
    "\n",
    "#What is the expected output of the following code?\n",
    "\n",
    "import math\n",
    "\n",
    "try:\n",
    "    print(math.sqrt(-9))\n",
    "except ValueError:\n",
    "    print(\"inf\")\n",
    "else:\n",
    "    print(\"fine\")\n",
    "finally:\n",
    "    print(\"the end\")\n",
    "\n",
    "\n",
    "#Answer\n",
    "#inf\n",
    "#the end"
   ]
  },
  {
   "cell_type": "code",
   "execution_count": null,
   "metadata": {},
   "outputs": [],
   "source": [
    "#Exercise 3\n",
    "\n",
    "#What is the expected output of the following code?\n",
    "\n",
    "import math\n",
    "\n",
    "class NewValueError(ValueError):\n",
    "    def __init__(self, name, color, state):\n",
    "        self.data = (name, color, state)\n",
    "\n",
    "try:\n",
    "    raise NewValueError(\"Enemy warning\", \"Red alert\", \"High readiness\")\n",
    "except NewValueError as nve:\n",
    "    for arg in nve.args:\n",
    "        print(arg, end='! ')\n",
    "\n",
    "\n",
    "#Answer\n",
    "#Enemy warning! Red alert! High readiness!"
   ]
  },
  {
   "cell_type": "markdown",
   "metadata": {},
   "source": [
    "# Section 5: Miscellaneous (22%)\n",
    "\n",
    "Scope: List Comprehensions, Lambdas, Closures, and I/O Operations\n",
    "\n",
    "Objectives covered by the block (9 exam items)\n",
    "1. Generators, iterators and closures; \n",
    "2. Working with file-system, directory tree and files; \n",
    "3. Selected Python Standard Library modules (os, datetime, time, and calendar.)\n",
    "\n",
    "### PCAP-31-03 5.1 – Build complex lists using list comprehension\n",
    "\n",
    "list comprehensions: the if operator, nested comprehensions\n",
    "\n",
    "### PCAP-31-03 5.2 – Embed lambda functions into the code\n",
    "\n",
    "lambdas: defining and using lambdas\n",
    "self-defined functions taking lambdas as arguments\n",
    "functions: map(), filter()\n",
    "\n",
    "### PCAP-31-03 5.3 – Define and use closures\n",
    "\n",
    "closures: meaning and rationale\n",
    "defining and using closures\n",
    "\n",
    "### PCAP-31-03 5.4 – Understand basic Input/Output terminology\n",
    "\n",
    "I/O modes\n",
    "predefined streams\n",
    "handles vs. streams\n",
    "text vs. binary modes\n",
    "### PCAP-31-03 5.5 – Perform Input/Output operations\n",
    "\n",
    "the open() function\n",
    "the errno variable and its values\n",
    "functions: close(), .read(), .write(), .readline(), readlines()\n",
    "using bytearray as input/output buffer"
   ]
  },
  {
   "cell_type": "code",
   "execution_count": null,
   "metadata": {},
   "outputs": [],
   "source": [
    "#How to build your own generator\n",
    "#What if you need a generator to produce the first n powers of 2?\n",
    "\n",
    "#Nothing easier. Just look at the code below:\n",
    "\n",
    "def powers_of_2(n):\n",
    "    power = 1\n",
    "    for i in range(n):\n",
    "        yield power\n",
    "        power *= 2\n",
    "\n",
    "\n",
    "for v in powers_of_2(8):\n",
    "    print(v)"
   ]
  },
  {
   "cell_type": "code",
   "execution_count": null,
   "metadata": {},
   "outputs": [],
   "source": [
    "#List comprehensions\n",
    "\n",
    "#Generators may also be used within list comprehensions, just like here:\n",
    "\n",
    "def powers_of_2(n):\n",
    "    power = 1\n",
    "    for i in range(n):\n",
    "        yield power\n",
    "        power *= 2\n",
    "\n",
    "\n",
    "t = [x for x in powers_of_2(5)]\n",
    "print(t)\n"
   ]
  },
  {
   "cell_type": "code",
   "execution_count": null,
   "metadata": {},
   "outputs": [],
   "source": [
    "#The list() function\n",
    "\n",
    "#The list() function can transform a series of subsequent generator invocations into a real list:\n",
    "\n",
    "def powers_of_2(n):\n",
    "    power = 1\n",
    "    for i in range(n):\n",
    "        yield power\n",
    "        power *= 2\n",
    "\n",
    "\n",
    "t = list(powers_of_2(3))\n",
    "print(t)"
   ]
  },
  {
   "cell_type": "code",
   "execution_count": null,
   "metadata": {},
   "outputs": [],
   "source": [
    "#The in operator\n",
    "\n",
    "#Moreover, the context created by the in operator allows you to use a generator, too.\n",
    "\n",
    "#The example shows how to do it:\n",
    "\n",
    "def powers_of_2(n):\n",
    "    power = 1\n",
    "    for i in range(n):\n",
    "        yield power\n",
    "        power *= 2\n",
    "\n",
    "\n",
    "for i in range(20):\n",
    "    if i in powers_of_2(4):\n",
    "        print(i)"
   ]
  },
  {
   "cell_type": "code",
   "execution_count": null,
   "metadata": {},
   "outputs": [],
   "source": [
    "#The Fibanacci number generator\n",
    "\n",
    "#Now let's see a Fibonacci number generator, and ensure that it looks much \n",
    "# better than the objective version based on the direct iterator protocol implementation.\n",
    "\n",
    "#Here it is:\n",
    "\n",
    "def fibonacci(n):\n",
    "    p = pp = 1\n",
    "    for i in range(n):\n",
    "        if i in [0, 1]:\n",
    "            yield 1\n",
    "        else:\n",
    "            n = p + pp\n",
    "            pp, p = p, n\n",
    "            yield n\n",
    "\n",
    "fibs = list(fibonacci(10))\n",
    "print(fibs)\n",
    "\n",
    "\n",
    "#Guess the output (a list) produced by the generator, and run the code to check if you were right."
   ]
  },
  {
   "cell_type": "markdown",
   "metadata": {},
   "source": [
    "Python PCAP Summary Test one"
   ]
  },
  {
   "cell_type": "code",
   "execution_count": null,
   "metadata": {},
   "outputs": [],
   "source": [
    "#Q 1: The following code:\n",
    "x = \"\\\\\\\\\"\n",
    "print(len(x))\n",
    "#will print 1\n",
    "#will print 2\n",
    "#will cause an error\n",
    "#will print 3"
   ]
  },
  {
   "cell_type": "code",
   "execution_count": null,
   "metadata": {},
   "outputs": [],
   "source": [
    "#Q2. What information can be read using the uname function provided by the os module? (Select two answers)\n",
    "import os\n",
    "os.mkdir('pictures')\n",
    "os.chdir('pictures')\n",
    "print(os.getcwd())\n",
    "#Last login date.\n",
    "#Current path\n",
    "#Operating system name\n",
    "#Hardware identifier"
   ]
  },
  {
   "cell_type": "code",
   "execution_count": null,
   "metadata": {},
   "outputs": [],
   "source": [
    "#Q3. The following statement:\n",
    "assert var != 0\n",
    "#ia erroneous \n",
    "#has no effect\n",
    "#will stop the program when var == 0\n",
    "#will stop the program whrn var !=0"
   ]
  },
  {
   "cell_type": "code",
   "execution_count": null,
   "metadata": {},
   "outputs": [],
   "source": [
    "#Q3. What is he except output of the following code?\n",
    "class A:\n",
    "    A = 1\n",
    "    def __init__(self):\n",
    "       self.a = 0\n",
    "print(hasattr(A, 'a'))\n",
    "#0\n",
    "#True\n",
    "#1\n",
    "#False"
   ]
  },
  {
   "cell_type": "code",
   "execution_count": null,
   "metadata": {},
   "outputs": [],
   "source": [
    "#Q4. What is the excepted result of the following code?\n",
    "from datetime import timedelta\n",
    "delta = timedelta(weeks = 1, days = 7, hours = 11)\n",
    "print(delta * 2)\n",
    "#28 days, 22:00:00\n",
    "#2 weeks, 14 days, 22 hours\n",
    "#7 days, 22:00:00\n",
    "#The code will raise an exception"
   ]
  },
  {
   "cell_type": "code",
   "execution_count": null,
   "metadata": {},
   "outputs": [],
   "source": [
    "#Q5. What is the excepted output of the following code?\n",
    "class A:\n",
    "    def __init__(self, v=2)\n",
    "    def set(self, v=1):\n",
    "       self.v +=v\n",
    "       return self.v\n",
    "a = A()\n",
    "b = a\n",
    "b.set()\n",
    "print(a.v)\n",
    "#1\n",
    "#0\n",
    "#2\n",
    "#3"
   ]
  },
  {
   "cell_type": "code",
   "execution_count": null,
   "metadata": {},
   "outputs": [],
   "source": [
    "#Q6 What is the expected effect of running the following code?\n",
    "class A:\n",
    "   def __init__(self, v):\n",
    "      self.__a = v + 1\n",
    "a = A(0)\n",
    "print(a.__a)\n",
    "#The code will raise an AttributeError except\n",
    "#The code will print 2\n",
    "#The code will print 0\n",
    "#The code will print 1"
   ]
  },
  {
   "cell_type": "code",
   "execution_count": null,
   "metadata": {},
   "outputs": [],
   "source": [
    "#Question 7: What will be the result of executing the following code?\n",
    "class Ex(Exception):\n",
    "     def_init_(self,msg):\n",
    "            Exception._init_(self,msg + msg)\n",
    "            self.args = (msg,)\n",
    "\n",
    "try:\n",
    "       raise Ex('ex')\n",
    "except Ex as e:\n",
    "       print(e)\n",
    "except Exception as e:\n",
    "       print(e)\n",
    "#1. it will print ex\n",
    "#2. it will print exex\n",
    "#3. it will print an empty line\n",
    "#4. it will raise an unhandled exception"
   ]
  },
  {
   "cell_type": "code",
   "execution_count": null,
   "metadata": {},
   "outputs": [],
   "source": [
    "#Q8. Knowing that a function named fun() resides in a module named mod , \n",
    "#and was imported using the following statement:\n",
    "from mod import fun\n",
    "choose the right to invoke the fun() function:\n",
    "#mod:fun()\n",
    "#mod::fun()\n",
    "#fun()\n",
    "#mod.fun()"
   ]
  },
  {
   "cell_type": "code",
   "execution_count": null,
   "metadata": {},
   "outputs": [],
   "source": [
    "#Q9. What output will appear after running the following snippet?\n",
    "import math\n",
    "\n",
    "print(dir(math), end='')\n",
    "#The number of all the entities residing in the math module\n",
    "#A string containing the fully qualified name of the module\n",
    "#An error message\n",
    "#A list of all the entities residing in the math module"
   ]
  },
  {
   "cell_type": "code",
   "execution_count": null,
   "metadata": {},
   "outputs": [],
   "source": [
    "#Q10. Look at the code below:\n",
    "import random\n",
    "#\n",
    "# Insert lines of code here.\n",
    "#\n",
    "print(a, b,)\n",
    "#Which lines of code would you insert so that it is possible for the program to output the following result:\n",
    "#6 82 0\n",
    "#a = random.randint(0, 100)\n",
    "#b = random.randrange(10, 100, 3)\n",
    "#c = random.choice((0, 100, 3))\n",
    "\n",
    "#a = random.choice((0, 100, 3))\n",
    "#b  = random.randrange(10, 100, 3)\n",
    "#c = random.randint(0, 100)\n",
    "\n",
    "#a  = random.randrange(10, 100, 3)\n",
    "#b = random.randint(0, 100)\n",
    "#c  = random.choice((0, 100, 3))\n",
    "\n",
    "#a  = random.randint(0, 100)\n",
    "#b = random.choice((0, 100, 3))\n",
    "#c  = random.randrange(10, 100, 3)"
   ]
  },
  {
   "cell_type": "code",
   "execution_count": null,
   "metadata": {},
   "outputs": [],
   "source": [
    "#Q11: What is the expected result of the following code?\n",
    "from datetime import datetime\n",
    "datetime_1 = datetime(2019, 11, 27, 11, 27, 22)\n",
    "datetime_2 = datetime(2019, 11, 27, 0, 0, 0)\n",
    "print(datetime_1 - datetime_2)\n",
    "#o days\n",
    "#0 days, 11:27:22\n",
    "#11:27:22\n",
    "#11 hours, 27 minutes, 22 seconds"
   ]
  },
  {
   "cell_type": "code",
   "execution_count": null,
   "metadata": {},
   "outputs": [],
   "source": [
    "#Q12. What is the expected result of the following code?\n",
    "import calendar\n",
    "calendar.setfirstweekday(calendar.SUNDAY)\n",
    "print(calendar.weekheader(3))\n",
    "#Su Mo Tu We Th We Fr Sa\n",
    "#Sun Mon Tue Wed Thu Fri Sat\n",
    "#Tu\n",
    "#Tue"
   ]
  },
  {
   "cell_type": "code",
   "execution_count": null,
   "metadata": {},
   "outputs": [],
   "source": [
    "#Q13. what is the expected  result of executing the following code?\n",
    "class A: \n",
    "#The code will print c\n",
    "#The code will raise an excepion\n",
    "#The code will print b\n",
    "#The code will print a"
   ]
  },
  {
   "cell_type": "code",
   "execution_count": null,
   "metadata": {},
   "outputs": [],
   "source": [
    "#Q14. Look at the following code:\n",
    "numbers  [0, 2, 7, 9, 10]\n",
    "# Insert line of code here.\n",
    "print(list(foo))\n",
    "#Which line would you insert in order for the program to produce the expected output?\n",
    "#[0, 4, 49, 81, 100]\n",
    "#foo  = lambda num: num ** 2, numbers\n",
    "#foo = lambda num: num * 2, numbers)\n",
    "#foo = filter(lambda num: num ** 2, numbers)\n",
    "#foo = map(lambda num : num ** 2, numbers)"
   ]
  },
  {
   "cell_type": "code",
   "execution_count": null,
   "metadata": {},
   "outputs": [],
   "source": [
    "#Q15. What is the expected result of executing the following code?\n",
    "class I:\n",
    "    def __init__(self):\n",
    "        self.s = 'abc'\n",
    "        self.i = 0\n",
    "        def __init__(self):\n",
    "        return self\n",
    "    def __next__(self):\n",
    "        if self.i == len(self.s):\n",
    "           raise StopIteration\n",
    "         v = self.s[self.i]\n",
    "         self.i +=1\n",
    "         return v\n",
    "for x in I():\n",
    "    print(x, end='')\n",
    "#The code will print 210\n",
    "#The code will print abc\n",
    "#The code will print 012\n",
    "#The code will print cba"
   ]
  },
  {
   "cell_type": "code",
   "execution_count": null,
   "metadata": {},
   "outputs": [],
   "source": [
    "#Q16 The complied Python bytecode is stored in files which have their names ending with:\n",
    "#py\n",
    "#pyb\n",
    "#pc\n",
    "#pyc"
   ]
  },
  {
   "cell_type": "code",
   "execution_count": null,
   "metadata": {},
   "outputs": [],
   "source": [
    "#Q17 Which pip command would you use to uninstall a previously install package?\n",
    "#pip delete packagename\n",
    "#pip –uninstall packagename\n",
    "#pip –remove packagename\n",
    "#pip uninstall packagename"
   ]
  },
  {
   "cell_type": "code",
   "execution_count": null,
   "metadata": {},
   "outputs": [],
   "source": [
    "#Q18. What is the excepted result of executed the following code?\n",
    "try:\n",
    "    raise Exception(1, 2, 3)\n",
    "except Exception as e:\n",
    "    print(len(e.args))\n",
    "#The code will raise an unhandled exception\n",
    "#The code will print 2\n",
    "#The code will print 3\n",
    "#The code will print 1"
   ]
  },
  {
   "cell_type": "code",
   "execution_count": null,
   "metadata": {},
   "outputs": [],
   "source": [
    "#Q19. What is the excepted result of executed the following snippet?\n",
    "try:\n",
    "    raise Exception\n",
    "except BaseException:\n",
    "    print(\"a\")\n",
    "except Exception:\n",
    "    print(\"b\")\n",
    "except:\n",
    "    print(\"c\")\n",
    "#b\n",
    "#a\n",
    "#An error message\n",
    "#1"
   ]
  },
  {
   "cell_type": "code",
   "execution_count": null,
   "metadata": {},
   "outputs": [],
   "source": [
    "#Q20. What is the expected result of executing the following code?\n",
    "class A:\n",
    "      pass\n",
    "class B(A):\n",
    "      pass\n",
    "class C(B):\n",
    "      pass\n",
    "print(issubclass(A, C))\n",
    "#The code will print Ture\n",
    "#The code will print 1\n",
    "#The code will print False\n",
    "#The code will raise an exception"
   ]
  },
  {
   "cell_type": "code",
   "execution_count": null,
   "metadata": {},
   "outputs": [],
   "source": [
    "#Q21: If you want to fill a byte array with data read in from a stream, which method you can use?\n",
    "#The read() method\n",
    "#The readbytes() method\n",
    "#The readfrom() method\n",
    "#The readinto() method"
   ]
  },
  {
   "cell_type": "code",
   "execution_count": null,
   "metadata": {},
   "outputs": [],
   "source": [
    "#Q22 The following code:\n",
    "print(float(\"1.3\"))\n",
    "#will print 1.3\n",
    "#will print 13\n",
    "#will print 1,3\n",
    "#will raise a ValueError exception "
   ]
  },
  {
   "cell_type": "code",
   "execution_count": null,
   "metadata": {},
   "outputs": [],
   "source": [
    "#Q23: The following code:\n",
    "print(chr(ord('p) + 2))\n",
    "#will print:\n",
    "#q\n",
    "#s\n",
    "#r\n",
    "#t"
   ]
  },
  {
   "cell_type": "code",
   "execution_count": null,
   "metadata": {},
   "outputs": [],
   "source": [
    "#Q24. If there are more than one except: branch after the try: clause, we can say that:\n",
    "#exactly one except: block will be executed\n",
    "#one or more except: blocks will be executed\n",
    "#not more than one except: block will be executed\n",
    "#none of the except: blocks will be executed"
   ]
  },
  {
   "cell_type": "code",
   "execution_count": null,
   "metadata": {},
   "outputs": [],
   "source": [
    "#Q25. If the class constructor is declared in the following way:\n",
    "class Class:\n",
    "     def __init__(self, vla = 0):\n",
    "          pass\n",
    "#which one of the assignments is invalid?\n",
    "#object = Class(1)\n",
    "#object = Class(None)\n",
    "#object = Class(1, 2)\n",
    "#object = Class()"
   ]
  },
  {
   "cell_type": "code",
   "execution_count": null,
   "metadata": {},
   "outputs": [],
   "source": [
    "#Q26. What is the expected result of the following snippet?\n",
    "try:\n",
    "   raise Exception\n",
    "except:\n",
    "   print(\"c\")\n",
    "except BaseException:\n",
    "   print(\"a\")\n",
    "except Exception:\n",
    "   print(\"b\")\n",
    "#The code will cause a syntax error \n",
    "#1\n",
    "#b\n",
    "#a"
   ]
  },
  {
   "cell_type": "code",
   "execution_count": null,
   "metadata": {},
   "outputs": [],
   "source": [
    "#Q27. What is the expected result of the following code?\n",
    "def my_fun(n):\n",
    "    s = '+'\n",
    "    for i in range(n):\n",
    "        s += s\n",
    "        yield s\n",
    "for x in my_fun(2):\n",
    "    print(x, end='')\n",
    "#The code will print +\n",
    "#The code will print +++\n",
    "#The code will print ++\n",
    "#The code will print ++++++"
   ]
  },
  {
   "cell_type": "code",
   "execution_count": null,
   "metadata": {},
   "outputs": [],
   "source": [
    "#Q28. Look at the following code:\n",
    "numbers = [i*i for i in range(5)]\n",
    "# Insert line of code here.\n",
    "print(foo)\n",
    "#Which line would you insert in order for the program to produce the expected output?\n",
    "#[1, 9]\n",
    "#foo = list(filter(lambda x: x % 2, numbers))\n",
    "#foo = list(filter(lambda x: x / 2, numbers))\n",
    "#foo = list(map(lambda x: x % 2, numbers))\n",
    "#foo = list(map(lambda x: x // 2, numbers))"
   ]
  },
  {
   "cell_type": "code",
   "execution_count": null,
   "metadata": {},
   "outputs": [],
   "source": [
    "#Q29. What is the expected result of executing the following code?\n",
    "def o(p):\n",
    "    def q():\n",
    "        return '*' * p\n",
    "    return q\n",
    "r = o(1)\n",
    "s = o(2)\n",
    "print(r() + s())\n",
    "#The code will print ***\n",
    "#The code will print ****\n",
    "#The code will print *\n",
    "#The code will print **"
   ]
  },
  {
   "cell_type": "code",
   "execution_count": null,
   "metadata": {},
   "outputs": [],
   "source": [
    "#Q30. The following statement:\n",
    "from a.b import c\n",
    "#causes the import of:\n",
    "#entity a from module b from package c\n",
    "#entity b from module a from package c\n",
    "#entity c from module a from package b\n",
    "#entity c from module b from package a"
   ]
  },
  {
   "cell_type": "code",
   "execution_count": null,
   "metadata": {},
   "outputs": [],
   "source": [
    "#Q31. The sys.stderr stream is normally associaated with:\n",
    "#the keyboard \n",
    "#the printer\n",
    "#a null device\n",
    "#the screen"
   ]
  },
  {
   "cell_type": "code",
   "execution_count": null,
   "metadata": {},
   "outputs": [],
   "source": [
    "#Q32: What will be the output of the following code, located in the p.py file?\n",
    "print(__name__)\n",
    "#main\n",
    "#p.py\n",
    "#__main__\n",
    "#__p.py__"
   ]
  },
  {
   "cell_type": "code",
   "execution_count": null,
   "metadata": {},
   "outputs": [],
   "source": [
    "#Q33. Assuming that the​ open() invocation has gone successfully, the following snippet:\n",
    "for x in open('file', 'rt')) \n",
    "    print(x)\n",
    "#will:\n",
    "#read the file character by character\n",
    "#read the file line by line\n",
    "#read the whole file at once\n",
    "#cause an exception"
   ]
  },
  {
   "cell_type": "code",
   "execution_count": null,
   "metadata": {},
   "outputs": [],
   "source": [
    "#Q34. If a is a stream opened in read mod, the following line:\n",
    "q = s.read(1)\n",
    "#will read:\n",
    "#one line from the stream \n",
    "#one kilobyte from the stream \n",
    "#one buffer from the stream \n",
    "#one character from the stream "
   ]
  },
  {
   "cell_type": "code",
   "execution_count": null,
   "metadata": {},
   "outputs": [],
   "source": [
    "#Q35. The following line of code:\n",
    "for line in open('text.txt', 'rt'):\n",
    "#in invalid because open returns nothing \n",
    "#is invalid because open returns a non-iterable object\n",
    "#is invalid because open returns an iterable object\n",
    "#may be valid if line is a list"
   ]
  },
  {
   "cell_type": "code",
   "execution_count": null,
   "metadata": {},
   "outputs": [],
   "source": [
    "#Q36. What is the expected result of the following code?\n",
    "import os\n",
    "os.mkdir('pictures')\n",
    "os.chdir('pictures')\n",
    "print(os.getcwd())\n",
    "#The code will print the owner of the created directory\n",
    "#The code will print the content of the created directory\n",
    "#The code will print the name of the created directory\n",
    "#The code will print the path to the created directory"
   ]
  },
  {
   "cell_type": "code",
   "execution_count": null,
   "metadata": {},
   "outputs": [],
   "source": [
    "#Q37. Assuming that the following three files a.py ,and c.py reside in the same directory, \n",
    "# what will be the output produce after running the c.py file?\n",
    "# file a.py\n",
    "print(\"a\", end='')\n",
    "# file b.py\n",
    "import a\n",
    "print(\"b\", end='')\n",
    "# file c.py\n",
    "print(\"c\", end='')\n",
    "import a\n",
    "import b\n",
    "#cab\n",
    "#cab\n",
    "#abc\n",
    "#bac"
   ]
  },
  {
   "cell_type": "code",
   "execution_count": null,
   "metadata": {},
   "outputs": [],
   "source": [
    "#Q38. What is the expected result of executing the followinf code?\n",
    "class A:\n",
    "     def __init__(self):\n",
    "         pass\n",
    "a = A(1)\n",
    "print(hasattr(a, 'A'))\n",
    "#The code will print 1\n",
    "#The code will raise an exception\n",
    "#The code will print False\n",
    "#The code will print True"
   ]
  },
  {
   "cell_type": "code",
   "execution_count": null,
   "metadata": {},
   "outputs": [],
   "source": [
    "#Q39. The following code:\n",
    "x = \" \\\\\"\n",
    "print(len(x))\n",
    "#will print 1\n",
    "#will print 3\n",
    "#will print 2\n",
    "#will cause an error"
   ]
  },
  {
   "cell_type": "code",
   "execution_count": null,
   "metadata": {},
   "outputs": [],
   "source": [
    "#Q40. Which of the following commands would you use to check pip ‘s version? (Select two answers)\n",
    "#pip version\n",
    "#pip --version\n",
    "#pip–version\n",
    "#pip3 --version"
   ]
  },
  {
   "cell_type": "markdown",
   "metadata": {},
   "source": [
    "Python Final Test Example"
   ]
  },
  {
   "cell_type": "code",
   "execution_count": null,
   "metadata": {},
   "outputs": [],
   "source": [
    "#Q1. What is the expected output of the following snippet?\n",
    "a = True\n",
    "b = False\n",
    "a = a or b\n",
    "b = a and b\n",
    "a = a or b\n",
    "print(a, b)\n",
    "#False False\n",
    "#True False\n",
    "#False True\n",
    "#True False"
   ]
  },
  {
   "cell_type": "code",
   "execution_count": null,
   "metadata": {},
   "outputs": [],
   "source": [
    "#Q2. What is the expected output of the following snippet?\n",
    "print(len([i for i in range(0, -2)]))\n",
    "#3\n",
    "#1\n",
    "#2\n",
    "#0"
   ]
  },
  {
   "cell_type": "code",
   "execution_count": null,
   "metadata": {},
   "outputs": [],
   "source": [
    "#Q3. How many stars * will the following snippet send to the console?\n",
    "i = 4\n",
    "while i > 0 :\n",
    "      i -= 2\n",
    "      print(\"*\")\n",
    "      if i == 2:\n",
    "          break\n",
    "else:\n",
    "      print(\"*\")\n",
    "#two\n",
    "#one\n",
    "#zero\n",
    "#The snippet will enter an infinite loop, constantly printing one * per line"
   ]
  },
  {
   "cell_type": "code",
   "execution_count": null,
   "metadata": {},
   "outputs": [],
   "source": [
    "#Q4. What is the sys.stdout stream normally associated with?\n",
    "#The printer\n",
    "#The keyboard\n",
    "#A null device\n",
    "#The screen correct answer"
   ]
  },
  {
   "cell_type": "code",
   "execution_count": null,
   "metadata": {},
   "outputs": [],
   "source": [
    "#Q5 What is the excepted output of the following snippet?\n",
    "class X: \n",
    "     pass\n",
    "class Y(X):\n",
    "     pass\n",
    "class Z(Y):\n",
    "     pass\n",
    "x = X()\n",
    "z = Z()\n",
    "print(isinstance(x, z), isinstance(z, X))\n",
    "#True True\n",
    "#True False\n",
    "#False True correct answer\n",
    "#False False"
   ]
  },
  {
   "cell_type": "code",
   "execution_count": null,
   "metadata": {},
   "outputs": [],
   "source": [
    "#q6. What is the excepted output of the following snippet?\n",
    "class A:\n",
    "    def __init__(self,name):\n",
    "         self.name = name\n",
    "a = A(\"class\")\n",
    "print(a)\n",
    "#class\n",
    "#name\n",
    "#A number\n",
    "#A string ending with a long hexadecimal number"
   ]
  },
  {
   "cell_type": "code",
   "execution_count": null,
   "metadata": {},
   "outputs": [],
   "source": [
    "#Q7 What is the excepted result of executing the following code?\n",
    "class A:\n",
    "      pass\n",
    "class B:\n",
    "      pass\n",
    "class C(A, B):\n",
    "      pass\n",
    "print(issubclass(C, A) and issubclass(C, B))\n",
    "#The code will print True\n",
    "#The code will raise an exception\n",
    "#The code will print an empty line\n",
    "#The code will print False"
   ]
  },
  {
   "cell_type": "code",
   "execution_count": null,
   "metadata": {},
   "outputs": [],
   "source": [
    "#Q8. What is the excepted output of the following code?\n",
    "from datetime import datetime\n",
    "\n",
    "datetime = datatime(2019, 11, 27, 11, 27, 22)]\n",
    "print(datetime.strftime('%Y/%m/%d %H:%M:%S'))\n",
    "#19/11/27 11:27:22\n",
    "#2019/Nov/27  11:27:22\n",
    "#2019/11/27  11:27:22       \n",
    "#2019/November/27 11:27:22"
   ]
  },
  {
   "cell_type": "code",
   "execution_count": null,
   "metadata": {},
   "outputs": [],
   "source": [
    "#Q 9. What is the excepted output of the following code?\n",
    "my_string_1 = 'Bond'\n",
    "my_string_2 = 'James Bond'\n",
    "\n",
    "print(my_string_1.isalpha(), my_string_2.isalpha())\n",
    "#False True\n",
    "#True True\n",
    "#False False\n",
    "#True False"
   ]
  },
  {
   "cell_type": "code",
   "execution_count": null,
   "metadata": {},
   "outputs": [],
   "source": [
    "#Q 10. The meaning of a Keyword argument is determined by its:\n",
    "#both name and value assigned to it\n",
    "#position within the argument list\n",
    "#connection with existing variables\n",
    "#value only"
   ]
  },
  {
   "cell_type": "code",
   "execution_count": null,
   "metadata": {},
   "outputs": [],
   "source": [
    "#q11 Knowing that the function named m, and the code contains the following import statement:\n",
    "from f import m\n",
    "\n",
    "#Choose the right way to invoke the function:\n",
    "#mod.f()\n",
    "#The function cannot be invoked because the import statement is invalid\n",
    "#f()\n",
    "#mod:f()"
   ]
  },
  {
   "cell_type": "code",
   "execution_count": null,
   "metadata": {},
   "outputs": [],
   "source": [
    "#Q12. The Exception class contains a property named args -what is it?\n",
    "#A dictionary \n",
    "#A list\n",
    "#A string \n",
    "#A tuple correct"
   ]
  },
  {
   "cell_type": "code",
   "execution_count": null,
   "metadata": {},
   "outputs": [],
   "source": [
    "#Q 13. What is PEP 8?\n",
    "#A document that provides coding conventions and style guide for the C code \n",
    "#computing the C implementation of Python\n",
    "\n",
    "#A document that describes the development and release schedule for Python versions\n",
    "#A document that describes an extension to Python’s import mechanism which improves sharing \n",
    "#of Python source code files\n",
    "\n",
    "#A document that provides coding conventions and style guide for Python code correct"
   ]
  },
  {
   "cell_type": "code",
   "execution_count": null,
   "metadata": {},
   "outputs": [],
   "source": [
    "#Q 14. Which is the expected behavior of the following snippet?\n",
    "def fun(x):\n",
    "    return 1 if x % 2 != else 2\n",
    "print(fun(fun(1)))\n",
    "#The program will output None\n",
    "#The code will cause a runtime error correct \n",
    "#The program will output 2\n",
    "#The program will output 1"
   ]
  },
  {
   "cell_type": "code",
   "execution_count": null,
   "metadata": {},
   "outputs": [],
   "source": [
    "# Q15. Which operator would you use to check whether two values are equal?\n",
    "# ===\n",
    "# is\n",
    "# ==\n",
    "# ="
   ]
  },
  {
   "cell_type": "code",
   "execution_count": null,
   "metadata": {},
   "outputs": [],
   "source": [
    "#Q16. What is the name of the directory/folder created by Python used to store pyc files?\n",
    "# __pycfiles\n",
    "# __pyc__\n",
    "# __pycache__\n",
    "# __cache__"
   ]
  },
  {
   "cell_type": "code",
   "execution_count": null,
   "metadata": {},
   "outputs": [],
   "source": [
    "#Q 17 What can you do if you want tell your module users that a particular variable \n",
    "#should not be accessed directly?\n",
    "\n",
    "#Start its name with  __or__ correct\n",
    "#Start its name with a capital letter\n",
    "#Use its number instead of its name\n",
    "#Build its name with lowercase letters only"
   ]
  },
  {
   "cell_type": "code",
   "execution_count": null,
   "metadata": {},
   "outputs": [],
   "source": [
    "#Q 18. What is the expected output of the following snippet?\n",
    "d = ('one': 1, 'three': 3, 'two':2)\n",
    "for k in sorted(d.values()):\n",
    "print(k, end=' ')\n",
    "# 1 2 3\n",
    "# 3 1 2\n",
    "# 3 2 1\n",
    "# 2 3 1"
   ]
  },
  {
   "cell_type": "code",
   "execution_count": null,
   "metadata": {},
   "outputs": [],
   "source": [
    "#Q 19. Select the true statements.(Select two answers)\n",
    "#The first parameter of a class method does not have to be named self\n",
    "#The first parameter of a class method must be named self\n",
    "#If a class contains the __init__ method, it can return a value\n",
    "#If a class contains the __init__ method, it cannot return any value"
   ]
  },
  {
   "cell_type": "code",
   "execution_count": null,
   "metadata": {},
   "outputs": [],
   "source": [
    "#Q 20. Select the true statements. (Select two answers)\n",
    "#PyPI is short for Python Package Index True\n",
    "#PyPI is the only existing Python repository\n",
    "#PyPI is one of many existing Python repository \n",
    "#PyPI is short for Python Package Installer True"
   ]
  },
  {
   "cell_type": "code",
   "execution_count": null,
   "metadata": {},
   "outputs": [],
   "source": [
    "#Q 21 What is the expected output of the following snippet?\n",
    "t = (1, 2, 3, 4)\n",
    "t = t[-2:-1]\n",
    "t = t[-1]\n",
    "print(t)\n",
    "#(3)\n",
    "#(3,)\n",
    "#3\n",
    "#33"
   ]
  },
  {
   "cell_type": "code",
   "execution_count": null,
   "metadata": {},
   "outputs": [],
   "source": [
    "#Q 22. What is the expected effect of running the following code?\n",
    "class A:\n",
    "     def __init__(self, v):\n",
    "         self._a = v + 1\n",
    "a = A(0)\n",
    "print(a._a)\n",
    "#The code will raise an AttributeError exception\n",
    "#The code will output 1\n",
    "#The code will output 2\n",
    "#The code will output 0"
   ]
  },
  {
   "cell_type": "code",
   "execution_count": null,
   "metadata": {},
   "outputs": [],
   "source": [
    "#Q 23. Which of the following functions provide by the os module are available in both Windows and Unix? \n",
    "#(Select two answers)\n",
    "#chdir()\n",
    "#getgid()\n",
    "#getgroups()\n",
    "#mkdir()"
   ]
  },
  {
   "cell_type": "code",
   "execution_count": null,
   "metadata": {},
   "outputs": [],
   "source": [
    "#Q 24 What is the expected output of the following piece of code?\n",
    "v = 1 + 1 // 2 + 1 / 2 + 2\n",
    "#4.0\n",
    "#3\n",
    "#3.5\n",
    "#4"
   ]
  },
  {
   "cell_type": "code",
   "execution_count": null,
   "metadata": {},
   "outputs": [],
   "source": [
    "#Q 25. If s is a stream opened in read mode, the following line:\n",
    "q = s.readlines()\n",
    "#will assign q as :\n",
    "#dictionary \n",
    "#tuple\n",
    "#list\n",
    "#string"
   ]
  },
  {
   "cell_type": "code",
   "execution_count": null,
   "metadata": {},
   "outputs": [],
   "source": [
    "#Q 26. Which of the following sentences is true about the snippet below?\n",
    "str_1 = 'string'\n",
    "str_2 = str_1[:]\n",
    "#str_1 is longer than str_2\n",
    "#str_1 and  str_2  are different (but equal) strings\n",
    "#str_1 and str_2 are different names of the same string\n",
    "#str_2 is longer than str_1"
   ]
  },
  {
   "cell_type": "code",
   "execution_count": null,
   "metadata": {},
   "outputs": [],
   "source": [
    "#Q 27. What is the expected result of executed the following code?\n",
    "class A:\n",
    "     def __init__(self):\n",
    "         pass\n",
    "     def f(self):\n",
    "         return 1\n",
    "     def g(): #no self passed thru, if self returns 1\n",
    "         return self.f()\n",
    "a = A()\n",
    "print(a.g())\n",
    "#The code will output True\n",
    "#The code will output 0\n",
    "#The code will output 1\n",
    "#The code will raise an exception correct"
   ]
  },
  {
   "cell_type": "code",
   "execution_count": null,
   "metadata": {},
   "outputs": [],
   "source": [
    "#Q 28. What is the expected output of the following code, located in the file module.py ?\n",
    "print(__name__)\n",
    "#main\n",
    "#modle.py\n",
    "#__main__\n",
    "#__module.py__"
   ]
  },
  {
   "cell_type": "code",
   "execution_count": null,
   "metadata": {},
   "outputs": [],
   "source": [
    "#Q 29. What is the excepted output of the following code?\n",
    "def a(x):\n",
    "     def b():\n",
    "        return x + x\n",
    "     return b\n",
    "x = a('x')\n",
    "y = a('')\n",
    "print(x() + y())\n",
    "#xx\n",
    "#xxxx\n",
    "#xxxxxx\n",
    "#x"
   ]
  },
  {
   "cell_type": "code",
   "execution_count": null,
   "metadata": {},
   "outputs": [],
   "source": [
    "#Q 30 What is the excepted behavior of the following piece of code?\n",
    "x = 16\n",
    "while x > 0:\n",
    "     print('*', end='')\n",
    "     x //= 2\n",
    "#The code will output *****\n",
    "#The code will output ***\n",
    "#The code will output *\n",
    "#The code will error an infinite loop"
   ]
  },
  {
   "cell_type": "code",
   "execution_count": null,
   "metadata": {},
   "outputs": [],
   "source": [
    "#Q 31. A package directory/folder may contain a file intended to initialize the package. What is its name?\n",
    "init.py\n",
    "__init.py__\n",
    "__init__.\n",
    "__init__.py"
   ]
  },
  {
   "cell_type": "code",
   "execution_count": null,
   "metadata": {},
   "outputs": [],
   "source": [
    "#Q 32.\n",
    "If there is a finally: branch inside the try: block, we can say that:\n",
    "the finally: branch will always be executed\n",
    "the finally: branch won’t be executed if any of the except: branch is executed\n",
    "the finally: branch won’t be executed if no exception is raised\n",
    "the finally: branch will be executed when there is no else: branch"
   ]
  },
  {
   "cell_type": "code",
   "execution_count": null,
   "metadata": {},
   "outputs": [],
   "source": [
    "#Q33.\n",
    "#What value will be assigned to the x variable?\n",
    "z = 2\n",
    "y = 1\n",
    "x = y < z or z > y and y > z or z < y\n",
    "#True\n",
    "#False\n",
    "#0\n",
    "#1"
   ]
  },
  {
   "cell_type": "code",
   "execution_count": null,
   "metadata": {},
   "outputs": [],
   "source": [
    "#Q 34.\n",
    "#If you want to write a byte array’s content to a stream, which method can you use?\n",
    "writeto()\n",
    "writefrom()\n",
    "write()\n",
    "writebytearray()"
   ]
  },
  {
   "cell_type": "code",
   "execution_count": null,
   "metadata": {},
   "outputs": [],
   "source": [
    "#Q35. What is the expected behavior of the following snippet?\n",
    "try:\n",
    "   raise Exception\n",
    "except:\n",
    "   print(\"c\")\n",
    "except BaseException:\n",
    "   print(\"a\")\n",
    "except Exception:\n",
    "   print(\"b\")\n",
    "#The code will cause an error\n",
    "#The code will output b\n",
    "#The code will output c\n",
    "#The code will output a"
   ]
  },
  {
   "cell_type": "code",
   "execution_count": null,
   "metadata": {},
   "outputs": [],
   "source": [
    "#Q 36. \n",
    "#What is true about the following code snippet?\n",
    "def fun(par2, par1):\n",
    "    return par2 + par1\n",
    "print(fun(par2 = 1, 2))\n",
    "#The code is erroneous\n",
    "#The code will output 3\n",
    "#The code will output 2\n",
    "#The code will output 1"
   ]
  },
  {
   "cell_type": "code",
   "execution_count": null,
   "metadata": {},
   "outputs": [],
   "source": [
    "#Q 37.\n",
    "#What is the expected output of the following piece of code?\n",
    "x, y, z = 3, 2, 1\n",
    "z, y, x = x, y, z\n",
    "print(x, y, z)\n",
    "#2 1 3\n",
    "#1 2 2\n",
    "#3 2 1\n",
    "#1 2 3"
   ]
  },
  {
   "cell_type": "code",
   "execution_count": null,
   "metadata": {},
   "outputs": [],
   "source": [
    "#Q38. \n",
    "#What is the expected output of the following snippet?\n",
    "d = {}\n",
    "d['2'] = [1, 2]\n",
    "d['1'] = [3, 4]\n",
    "for x in d.keys():\n",
    "    print(d[x][1], end=\"\")\n",
    "#24\n",
    "#31\n",
    "#13\n",
    "#42"
   ]
  },
  {
   "cell_type": "code",
   "execution_count": null,
   "metadata": {},
   "outputs": [],
   "source": [
    "#Q 39. \n",
    "#What is the expected output of the following snippet?\n",
    "try:\n",
    "   raise Exception\n",
    "except BaseException:\n",
    "   print(\"a\", end='')\n",
    "else:\n",
    "   print(\"b\", end='')\n",
    "finally:\n",
    "   print(\"c\")\n",
    "#bc\n",
    "#a\n",
    "#ab\n",
    "#ac"
   ]
  },
  {
   "cell_type": "code",
   "execution_count": null,
   "metadata": {},
   "outputs": [],
   "source": [
    "#Q40. \n",
    "#If the class constructor is declare as below:\n",
    "class Class:\n",
    "     def __init__(self):\n",
    "         pass\n",
    "which one of the assignment is valid?\n",
    "#object = Class()\n",
    "#object = Class(1,2)\n",
    "#object = Class(None)\n",
    "#object = Class(1)"
   ]
  },
  {
   "cell_type": "code",
   "execution_count": null,
   "metadata": {},
   "outputs": [],
   "source": [
    "#Q 41. What is the expected output of the following code?\n",
    "from datetime import timedelta\n",
    "delta = timedelta(weeks = 1, days = 7, hours = 11)\n",
    "print(delta)\n",
    "#7 days, 11:00:00\n",
    "#2 weeks, 11:00:00\n",
    "#1 week, 7 days, 11 hours \n",
    "#14 days, 11:00:00"
   ]
  },
  {
   "cell_type": "code",
   "execution_count": null,
   "metadata": {},
   "outputs": [],
   "source": [
    "#Q 42. What is the expected output of the following piece of code if the user enters \n",
    "#two lines containing 1 and 2 respectively?\n",
    "y = input()\n",
    "x = input()\n",
    "print(x + y)\n",
    "#2\n",
    "#21\n",
    "#12\n",
    "#3"
   ]
  },
  {
   "cell_type": "code",
   "execution_count": null,
   "metadata": {},
   "outputs": [],
   "source": [
    "#Q 43. What is the expected behavior of the following snippet?\n",
    "my_string = 'abcdef'\n",
    "def fun(s):\n",
    "   del s[2]\n",
    "   return s\n",
    "print(fun(my_string))\n",
    "#The program will cause an error \n",
    "#The program will output abdef\n",
    "#The program will output acdef\n",
    "#The program will output abcef"
   ]
  },
  {
   "cell_type": "code",
   "execution_count": null,
   "metadata": {},
   "outputs": [],
   "source": [
    "#Q 44. What is true about the following snippet?\n",
    "def fun(d, k, v):\n",
    "    d[k] = v\n",
    "my_dictionary = {}\n",
    "print(fun(my_dictionary, '1', 'v'))\n",
    "#The code is erroneous \n",
    "#The code will output None\n",
    "#The code will output v\n",
    "#The code will output 1"
   ]
  },
  {
   "cell_type": "code",
   "execution_count": null,
   "metadata": {},
   "outputs": [],
   "source": [
    "#Q 45. What is the expected output of the following code?\n",
    "class A:\n",
    "     A = 1\n",
    "     def __init__(self):\n",
    "       self.a = 0\n",
    "print(hasattr(A, 'A'))\n",
    "#False\n",
    "#1\n",
    "#0\n",
    "#True"
   ]
  },
  {
   "cell_type": "code",
   "execution_count": null,
   "metadata": {},
   "outputs": [],
   "source": [
    "#Q46. What is the expected behavior of the following code?\n",
    "x = \"\"\"\n",
    "\"\"\"\n",
    "print(len(x))\n",
    "#The code will output 2\n",
    "#The code will output 3\n",
    "#The code will cause an error\n",
    "#The code will output 1"
   ]
  },
  {
   "cell_type": "code",
   "execution_count": null,
   "metadata": {},
   "outputs": [],
   "source": [
    "#Q 47. What is the expected output of the following code?\n",
    "import calendar\n",
    "c = calendar.Calendar(calendar.SUNDAY)\n",
    "for weekday in c.iterweekdays():\n",
    "     print(weekday, end=\" \")\n",
    "#7 1 2 3 4 5 6\n",
    "#6 0 1 2 3 4 5\n",
    "#Su Mo Tu We Th Fr Sa\n",
    "#Su"
   ]
  },
  {
   "cell_type": "code",
   "execution_count": null,
   "metadata": {},
   "outputs": [],
   "source": [
    "#Q 48 bWhat is the expected output of the following code?\n",
    "def fun(n):\n",
    "    s = ' '\n",
    "    for i in range(n):\n",
    "         s += '*'\n",
    "         yield s\n",
    "for x in fun(3):\n",
    "     print(x, end='')\n",
    "#****\n",
    "#******\n",
    "#2***\n",
    "#*"
   ]
  },
  {
   "cell_type": "code",
   "execution_count": null,
   "metadata": {},
   "outputs": [],
   "source": [
    "#Q49. \n",
    "#What is the expected output of the following code?\n",
    "t = (1, )\n",
    "t = t[0] + t[0]\n",
    "print(t)\n",
    "#2\n",
    "#(1, )\n",
    "#(1, 1)\n",
    "#1"
   ]
  },
  {
   "cell_type": "code",
   "execution_count": null,
   "metadata": {},
   "outputs": [],
   "source": [
    "#Q50. What is the expected result of executing the following code?\n",
    "class A:\n",
    "    def a(self):\n",
    "        print('a')\n",
    "class B:\n",
    "    def a(self):\n",
    "        print('b')\n",
    "class C(A, B):\n",
    "    def c(self):\n",
    "        self.a()\n",
    "o = C()\n",
    "o.c()\n",
    "#The code will print c\n",
    "#The code will print  a\n",
    "#The code will raise an exception\n",
    "#The code will print b"
   ]
  },
  {
   "cell_type": "code",
   "execution_count": null,
   "metadata": {},
   "outputs": [],
   "source": [
    "#Q51. What is the expected result of executing the following code?\n",
    "class A:\n",
    "    def a(self):\n",
    "        print('a')\n",
    "class B:\n",
    "    def a(self):\n",
    "        print('b')\n",
    "class C(A, B):\n",
    "    def c(self):\n",
    "        self.a()\n",
    "o = C()\n",
    "o.c()\n",
    "#The code will print c\n",
    "#The code will print  a\n",
    "#The code will raise an exception\n",
    "#The code will print b"
   ]
  },
  {
   "cell_type": "code",
   "execution_count": null,
   "metadata": {},
   "outputs": [],
   "source": [
    "#Q52. What pip operation would you use to check what Python package have been installed so far?\n",
    "show\n",
    "list\n",
    "help\n",
    "dir"
   ]
  },
  {
   "cell_type": "code",
   "execution_count": null,
   "metadata": {},
   "outputs": [],
   "source": [
    "#Q 53. What is the expected behavior of the following piece of code?\n",
    "d = {1: 0, 2: 1, 3: 2, 0: 1}\n",
    "x = 0\n",
    "for y in range(len(d)):\n",
    "    x = d[x]\n",
    "print(x)\n",
    "#The code will output  0\n",
    "#The code will output 1\n",
    "#The code will cause a runtime error\n",
    "#The code will output 2"
   ]
  },
  {
   "cell_type": "code",
   "execution_count": null,
   "metadata": {},
   "outputs": [],
   "source": [
    "#Q54. What is true about the following line of code?\n",
    "print(len((1, )))\n",
    "#The code will output 0\n",
    "#The code is erroneous \n",
    "#The code will output 1\n",
    "#The code will output 2"
   ]
  },
  {
   "cell_type": "code",
   "execution_count": null,
   "metadata": {},
   "outputs": [],
   "source": [
    "#Q 55. Which line properly invokes the function defined as below?\n",
    "def fun(a, b, c=0):\n",
    "    # function body\n",
    "fun(b=0, b=0)\n",
    "fun(a=1, b=0, c=0)\n",
    "fun(1, c=2)\n",
    "fun(0)"
   ]
  },
  {
   "cell_type": "code",
   "execution_count": null,
   "metadata": {},
   "outputs": [],
   "source": [
    "#Q56. What is the expected behavior of the following code?\n",
    "import os\n",
    "os.makedirs('pictures/thumbnails')\n",
    "os.rmdir('pictures')\n",
    "#The code will delete both the pictures and thumbnails directories \n",
    "#The code will delete the pictures directory only\n",
    "#The code will raise an error\n",
    "#the code will delete the thumbnails directory only"
   ]
  },
  {
   "cell_type": "code",
   "execution_count": null,
   "metadata": {},
   "outputs": [],
   "source": [
    "#Q57. What is the expected behavior of the following code?\n",
    "x = \"\\\"\n",
    "print(len(x))\n",
    "#The code will output 3\n",
    "#The code will cause an error\n",
    "#The code will output a2\n",
    "#The code will output 1"
   ]
  },
  {
   "cell_type": "code",
   "execution_count": null,
   "metadata": {},
   "outputs": [],
   "source": [
    "#Q58. What is true about the following piece of code?\n",
    "print(\"a\", \"b\", \"c\", sep=\" ' \")\n",
    "#The code is erroneous \n",
    "#The code will output abc\n",
    "#The code will output a'b'c\n",
    "#The code will output a b c"
   ]
  },
  {
   "cell_type": "code",
   "execution_count": null,
   "metadata": {},
   "outputs": [],
   "source": [
    "#Q59. What is the expected output of the following code?\n",
    "class A:\n",
    "     A = 1\n",
    "     def __init__(self, v=2):\n",
    "         self.v = v +A.A\n",
    "         A.A += 1\n",
    "     def set(self, v):\n",
    "         self.v +=v\n",
    "         A.A += 1\n",
    "         return\n",
    "a = A()\n",
    "a.set(2)\n",
    "print(a.v)\n",
    "#7\n",
    "#1\n",
    "#3\n",
    "#5"
   ]
  },
  {
   "cell_type": "code",
   "execution_count": null,
   "metadata": {},
   "outputs": [],
   "source": [
    "#Q 60. How many empty lines will the following snippet send to the console?\n",
    "my_list = [[c for c in range(r)] for r in range(3)]\n",
    "for element in my_list:\n",
    "    if len(element) < 2:\n",
    "       print()\n",
    "#two\n",
    "#three\n",
    "#zero\n",
    "#one"
   ]
  },
  {
   "cell_type": "code",
   "execution_count": null,
   "metadata": {},
   "outputs": [],
   "source": [
    "x = \"\\\\\\\\\"\n",
    "print(len(x))"
   ]
  },
  {
   "cell_type": "code",
   "execution_count": null,
   "metadata": {},
   "outputs": [],
   "source": [
    "x = \"\\\\\\\"\n",
    "print(len(x))"
   ]
  },
  {
   "cell_type": "code",
   "execution_count": null,
   "metadata": {},
   "outputs": [],
   "source": [
    "try:\n",
    "    raise Exception\n",
    "except BaseException:\n",
    "    print('a')\n",
    "except Exception:\n",
    "    print('b')\n",
    "except:\n",
    "    print('c')\n"
   ]
  },
  {
   "cell_type": "code",
   "execution_count": null,
   "metadata": {},
   "outputs": [],
   "source": [
    "try:\n",
    "    raise Exception\n",
    "except:\n",
    "    print('c')\n",
    "except BaseException:\n",
    "    print('a')\n",
    "except Exception:\n",
    "    print('b')\n"
   ]
  },
  {
   "cell_type": "code",
   "execution_count": null,
   "metadata": {},
   "outputs": [],
   "source": [
    "def myfun(n):\n",
    "    s = '+'\n",
    "    for i in range(n):\n",
    "        s += s\n",
    "        yield s\n",
    "for x in myfun(2):\n",
    "    print(x, end='')\n",
    "    \n",
    "    "
   ]
  },
  {
   "cell_type": "code",
   "execution_count": null,
   "metadata": {},
   "outputs": [],
   "source": [
    "def o(p):\n",
    "    def q():\n",
    "        return '*' * p\n",
    "    return q\n",
    "r = o(1)\n",
    "s = o(2)\n",
    "print(r() + s())"
   ]
  },
  {
   "cell_type": "code",
   "execution_count": null,
   "metadata": {},
   "outputs": [],
   "source": [
    "import os\n",
    "os.mkdir(\"pictures\")\n",
    "os.chdir(\"pictures\")\n",
    "print(os.getcwd())"
   ]
  },
  {
   "cell_type": "code",
   "execution_count": null,
   "metadata": {},
   "outputs": [],
   "source": [
    "#If you want to fill a byte array with data read in from a stream, which method you can use?\n",
    "#The read() method\n",
    "#The readbytes() method\n",
    "#The readfrom() method\n",
    "#The readinto() method is the answer"
   ]
  },
  {
   "cell_type": "code",
   "execution_count": null,
   "metadata": {},
   "outputs": [],
   "source": [
    "class A:\n",
    "    A = 1\n",
    "    def __init__(self):\n",
    "        self.a = 0\n",
    "#print(hasattr(A, 'a'))\n",
    "print(hasattr(A, 'A'))"
   ]
  },
  {
   "cell_type": "code",
   "execution_count": null,
   "metadata": {},
   "outputs": [],
   "source": [
    "class A:\n",
    "    A = 1\n",
    "    def __init__(self, a):\n",
    "        self.a = a\n",
    "print(hasattr(A, 'a'))\n",
    "#print(hasattr(A, 'A'))"
   ]
  },
  {
   "cell_type": "code",
   "execution_count": null,
   "metadata": {},
   "outputs": [],
   "source": [
    "class A:\n",
    "    A = 1\n",
    "    def __init__(self, a):\n",
    "        self.a = a\n",
    "        \n",
    "a = A(1)\n",
    "print(hasattr(A, 'a'))\n",
    "print(hasattr(A, 'A'))\n",
    "print(hasattr(a, 'A'))"
   ]
  },
  {
   "cell_type": "code",
   "execution_count": null,
   "metadata": {},
   "outputs": [],
   "source": [
    "class A:\n",
    "    def a(self):\n",
    "        print('a')\n",
    "\n",
    "class B:\n",
    "    def a(self):\n",
    "        print('b')\n",
    "\n",
    "\n",
    "class C(B, A):\n",
    "    def c(self):\n",
    "        self.a\n",
    "\n",
    "o = C()\n",
    "o.c()\n",
    "print(o.c())"
   ]
  },
  {
   "cell_type": "code",
   "execution_count": null,
   "metadata": {},
   "outputs": [],
   "source": [
    "from datetime import timedelta\n",
    "delta = timedelta(weeks = 1, days = 7, hours = 11)\n",
    "print(delta * 2)"
   ]
  },
  {
   "cell_type": "code",
   "execution_count": null,
   "metadata": {},
   "outputs": [],
   "source": [
    "import random\n",
    "a = random.randint(0, 100)\n",
    "print(a)"
   ]
  },
  {
   "cell_type": "code",
   "execution_count": null,
   "metadata": {},
   "outputs": [],
   "source": [
    "import random\n",
    "a = random.randrange(10, 100, 3)\n",
    "print(a)"
   ]
  },
  {
   "cell_type": "code",
   "execution_count": null,
   "metadata": {},
   "outputs": [],
   "source": [
    "import random\n",
    "a = random.randint(0, 100)\n",
    "print(a)"
   ]
  },
  {
   "cell_type": "code",
   "execution_count": null,
   "metadata": {},
   "outputs": [],
   "source": [
    "import random\n",
    "b = random.randint(0, 100)\n",
    "print(b)"
   ]
  },
  {
   "cell_type": "code",
   "execution_count": null,
   "metadata": {},
   "outputs": [],
   "source": [
    "import random\n",
    "c = random.choice((0, 100, 3))\n",
    "print(c)"
   ]
  },
  {
   "cell_type": "code",
   "execution_count": null,
   "metadata": {},
   "outputs": [],
   "source": [
    "import random\n",
    "a = random.choice((0, 100, 3))\n",
    "print(a)"
   ]
  },
  {
   "cell_type": "code",
   "execution_count": null,
   "metadata": {},
   "outputs": [],
   "source": [
    "import random\n",
    "b = random.choice((0, 100, 3))\n",
    "print(b)"
   ]
  },
  {
   "cell_type": "code",
   "execution_count": null,
   "metadata": {},
   "outputs": [],
   "source": [
    "import random\n",
    "d = random.choice((0, 100, 3))\n",
    "print(d)"
   ]
  },
  {
   "cell_type": "code",
   "execution_count": null,
   "metadata": {},
   "outputs": [],
   "source": [
    "b = random.randint(0, 100)\n",
    "print(b)"
   ]
  }
 ],
 "metadata": {
  "interpreter": {
   "hash": "52634da84371cba311ea128a5ea7cdc41ff074b781779e754b270ff9f8153cee"
  },
  "kernelspec": {
   "display_name": "Python 3 (ipykernel)",
   "language": "python",
   "name": "python3"
  },
  "language_info": {
   "codemirror_mode": {
    "name": "ipython",
    "version": 3
   },
   "file_extension": ".py",
   "mimetype": "text/x-python",
   "name": "python",
   "nbconvert_exporter": "python",
   "pygments_lexer": "ipython3",
   "version": "3.9.12"
  }
 },
 "nbformat": 4,
 "nbformat_minor": 2
}
