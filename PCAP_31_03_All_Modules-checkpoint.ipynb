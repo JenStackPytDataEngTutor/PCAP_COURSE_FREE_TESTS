{
 "cells": [
  {
   "cell_type": "markdown",
   "metadata": {},
   "source": [
    "# PCAP 31 -03 Course, \n",
    "Syllabus aligned with the official certification exam. This is a self directed course assessiable throught OpenEDG, In the GIT Repository I have added practice Exams. I offer an online Tutor led PCAP 31-03 course, a PCEP, PCPP1 and PCPP2\n",
    "# Contact me at jstack@jenniferstackgis.onmicrosoft.com \n",
    "to express your interest. I offer organisations Python Bootcamps, delivery is online. Contact me for further information and testimonials re: successful python certification. "
   ]
  },
  {
   "cell_type": "markdown",
   "metadata": {},
   "source": [
    "## Course Syllabus\n",
    "#### In this course you will learn:\n",
    "\n",
    "1. how to adopt general coding techniques and best practices in your projects;\n",
    "2. how to process strings;\n",
    "3. how to use object-oriented programming in Python;\n",
    "4. how to import and use Python modules, including the math, random, platform, os, time, datetime, and calendar modules;\n",
    "5. how to create and use your own Python modules and packages;\n",
    "6. how to use the exception mechanism in Python;\n",
    "7. how to use generators, iterators, and closures in Python;\n",
    "8. how to process files.\n",
    "\n",
    "### The course is divided into 4 modules:\n",
    "\n",
    "1. Module 1\n",
    "Modules, Packages and PIP;\n",
    "2. Module 2\n",
    "Strings, string and list methods, and exceptions;\n",
    "3. Module 3\n",
    "Object-Oriented Programming;\n",
    "4. Module 4\n",
    "Miscellaneous (generators, iterators, closures, file streams, processing text and binary files, the os, time, datetime, and calendar module)\n",
    "\n",
    "\n",
    "### Why should you learn PYTHON?\n",
    "1. Python is omnipresent, people use numerous Python-powered devices on a daily basis, whether they realize it or not. There have been millions (well, actually billions) of lines of code written in Python, which means almost unlimited opportunities for code reuse and learning from well-crafted examples. What's more, there is a large and very active Python community, always happy to help.\n",
    "\n",
    "#### There are also a couple of factors that make Python great for learning:\n",
    "\n",
    "1. It is easy to learn - the time needed to learn Python is shorter than for many other languages; this means that it's possible to start the actual programming faster;\n",
    "2. It is easy to use for writing new software - it's often possible to write code faster when using Python;\n",
    "3. It is easy to obtain, install and deploy - Python is free, open and multiplatform; not all languages can boast that.\n",
    "4. Completing this course can be a stepping-stone to learning any other programming language, and to exploring technologies using Python as a foundation (e.g., Django). The course is distinguished by its affordability, friendliness, and openness to the student.\n",
    "\n",
    "The first part started from the absolute basics, guiding you step by step to more complex problems that will be explained in this part, making you a responsible software creator able to take different challenges in many positions in the IT industry."
   ]
  },
  {
   "cell_type": "markdown",
   "metadata": {},
   "source": [
    "\n",
    "\n",
    "# Section 1:\n",
    " ## Modules and Packages (12%)\n",
    " 1. Importing and using Python modules; \n",
    " 2. using some of the most useful Python standard library modules; \n",
    " 3. constructing and using Python packages; \n",
    " 4. PIP (Python Installation Package) and how to use it to install and uninstall ready-to-use packages from PyPI.\n",
    "\n",
    "# Objectives covered by the block (6 exam items)\n",
    "\n",
    "## PCAP-31-03 1.1 – Import and use modules and packages\n",
    "\n",
    "import variants: import, from import, import as, import *\n",
    "advanced qualifying for nested modules\n",
    "the dir() function\n",
    "the sys.path variable\n",
    "\n",
    "## PCAP-31-03 1.2 – Perform evaluations using the math module\n",
    "\n",
    "functions: ceil(), floor(), trunc(), factorial(), hypot(), sqrt()\n",
    "\n",
    "## PCAP-31-03 1.3 – Generate random values using the random module\n",
    "\n",
    "functions: random(), seed(), choice(), sample()\n",
    "\n",
    "## PCAP-31-03 1.4 – Discover host platform properties using the platform module\n",
    "\n",
    "functions: platform(), machine(), processor(), system(), version(), python_implementation(), python_version_tuple()\n",
    "\n",
    "## PCAP-31-03 1.5 – Create and use user-defined modules and packages\n",
    "\n",
    "idea and rationale;\n",
    "the __pycache__ directory(double underscore)\n",
    "the __name__ variable(double underscore)\n",
    "public and private variables\n",
    "the __init__.py file(double underscore)\n",
    "searching for/through modules/packages\n",
    "nested packages vs. directory trees"
   ]
  },
  {
   "cell_type": "markdown",
   "metadata": {},
   "source": [
    "### I will first demo the three methods to use import "
   ]
  },
  {
   "cell_type": "markdown",
   "metadata": {},
   "source": [
    "#### Method one"
   ]
  },
  {
   "cell_type": "code",
   "execution_count": null,
   "metadata": {},
   "outputs": [],
   "source": [
    "#The simplest way to import a particular module is to use the import instruction as follows:\n",
    "\n",
    "import math\n",
    "\n",
    "\n",
    "#The clause contains:\n",
    "\n",
    "#the import keyword;\n",
    "#the name of the module which is subject to import."
   ]
  },
  {
   "cell_type": "code",
   "execution_count": null,
   "metadata": {},
   "outputs": [],
   "source": [
    "#If you want to (or have to) import more than one module, you can do it by repeating \n",
    "#the import clause (preferred):\n",
    "\n",
    "import math\n",
    "import sys\n",
    "\n",
    "\n",
    "#or by listing the modules after the import keyword, like here:\n",
    "\n",
    "import math, sys\n",
    "\n",
    "\n",
    "#The instruction imports two modules, first the one named math and then the second named sys.\n",
    "\n",
    "#The modules' list may be arbitrarily long."
   ]
  },
  {
   "cell_type": "code",
   "execution_count": null,
   "metadata": {},
   "outputs": [],
   "source": [
    "#Look at the snippet below, this is the way in which you \n",
    "#qualify the names of pi and sin with the name of its originating module:\n",
    "import math\n",
    "\n",
    "math.pi\n",
    "math.sin"
   ]
  },
  {
   "cell_type": "code",
   "execution_count": null,
   "metadata": {},
   "outputs": [],
   "source": [
    "import math\n",
    "print(math.sin(math.pi/2))"
   ]
  },
  {
   "cell_type": "code",
   "execution_count": null,
   "metadata": {},
   "outputs": [],
   "source": [
    "#Importing a module: continued Do not run this code cell\n",
    "#Now we're going to show you how the two namespaces (yours and the module's one) can coexist.\n",
    "\n",
    "#Take a look at the example In the next code cell.\n",
    "\n",
    "#We've defined our own pi and sin here.\n",
    "\n",
    "#Run the program. The code should produce the following output:\n",
    "\n",
    "0.99999999\n",
    "1.0\n",
    "output\n",
    "\n",
    "#As you can see, the entities don't affect each other."
   ]
  },
  {
   "cell_type": "code",
   "execution_count": null,
   "metadata": {},
   "outputs": [],
   "source": [
    "#Now we're going to show you how the two namespaces (yours and the module's one) can coexist.\n",
    "import math\n",
    "\n",
    "\n",
    "def sin(x):\n",
    "    if 2 * x == pi:\n",
    "        return 0.99999999\n",
    "    else:\n",
    "        return None\n",
    "\n",
    "\n",
    "pi = 3.14\n",
    "\n",
    "print(sin(pi/2))\n",
    "print(math.sin(math.pi/2))\n"
   ]
  },
  {
   "cell_type": "markdown",
   "metadata": {},
   "source": [
    "#### In the second method, the import's syntax precisely points out which module's entity (or entities) are acceptable in the code:"
   ]
  },
  {
   "cell_type": "code",
   "execution_count": null,
   "metadata": {},
   "outputs": [],
   "source": [
    "from math import pi\n",
    "\n",
    "\n",
    "#The instruction consists of the following elements:\n",
    "\n",
    "#the from keyword;\n",
    "#the name of the module to be (selectively) imported;\n",
    "#the import keyword;\n",
    "#the name or list of names of the entity/entities which are being imported into the namespace.\n",
    "#The instruction has this effect:\n",
    "\n",
    "#the listed entities (and only those ones) are imported from the indicated module;\n",
    "#the names of the imported entities are accessible without qualification."
   ]
  },
  {
   "cell_type": "code",
   "execution_count": null,
   "metadata": {},
   "outputs": [],
   "source": [
    "\n",
    "#lines 5 through 12: redefine the meaning of pi and sin - in effect, they supersede the original (imported) definitions within the code's namespace;\n",
    "#line 15: get 0.99999999, which confirms our conclusions.\n",
    "from math import sin, pi #line 1: carry out the selective import;\n",
    "\n",
    "print(sin(pi / 2)) #line 3: make use of the imported entities and get the expected result (1.0)\n",
    "\n",
    "pi = 3.14\n",
    "\n",
    "\n",
    "def sin(x): #lines 5 through 12: redefine the meaning of pi and sin - in effect,\n",
    "    if 2 * x == pi:\n",
    "        return 0.99999999\n",
    "    else:\n",
    "        return None\n",
    "#in effect the above, they supersede the original (imported) definitions within the code's namespace;\n",
    "\n",
    "\n",
    "print(sin(pi / 2))#line 15: get 0.99999999, which confirms our conclusions.\n"
   ]
  },
  {
   "cell_type": "code",
   "execution_count": null,
   "metadata": {},
   "outputs": [],
   "source": [
    "#Here, we've reversed the sequence of the code's operations:\n",
    "\n",
    "#lines 1 through 8: define our own pi and sin;\n",
    "#line 11: make use of them (0.99999999 appears on the screen)\n",
    "#line 13: carry out the import - the imported symbols supersede their previous \n",
    "#definitions within the namespace;\n",
    "#line 15: get 1.0 as a result.\n",
    "\n",
    "pi = 3.14\n",
    "\n",
    "\n",
    "def sin(x):\n",
    "    if 2 * x == pi:\n",
    "        return 0.99999999\n",
    "    else:\n",
    "        return None\n",
    "\n",
    "\n",
    "print(sin(pi / 2))\n",
    "\n",
    "from math import sin, pi\n",
    "\n",
    "print(sin(pi / 2))"
   ]
  },
  {
   "cell_type": "markdown",
   "metadata": {},
   "source": [
    "#### In the third method, the import's syntax is a more aggressive form of the previously presented one:"
   ]
  },
  {
   "cell_type": "code",
   "execution_count": null,
   "metadata": {},
   "outputs": [],
   "source": [
    "from module import *\n",
    "\n",
    "\n",
    "#As you can see, the name of an entity (or the list of entities' names) is replaced with a single asterisk (*).\n",
    "\n",
    "#Such an instruction imports all entities from the indicated module.\n",
    "\n",
    "#Is it convenient? Yes, it is, as it relieves you of the duty of enumerating all the names you need.\n",
    "\n",
    "#Is it unsafe? Yes, it is - unless you know all the names provided by the module, \n",
    "#you may not be able to avoid name conflicts. Treat this as a temporary solution, \n",
    "#and try not to use it in regular code."
   ]
  },
  {
   "cell_type": "code",
   "execution_count": null,
   "metadata": {},
   "outputs": [],
   "source": [
    "#Aliasing causes the module to be identified under a different name than the original. \n",
    "#This may shorten the qualified names, too.\n",
    "\n",
    "#Creating an alias is done together with importing the module, and demands the following form of the import \n",
    "#instruction:\n",
    "\n",
    "import module as alias\n",
    "\n",
    "\n",
    "#The \"module\" identifies the original module's name while the \"alias\" is the name you wish to use instead \n",
    "#of the original.\n",
    "\n",
    "#Note: as is a keyword."
   ]
  },
  {
   "cell_type": "code",
   "execution_count": null,
   "metadata": {},
   "outputs": [],
   "source": [
    "import math as m\n",
    "\n",
    "print(m.sin(m.pi/2))\n",
    "#example of using the keyword as and creating an alias"
   ]
  },
  {
   "cell_type": "code",
   "execution_count": null,
   "metadata": {},
   "outputs": [],
   "source": [
    "#Note: after successful execution of an aliased import, the original module name becomes \n",
    "#inaccessible and must not be used.\n",
    "\n",
    "\n",
    "#In turn, when you use the from module import name variant and you need to change the entity's name, you make an alias for the entity. This will cause the name to be replaced by the alias you choose.\n",
    "\n",
    "#This is how it can be done:\n",
    "\n",
    "from module import name as alias"
   ]
  },
  {
   "cell_type": "code",
   "execution_count": null,
   "metadata": {},
   "outputs": [],
   "source": [
    "#The phrase name as alias can be repeated - use commas to separate the multiplied phrases, like this:\n",
    "\n",
    "from module import n as a, m as b, o as c"
   ]
  },
  {
   "cell_type": "code",
   "execution_count": null,
   "metadata": {},
   "outputs": [],
   "source": [
    "#The example may look a bit weird, but it works:\n",
    "\n",
    "from math import pi as PI, sin as sine\n",
    "\n",
    "print(sine(PI/2))"
   ]
  },
  {
   "cell_type": "markdown",
   "metadata": {},
   "source": [
    "## Python sys Module:(covered in the Misc section, also important to reference within the module and packages secrtion, please note not all of the functions listed in the last cell of the sys\n",
    "\n",
    " import sys"
   ]
  },
  {
   "cell_type": "markdown",
   "metadata": {},
   "source": [
    "The sys module in Python provides various functions and variables that are used to manipulate different parts of the Python runtime environment.(can be your own computer and its operating system, or virtual environment) It allows operating on the interpreter as it provides access to the variables and functions that interact strongly with the interpreter. Let’s consider the below example."
   ]
  },
  {
   "cell_type": "code",
   "execution_count": null,
   "metadata": {},
   "outputs": [],
   "source": [
    "import sys\n",
    " \n",
    " \n",
    "print(sys.version)"
   ]
  },
  {
   "cell_type": "markdown",
   "metadata": {},
   "source": [
    "In the above example, sys.version is used which __returns a string containing the version of Python Interpreter with some additional information. This shows how the sys module interacts with the interpreter.__ \n",
    "\n",
    "Let us dive into the article to get more information about the sys module."
   ]
  },
  {
   "cell_type": "markdown",
   "metadata": {},
   "source": [
    "### Input and Output using sys\n",
    "The sys modules provide variables for better control over input or output. We can even redirect the input and output to other devices. This can be done using three variables – \n",
    "\n",
    " \n",
    "\n",
    "1. stdin\n",
    "2. stdout\n",
    "3. stderr"
   ]
  },
  {
   "cell_type": "code",
   "execution_count": null,
   "metadata": {},
   "outputs": [],
   "source": [
    "import sys\n",
    " \n",
    " \n",
    "for line in sys.stdin:\n",
    "    if 'q' == line.rstrip():\n",
    "        break\n",
    "    print(f'Input : {line}')\n",
    " \n",
    "print(\"Exit\")"
   ]
  },
  {
   "cell_type": "markdown",
   "metadata": {},
   "source": [
    "## stdout: \n",
    "\n",
    "A built-in file object that is analogous to the interpreter’s standard output stream in Python. stdout is used to display output directly to the screen console. Output can be of any form, it can be output from a print statement, an expression statement, and even a prompt direct for input. By default, streams are in text mode. In fact, wherever a print function is called within the code, it is first written to sys.stdout and then finally on to the screen. "
   ]
  },
  {
   "cell_type": "code",
   "execution_count": null,
   "metadata": {},
   "outputs": [],
   "source": [
    "\n",
    "import sys\n",
    " \n",
    " \n",
    "sys.stdout.write('PCAP 31-03')"
   ]
  },
  {
   "cell_type": "markdown",
   "metadata": {},
   "source": [
    "## stderr: \n",
    "Whenever an exception occurs in Python it is written to sys.stderr. "
   ]
  },
  {
   "cell_type": "code",
   "execution_count": null,
   "metadata": {},
   "outputs": [],
   "source": [
    "import sys\n",
    " \n",
    " \n",
    "def print_to_stderr(*a):\n",
    " \n",
    "    # Here a is the array holding the objects\n",
    "    # passed as the argument of the function\n",
    "    print(*a, file = sys.stderr)\n",
    " \n",
    "print_to_stderr(\"Hello World\")\n"
   ]
  },
  {
   "cell_type": "markdown",
   "metadata": {},
   "source": [
    "# Command Line Arguments and sys\n",
    "\n",
    "Command-line arguments are those which are passed during the calling of the program along with the calling statement. To achieve this using the sys module, __the sys module provides a variable called sys.argv. It’s main purpose are:__\n",
    "\n",
    "1. It is a list of command-line arguments.\n",
    "2. len(sys.argv) provides the number of command-line arguments.\n",
    "3. sys.argv[0] is the name of the current Python script.\n",
    "\n",
    "Example: Consider a program for adding numbers and the numbers are passed along with the calling statement."
   ]
  },
  {
   "cell_type": "code",
   "execution_count": null,
   "metadata": {},
   "outputs": [],
   "source": [
    "# Python program to demonstrate\n",
    "# command line arguments\n",
    "\n",
    "import sys\n",
    "\n",
    "# total arguments\n",
    "n = len(sys.argv)\n",
    "\n",
    "print(\"Total arguments passed:\", n)#first line in output\n",
    "\n",
    "# Arguments passed\n",
    "print(\"\\nName of Python script:\", sys.argv[0])#second line in output\n",
    "\n",
    "print(\"\\nArguments passed:\", end = \" \")#third line in output a total of three.\n",
    "\n",
    "for i in range(1, n):\n",
    "    print(sys.argv[i], end = \" \")\n",
    "\n",
    "# Addition of numbers\n",
    "#Sum = 0\n",
    "\n",
    "#for i in range(1, n):\n",
    "    #Sum += int(sys.argv[i])\n",
    "\n",
    "#print(\"\\n\\nResult:\", Sum)\n"
   ]
  },
  {
   "cell_type": "markdown",
   "metadata": {},
   "source": [
    "# Exiting the Program using sys.exit([arg])\n",
    "\n",
    "sys.exit([arg]) can be used to exit the program. \n",
    "\n",
    "The optional argument arg can be an integer giving the exit or another type of object. \n",
    "\n",
    "### If it is an integer, zero is considered “successful termination”.\n",
    "\n",
    "### Note: A string can also be passed to the sys.exit() method.\n",
    "\n",
    "Example: "
   ]
  },
  {
   "cell_type": "code",
   "execution_count": null,
   "metadata": {},
   "outputs": [],
   "source": [
    "# Python program to demonstrate\n",
    "# sys.exit()\n",
    "\n",
    "\n",
    "import sys\n",
    "\n",
    "\n",
    "age = 17\n",
    "\n",
    "\n",
    "if age < 18:\n",
    "    # exits the program\n",
    "    sys.exit(\"Age less than 18\")\t\n",
    "else:\n",
    "    print(\"Age is not less than 18\")\n"
   ]
  },
  {
   "cell_type": "markdown",
   "metadata": {},
   "source": [
    "## Working with Modules sys.path\n",
    "\n",
    "sys.path is a built-in variable within the sys module that returns the list of directories that the interpreter will search for the required module. \n",
    "\n",
    "When a module is imported within a Python file, the interpreter first searches for the specified module among its built-in modules. If not found it looks through the list of directories defined by sys.path.\n",
    "\n",
    "    Note: sys.path is an ordinary list and can be manipulated.\n",
    "\n",
    "Example 1: Listing out all the paths:"
   ]
  },
  {
   "cell_type": "code",
   "execution_count": null,
   "metadata": {},
   "outputs": [],
   "source": [
    "import sys\n",
    "\n",
    "\n",
    "print(sys.path)\n"
   ]
  },
  {
   "cell_type": "markdown",
   "metadata": {},
   "source": [
    "## Example 2: Truncating the value of sys.path"
   ]
  },
  {
   "cell_type": "code",
   "execution_count": null,
   "metadata": {},
   "outputs": [],
   "source": [
    "\n",
    "import sys\n",
    " \n",
    "# Removing the values\n",
    "sys.path = []\n",
    " \n",
    "# importing pandas after removing\n",
    "# values\n",
    "import pandas\n",
    "#returns a ModuleNotFoundError"
   ]
  },
  {
   "cell_type": "markdown",
   "metadata": {},
   "source": [
    "#### sys.modules return the name of the Python modules that the current shell has imported.\n",
    "\n",
    "Example:"
   ]
  },
  {
   "cell_type": "code",
   "execution_count": null,
   "metadata": {},
   "outputs": [],
   "source": [
    "\n",
    "import sys\n",
    " \n",
    " \n",
    "print(sys.modules)"
   ]
  },
  {
   "cell_type": "markdown",
   "metadata": {},
   "source": [
    "\n",
    "### sys.getrefcount() method \n",
    "\n",
    "is used to get the reference count for any given object. \n",
    "\n",
    "This value is used by Python as when this value becomes 0, the memory for that particular value is deleted.\n",
    "\n",
    "Example:\n",
    "\n",
    "\n",
    "import "
   ]
  },
  {
   "cell_type": "code",
   "execution_count": null,
   "metadata": {},
   "outputs": [],
   "source": [
    "\n",
    "import sys\n",
    " \n",
    "a = 'PCAP 31 - 03'\n",
    " \n",
    "print(sys.getrefcount(a))"
   ]
  },
  {
   "cell_type": "markdown",
   "metadata": {},
   "source": [
    "# More Functions in Python sys\n",
    " \n",
    "1. sys.setrecursionlimit()  method is used to set the maximum depth of the Python interpreter stack to the required limit.\n",
    "\n",
    "2. sys.getrecursionlimit() method is used to find the current recursion limit of the interpreter or to find the maximum depth of the Python interpreter stack.\n",
    "3. sys.settrace()\tIt is used for implementing debuggers, profilers and coverage tools. \n",
    "    This is thread-specific and must register the trace using threading.settrace(). On a higher level, sys.settrace() registers the traceback to the Python interpreter\n",
    "    \n",
    "4. sys.setswitchinterval() method is used to set the interpreter’s thread switch interval (in seconds).\n",
    "5. sys.maxsize() It fetches the largest value a variable of data type Py_ssize_t can store.\n",
    "6. sys.maxint\tmaxint/INT_MAX denotes the highest value that can be represented by an integer.\n",
    "7. sys.getdefaultencoding() method is used to get the current default string encoding used by the Unicode implementation."
   ]
  },
  {
   "cell_type": "markdown",
   "metadata": {},
   "source": [
    "# Key takeaways for PCAP 31-03-1.1(part one of module one)\n",
    "\n",
    "1. If you want to import a module as a whole, you can do it using the import module_name statement. \n",
    "    You are allowed to import more than one module at once using a comma-separated list. For example:"
   ]
  },
  {
   "cell_type": "code",
   "execution_count": null,
   "metadata": {},
   "outputs": [],
   "source": [
    "import mod1\n",
    "import mod2, mod3, mod4"
   ]
  },
  {
   "cell_type": "markdown",
   "metadata": {},
   "source": [
    "although the latter form is not recommended due to stylistic reasons, \n",
    "and it's better and prettier to express the same intention in more a verbose and explicit form, such as:\n",
    "\n"
   ]
  },
  {
   "cell_type": "code",
   "execution_count": null,
   "metadata": {},
   "outputs": [],
   "source": [
    "import mod2\n",
    "import mod3\n",
    "import mod4"
   ]
  },
  {
   "cell_type": "markdown",
   "metadata": {},
   "source": [
    "\n",
    "2. If a module is imported in the above manner and you want to access any of its entities, \n",
    "   you need to prefix the entity's name using dot notation. For example:\n",
    "   The snippet below makes use of two entities coming from the my_module module: \n",
    "   a function named my_function() and a variable named my_data. \n",
    "   Both names must be prefixed by my_module. None of the imported entity names conflicts \n",
    "   with the identical names existing in your code's namespace."
   ]
  },
  {
   "cell_type": "code",
   "execution_count": null,
   "metadata": {},
   "outputs": [],
   "source": [
    "import my_module\n",
    "\n",
    "result = my_module.my_function(my_module.my_data)"
   ]
  },
  {
   "cell_type": "markdown",
   "metadata": {},
   "source": [
    "\n",
    "3. You are allowed not only to import a module as a whole, but to import only individual entities from it. \n",
    "   In this case, the imported entities must not be prefixed when used. For example:"
   ]
  },
  {
   "cell_type": "code",
   "execution_count": null,
   "metadata": {},
   "outputs": [],
   "source": [
    "from module import my_function, my_data\n",
    "\n",
    "result = my_function(my_data)"
   ]
  },
  {
   "cell_type": "markdown",
   "metadata": {},
   "source": [
    "4. The most general form of the above statement allows you to import all entities offered by a module: \n",
    "   see the example in the code cell below"
   ]
  },
  {
   "cell_type": "code",
   "execution_count": null,
   "metadata": {},
   "outputs": [],
   "source": [
    "from my_module import *\n",
    "\n",
    "result = my_function(my_data)"
   ]
  },
  {
   "cell_type": "markdown",
   "metadata": {},
   "source": [
    "The above way - despite its attractiveness - is not recommended because of the danger of causing conflicts \n",
    "with names derived from importing the code's namespace."
   ]
  },
  {
   "cell_type": "markdown",
   "metadata": {},
   "source": [
    "Note: this import's variant * is not recommended due to the same reasons as previously \n",
    "(the threat of a naming conflict is even more dangerous here)."
   ]
  },
  {
   "cell_type": "markdown",
   "metadata": {},
   "source": [
    "5. You can change the name of the imported entity \"on the fly\" by using the as phrase of the import. \n",
    "   For example:"
   ]
  },
  {
   "cell_type": "code",
   "execution_count": null,
   "metadata": {},
   "outputs": [],
   "source": [
    "from module import my_function as fun, my_data as dat\n",
    "\n",
    "result = fun(dat)"
   ]
  },
  {
   "cell_type": "markdown",
   "metadata": {},
   "source": [
    "Remember you must refer to the alias throughout your code!!!"
   ]
  },
  {
   "cell_type": "markdown",
   "metadata": {},
   "source": [
    "Next we look at part 2 of Module one: \n",
    "Useful modules to import, take a look at the code example in the code cell below:\n",
    "\n",
    "# Python - Math Module\n",
    "Some of the most popular mathematical functions are defined in the math module. \n",
    "\n",
    "These include trigonometric functions, representation functions, logarithmic functions, angle conversion functions, etc. \n",
    "In addition, two mathematical constants are also defined in this module.\n",
    "\n",
    "__Pi__ is a well-known mathematical constant, which is defined as the ratio of the circumference to the diameter of a circle and its value is 3.141592653589793.\n"
   ]
  },
  {
   "cell_type": "code",
   "execution_count": null,
   "metadata": {},
   "outputs": [],
   "source": [
    "#Example: Getting Pi Value\n",
    "import math\n",
    "math.pi\n",
    "\n"
   ]
  },
  {
   "cell_type": "markdown",
   "metadata": {},
   "source": [
    "Another well-known mathematical constant defined in the math module is e. \n",
    "It is called Euler's number and it is a base of the natural logarithm. Its value is 2.718281828459045."
   ]
  },
  {
   "cell_type": "code",
   "execution_count": null,
   "metadata": {},
   "outputs": [],
   "source": [
    "#Example: e Value Copy\n",
    "import math\n",
    "math.e\n",
    "# returns 2.718281828459045"
   ]
  },
  {
   "cell_type": "markdown",
   "metadata": {},
   "source": [
    "Take a look at the below code sample, the preceeding markdown cells explain the radians() and degrees() functions, and the sin(), cos() and tan() functions."
   ]
  },
  {
   "cell_type": "code",
   "execution_count": null,
   "metadata": {},
   "outputs": [],
   "source": [
    "from math import pi, radians, degrees, sin, cos, tan, asin\n",
    "\n",
    "ad = 90\n",
    "ar = radians(ad)\n",
    "ad = degrees(ar)\n",
    "\n",
    "print(ad == 90.)\n",
    "print(ar == pi / 2.)\n",
    "print(sin(ar) / cos(ar) == tan(ar))\n",
    "print(asin(sin(ar)) == ar)\n"
   ]
  },
  {
   "cell_type": "markdown",
   "metadata": {},
   "source": [
    "Now look at the code in the above code cell. The example program isn't very sophisticated, \n",
    "but can you predict its results?\n",
    "Below is a broader explanation of useful entities(constant such as pi, functions such as sin, cos and tan) \n",
    "from math module"
   ]
  },
  {
   "cell_type": "markdown",
   "metadata": {},
   "source": [
    "Below is a list of the useful entities from module math\n",
    "Let's start with a quick preview of some of the functions provided by the math module.\n",
    "\n",
    "We've chosen them arbitrarily, but that doesn't mean that the functions we haven't mentioned \n",
    "here are any less significant. Dive into the modules' depths yourself - we don't have the space or the time \n",
    "to talk about everything in detail here.\n",
    "\n",
    "The first group of the math's functions are connected with trigonometry:\n",
    "\n",
    "1. sin(x) → the sine of x;\n",
    "2. cos(x) → the cosine of x;\n",
    "3. tan(x) → the tangent of x.\n",
    "\n",
    "All these functions take one argument (an angle measurement expressed in radians) \n",
    "and return the appropriate result (be careful with tan() - not all arguments are accepted).\n",
    "\n",
    "Of course, there are also their inversed versions:\n",
    "\n",
    "1. asin(x) → the arcsine of x;\n",
    "2. acos(x) → the arccosine of x;\n",
    "3. atan(x) → the arctangent of x.\n",
    "   \n",
    "These functions take one argument (mind the domains) and return a measure of an angle in radians.\n",
    "\n",
    "\n",
    "To effectively operate on angle measurements, the math module provides you with the following entities:\n",
    "\n",
    "1. pi → a constant with a value that is an approximation of π;\n",
    "2. radians(x) → a function that converts x from degrees to radians;\n",
    "3. degrees(x) → acting in the other direction (from radians to degrees)\n",
    "4. \n",
    "\n",
    "Now look at the code in the above code cell. The example program isn't very sophisticated, \n",
    "but can you predict its results?\n",
    "Apart from the circular functions (listed above) the math module also \n",
    "contains a set of their hyperbolic analogues:\n",
    "\n",
    "1. sinh(x) → the hyperbolic sine;\n",
    "2. cosh(x) → the hyperbolic cosine;\n",
    "3. tanh(x) → the hyperbolic tangent;\n",
    "4. asinh(x) → the hyperbolic arcsine;\n",
    "5. acosh(x) → the hyperbolic arccosine;\n",
    "6. atanh(x) → the hyperbolic arctangent."
   ]
  },
  {
   "cell_type": "markdown",
   "metadata": {},
   "source": [
    "Another group of the math's functions is formed by functions which are connected with exponentiation:\n",
    "\n",
    "1. e → a constant with a value that is an approximation of Euler's number (e)\n",
    "2. exp(x) → finding the value of ex;\n",
    "3. log(x) → the natural logarithm of x\n",
    "4. log(x, b) → the logarithm of x to base b\n",
    "5. log10(x) → the decimal logarithm of x (more precise than log(x, 10))\n",
    "6. log2(x) → the binary logarithm of x (more precise than log(x, 2))\n",
    "Note: the pow() function:\n",
    "\n",
    "1. pow(x, y) → finding the value of xy (mind the domains)\n",
    "2. This is a built-in function, and doesn't have to be imported.\n",
    "\n",
    "Look at the code in the code cell below. Can you predict its output?"
   ]
  },
  {
   "cell_type": "code",
   "execution_count": null,
   "metadata": {},
   "outputs": [],
   "source": [
    "from math import e, exp, log\n",
    "\n",
    "print(pow(e, 1) == exp(log(e)))\n",
    "print(pow(2, 2) == exp(2 * log(2)))\n",
    "print(log(e, e) == exp(0))\n"
   ]
  },
  {
   "cell_type": "code",
   "execution_count": null,
   "metadata": {
    "scrolled": true
   },
   "outputs": [],
   "source": [
    "#The pi function:\n",
    "import math\n",
    "math.pi #constant\n",
    "\n"
   ]
  },
  {
   "cell_type": "code",
   "execution_count": null,
   "metadata": {},
   "outputs": [],
   "source": [
    "#the e function always returns the same value its a constant\n",
    "import math\n",
    "math.e #constant\n",
    "\n"
   ]
  },
  {
   "cell_type": "markdown",
   "metadata": {},
   "source": [
    "As mentioned ealier: The math module contains functions for calculating various trigonometric ratios for a given angle. \n",
    "\n",
    "The functions (sin, cos, tan, etc.) need the angle in radians as an argument. \n",
    "\n",
    "We, on the other hand, are used to express the angle in degrees. \n",
    "\n",
    "The math module presents two angle conversion functions: \n",
    "        \n",
    "        degrees() and radians(), to convert the angle from degrees to radians and vice versa. \n",
    "    \n",
    "For example, the following statements convert the angle of 30 degrees to radians and back (Note: π radians is equivalent to 180 degrees)."
   ]
  },
  {
   "cell_type": "code",
   "execution_count": null,
   "metadata": {},
   "outputs": [],
   "source": [
    "import math\n",
    "math.radians(30)\n",
    "\n",
    "math.degrees(math.pi/6)\n",
    "\n"
   ]
  },
  {
   "cell_type": "markdown",
   "metadata": {},
   "source": [
    "The following statements show sin, cos and tan ratios for the angle of 30 degrees (0.5235987755982988 radians):"
   ]
  },
  {
   "cell_type": "code",
   "execution_count": null,
   "metadata": {},
   "outputs": [],
   "source": [
    "import math\n",
    "math.sin(0.5235987755982988)\n",
    "\n",
    "math.cos(0.5235987755982988)\n",
    "\n",
    "math.tan(0.5235987755982988)\n",
    "\n"
   ]
  },
  {
   "cell_type": "markdown",
   "metadata": {},
   "source": [
    "You may recall that sin(30)=0.5, cos(30)=32 (which is 0.8660254037844387) and tan(30)= 13 (which is 0.5773502691896257)."
   ]
  },
  {
   "cell_type": "markdown",
   "metadata": {},
   "source": [
    "### math.log()\n",
    "The math.log() method returns the natural logarithm of a given number. The natural logarithm is calculated to the base e."
   ]
  },
  {
   "cell_type": "code",
   "execution_count": null,
   "metadata": {},
   "outputs": [],
   "source": [
    "#Example: log Copy\n",
    "import math\n",
    "math.log(10)\n",
    " # returns 2.302585092994046\n",
    "    \n",
    "math.log(5)\n",
    " # returns 1.6094379124341003\n",
    "    \n",
    "math.log(2)\n",
    " # returns 0.6931471805599453\n",
    "    \n",
    "\n",
    "math.log(1)\n",
    " # returns 0.0"
   ]
  },
  {
   "cell_type": "markdown",
   "metadata": {},
   "source": [
    "## math.log10()\n",
    "The math.log10() method returns the base-10 logarithm of the given number. It is called the standard logarithm."
   ]
  },
  {
   "cell_type": "code",
   "execution_count": null,
   "metadata": {},
   "outputs": [],
   "source": [
    "#Example: log10 \n",
    "import math\n",
    "math.log10(10)\n",
    "#returns 1.0"
   ]
  },
  {
   "cell_type": "markdown",
   "metadata": {},
   "source": [
    "## math.exp()\n",
    "The math.exp() method returns a float number after raising e to the power of the given number. In other words, exp(x) gives e**x."
   ]
  },
  {
   "cell_type": "code",
   "execution_count": null,
   "metadata": {},
   "outputs": [],
   "source": [
    "#Example: Exponent Copy\n",
    "import math\n",
    "math.exp(10)\n",
    "#returns 22026.465794806718"
   ]
  },
  {
   "cell_type": "markdown",
   "metadata": {},
   "source": [
    "#### The above can be verified by the exponent operator.(can be a PCAP question using comparison operators)"
   ]
  },
  {
   "cell_type": "code",
   "execution_count": null,
   "metadata": {},
   "outputs": [],
   "source": [
    "#Example: Exponent Operator ** Copy\n",
    "import math\n",
    "math.e**10\n",
    "#returns 22026.465794806703"
   ]
  },
  {
   "cell_type": "markdown",
   "metadata": {},
   "source": [
    "A PCAP Question might compare both:"
   ]
  },
  {
   "cell_type": "code",
   "execution_count": null,
   "metadata": {},
   "outputs": [],
   "source": [
    "import math\n",
    "\n",
    "math.e**10 == math.exp(10)\n",
    "\n",
    "#the question might be: what is the expoected output."
   ]
  },
  {
   "cell_type": "markdown",
   "metadata": {},
   "source": [
    "## math.pow()\n",
    "The math.pow() method receives two float arguments, raises the first to the second and returns the result. In other words, pow(4,4) is equivalent to 4**4"
   ]
  },
  {
   "cell_type": "code",
   "execution_count": null,
   "metadata": {},
   "outputs": [],
   "source": [
    "#Example: Power \n",
    "import math\n",
    "math.pow(2,4) #returns a float"
   ]
  },
  {
   "cell_type": "markdown",
   "metadata": {},
   "source": [
    "## math.sqrt()\n",
    "The math.sqrt() method returns the square root of a given number"
   ]
  },
  {
   "cell_type": "code",
   "execution_count": null,
   "metadata": {},
   "outputs": [],
   "source": [
    "#Example: Square Root Copy\n",
    "import math\n",
    "#math.sqrt(100)\n",
    "\n",
    "math.sqrt(3)"
   ]
  },
  {
   "cell_type": "markdown",
   "metadata": {},
   "source": [
    "The last group consists of some general-purpose functions like:\n",
    "\n",
    "1. ceil(x) → the ceiling of x (the smallest integer greater than or equal to x)\n",
    "2. floor(x) → the floor of x (the largest integer less than or equal to x)\n",
    "3. trunc(x) → the value of x truncated to an integer (be careful - it's not an equivalent either of ceil or floor)\n",
    "4. factorial(x) → returns x! (x has to be an integral and not a negative)\n",
    "5. hypot(x, y) → returns the length of the hypotenuse of a right-angle triangle with the leg lengths equal to x and y (the same as sqrt(pow(x, 2) + pow(y, 2)) but more precise)\n",
    "Look at the code in the code cell below. Analyze the program carefully, change int values to help you understand.\n",
    "\n",
    "It demonstrates the fundamental differences between ceil(), floor() and trunc().\n",
    "\n",
    "Run the program and check its output."
   ]
  },
  {
   "cell_type": "code",
   "execution_count": null,
   "metadata": {},
   "outputs": [],
   "source": [
    "from math import ceil, floor, trunc\n",
    "\n",
    "x = 1.4\n",
    "y = 2.6\n",
    "\n",
    "print(floor(x), floor(y))\n",
    "print(floor(-x), floor(-y))\n",
    "print(ceil(x), ceil(y))\n",
    "print(ceil(-x), ceil(-y))\n",
    "print(trunc(x), trunc(y))\n",
    "print(trunc(-x), trunc(-y))\n"
   ]
  },
  {
   "cell_type": "markdown",
   "metadata": {},
   "source": [
    "The random function\n",
    "\n",
    "The most general function named random() (not to be confused with the module's name) produces \n",
    "a float number x coming from the range (0.0, 1.0) - in other words: (0.0 <= x < 1.0).\n",
    "\n",
    "The example program below will produce five pseudorandom values - \n",
    "as their values are determined by the current (rather unpredictable) seed value, you can't guess them:"
   ]
  },
  {
   "cell_type": "code",
   "execution_count": null,
   "metadata": {},
   "outputs": [],
   "source": [
    "from random import random\n",
    "\n",
    "for i in range(5):\n",
    "    print(random())"
   ]
  },
  {
   "cell_type": "code",
   "execution_count": null,
   "metadata": {},
   "outputs": [],
   "source": [
    "#The seed function\n",
    "\n",
    "#The seed() function is able to directly set the generator's seed. We'll show you two of its variants:\n",
    "\n",
    "seed() #- sets the seed with the current time;\n",
    "seed(int_value) #- sets the seed with the integer value int_value.\n",
    "#We've modified the previous program - in effect, we've removed any trace of randomness from the code:\n",
    "#see code cell below:"
   ]
  },
  {
   "cell_type": "code",
   "execution_count": null,
   "metadata": {},
   "outputs": [],
   "source": [
    "from random import random, seed\n",
    "\n",
    "seed(0)\n",
    "\n",
    "for i in range(5):\n",
    "    print(random())"
   ]
  },
  {
   "cell_type": "markdown",
   "metadata": {},
   "source": [
    "Due to the fact that the seed is always set with the same value, \n",
    "the sequence of generated values always looks the same.\n",
    "\n",
    "Run the program. do not be surprised if they are similar\n",
    "1. 0.844421851525\n",
    "2. 0.75795440294\n",
    "3. 0.420571580831\n",
    "4. 0.258916750293\n",
    "5. 0.511274721369"
   ]
  },
  {
   "cell_type": "markdown",
   "metadata": {},
   "source": [
    "Note: your values may be slightly different than ours if your system uses more precise or less precise floating-point arithmetic, but the difference will be seen quite far from the decimal point."
   ]
  },
  {
   "cell_type": "markdown",
   "metadata": {},
   "source": [
    "VERY IMPORTANT READ OVER ONCE AT MIN\n",
    "The randrange and randint functions\n",
    "\n",
    "If you want integer random values, one of the following functions would fit better:\n",
    "\n",
    "1. randrange(end)\n",
    "2. randrange(beg, end)\n",
    "3. randrange(beg, end, step)\n",
    "4. randint(left, right)\n",
    "The first three invocations will generate an integer taken (pseudorandomly) from the range (respectively):\n",
    "\n",
    "1. range(end)\n",
    "2. range(beg, end)\n",
    "3. range(beg, end, step)\n",
    "Note the implicit right-sided exclusion!\n",
    "\n",
    "The last function is an equivalent of randrange(left, right+1) - \n",
    "it generates the integer value i, which falls in the range [left, right] (no exclusion on the right side).\n",
    "\n",
    "Look at the code in the cell below. \n",
    "This sample program will consequently output a line consisting of three zeros and either a zero or one at \n",
    "the fourth place."
   ]
  },
  {
   "cell_type": "code",
   "execution_count": null,
   "metadata": {},
   "outputs": [],
   "source": [
    "from random import randrange, randint\n",
    "\n",
    "print(randrange(1), end=' ')\n",
    "print(randrange(0, 1), end=' ')\n",
    "print(randrange(0, 1, 1), end=' ')\n",
    "print(randint(0, 1))\n"
   ]
  },
  {
   "cell_type": "markdown",
   "metadata": {},
   "source": [
    "For the above code, change the int values to see differences, helps you to understand."
   ]
  },
  {
   "cell_type": "markdown",
   "metadata": {},
   "source": [
    "The previous functions have one important disadvantage - they may produce repeating values even if the number of subsequent invocations is not greater than the width of the specified range.\n",
    "\n",
    "Look at the code below - the program very likely outputs a set of numbers in which some elements are not unique:"
   ]
  },
  {
   "cell_type": "code",
   "execution_count": null,
   "metadata": {},
   "outputs": [],
   "source": [
    "from random import randint\n",
    "\n",
    "for i in range(10):\n",
    "    print(randint(1, 10), end=',')"
   ]
  },
  {
   "cell_type": "markdown",
   "metadata": {},
   "source": [
    "The choice and sample functions\n",
    "\n",
    "As you can see, this is not a good tool for generating numbers in a lottery. Fortunately, there is a better solution than writing your own code to check the uniqueness of the \"drawn\" numbers.\n",
    "\n",
    "\n",
    "It's a function named in a very suggestive way - choice:\n",
    "\n",
    "1. choice(sequence)\n",
    "2. sample(sequence, elements_to_choose)\n",
    "1. The first variant chooses a \"random\" element from the input sequence and returns it.\n",
    "\n",
    "2. The second one builds a list (a sample) consisting of the elements_to_choose element \"drawn\" from the input sequence.\n",
    "\n",
    "In other words, the function chooses some of the input elements, returning a list with the choice. The elements in the sample are placed in random order. Note: the elements_to_choose must not be greater than the length of the input sequence.\n",
    "\n",
    "Look at the code below:"
   ]
  },
  {
   "cell_type": "code",
   "execution_count": null,
   "metadata": {},
   "outputs": [],
   "source": [
    "from random import choice, sample\n",
    "\n",
    "my_list = [1, 2, 3, 4, 5, 6, 7, 8, 9, 10]\n",
    "\n",
    "print(choice(my_list))\n",
    "print(sample(my_list, 5))\n",
    "print(sample(my_list, 10))"
   ]
  },
  {
   "cell_type": "markdown",
   "metadata": {},
   "source": [
    "THE PLATFORM MODULE\n",
    "Sometimes, it may be necessary to find out information unrelated to Python. For example, you may need to know the location of your program within the greater environment of the computer.\n",
    "\n",
    "Imagine your program's environment as a pyramid consisting of a number of layers or platforms."
   ]
  },
  {
   "cell_type": "markdown",
   "metadata": {},
   "source": [
    "Help you to understand the layers!!!!\n",
    "\n",
    "1. your code wants to create a file, so it invokes one of Python's functions;\n",
    "2. Python accepts the order, rearranges it to meet local OS requirements \n",
    "   (it's like putting the stamp \"approved\" on your request) and sends it down \n",
    "   (this may remind you of a chain of command)\n",
    "3. the OS checks if the request is reasonable and valid \n",
    "   (e.g., whether the file name conforms to some syntax rules) and tries to create the file; such an operation,\n",
    "    seemingly very simple, isn't atomic - it consists of many minor steps taken by...\n",
    "3. the hardware, which is responsible for activating storage devices (hard disk, solid state devices, etc.) \n",
    "   to satisfy the OS's needs.\n",
    "Usually, you're not aware of all that fuss - you want the file to be created and that's that.\n",
    "\n",
    "But sometimes you want to know more - for example, \n",
    "1. the name of the OS which hosts Python, and some characteristics describing the hardware that hosts the OS.\n",
    "\n",
    "2. There is a module providing some means to allow you to know where you are and what components work for you. \n",
    "   The module is named platform. We'll show you some of the functions it provides to you."
   ]
  },
  {
   "cell_type": "markdown",
   "metadata": {},
   "source": [
    "The platform function\n",
    "\n",
    "The platform module lets you access the underlying platform's data, i.e., hardware, operating system, and interpreter version information.\n",
    "\n",
    "There is a function that can show you all the underlying layers in one glance, named platform, too. It just returns a string describing the environment; thus, its output is rather addressed to humans than to automated processing (you'll see it soon).\n",
    "\n",
    "This is how you can invoke it:"
   ]
  },
  {
   "cell_type": "code",
   "execution_count": null,
   "metadata": {},
   "outputs": [],
   "source": [
    "platform(aliased = False, terse = False)"
   ]
  },
  {
   "cell_type": "markdown",
   "metadata": {},
   "source": [
    "And now:Understand the code\n",
    "\n",
    "1. aliased → when set to True (or any non-zero value) \n",
    "   it may cause the function to present the alternative underlying layer names instead of the common ones;\n",
    "2. terse → when set to True (or any non-zero value) \n",
    "   it may convince the function to present a briefer form of the result (if possible)"
   ]
  },
  {
   "cell_type": "markdown",
   "metadata": {},
   "source": [
    "You can also run the sample program below in IDLE on your local machine to check what output you will have."
   ]
  },
  {
   "cell_type": "code",
   "execution_count": null,
   "metadata": {},
   "outputs": [],
   "source": [
    "from platform import platform\n",
    "\n",
    "print(platform())\n",
    "print(platform(1))\n",
    "print(platform(0, 1))"
   ]
  },
  {
   "cell_type": "markdown",
   "metadata": {},
   "source": [
    "The machine function\n",
    "\n",
    "Sometimes, you may just want to know the generic name of the processor which runs your OS together \n",
    "with Python and your code - \n",
    "1. a function named machine() will tell you that. As previously, the function returns a string."
   ]
  },
  {
   "cell_type": "code",
   "execution_count": null,
   "metadata": {},
   "outputs": [],
   "source": [
    "from platform import machine\n",
    "\n",
    "print(machine())\n"
   ]
  },
  {
   "cell_type": "markdown",
   "metadata": {},
   "source": [
    "The processor function\n",
    "\n",
    "1. The processor() function returns a string filled with the real processor name (if possible).\n",
    "\n"
   ]
  },
  {
   "cell_type": "code",
   "execution_count": null,
   "metadata": {},
   "outputs": [],
   "source": [
    "from platform import processor\n",
    "\n",
    "print(processor()) #important to remember it returns a string"
   ]
  },
  {
   "cell_type": "markdown",
   "metadata": {},
   "source": [
    "The system function, you will more rhan likely be asked about one of the above functions from the platform module\n",
    "\n",
    "1. A function named system() returns the generic OS name as a string."
   ]
  },
  {
   "cell_type": "code",
   "execution_count": null,
   "metadata": {},
   "outputs": [],
   "source": [
    "from platform import system\n",
    "\n",
    "print(system())"
   ]
  },
  {
   "cell_type": "markdown",
   "metadata": {},
   "source": [
    "The version function this is included in the platform module\n",
    "\n",
    "The OS version is provided as a string by the version() function."
   ]
  },
  {
   "cell_type": "code",
   "execution_count": null,
   "metadata": {},
   "outputs": [],
   "source": [
    "from platform import version\n",
    "\n",
    "print(version())\n"
   ]
  },
  {
   "cell_type": "markdown",
   "metadata": {},
   "source": [
    "1. The python_implementation and the python_version_tuple functions\n",
    "\n",
    "2. If you need to know what version of Python is running your code, \n",
    "3. you can check it using a number of dedicated functions - here are two of them:\n",
    "\n",
    "1. python_implementation() → returns a string denoting the Python implementation \n",
    "   (expect CPython here, unless you decide to use any non-canonical Python branch)\n",
    "\n",
    "2. python_version_tuple() → returns a three-element tuple filled with:\n",
    "    1. the major part of Python's version;\n",
    "     2.    the minor part;\n",
    "      3. the patch level number."
   ]
  },
  {
   "cell_type": "code",
   "execution_count": null,
   "metadata": {},
   "outputs": [],
   "source": [
    "from platform import python_implementation, python_version_tuple\n",
    "\n",
    "print(python_implementation())\n",
    "\n",
    "for atr in python_version_tuple():\n",
    "    print(atr)\n"
   ]
  },
  {
   "cell_type": "markdown",
   "metadata": {},
   "source": [
    "Python Module Index\n",
    "We have only covered the basics of Python modules here. Python's modules make up their own universe, in which Python itself is only a galaxy, and we would venture to say that exploring the depths of these modules can take significantly more time than getting acquainted with \"pure\" Python.\n",
    "\n",
    "Moreover, the Python community all over the world creates and maintains hundreds of additional modules used in very niche applications like genetics, psychology, or even astrology.\n",
    "\n",
    "These modules aren't (and won't be) distributed along with Python, or through official channels, which makes the Python universe broader - almost infinite.\n",
    "\n",
    "You can read about all standard Python modules here: https://docs.python.org/3/py-modindex.html.\n",
    "\n",
    "Don't worry - you won't need all these modules. Many of them are very specific.\n",
    "\n",
    "All you need to do is find the modules you want, and teach yourself how to use them. It's easy."
   ]
  },
  {
   "cell_type": "markdown",
   "metadata": {},
   "source": [
    "Key takeaways\n",
    "\n",
    "1. A function named dir() can show you a list of the entities contained inside an imported module. For example:"
   ]
  },
  {
   "cell_type": "code",
   "execution_count": null,
   "metadata": {},
   "outputs": [],
   "source": [
    "import os\n",
    "dir(os)#important to also note dir() returns a LIST of the entities of \n",
    "        #whatever module our pass thru the function as an arg"
   ]
  },
  {
   "cell_type": "markdown",
   "metadata": {},
   "source": [
    "\n",
    "prints out the list of all the os module's facilities you can use in your code."
   ]
  },
  {
   "cell_type": "markdown",
   "metadata": {},
   "source": [
    "2. The math module couples more than 50 symbols (functions and constants) that perform mathematical operations (like sine(), pow(), factorial()) or providing important values (like π and the Euler symbol e)."
   ]
  },
  {
   "cell_type": "markdown",
   "metadata": {},
   "source": [
    "3. The random module groups more than 60 entities designed to help you use pseudo-random numbers. Don't forget the prefix \"random\", as there is no such thing as a real random number when it comes to generating them using the computer's algorithms."
   ]
  },
  {
   "cell_type": "markdown",
   "metadata": {},
   "source": [
    "4. The platform module contains about 70 functions which let you dive into the underlaying layers of the OS and hardware. Using them allows you to get to know more about the environment in which your code is executed."
   ]
  },
  {
   "cell_type": "markdown",
   "metadata": {},
   "source": [
    "5. Python Module Index (https://docs.python.org/3/py-modindex.html is a community-driven directory of modules available in the Python universe. If you want to find a module fitting your needs, start your search there."
   ]
  },
  {
   "cell_type": "markdown",
   "metadata": {},
   "source": [
    "NEXT SECTION FROM MODULE ONE OF PCAP CREATING A MODULE.PY FILE AND A MAIN.PY FILE TO DEMO \n",
    "1. create a file called module.py\n",
    "2. create a file called main.py\n",
    "3. make sure they are in same folder, for this demo its not a rule\n",
    "4. In the main file enter this line of code: import module.\n",
    "5. Please read the below 5 to 9 points and then follow the coding instructions from point 12"
   ]
  },
  {
   "cell_type": "markdown",
   "metadata": {},
   "source": [
    "IT IS VITAL YOU READ THRU THE BELOW A QUESTION WILL BE IN PCAP ON WHAT IS A __PYCACHE__ WHAT IS PYC ETC\n",
    "(pyc is python compiled code machine code)\n",
    "\n",
    "5. Launch IDLE (or any other IDE you prefer) and run the main.py file. What do you see?\n",
    "\n",
    "You should see nothing. This means that Python has successfully imported the contents of the module.py file.\n",
    "\n",
    "It doesn't matter that the module is empty for now. The very first step has been done, but before you take the next step, we want you to take a look into the folder in which both files exist.\n",
    "\n",
    "Do you notice something interesting?\n",
    "\n",
    "6. A new subfolder has appeared - can you see it? Its name is __pycache__. Take a look inside. What do you see?\n",
    "\n",
    "7. There is a file named (more or less) module.cpython-xy.pyc where x and y are digits derived from your version of Python (e.g., they will be 3 and 8 if you use Python 3.8).\n",
    "\n",
    "8. The name of the file is the same as your module's name (module here). The part after the first dot says which Python implementation has created the file (CPython here) and its version number. The last part (pyc) comes from the words Python and compiled.\n",
    "\n",
    "You can look inside the file - the content is completely unreadable to humans. It has to be like that, as the file is intended for Python's use only.\n",
    "\n",
    "9. When Python imports a module for the first time, it translates its contents into a somewhat compiled shape.\n",
    "\n",
    "10. The file doesn't contain machine code - it's internal Python semi-compiled code, ready to be executed by Python's interpreter. As such a file doesn't require lots of the checks needed for a pure source file, the execution starts faster, and runs faster, too.\n",
    "\n",
    "Thanks to that, every subsequent import will go quicker than interpreting the source text from scratch.\n",
    "\n",
    "11. Python is able to check if the module's source file has been modified (in this case, the pyc file will be rebuilt) or not (when the pyc file may be run at once). As this process is fully automatic and transparent, you don't have to keep it in mind."
   ]
  },
  {
   "cell_type": "markdown",
   "metadata": {},
   "source": [
    "12. Next step add the below code line to your module.py file"
   ]
  },
  {
   "cell_type": "code",
   "execution_count": null,
   "metadata": {},
   "outputs": [],
   "source": [
    "print(\"I like to be a module.\")"
   ]
  },
  {
   "cell_type": "markdown",
   "metadata": {},
   "source": [
    "Can you notice any differences between a module and an ordinary script? There are none so far.\n",
    "\n",
    "It's possible to run this file like any other script. Try it for yourself.\n",
    "\n",
    "What happens? You should see the following line inside your console:\n",
    "\n",
    "I like to be a module."
   ]
  },
  {
   "cell_type": "markdown",
   "metadata": {},
   "source": [
    "\n",
    "13. add the below line of code to your main.py file"
   ]
  },
  {
   "cell_type": "code",
   "execution_count": null,
   "metadata": {},
   "outputs": [],
   "source": [
    "\n",
    "import module"
   ]
  },
  {
   "cell_type": "markdown",
   "metadata": {},
   "source": [
    "14. Run it. What do you see? Hopefully, you see something like this:\n",
    "\n",
    "output: I like to be a module.\n",
    "\n",
    "\n",
    "15. What does it actually mean?\n",
    "\n",
    "When a module is imported, its content is implicitly executed by Python. \n",
    "16. It gives the module the chance to initialize some of its internal aspects \n",
    "    (e.g., it may assign some variables with useful values).\n",
    "\n",
    "Note: the initialization takes place only once, when the first import occurs, so the assignments done by the module aren't repeated unnecessarily.\n",
    "\n",
    "17. Imagine the following context:\n",
    "\n",
    "    1. there is a module named mod1;\n",
    "    2.  there is a module named mod2 which contains the import mod1 instruction;\n",
    "    3.  there is a main file containing the import mod1 and import mod2 instructions.\n",
    "    4.  At first glance, you may think that mod1 will be imported twice - fortunately, \n",
    "        only the first import occurs. \n",
    "    5.  Python remembers the imported modules and silently omits all subsequent imports."
   ]
  },
  {
   "cell_type": "markdown",
   "metadata": {},
   "source": [
    "18. Python can do much more. It also creates a variable called (double underscore on either side of name) __name__.\n",
    "\n",
    "19. Moreover, each source file uses its own, separate version of the variable - it isn't shared between modules.\n",
    "\n",
    "We'll show you how to use it. Modify the module a bit:"
   ]
  },
  {
   "cell_type": "code",
   "execution_count": null,
   "metadata": {},
   "outputs": [],
   "source": [
    "#add this code to module.py\n",
    "print(\"I like to be a module.\")\n",
    "print(__name__)\n",
    "#Now run the module.py file. You should see the following lines:\n",
    "#I like to be a module\n",
    "#__main__"
   ]
  },
  {
   "cell_type": "markdown",
   "metadata": {},
   "source": [
    "20. Now run the main.py file. And? Do you see the same as us?\n",
    "output:\n",
    "    1. I like to be a module\n",
    "    2. module\n",
    "\n",
    "We can say that:\n",
    "\n",
    "    1. when you run a file directly, its __name__ variable is set to __main__;\n",
    "    2. when a file is imported as a module, its __name__ variable is set to the file's name (excluding .py)\n"
   ]
  },
  {
   "cell_type": "markdown",
   "metadata": {},
   "source": [
    "21. This is how you can make use of the __main__ variable in order to detect the context in which your code has been activated:"
   ]
  },
  {
   "cell_type": "code",
   "execution_count": null,
   "metadata": {},
   "outputs": [],
   "source": [
    "#update module.py to have the following:\n",
    "if __name__ == \"__main__\":\n",
    "    print(\"I prefer to be a module.\")\n",
    "else:\n",
    "    print(\"I like to be a module.\")"
   ]
  },
  {
   "cell_type": "markdown",
   "metadata": {},
   "source": [
    "22. There's a cleverer way to utilize the variable, however. If you write a module filled with a number of \n",
    "    complex functions, you can use it to place a series of tests to check if the functions work properly.\n",
    "\n",
    "23. Each time you modify any of these functions, you can simply run the module to make sure that your \n",
    "    amendments didn't spoil the code. These tests will be omitted when the code is imported as a module."
   ]
  },
  {
   "cell_type": "markdown",
   "metadata": {},
   "source": [
    "23. This module will contain two simple functions, and if you want to know how many times the functions have been invoked, you need a counter initialized to zero when the module is being imported."
   ]
  },
  {
   "cell_type": "code",
   "execution_count": null,
   "metadata": {},
   "outputs": [],
   "source": [
    "#module.py\n",
    "counter = 0\n",
    "\n",
    "if __name__ == \"__main__\":\n",
    "    print(\"I prefer to be a module.\")\n",
    "else:\n",
    "    print(\"I like to be a module.\")"
   ]
  },
  {
   "cell_type": "markdown",
   "metadata": {},
   "source": [
    "24. Introducing such a variable is absolutely correct, but may cause important side effects that you must be aware of.\n",
    "\n",
    "Take a look at the modified main.py file:"
   ]
  },
  {
   "cell_type": "markdown",
   "metadata": {},
   "source": [
    "25. As you can see, the main file tries to access the module's counter variable. Is this legal? Yes, it is. Is it usable? It may be very usable. Is it safe?\n",
    "\n",
    "26. That depends - if you trust your module's users, there's no problem; however, you may not want the rest of the world to see your personal/private variable.\n",
    "\n",
    "27. Unlike many other programming languages, Python has no means of allowing you to hide such variables from the eyes of the module's users.\n",
    "\n",
    "28. You can only inform your users that this is your variable, that they may read it, but that they should not modify it under any circumstances.\n",
    "\n",
    "29. This is done by preceding the variable's name with _ (one underscore) or __ (two underscores), but remember, it's only a convention. Your module's users may obey it or they may not.\n",
    "\n",
    "30. Of course, we'll follow the convention. Now let's put two functions into the module - they'll evaluate the sum and product of the numbers collected in a list.\n",
    "\n",
    "31. In addition, let's add some ornaments there and remove any superfluous remnants."
   ]
  },
  {
   "cell_type": "markdown",
   "metadata": {},
   "source": [
    "32. Okay. Let's write some brand new code in our module.py file. The updated module is ready here:"
   ]
  },
  {
   "cell_type": "code",
   "execution_count": null,
   "metadata": {},
   "outputs": [],
   "source": [
    "#!/usr/bin/env python3 #remember this line is a shebang needed for unix or mac os systems\n",
    "\n",
    "\"\"\" module.py - an example of a Python module \"\"\"\n",
    "\n",
    "__counter = 0\n",
    "\n",
    "\n",
    "def suml(the_list):\n",
    "    global __counter\n",
    "    __counter += 1\n",
    "    the_sum = 0\n",
    "    for element in the_list:\n",
    "        the_sum += element\n",
    "    return the_sum\n",
    "\n",
    "\n",
    "def prodl(the_list):\n",
    "    global __counter    \n",
    "    __counter += 1\n",
    "    prod = 1\n",
    "    for element in the_list:\n",
    "        prod *= element\n",
    "    return prod\n",
    "\n",
    "\n",
    "if __name__ == \"__main__\":\n",
    "    print(\"I prefer to be a module, but I can do some tests for you.\")\n",
    "    my_list = [i+1 for i in range(5)]\n",
    "    print(suml(my_list) == 15)\n",
    "    print(prodl(my_list) == 120)\n",
    "\n"
   ]
  },
  {
   "cell_type": "markdown",
   "metadata": {},
   "source": [
    "32. A few elements need some explanation, we think:\n",
    "\n",
    "33. the line starting with #! has many names - it may be called shabang, shebang, hashbang, poundbang or even hashpling (don't ask us why). The name itself means nothing here - its role is more important. \n",
    "    From Python's point of view, it's just a comment as it starts with #. For Unix and Unix-like OSs \n",
    "    (including MacOS) such a line instructs the OS how to execute the contents of the file \n",
    "    (in other words, what program needs to be launched to interpret the text). \n",
    "    In some environments (especially those connected with web servers) \n",
    "    the absence of that line will cause trouble;\n",
    "34. a string (maybe a multiline) placed before any module instructions (including imports) \n",
    "    is called the doc-string, and should briefly explain the purpose and contents of the module;\n",
    "35. the functions defined inside the module (suml() and prodl()) are available for import;\n",
    "36. we've used the double underscore '__name__' variable to detect when the file is run stand-alone, \n",
    "    and seized this opportunity to perform some simple tests."
   ]
  },
  {
   "cell_type": "markdown",
   "metadata": {},
   "source": [
    "Now it's possible to use the updated module - this is one way:"
   ]
  },
  {
   "cell_type": "code",
   "execution_count": null,
   "metadata": {},
   "outputs": [],
   "source": [
    "#main.py\n",
    "from module import suml, prodl\n",
    "\n",
    "zeroes = [0 for i in range(5)]\n",
    "ones = [1 for i in range(5)]\n",
    "print(suml(zeroes))\n",
    "print(prodl(ones))"
   ]
  },
  {
   "cell_type": "markdown",
   "metadata": {},
   "source": [
    "1. It's time to make our example more complicated - so far we've assumed that the main Python file is located in the same folder/directory as the module to be imported.\n",
    "\n",
    "2. Let's give up this assumption and conduct the following thought experiment:\n",
    "\n",
    "3. we are using Windows ® OS (this assumption is important, as the file name's shape depends on it)\n",
    "4. the main Python script lies in C:\\Users\\user\\py\\progs and is named main.py\n",
    "5. the module to import is located in C:\\Users\\user\\py\\modules"
   ]
  },
  {
   "cell_type": "code",
   "execution_count": null,
   "metadata": {},
   "outputs": [],
   "source": [
    "#update main.py to:\n",
    "from sys import path\n",
    "\n",
    "path.append('..\\\\modules')\n",
    "\n",
    "import module\n",
    "\n",
    "zeroes = [0 for i in range(5)]\n",
    "ones = [1 for i in range(5)]\n",
    "print(module.suml(zeroes))\n",
    "print(module.prodl(ones))\n",
    "\n"
   ]
  },
  {
   "cell_type": "markdown",
   "metadata": {},
   "source": [
    "1. How to deal with it?\n",
    "\n",
    "2. To answer this question, we have to talk about how Python searches for modules. There's a special variable (actually a list) storing all locations (folders/directories) that are searched in order to find a module which has been requested by the import instruction.\n",
    "\n",
    "3. Python browses these folders in the order in which they are listed in the list - if the module cannot be found in any of these directories, the import fails.\n",
    "\n",
    "4. Otherwise, the first folder containing a module with the desired name will be taken into consideration (if any of the remaining folders contains a module of that name, it will be ignored).\n",
    "\n",
    "5. The variable is named path, and it's accessible through the module named sys. This is how you can check its regular value:"
   ]
  },
  {
   "cell_type": "code",
   "execution_count": null,
   "metadata": {},
   "outputs": [],
   "source": [
    "import sys\n",
    "\n",
    "for p in sys.path:\n",
    "    print(p)\n",
    "    #the below 1 through 6 is a sample output from running this code\n",
    "\n"
   ]
  },
  {
   "cell_type": "markdown",
   "metadata": {},
   "source": [
    "7. We've launched the code inside the C:\\User\\user folder, and this is what we've got:\n",
    "    (i numbered below simply to have a new line per path address)\n",
    "   1. C:\\Users\\user\n",
    "   2. C:\\Users\\user\\AppData\\Local\\Programs\\Python\\Python36-32\\python36.zip\n",
    "   3. C:\\Users\\user\\AppData\\Local\\Programs\\Python\\Python36-32\\DLLs\n",
    "   4.  C:\\Users\\user\\AppData\\Local\\Programs\\Python\\Python36-32\\lib\n",
    "   5.  C:\\Users\\user\\AppData\\Local\\Programs\\Python\\Python36-32\n",
    "   6.  C:\\Users\\user\\AppData\\Local\\Programs\\Python\\Python36-32\\lib\\site-packages\n",
    "\n",
    "   7.  Note: the folder in which the execution starts is listed in the first path's element.\n",
    "\n",
    "   8.  Note once again: there is a zip file listed as one of the path's elements - it's not an error. Python is able to treat zip files as ordinary folders - this can save lots of storage.\n",
    "\n",
    "\n",
    "8.  Can you figure out how we can solve our problem now? We can add a folder containing the module to the path variable (it's fully modifiable)."
   ]
  },
  {
   "cell_type": "markdown",
   "metadata": {},
   "source": [
    "9. One of several possible solutions looks like this:"
   ]
  },
  {
   "cell_type": "code",
   "execution_count": null,
   "metadata": {},
   "outputs": [],
   "source": [
    "#main.py\n",
    "from sys import path\n",
    "\n",
    "path.append('..\\\\modules')\n",
    "\n",
    "import module\n",
    "\n",
    "zeroes = [0 for i in range(5)]\n",
    "ones = [1 for i in range(5)]\n",
    "print(module.suml(zeroes))\n",
    "print(module.prodl(ones))\n",
    "\n"
   ]
  },
  {
   "cell_type": "markdown",
   "metadata": {},
   "source": [
    "1. Note:\n",
    "\n",
    "we've doubled the \\ inside folder name - do you know why?\n",
    "\n",
    "2. Answer\n",
    "Because a backslash is used to escape other characters - if you want to get just a backslash, you have to escape it.\n",
    "\n",
    "\n",
    "we've used the relative name of the folder - this will work if you start the main.py file directly from its home folder, and won't work if the current directory doesn't fit the relative path; you can always use an absolute path, like this:"
   ]
  },
  {
   "cell_type": "code",
   "execution_count": null,
   "metadata": {},
   "outputs": [],
   "source": [
    "path.append('C:\\\\Users\\\\user\\\\py\\\\modules')"
   ]
  },
  {
   "cell_type": "markdown",
   "metadata": {},
   "source": [
    "we've used the append() method - in effect, the new path will occupy the last element in the path list; if you don't like the idea, you can use insert() instead."
   ]
  },
  {
   "cell_type": "markdown",
   "metadata": {},
   "source": [
    "Imagine that in the not-so-distant future you and your associates write a large number of Python functions.\n",
    "\n",
    "Your team decides to group the functions in separate modules, and this is the final result of the ordering:"
   ]
  },
  {
   "cell_type": "code",
   "execution_count": null,
   "metadata": {},
   "outputs": [],
   "source": [
    "#! /usr/bin/env python3\n",
    "\n",
    "\"\"\" module: alpha \"\"\"\n",
    "\n",
    "def funA():\n",
    "    return \"Alpha\"\n",
    "\n",
    "if __name__ == \"__main__\":\n",
    "    print(\"I prefer to be a module.\")\n",
    "\n"
   ]
  },
  {
   "cell_type": "markdown",
   "metadata": {},
   "source": [
    "Note: we've presented the whole content for the alpha.py module only - assume that all the modules look similar (they contain one function named funX, where X is the first letter of the module's name)."
   ]
  },
  {
   "cell_type": "markdown",
   "metadata": {},
   "source": [
    "Suddenly, somebody notices that these modules form their own hierarchy, so putting them all in a flat structure won't be a good idea.\n",
    "\n",
    "After some discussion, the team comes to the conclusion that the modules have to be grouped. All participants agree that the following tree structure perfectly reflects the mutual relationships between the modules:"
   ]
  },
  {
   "cell_type": "markdown",
   "metadata": {},
   "source": [
    "Let's review this from the bottom up:\n",
    "\n",
    "1. the ugly group contains two modules: psi and omega;\n",
    "2. the best group contains two modules: sigma and tau;\n",
    "3. the good group contains two modules (alpha and beta) and one subgroup (best)\n",
    "4. the extra group contains two subgroups (good and bad) and one module (iota)\n",
    "5. Does it look bad? Not at all - analyze the structure carefully. It resembles something, doesn't it?\n",
    "\n",
    "It looks like a directory structure.\n",
    "\n",
    "Let's build a tree reflecting projected dependencies between the modules."
   ]
  },
  {
   "cell_type": "markdown",
   "metadata": {},
   "source": [
    "Such a structure is almost a package (in the Python sense). It lacks the fine detail to be both functional and operative. We'll complete it in a moment.\n",
    "\n",
    "If you assume that extra is the name of a newly created package (think of it as the package's root), it will impose a naming rule which allows you to clearly name every entity from the tree."
   ]
  },
  {
   "cell_type": "markdown",
   "metadata": {},
   "source": [
    "For example:\n",
    "\n",
    "the location of a function named funT() from the tau package may be described as:"
   ]
  },
  {
   "cell_type": "code",
   "execution_count": null,
   "metadata": {},
   "outputs": [],
   "source": [
    "extra.good.best.tau.funT()"
   ]
  },
  {
   "cell_type": "markdown",
   "metadata": {},
   "source": [
    "a function marked as"
   ]
  },
  {
   "cell_type": "code",
   "execution_count": null,
   "metadata": {},
   "outputs": [],
   "source": [
    "extra.ugly.psi.funP()"
   ]
  },
  {
   "cell_type": "markdown",
   "metadata": {},
   "source": [
    "comes from the psi module being stored in the ugly subpackage of the extra package."
   ]
  },
  {
   "cell_type": "markdown",
   "metadata": {},
   "source": [
    "There are two questions to answer:\n",
    "\n",
    "1. how do you transform such a tree (actually, a subtree) into a real Python package (in other words, how do you convince Python that such a tree is not just a bunch of junk files, but a set of modules)?\n",
    "2. where do you put the subtree to make it accessible to Python?\n",
    "The first question has a surprising answer: packages, like modules, may require initialization.\n",
    "\n",
    "1. The initialization of a module is done by an unbound code (not a part of any function) located inside the module's file. As a package is not a file, this technique is useless for initializing packages.\n",
    "\n",
    "2. You need to use a different trick instead - Python expects that there is a file with a very unique name inside the package's folder: __init__.py.\n",
    "\n",
    "3. The content of the file is executed when any of the package's modules is imported. If you don't want any special initializations, you can leave the file empty, but you mustn't omit it.\n",
    "\n"
   ]
  },
  {
   "cell_type": "markdown",
   "metadata": {},
   "source": [
    "Remember: the presence of the __init.py__ file finally makes up the package. see code below to reinforce its a double underscore"
   ]
  },
  {
   "cell_type": "code",
   "execution_count": null,
   "metadata": {},
   "outputs": [],
   "source": [
    "#Remember: the presence of the __init.py__ file finally makes up the package."
   ]
  },
  {
   "cell_type": "markdown",
   "metadata": {},
   "source": [
    "Note: it's not only the root folder that can contain __init.py__ file - you can put it inside any of its subfolders (subpackages) too. It may be useful if some of the subpackages require individual treatment and special kinds of initialization.\n",
    "\n",
    "Now it's time to answer the second question - the answer is simple: anywhere. You only have to ensure that Python is aware of the package's location. You already know how to do that.\n",
    "\n",
    "You're ready to make use of your first package."
   ]
  },
  {
   "cell_type": "markdown",
   "metadata": {},
   "source": [
    "Let's assume that the working environment looks as follows:"
   ]
  },
  {
   "cell_type": "markdown",
   "metadata": {},
   "source": [
    "We've prepared a zip file containing all the files from the packages branch. You can download it and use it for your own experiments, but remember to unpack it in the folder presented in the scheme, otherwise, it won't be accessible to the code from the main file."
   ]
  },
  {
   "cell_type": "markdown",
   "metadata": {},
   "source": [
    "You'll be continuing your experiments using the main2.py file. and a zipfile is made available"
   ]
  },
  {
   "cell_type": "markdown",
   "metadata": {},
   "source": [
    "We are going to access the funI() function from the iota module from the top of the extra package. It forces us to use qualified package names (associate this with naming folders and subfolders - the conventions are very similar).\n",
    "\n",
    "This is how to do it:"
   ]
  },
  {
   "cell_type": "code",
   "execution_count": null,
   "metadata": {},
   "outputs": [],
   "source": [
    "from sys import path\n",
    "path.append('..\\\\packages')\n",
    "\n",
    "import extra.iota\n",
    "print(extra.iota.funI())\n",
    "\n"
   ]
  },
  {
   "cell_type": "markdown",
   "metadata": {},
   "source": [
    "Note:\n",
    "\n",
    "we've modified the path variable to make it accessible to Python;\n",
    "the import doesn't point directly to the module, but specifies the fully qualified path from the top of the package;\n",
    "replacing import extra.iota with import iota will cause an error.\n",
    "\n"
   ]
  },
  {
   "cell_type": "markdown",
   "metadata": {},
   "source": [
    "The following variant is valid too:"
   ]
  },
  {
   "cell_type": "code",
   "execution_count": null,
   "metadata": {},
   "outputs": [],
   "source": [
    "from sys import path\n",
    "path.append('..\\\\packages')\n",
    "\n",
    "from extra.iota import funI\n",
    "print(funI())\n",
    "\n",
    "#Note the qualified name of the iota module."
   ]
  },
  {
   "cell_type": "markdown",
   "metadata": {},
   "source": [
    "Now let's reach all the way to the bottom of the tree - this is how to get access to the sigma and tau modules:"
   ]
  },
  {
   "cell_type": "code",
   "execution_count": null,
   "metadata": {},
   "outputs": [],
   "source": [
    "from sys import path\n",
    "\n",
    "path.append('..\\\\packages')\n",
    "\n",
    "import extra.good.best.sigma\n",
    "from extra.good.best.tau import funT\n",
    "\n",
    "print(extra.good.best.sigma.funS())\n",
    "print(funT())\n",
    "\n"
   ]
  },
  {
   "cell_type": "markdown",
   "metadata": {},
   "source": [
    "You can make your life easier by using aliasing:"
   ]
  },
  {
   "cell_type": "code",
   "execution_count": null,
   "metadata": {},
   "outputs": [],
   "source": [
    "from sys import path\n",
    "\n",
    "path.append('..\\\\packages')\n",
    "\n",
    "import extra.good.best.sigma as sig\n",
    "import extra.good.alpha as alp\n",
    "\n",
    "print(sig.funS())\n",
    "print(alp.funA())\n",
    "\n"
   ]
  },
  {
   "cell_type": "markdown",
   "metadata": {},
   "source": [
    "Let's assume that we've zipped the whole subdirectory, starting from the extra folder (including it), and let's get a file named extrapack.zip. Next, we put the file inside the packages folder.\n",
    "\n",
    "Now we are able to use the zip file in a role of packages:"
   ]
  },
  {
   "cell_type": "code",
   "execution_count": null,
   "metadata": {},
   "outputs": [],
   "source": [
    "from sys import path\n",
    "\n",
    "path.append('..\\\\packages\\\\extrapack.zip')\n",
    "\n",
    "import extra.good.best.sigma as sig\n",
    "import extra.good.alpha as alp\n",
    "from extra.iota import funI\n",
    "from extra.good.beta import funB\n",
    "\n",
    "print(sig.funS())\n",
    "print(alp.funA())\n",
    "print(funI())\n",
    "print(funB())\n",
    "\n"
   ]
  },
  {
   "cell_type": "markdown",
   "metadata": {},
   "source": [
    "If you want to conduct your own experiments with the package we've created, you can download it below. We encourage you to do so. A zip file is made available for you"
   ]
  },
  {
   "cell_type": "markdown",
   "metadata": {},
   "source": [
    "Now you can create modules and combine them into packages. It's time to start a completely different discussion - about errors, failures and crashes."
   ]
  },
  {
   "cell_type": "markdown",
   "metadata": {},
   "source": [
    "Key takeaways\n",
    "\n",
    "1. While a module is designed to couple together some related entities (functions, variables, constants, etc.), a package is a container which enables the coupling of several related modules under one common name. Such a container can be distributed as-is (as a batch of files deployed in a directory sub-tree) or it can be packed inside a zip file.\n",
    "\n",
    "\n",
    "2. During the very first import of the actual module, Python translates its source code into the semi-compiled format stored inside the pyc files, and deploys these files into the __pycache__ directory located in the module's home directory.\n",
    "\n",
    "\n",
    "3. If you want to instruct your module's user that a particular entity should be treated as private (i.e. not to be explicitly used outside the module) you can mark its name with either the _ or __ prefix. Don't forget that this is only a recommendation, not an order.\n",
    "\n",
    "\n",
    "4. The names shabang, shebang, hasbang, poundbang, and hashpling describe the digraph written as #!, used to instruct Unix-like OSs how the Python source file should be launched. This convention has no effect under MS Windows.\n",
    "\n",
    "\n",
    "5. If you want convince Python that it should take into account a non-standard package's directory, its name needs to be inserted/appended into/to the import directory list stored in the path variable contained in the sys module.\n",
    "\n",
    "\n",
    "6. A Python file named __init__.py is implicitly run when a package containing it is subject to import, and is used to initialize a package and/or its sub-packages (if any). The file may be empty, but must not be absent.\n",
    "\n"
   ]
  },
  {
   "cell_type": "markdown",
   "metadata": {},
   "source": [
    "1. How to use pip: a simple test program\n",
    "2. Now that pygame is finally accessible, we can try to use it in a very simple test program. Let’s comment on it briefly.\n",
    "\n",
    "1. line 1: import pygame and let it serve us;\n",
    "2. line 3: the program will run as long as the run variable is True;\n",
    "3. lines 4 and 5: determine the window's size;\n",
    "4. line 6: initialize the pygame environment;\n",
    "5. line 7: prepare the application window and set its size;\n",
    "6. line 8: make an object representing the default font of size 48 points;\n",
    "7. line 9: make an object representing a given text – the text will be anti-aliased (True) and white (255,255,255)\n",
    "8. line 10: insert the text into the (currently invisible) screen buffer;\n",
    "9. line 11: flip the screen buffers to make the text visible;\n",
    "10. line 12: the pygame main loop starts here;\n",
    "11. line 13: get a list of all pending pygame events;\n",
    "12. lines 14 through 16: check whether the user has closed the window or clicked somewhere inside it or pressed any key;\n",
    "13. line 15: if yes, stop executing the code.\n"
   ]
  },
  {
   "cell_type": "code",
   "execution_count": null,
   "metadata": {},
   "outputs": [],
   "source": [
    "import pygame\n",
    "\n",
    "run = True\n",
    "width = 400\n",
    "height = 100\n",
    "pygame.init()\n",
    "screen = pygame.display.set_mode((width, height))\n",
    "font = pygame.font.SysFont(None, 48)\n",
    "text = font.render(\"Welcome to pygame\", True, (255, 255, 255))\n",
    "screen.blit(text, ((width - text.get_width()) // 2, (height - text.get_height()) // 2))\n",
    "pygame.display.flip()\n",
    "while run:\n",
    "    for event in pygame.event.get():\n",
    "        if event.type == pygame.QUIT\\\n",
    "        or event.type == pygame.MOUSEBUTTONUP\\\n",
    "        or event.type == pygame.KEYUP:\n",
    "            run = False\n"
   ]
  },
  {
   "cell_type": "markdown",
   "metadata": {},
   "source": [
    "he pip install has two important additional abilities:\n",
    "\n",
    "it is able to update a locally installed package – e.g., if you want to make sure that you’re using the latest version of a particular package, you can run the following command:\n",
    "\n",
    "1. code example pip install -U package_name\n",
    "\n",
    "\n",
    "where -U means update. Note: this form of the command makes use of the --user option for the same purpose as presented previously;\n",
    "\n",
    "it is able to install a user-selected version of a package (pip installs the newest available version by default); to achieve this goal you should use the following syntax:\n",
    "\n",
    "2. code example pip install package_name==package_version\n",
    "\n",
    "\n",
    "(note the double equals sign) e.g.,\n",
    "\n",
    "3. code example pip install pygame==1.9.2"
   ]
  },
  {
   "cell_type": "markdown",
   "metadata": {},
   "source": [
    "If any of the currently installed packages are no longer needed and you want to get rid of them, pip will be useful, too. Its uninstall command will execute all the needed steps.\n",
    "\n",
    "The required syntax is clear and simple:"
   ]
  },
  {
   "cell_type": "code",
   "execution_count": null,
   "metadata": {},
   "outputs": [],
   "source": [
    "pip uninstall package_name"
   ]
  },
  {
   "cell_type": "markdown",
   "metadata": {},
   "source": [
    "so if you don't want pygame anymore you can execute the following command:"
   ]
  },
  {
   "cell_type": "code",
   "execution_count": null,
   "metadata": {},
   "outputs": [],
   "source": [
    "pip uninstall pygame"
   ]
  },
  {
   "cell_type": "markdown",
   "metadata": {},
   "source": [
    "Pip will want to know if you’re sure about the choice you're making – be prepared to give the right answer."
   ]
  },
  {
   "cell_type": "markdown",
   "metadata": {},
   "source": [
    "Pip's capabilities don't end here, but the command set we've presented to you is enough to start successfully managing packages that aren't a part of the regular Python installation.\n",
    "\n",
    "We hope we’ve encouraged you to carry out your own experiments with pip and the Python package universe. PyPI invites you to dive into its extensive resources.\n",
    "\n",
    "Some say that one of the most important programming virtues is laziness. Don't get us wrong – we don't want you to spend all day napping on the couch and dreaming of Python code.\n",
    "\n",
    "A lazy programmer is a programmer who looks for existing solutions and analyzes the available code before they start to develop their own software from scratch.\n",
    "\n",
    "This is why PyPI and pip exist – use them!"
   ]
  },
  {
   "cell_type": "markdown",
   "metadata": {},
   "source": [
    "Key takeaways\n",
    "\n",
    "1. A repository (or repo for short) designed to collect and share free Python code exists and works under the name Python Package Index (PyPI) although it's also likely that you come across a very niche name The Cheese Shop. The Shop's website is available at https://pypi.org/.\n",
    "\n",
    "\n",
    "2. To make use of The Cheese Shop the specialized tool has been created and its name is pip (pip installs packages while pip stands for... ok, don't mind). As pip may not be deployed as a part of standard Python installation, it is possible that you will need to install it manually. Pip is a console tool.\n",
    "\n",
    "\n",
    "3. To check pip's version one the following commands should be issued:"
   ]
  },
  {
   "cell_type": "code",
   "execution_count": null,
   "metadata": {},
   "outputs": [],
   "source": [
    "pip --version\n",
    "\n",
    "\n",
    "#or\n",
    "\n",
    "pip3 --version\n",
    "\n",
    "\n",
    "#Check yourself which of these works for you in your OS' environment."
   ]
  },
  {
   "cell_type": "code",
   "execution_count": null,
   "metadata": {},
   "outputs": [],
   "source": [
    "#4. #List of main pip activities looks as follows:\n",
    "\n",
    "pip help #operation - shows brief pip's description;\n",
    "pip list #- shows list of currently installed packages;\n",
    "pip show package_name #- shows package_name info including package's dependencies;\n",
    "pip search anystring #- searches through PyPI directories in order to find packages which name contains anystring;\n",
    "pip install name #- installs name system-wide (expect problems when you don't have administrative rights);\n",
    "pip install --user name #- install name for you only; no other your platform's user will be able to use it;\n",
    "pip install -U name #- updates previously installed package;\n",
    "pip uninstall name #- uninstalls previously installed package;"
   ]
  },
  {
   "cell_type": "markdown",
   "metadata": {},
   "source": [
    "Well done! You've reached the end of Module 1 and completed a major milestone in your Python programming education. Here's a short summary of the objectives you've covered and got familiar with in Module 1:\n",
    "\n",
    "1. working with Python modules; importing, creating, and using modules;\n",
    "2. using selected Python STL modules (math, random, and platform)\n",
    "3. constructing and using packages in Python;\n",
    "4. PIP (Python Package Installer.)\n",
    "\n"
   ]
  },
  {
   "cell_type": "markdown",
   "metadata": {},
   "source": [
    "# Section 2: Exceptions (14%)\n",
    "1. Python's way of handling runtime errors; \n",
    "2. Controlling the flow of errors using try and except; Hierarchy of exceptions.\n",
    "\n",
    "## Objectives covered by the block (5 exam items)\n",
    "\n",
    "### PCAP-31-03 2.1 – Handle errors using Python-defined exceptions\n",
    "\n",
    "except, except:-except, except:-else:, except (e1, e2)\n",
    "the hierarchy of exceptions\n",
    "raise, raise ex\n",
    "assert\n",
    "event classes\n",
    "except E as e\n",
    "the arg property\n",
    "\n",
    "### PCAP-31-02 2.2 – Extend the Python exceptions hierarchy with self-defined exceptions\n",
    "\n",
    "self-defined exceptions\n",
    "defining and using self-defined exceptions"
   ]
  },
  {
   "cell_type": "markdown",
   "metadata": {},
   "source": [
    "# Section 3: Strings (18%)\n",
    "\n",
    "## Objectives covered by the block (8 exam items)\n",
    "1. Characters, strings and coding standards; Strings vs. lists – similarities and differences; \n",
    "2. Lists methods; String methods;\n",
    "\n",
    "\n",
    "### PCAP-31-03 3.1 – Understand machine representation of characters\n",
    "\n",
    "encoding standards: ASCII, UNICODE, UTF-8, code points, escape sequences\n",
    "\n",
    "### PCAP-31-03 3.2 – Operate on strings\n",
    "\n",
    "functions: ord(), chr()\n",
    "indexing, slicing, immutability\n",
    "iterating through strings, concatenating, multiplying, comparing (against strings and numbers)\n",
    "operators: in, not in\n",
    "\n",
    "### PCAP-31-03 3.3 – Employ built-in string methods\n",
    "\n",
    "methods: .isxxx(), .join(), .split(), .sort(), sorted(), .index(), .find(), .rfind()"
   ]
  },
  {
   "cell_type": "markdown",
   "metadata": {},
   "source": [
    "# Section 4: Object-Oriented Programming (34%)\n",
    "\n",
    "## Objectives covered by the block (12 exam items)\n",
    "1. Basic concepts of object-oriented programming (OOP); \n",
    "2. The differences between the procedural and object approaches (motivations and profits); \n",
    "3. Classes, objects, properties, and methods; \n",
    "4. Designing reusable classes and creating objects; \n",
    "5. Inheritance and polymorphism; Exceptions as objects.\n",
    "\n",
    "### PCAP-31-03 4.1 – Understand the Object-Oriented approach\n",
    "\n",
    "ideas and notions: class, object, property, method, encapsulation, inheritance, superclass, subclass, identifying class components\n",
    "### PCEP-31-03 4.2 – Employ class and object properties\n",
    "\n",
    "instance vs. class variables: declarations and initializations\n",
    "the __dict__ property (objects vs. classes)\n",
    "private components (instances vs. classes)\n",
    "name mangling\n",
    "\n",
    "### PCAP-31-03 4.3 – Equip a class with methods\n",
    "\n",
    "declaring and using methods\n",
    "the self parameter\n",
    "PCAP-31-03 4.4 – Discover the class structure\n",
    "\n",
    "introspection and the hasattr() function (objects vs classes)\n",
    "properties: __name__, __module__ , __bases__\n",
    "### PCAP-31-03 4.5 – Build a class hierarchy using inheritance\n",
    "\n",
    "single and multiple inheritance\n",
    "the isinstance() function\n",
    "overriding\n",
    "operators:\n",
    "not is\n",
    ", is\n",
    "polymorphism\n",
    "overriding the __str__() method\n",
    "diamonds\n",
    "\n",
    "### PCAP-31-03 4.6 – Construct and initialize objects\n",
    "\n",
    "declaring and invoking constructors"
   ]
  },
  {
   "cell_type": "markdown",
   "metadata": {},
   "source": [
    "# Section 5: Miscellaneous (22%)\n",
    "\n",
    "Scope: List Comprehensions, Lambdas, Closures, and I/O Operations\n",
    "\n",
    "Objectives covered by the block (9 exam items)\n",
    "1. Generators, iterators and closures; \n",
    "2. Working with file-system, directory tree and files; \n",
    "3. Selected Python Standard Library modules (os, datetime, time, and calendar.)\n",
    "\n",
    "### PCAP-31-03 5.1 – Build complex lists using list comprehension\n",
    "\n",
    "list comprehensions: the if operator, nested comprehensions\n",
    "\n",
    "### PCAP-31-03 5.2 – Embed lambda functions into the code\n",
    "\n",
    "lambdas: defining and using lambdas\n",
    "self-defined functions taking lambdas as arguments\n",
    "functions: map(), filter()\n",
    "\n",
    "### PCAP-31-03 5.3 – Define and use closures\n",
    "\n",
    "closures: meaning and rationale\n",
    "defining and using closures\n",
    "\n",
    "### PCAP-31-03 5.4 – Understand basic Input/Output terminology\n",
    "\n",
    "I/O modes\n",
    "predefined streams\n",
    "handles vs. streams\n",
    "text vs. binary modes\n",
    "### PCAP-31-03 5.5 – Perform Input/Output operations\n",
    "\n",
    "the open() function\n",
    "the errno variable and its values\n",
    "functions: close(), .read(), .write(), .readline(), readlines()\n",
    "using bytearray as input/output buffer"
   ]
  },
  {
   "cell_type": "code",
   "execution_count": null,
   "metadata": {},
   "outputs": [],
   "source": []
  }
 ],
 "metadata": {
  "kernelspec": {
   "display_name": "Python 3 (ipykernel)",
   "language": "python",
   "name": "python3"
  },
  "language_info": {
   "codemirror_mode": {
    "name": "ipython",
    "version": 3
   },
   "file_extension": ".py",
   "mimetype": "text/x-python",
   "name": "python",
   "nbconvert_exporter": "python",
   "pygments_lexer": "ipython3",
   "version": "3.9.12"
  }
 },
 "nbformat": 4,
 "nbformat_minor": 2
}
