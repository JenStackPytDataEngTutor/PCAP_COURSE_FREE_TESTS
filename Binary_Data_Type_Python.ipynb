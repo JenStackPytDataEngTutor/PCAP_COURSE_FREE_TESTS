{
 "cells": [
  {
   "cell_type": "markdown",
   "metadata": {},
   "source": [
    "# Working with Binary Data in Python"
   ]
  },
  {
   "cell_type": "markdown",
   "metadata": {},
   "source": [
    "# The Bytes Type\n",
    "The bytes type in Python is immutable and stores a sequence of values ranging from 0-255 (8-bits). \n",
    "You can get the value of a single byte by using an index like an array, but the values can not be modified."
   ]
  },
  {
   "cell_type": "code",
   "execution_count": null,
   "metadata": {},
   "outputs": [],
   "source": [
    "# Create empty bytes\n",
    "empty_bytes = bytes(4)\n",
    "print(type(empty_bytes))\n",
    "print(empty_bytes)"
   ]
  },
  {
   "cell_type": "markdown",
   "metadata": {},
   "source": [
    "# The Bytearray Type\n",
    "To create a mutable object you need to use the bytearray type. \n",
    "With a bytearray you can do everything you can with other mutables like push, pop, insert, append, delete, and sort."
   ]
  },
  {
   "cell_type": "code",
   "execution_count": null,
   "metadata": {},
   "outputs": [],
   "source": [
    "# Cast bytes to bytearray\n",
    "mutable_bytes = bytearray(b'\\x00\\x0F')"
   ]
  },
  {
   "cell_type": "code",
   "execution_count": null,
   "metadata": {},
   "outputs": [],
   "source": [
    "# Bytearray allows modification\n",
    "mutable_bytes[0] = 255\n",
    "mutable_bytes.append(255)\n",
    "print(mutable_bytes)"
   ]
  },
  {
   "cell_type": "code",
   "execution_count": null,
   "metadata": {},
   "outputs": [],
   "source": [
    "# Cast bytearray back to bytes\n",
    "immutable_bytes = bytes(mutable_bytes)\n",
    "print(immutable_bytes)"
   ]
  },
  {
   "cell_type": "markdown",
   "metadata": {},
   "source": [
    "# The BytesIO Class\n",
    "### The io.BytesIO inherits from io.BufferedReader class comes with functions like \n",
    "1. read(), \n",
    "2. write(), \n",
    "3. peek(), \n",
    "4. getvalue(). It is a general buffer of bytes that you can work with."
   ]
  },
  {
   "cell_type": "code",
   "execution_count": null,
   "metadata": {},
   "outputs": [],
   "source": [
    "binary_stream = io.BytesIO()\n",
    "# Binary data and strings are different types, so a str\n",
    "# must be encoded to binary using ascii, utf-8, or other.\n",
    "binary_stream.write(\"Hello, world!\\n\".encode('ascii'))\n",
    "binary_stream.write(\"Hello, world!\\n\".encode('utf-8'))"
   ]
  },
  {
   "cell_type": "code",
   "execution_count": null,
   "metadata": {},
   "outputs": [],
   "source": [
    "# Move cursor back to the beginning of the buffer\n",
    "binary_stream.seek(0)\n"
   ]
  },
  {
   "cell_type": "code",
   "execution_count": null,
   "metadata": {},
   "outputs": [],
   "source": [
    "# Read all data from the buffer\n",
    "stream_data = binary_stream.read()"
   ]
  },
  {
   "cell_type": "code",
   "execution_count": null,
   "metadata": {},
   "outputs": [],
   "source": [
    "# The stream_data is type 'bytes', immutable\n",
    "print(type(stream_data))\n",
    "print(stream_data)"
   ]
  },
  {
   "cell_type": "code",
   "execution_count": null,
   "metadata": {},
   "outputs": [],
   "source": [
    "# To modify the actual contents of the existing buffer\n",
    "# use getbuffer() to get an object you can modify.\n",
    "# Modifying this object updates the underlying BytesIO buffer\n",
    "mutable_buffer = binary_stream.getbuffer()\n",
    "print(type(mutable_buffer))  # class 'memoryview'\n",
    "mutable_buffer[0] = 0xFF"
   ]
  },
  {
   "cell_type": "code",
   "execution_count": null,
   "metadata": {},
   "outputs": [],
   "source": [
    "# Re-read the original stream. Contents will be modified\n",
    "# because we modified the mutable buffer\n",
    "binary_stream.seek(0)\n",
    "print(binary_stream.read())\n",
    "Writing Bytes to a File\n",
    "# Pass \"wb\" to write a new file, or \"ab\" to append\n",
    "with open(\"test.txt\", \"wb\") as binary_file:\n",
    "    # Write text or bytes to the file\n",
    "    binary_file.write(\"Write text by encoding\\n\".encode('utf8'))\n",
    "    num_bytes_written = binary_file.write(b'\\xDE\\xAD\\xBE\\xEF')\n",
    "    print(\"Wrote %d bytes.\" % num_bytes_written)\n"
   ]
  },
  {
   "cell_type": "markdown",
   "metadata": {},
   "source": [
    "Alternatively, you could explicitly call open and close, but if you do it this way you will need to do the error handling yourself and ensure the file is always closed, even if there is an error during writing. I don't recommend this method unless you have a strong reason.\n"
   ]
  },
  {
   "cell_type": "code",
   "execution_count": null,
   "metadata": {},
   "outputs": [],
   "source": [
    "binary_file = open(\"test.txt\", \"wb\")\n",
    "binary_file.write(b'\\x00')\n",
    "binary_file.close()"
   ]
  },
  {
   "cell_type": "markdown",
   "metadata": {},
   "source": [
    "# Reading Bytes From a File"
   ]
  },
  {
   "cell_type": "code",
   "execution_count": null,
   "metadata": {},
   "outputs": [],
   "source": [
    "with open(\"test_file.dat\", \"rb\") as binary_file:\n",
    "    # Read the whole file at once\n",
    "    data = binary_file.read()\n",
    "    print(data)"
   ]
  },
  {
   "cell_type": "markdown",
   "metadata": {},
   "source": [
    "# Read file line by line\n",
    "If you are working a text file, you can read the data in line by line."
   ]
  },
  {
   "cell_type": "code",
   "execution_count": null,
   "metadata": {},
   "outputs": [],
   "source": [
    "with open(\"test.txt\", \"rb\") as text_file:\n",
    "    # One option is to call readline() explicitly\n",
    "    # single_line = text_file.readline()\n",
    "\n",
    "    # It is easier to use a for loop to iterate each line\n",
    "    for line in text_file:\n",
    "        print(line)"
   ]
  },
  {
   "cell_type": "markdown",
   "metadata": {},
   "source": [
    "# Getting the size of a file"
   ]
  },
  {
   "cell_type": "code",
   "execution_count": null,
   "metadata": {},
   "outputs": [],
   "source": [
    "import os\n",
    "file_length_in_bytes = os.path.getsize(\"test.txt\")\n",
    "print(file_length_in_bytes)"
   ]
  },
  {
   "cell_type": "markdown",
   "metadata": {},
   "source": [
    "# Seeking a specific position in a file\n",
    "You can move to a specific position in file before reading or writing using seek(). You can pass a single parameter to seek() and it will move to that position, relative to the beginning of the file.\n"
   ]
  },
  {
   "cell_type": "code",
   "execution_count": null,
   "metadata": {},
   "outputs": [],
   "source": [
    "# Seek can be called one of two ways:\n",
    "#   x.seek(offset)\n",
    "#   x.seek(offset, starting_point)\n",
    "# starting_point can be 0, 1, or 2\n",
    "# 0 - Default. Offset relative to beginning of file\n",
    "# 1 - Start from the current position in the file\n",
    "# 2 - Start from the end of a file (will require a negative offset)\n",
    "\n",
    "with open(\"test_file.dat\", \"rb\") as binary_file:\n",
    "    # Seek a specific position in the file and read N bytes\n",
    "    binary_file.seek(0, 0)  # Go to beginning of the file\n",
    "    couple_bytes = binary_file.read(2)\n",
    "    print(couple_bytes)"
   ]
  },
  {
   "cell_type": "markdown",
   "metadata": {},
   "source": [
    "# Integer to Bytes"
   ]
  },
  {
   "cell_type": "code",
   "execution_count": null,
   "metadata": {},
   "outputs": [],
   "source": [
    "i = 16\n",
    "\n",
    "# Create one byte from the integer 16\n",
    "single_byte = i.to_bytes(1, byteorder='big', signed=True) \n",
    "print(single_byte)\n"
   ]
  },
  {
   "cell_type": "code",
   "execution_count": null,
   "metadata": {},
   "outputs": [],
   "source": [
    "# Create four bytes from the integer\n",
    "four_bytes = i.to_bytes(4, byteorder='big', signed=True)\n",
    "print(four_bytes)\n"
   ]
  },
  {
   "cell_type": "code",
   "execution_count": null,
   "metadata": {},
   "outputs": [],
   "source": [
    "# Compare the difference to little endian\n",
    "print(i.to_bytes(4, byteorder='little', signed=True))"
   ]
  },
  {
   "cell_type": "code",
   "execution_count": null,
   "metadata": {},
   "outputs": [],
   "source": [
    "# Create bytes from a list of integers with values from 0-255\n",
    "bytes_from_list = bytes([255, 254, 253, 252])\n",
    "print(bytes_from_list)"
   ]
  },
  {
   "cell_type": "code",
   "execution_count": null,
   "metadata": {},
   "outputs": [],
   "source": [
    "# Create a byte from a base 2 integer\n",
    "one_byte = int('11110000', 2)\n",
    "print(one_byte)\n"
   ]
  },
  {
   "cell_type": "code",
   "execution_count": null,
   "metadata": {},
   "outputs": [],
   "source": [
    "# Print out binary string (e.g. 0b010010)\n",
    "print(bin(22))"
   ]
  },
  {
   "cell_type": "markdown",
   "metadata": {},
   "source": [
    "# Bytes to Integer"
   ]
  },
  {
   "cell_type": "code",
   "execution_count": null,
   "metadata": {},
   "outputs": [],
   "source": [
    "# Create an int from bytes. Default is unsigned.\n",
    "some_bytes = b'\\x00\\xF0'\n",
    "i = int.from_bytes(some_bytes, byteorder='big')\n",
    "print(i)"
   ]
  },
  {
   "cell_type": "code",
   "execution_count": null,
   "metadata": {},
   "outputs": [],
   "source": [
    "# Create a signed int\n",
    "i = int.from_bytes(b'\\x00\\x0F', byteorder='big', signed=True)\n",
    "print(i)"
   ]
  },
  {
   "cell_type": "code",
   "execution_count": null,
   "metadata": {},
   "outputs": [],
   "source": [
    "# Use a list of integers 0-255 as a source of byte values\n",
    "i = int.from_bytes([255, 0, 0, 0], byteorder='big')\n",
    "print(i)\n"
   ]
  },
  {
   "cell_type": "markdown",
   "metadata": {},
   "source": [
    "# Text Encoding"
   ]
  },
  {
   "cell_type": "code",
   "execution_count": null,
   "metadata": {},
   "outputs": [],
   "source": [
    "# Binary to Text\n",
    "binary_data = b'I am text.'\n",
    "text = binary_data.decode('utf-8')\n",
    "print(text)"
   ]
  },
  {
   "cell_type": "code",
   "execution_count": null,
   "metadata": {},
   "outputs": [],
   "source": [
    "binary_data = bytes([65, 66, 67])  # ASCII values for A, B, C\n",
    "text = binary_data.decode('utf-8')\n",
    "print(text)\n"
   ]
  },
  {
   "cell_type": "code",
   "execution_count": null,
   "metadata": {},
   "outputs": [],
   "source": [
    "# Text to Binary\n",
    "message = \"Hello\"  # str\n",
    "binary_message = message.encode('utf-8')\n",
    "print(type(binary_message))  # bytes"
   ]
  },
  {
   "cell_type": "code",
   "execution_count": null,
   "metadata": {},
   "outputs": [],
   "source": [
    "# Python has many built in encodings for different languages,\n",
    "# and even the Caeser cipher is built in\n",
    "import codecs\n",
    "cipher_text = codecs.encode(message, 'rot_13')\n",
    "print(cipher_text)"
   ]
  },
  {
   "cell_type": "markdown",
   "metadata": {},
   "source": [
    "# Base 64 Encoding"
   ]
  },
  {
   "cell_type": "code",
   "execution_count": null,
   "metadata": {},
   "outputs": [],
   "source": [
    "# Encode binary data to a base 64 string\n",
    "binary_data = b'\\x00\\xFF\\x00\\xFF'"
   ]
  },
  {
   "cell_type": "code",
   "execution_count": null,
   "metadata": {},
   "outputs": [],
   "source": [
    "# Use the codecs module to encode\n",
    "import codecs\n",
    "base64_data = codecs.encode(binary_data, 'base64')\n",
    "print(base64_data)"
   ]
  },
  {
   "cell_type": "code",
   "execution_count": null,
   "metadata": {},
   "outputs": [],
   "source": [
    "# Or use the binascii module\n",
    "import binascii\n",
    "base64_data = binascii.b2a_base64(binary_data)\n",
    "print(base64_data)"
   ]
  },
  {
   "cell_type": "code",
   "execution_count": null,
   "metadata": {},
   "outputs": [],
   "source": [
    "# Or use the binascii module\n",
    "import binascii\n",
    "base64_data = binascii.b2a_base64(binary_data)\n",
    "print(base64_data)"
   ]
  },
  {
   "cell_type": "code",
   "execution_count": null,
   "metadata": {},
   "outputs": [],
   "source": [
    "# The base64_string is still a bytes type\n",
    "# It may need to be decoded to an ASCII string\n",
    "print(base64_data.decode('utf-8'))"
   ]
  },
  {
   "cell_type": "code",
   "execution_count": null,
   "metadata": {},
   "outputs": [],
   "source": [
    "# Decoding is done similarly\n",
    "print(codecs.decode(base64_data, 'base64'))\n",
    "print(binascii.a2b_base64(base64_data))"
   ]
  },
  {
   "cell_type": "markdown",
   "metadata": {},
   "source": [
    "# Hexadecimal"
   ]
  },
  {
   "cell_type": "code",
   "execution_count": null,
   "metadata": {},
   "outputs": [],
   "source": [
    "# Starting with a hex string you can unhexlify it to bytes\n",
    "deadbeef = binascii.unhexlify('DEADBEEF')\n",
    "print(deadbeef)"
   ]
  },
  {
   "cell_type": "code",
   "execution_count": null,
   "metadata": {},
   "outputs": [],
   "source": [
    "# Given raw bytes, get an ASCII string representing the hex values\n",
    "hex_data = binascii.hexlify(b'\\x00\\xff')  # Two bytes values 0 and 255"
   ]
  },
  {
   "cell_type": "code",
   "execution_count": null,
   "metadata": {},
   "outputs": [],
   "source": [
    "# The resulting value will be an ASCII string but it will be a bytes type\n",
    "# It may be necessary to decode it to a regular string\n",
    "text_string = hex_data.decode('utf-8')  # Result is string \"00ff\"\n",
    "print(text_string)"
   ]
  },
  {
   "cell_type": "markdown",
   "metadata": {},
   "source": [
    "# Format Strings\n",
    "Format strings can be helpful to visualize or output byte values. Format strings require an integer value so the byte will have to be converted to an integer first.\n",
    "\n"
   ]
  },
  {
   "cell_type": "code",
   "execution_count": null,
   "metadata": {},
   "outputs": [],
   "source": [
    "a_byte = b'\\xff'  # 255\n",
    "i = ord(a_byte)   # Get the integer value of the byte\n",
    "\n",
    "bin = \"{0:b}\".format(i) # binary: 11111111\n",
    "hex = \"{0:x}\".format(i) # hexadecimal: ff\n",
    "oct = \"{0:o}\".format(i) # octal: 377\n",
    "\n",
    "print(bin)\n",
    "print(hex)\n",
    "print(oct)"
   ]
  },
  {
   "cell_type": "markdown",
   "metadata": {},
   "source": [
    "# Bitwise Operations"
   ]
  },
  {
   "cell_type": "code",
   "execution_count": null,
   "metadata": {},
   "outputs": [],
   "source": [
    "# Some bytes to play with\n",
    "byte1 = int('11110000', 2)  # 240\n",
    "byte2 = int('00001111', 2)  # 15\n",
    "byte3 = int('01010101', 2)  # 85"
   ]
  },
  {
   "cell_type": "code",
   "execution_count": null,
   "metadata": {},
   "outputs": [],
   "source": [
    "# Ones Complement (Flip the bits)\n",
    "print(~byte1)\n"
   ]
  },
  {
   "cell_type": "code",
   "execution_count": null,
   "metadata": {},
   "outputs": [],
   "source": [
    "# AND\n",
    "print(byte1 & byte2)"
   ]
  },
  {
   "cell_type": "code",
   "execution_count": null,
   "metadata": {},
   "outputs": [],
   "source": [
    "# OR\n",
    "print(byte1 | byte2)"
   ]
  },
  {
   "cell_type": "code",
   "execution_count": null,
   "metadata": {},
   "outputs": [],
   "source": [
    "# XOR\n",
    "print(byte1 ^ byte3)"
   ]
  },
  {
   "cell_type": "code",
   "execution_count": null,
   "metadata": {},
   "outputs": [],
   "source": [
    "# Shifting right will lose the right-most bit\n",
    "print(byte2 >> 3)"
   ]
  },
  {
   "cell_type": "code",
   "execution_count": null,
   "metadata": {},
   "outputs": [],
   "source": [
    "# Shifting left will add a 0 bit on the right side\n",
    "print(byte2 << 1)"
   ]
  },
  {
   "cell_type": "code",
   "execution_count": null,
   "metadata": {},
   "outputs": [],
   "source": [
    "# See if a single bit is set\n",
    "bit_mask = int('00000001', 2)  # Bit 1\n",
    "print(bit_mask & byte1)  # Is bit set in byte1?\n",
    "print(bit_mask & byte2)  # Is bit set in byte2?"
   ]
  },
  {
   "cell_type": "markdown",
   "metadata": {},
   "source": [
    "# Struct Packing and Unpacking\n",
    "Packing and unpacking requires a string that defines how the binary data is structured. It needs to know which bytes represent values. It needs to know whether the entire set of bytes represets characters or if it is a sequence of 4-byte integers. It can be structured in any number of ways. The format strings can be simple or complex. In this example I am packing a single four-byte integer followed by two characters. The letters i and c represent integers and characters.\n"
   ]
  },
  {
   "cell_type": "code",
   "execution_count": null,
   "metadata": {},
   "outputs": [],
   "source": [
    "import struct\n",
    "\n",
    "# Packing values to bytes\n",
    "# The first parameter is the format string. Here it specifies the data is structured\n",
    "# with a single four-byte integer followed by two characters.\n",
    "# The rest of the parameters are the values for each item in order\n",
    "binary_data = struct.pack(\"icc\", 8499000, b'A', b'Z')\n",
    "print(binary_data)\n"
   ]
  },
  {
   "cell_type": "code",
   "execution_count": null,
   "metadata": {},
   "outputs": [],
   "source": [
    "# When unpacking, you receive a tuple of all data in the same order\n",
    "tuple_of_data = struct.unpack(\"icc\", binary_data)\n",
    "print(tuple_of_data)\n",
    "\n",
    "# For more information on format strings and endiannes, refer to\n",
    "# https://docs.python.org/3.5/library/struct.html"
   ]
  },
  {
   "cell_type": "markdown",
   "metadata": {},
   "source": [
    "# System Byte Order\n",
    "You might need to know what byte order your system uses. Byte order refers to big endian or little endian. The sys module can provide that value.\n"
   ]
  },
  {
   "cell_type": "code",
   "execution_count": null,
   "metadata": {},
   "outputs": [],
   "source": [
    "# Find out what byte order your system uses\n",
    "import sys\n",
    "print(\"Native byteorder: \", sys.byteorder)"
   ]
  },
  {
   "cell_type": "markdown",
   "metadata": {},
   "source": [
    "# Examples"
   ]
  },
  {
   "cell_type": "code",
   "execution_count": null,
   "metadata": {},
   "outputs": [],
   "source": [
    "# diff.py - Do two files match?\n",
    "# Exercise: Rewrite this code to compare the files part at a time so it\n",
    "# will not run out of RAM with large files.\n",
    "import sys\n",
    "\n",
    "with open(sys.argv[1], 'rb') as file1, open(sys.argv[2], 'rb') as file2:\n",
    "    data1 = file1.read()\n",
    "    data2 = file2.read()\n",
    "\n",
    "if data1 != data2:\n",
    "    print(\"Files do not match.\")\n",
    "else:\n",
    "    print(\"Files match.\")"
   ]
  },
  {
   "cell_type": "code",
   "execution_count": null,
   "metadata": {},
   "outputs": [],
   "source": [
    "#is_jpeg.py - Does the file have a JPEG binary signature?\n",
    "\n",
    "import sys\n",
    "import binascii\n",
    "\n",
    "jpeg_signatures = [\n",
    "    binascii.unhexlify(b'FFD8FFD8'),\n",
    "    binascii.unhexlify(b'FFD8FFE0'),\n",
    "    binascii.unhexlify(b'FFD8FFE1')\n",
    "]\n",
    "\n",
    "with open(sys.argv[1], 'rb') as file:\n",
    "    first_four_bytes = file.read(4)\n",
    "\n",
    "    if first_four_bytes in jpeg_signatures:\n",
    "        print(\"JPEG detected.\")\n",
    "    else:\n",
    "        print(\"File does not look like a JPEG.\")"
   ]
  },
  {
   "cell_type": "code",
   "execution_count": null,
   "metadata": {},
   "outputs": [],
   "source": [
    "# read_boot_sector.py - Inspect the first 512 bytes of a file\n",
    "\n",
    "import sys\n",
    "\n",
    "in_file = open(sys.argv[1], 'rb')  # Provide a path to disk or ISO image\n",
    "chunk_size = 512\n",
    "data = in_file.read(chunk_size)\n",
    "print(data)"
   ]
  },
  {
   "cell_type": "code",
   "execution_count": null,
   "metadata": {},
   "outputs": [],
   "source": [
    "# find_ascii_in_binary.py - Identify ASCII characters in binary files\n",
    "\n",
    "import sys\n",
    "from functools import partial\n",
    "\n",
    "chunk_size = 1\n",
    "with open(sys.argv[1], 'rb') as in_file:    \n",
    "    for data in iter(partial(in_file.read, chunk_size), b''):\n",
    "        x = int.from_bytes(data, byteorder='big')\n",
    "        if (x > 64 and x < 91) or (x > 96 and x < 123) :\n",
    "            sys.stdout.write(chr(x))\n",
    "        else:\n",
    "            sys.stdout.write('.')"
   ]
  },
  {
   "cell_type": "code",
   "execution_count": null,
   "metadata": {},
   "outputs": [],
   "source": [
    "# create_stego_zip_jpg.py - Hide a zip file inside a JPEG\n",
    "\n",
    "import sys\n",
    "\n",
    "# Start with a jpeg file\n",
    "jpg_file = open(sys.argv[1], 'rb')  # Path to JPEG\n",
    "jpg_data = jpg_file.read()\n",
    "jpg_file.close()"
   ]
  },
  {
   "cell_type": "code",
   "execution_count": null,
   "metadata": {},
   "outputs": [],
   "source": [
    "# And the zip file to embed in the jpeg\n",
    "zip_file = open(sys.argv[2], 'rb')  # Path to ZIP file\n",
    "zip_data = zip_file.read()\n",
    "zip_file.close()"
   ]
  },
  {
   "cell_type": "code",
   "execution_count": null,
   "metadata": {},
   "outputs": [],
   "source": [
    "# Combine the files\n",
    "out_file = open('special_image.jpg', 'wb')  # Output file\n",
    "out_file.write(jpg_data)\n",
    "out_file.write(zip_data)\n",
    "out_file.close()"
   ]
  },
  {
   "cell_type": "code",
   "execution_count": null,
   "metadata": {},
   "outputs": [],
   "source": [
    "# The resulting output file appears like a normal jpeg but can also be\n",
    "# unzipped and used as an archive.\n",
    "# extract_pngs.py\n",
    "# Extract PNGs from a file and put them in a pngs/ directory\n",
    "import sys\n",
    "with open(sys.argv[1], \"rb\") as binary_file:\n",
    "    binary_file.seek(0, 2)  # Seek the end\n",
    "    num_bytes = binary_file.tell()  # Get the file size\n",
    "\n",
    "    count = 0\n",
    "    for i in range(num_bytes):\n",
    "        binary_file.seek(i)\n",
    "        eight_bytes = binary_file.read(8)\n",
    "        if eight_bytes == b\"\\x89\\x50\\x4e\\x47\\x0d\\x0a\\x1a\\x0a\":  # PNG signature\n",
    "            count += 1\n",
    "            print(\"Found PNG Signature #\" + str(count) + \" at \" + str(i))\n",
    "            "
   ]
  },
  {
   "cell_type": "code",
   "execution_count": null,
   "metadata": {},
   "outputs": [],
   "source": [
    "# Next four bytes after signature is the IHDR with the length\n",
    "            png_size_bytes = binary_file.read(4)\n",
    "            png_size = int.from_bytes(png_size_bytes, byteorder='little', signed=False)"
   ]
  },
  {
   "cell_type": "code",
   "execution_count": null,
   "metadata": {},
   "outputs": [],
   "source": [
    " # Go back to beginning of image file and extract full thing\n",
    "            binary_file.seek(i)\n",
    "           "
   ]
  },
  {
   "cell_type": "code",
   "execution_count": null,
   "metadata": {},
   "outputs": [],
   "source": [
    " # Read the size of image plus the signature\n",
    "            png_data = binary_file.read(png_size + 8)\n",
    "            with open(\"pngs/\" + str(i) + \".png\", \"wb\") as outfile:\n",
    "                outfile.write(png_data)"
   ]
  }
 ],
 "metadata": {
  "kernelspec": {
   "display_name": "Python 3 (ipykernel)",
   "language": "python",
   "name": "python3"
  },
  "language_info": {
   "codemirror_mode": {
    "name": "ipython",
    "version": 3
   },
   "file_extension": ".py",
   "mimetype": "text/x-python",
   "name": "python",
   "nbconvert_exporter": "python",
   "pygments_lexer": "ipython3",
   "version": "3.9.12"
  },
  "vscode": {
   "interpreter": {
    "hash": "52634da84371cba311ea128a5ea7cdc41ff074b781779e754b270ff9f8153cee"
   }
  }
 },
 "nbformat": 4,
 "nbformat_minor": 2
}
