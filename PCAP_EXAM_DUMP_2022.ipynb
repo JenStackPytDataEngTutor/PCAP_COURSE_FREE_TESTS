{
 "cells": [
  {
   "cell_type": "markdown",
   "id": "96baba4b",
   "metadata": {},
   "source": [
    "# PCAP Practice Exam from July 2022\n"
   ]
  },
  {
   "cell_type": "code",
   "execution_count": null,
   "id": "630f64a0",
   "metadata": {},
   "outputs": [],
   "source": [
    "#Which two method calls is correct\n",
    "#(please note I selected the correct two from a choice of four answer)\n",
    "\n",
    "sorted(\"Python\")"
   ]
  },
  {
   "cell_type": "code",
   "execution_count": null,
   "id": "0c697f05",
   "metadata": {},
   "outputs": [],
   "source": [
    "'Python'.find('')"
   ]
  },
  {
   "cell_type": "markdown",
   "id": "7818d674",
   "metadata": {},
   "source": [
    "The 6 code cells following the below program: contain multiple choice answers. I seperated the choicesinto individual code cella, giving you the opportunity to execute each answer, you may wish to change the code. The changing of values and or opertors can help strenghten your understanding of the coding concepts within this code section. Another tip when learning coding is using the print().\n",
    "\n",
    "#### which of the below statements returns True(select two)\n"
   ]
  },
  {
   "cell_type": "code",
   "execution_count": null,
   "id": "44a5c106",
   "metadata": {},
   "outputs": [],
   "source": [
    "#code snipped\n",
    "class A:\n",
    "    __VarA = 1\n",
    "    def get(self):\n",
    "        return self.__VarA\n",
    "    \n",
    "class B(A):\n",
    "    __VarA = 2\n",
    "    def get(self):\n",
    "        return self.__VarA   \n",
    "    \n",
    "class C(B):\n",
    "    __VarA = 3\n",
    "   \n",
    "obj_b = B()\n",
    "obj_a = A()\n",
    "obj_c = C()\n",
    "\n"
   ]
  },
  {
   "cell_type": "markdown",
   "id": "970c949b",
   "metadata": {},
   "source": [
    "#### Multiple choice answers select two choices that evaluate to True when executed.\n",
    "\n",
    "1. print(is instance(obj_b,C))\n",
    "2. C._C__Var2 == 2\n",
    "3. hasattr(B, 'get')\n",
    "4. obj_c.get() == 2"
   ]
  },
  {
   "cell_type": "code",
   "execution_count": null,
   "id": "9beb01ff",
   "metadata": {},
   "outputs": [],
   "source": [
    "print(is instance(obj_b,C))"
   ]
  },
  {
   "cell_type": "code",
   "execution_count": null,
   "id": "1c80f7c2",
   "metadata": {},
   "outputs": [],
   "source": [
    "C._C__Var2 == 2"
   ]
  },
  {
   "cell_type": "code",
   "execution_count": null,
   "id": "0308a14e",
   "metadata": {},
   "outputs": [],
   "source": [
    "hasattr(B, 'get')"
   ]
  },
  {
   "cell_type": "code",
   "execution_count": null,
   "id": "8c674d8d",
   "metadata": {},
   "outputs": [],
   "source": [
    "obj_c.get() == 2"
   ]
  },
  {
   "cell_type": "markdown",
   "id": "f376c22c",
   "metadata": {},
   "source": [
    "#### The below code is a multiple choice PCAP question from May/June 2022:\n",
    "#### which of the preceding multiple choice statements returns True(select one)\n",
    "##### again I seperate the choices into single code cells so you can execute the code."
   ]
  },
  {
   "cell_type": "code",
   "execution_count": null,
   "id": "17d9c602",
   "metadata": {},
   "outputs": [],
   "source": [
    "class ClassA:\n",
    "    var = 1\n",
    "    def __init__(self, prop):\n",
    "        prop1 = prop2 = prop\n",
    "class ClassB(ClassA):\n",
    "   \n",
    "    def __init__(self, prop):\n",
    "        prop3 = prop ** 2\n",
    "        super().__init__(prop)\n",
    "        \n",
    "    def __str__(self):\n",
    "        return 'Object'\n",
    "    \n",
    "    "
   ]
  },
  {
   "cell_type": "markdown",
   "id": "420da1a6",
   "metadata": {},
   "source": [
    "1. len(ClassB.__bases__)==2\n",
    "2. __name__ == '__main__'\n",
    "3. ClassA.__module__ == '__main__'\n",
    "4. print(Object)\n",
    "\n",
    "Below is the individual choices, you can run each one to see which executes to a value of True. Remember try to predict the correct answer before executing."
   ]
  },
  {
   "cell_type": "code",
   "execution_count": null,
   "id": "48d7994b",
   "metadata": {},
   "outputs": [],
   "source": [
    "len(ClassB.__bases__)==2"
   ]
  },
  {
   "cell_type": "code",
   "execution_count": null,
   "id": "7ffac341",
   "metadata": {},
   "outputs": [],
   "source": [
    "__name__ == '__main__'"
   ]
  },
  {
   "cell_type": "code",
   "execution_count": null,
   "id": "82ce7618",
   "metadata": {},
   "outputs": [],
   "source": [
    "ClassA.__module__ == '__main__'"
   ]
  },
  {
   "cell_type": "code",
   "execution_count": null,
   "id": "f5791a7f",
   "metadata": {},
   "outputs": [],
   "source": [
    "print(Object)"
   ]
  },
  {
   "cell_type": "markdown",
   "id": "1e22eb41",
   "metadata": {},
   "source": [
    "### What is the output of the below code:"
   ]
  },
  {
   "cell_type": "code",
   "execution_count": null,
   "id": "11cd3c09",
   "metadata": {},
   "outputs": [],
   "source": [
    "list1 = [False for i in range(1,10)]\n",
    "list2 = list1[-1:1:-1]\n",
    "print(list2, end=' ')"
   ]
  },
  {
   "cell_type": "markdown",
   "id": "3971979c",
   "metadata": {},
   "source": [
    "#### choose the correct output:\n",
    "1. [7, 6, 5, 4, 3, 2, 1]\n",
    "2. [1, 2, 3, 4, 5 ,5 ,7]\n",
    "3. [False, False, False, False, False, False, False]\n",
    "4. 'False, False, False, False, False, False, False'\n",
    "5. 'false, false, false, false, false, false, false'\n",
    "simply execute the coe after your guess to determine \n",
    "6. whether your choice is corret."
   ]
  },
  {
   "cell_type": "markdown",
   "id": "9617823c",
   "metadata": {},
   "source": [
    "Which code snippet in the two code cells below, returns 'key exists' after execution."
   ]
  },
  {
   "cell_type": "code",
   "execution_count": null,
   "id": "c95e5213",
   "metadata": {},
   "outputs": [],
   "source": [
    "diet = {'key': 1}\n",
    "if 'key' in diet.keys():\n",
    "    print('Key exists')"
   ]
  },
  {
   "cell_type": "code",
   "execution_count": null,
   "id": "ed0634a5",
   "metadata": {},
   "outputs": [],
   "source": [
    "diet = {'key': 1}\n",
    "if 'diet' in diet.keys():\n",
    "    print('Key exists')"
   ]
  },
  {
   "cell_type": "markdown",
   "id": "9ed4eb65",
   "metadata": {},
   "source": [
    "#### Can you predict the output after executing the below code snipper?\n",
    "##### Select the correct answer from the multiple choice just below the code snippet. "
   ]
  },
  {
   "cell_type": "code",
   "execution_count": null,
   "id": "d47d9949",
   "metadata": {},
   "outputs": [],
   "source": [
    "#note: try to predict the correct output before executing this snipped.\n",
    "class Class:\n",
    "    Variable = 0\n",
    "    def __init__(self):\n",
    "        self.value = 0\n",
    "        \n",
    "object1 = Class()\n",
    "object1.Variable += 1\n",
    "object2 = Class()\n",
    "object2.value += 1\n",
    "print(object2.Variable + object1.value)"
   ]
  },
  {
   "cell_type": "markdown",
   "id": "eb647795",
   "metadata": {},
   "source": [
    "1. 0\n",
    "2. 1\n",
    "3. 4\n",
    "4. 2"
   ]
  },
  {
   "cell_type": "markdown",
   "id": "4b5136bf",
   "metadata": {},
   "source": [
    "#### Review the below code snippet, try to predict the output after the code is executed, choose the corect answers from the below multiple choice(choose the two ansers that output True?"
   ]
  },
  {
   "cell_type": "code",
   "execution_count": null,
   "id": "db0e2881",
   "metadata": {},
   "outputs": [],
   "source": [
    "class ClassA:\n",
    "    var = 1\n",
    "    def __init__(self, prop):\n",
    "        prop1 = prop2 = prop\n",
    "        \n",
    "class ClassB(ClassA):\n",
    "    def __init__(self, prop):\n",
    "        prop3 = prop ** 2\n",
    "        super().__init__(prop)\n",
    "        \n",
    "Object = ClassB(2)"
   ]
  },
  {
   "cell_type": "code",
   "execution_count": null,
   "id": "5e260638",
   "metadata": {},
   "outputs": [],
   "source": [
    "str(Object) == 'Object'"
   ]
  },
  {
   "cell_type": "code",
   "execution_count": null,
   "id": "33d0af6d",
   "metadata": {},
   "outputs": [],
   "source": [
    "__name__ == '__main__'"
   ]
  },
  {
   "cell_type": "code",
   "execution_count": null,
   "id": "12c9aeb7",
   "metadata": {},
   "outputs": [],
   "source": [
    "ClassA.__module__ == 'ClassA'"
   ]
  },
  {
   "cell_type": "code",
   "execution_count": null,
   "id": "834f6291",
   "metadata": {},
   "outputs": [],
   "source": [
    "len(ClassB.__bases__) == 1"
   ]
  },
  {
   "cell_type": "code",
   "execution_count": null,
   "id": "66ef0f5b",
   "metadata": {},
   "outputs": [],
   "source": [
    "class A:\n",
    "    pass\n",
    "    #print('I am Class A')\n",
    "class B(A):\n",
    "    pass\n",
    "    #print('I am Class B')\n",
    "class C(A):\n",
    "    pass\n",
    "    #print('I am Class C')\n",
    "class D(A):\n",
    "    pass\n",
    "    #print('I am Class D')\n",
    "class Class_3(D,C):\n",
    "    pass\n",
    "    #print('I am Class_3')\n",
    "obj_1 = Class_3()\n",
    "print(obj_1)"
   ]
  },
  {
   "cell_type": "markdown",
   "id": "88bde099",
   "metadata": {},
   "source": [
    "1. I am Class A\n",
    "2. <__main__.Class_3 object at 0x0000020C685C2BF0>\n",
    "3. I am Class C\n",
    "4. I am Class D\n",
    "5. I am Class B\n",
    "6. I am Class_3"
   ]
  },
  {
   "cell_type": "markdown",
   "id": "825e4278",
   "metadata": {},
   "source": [
    "#### Can you predict the output of the below snippet?"
   ]
  },
  {
   "cell_type": "code",
   "execution_count": null,
   "id": "b9e862be",
   "metadata": {},
   "outputs": [],
   "source": [
    "string = str(1/3)\n",
    "dummy = ''\n",
    "for char in string:\n",
    "    dummy = dummy + char\n",
    "print(len(dummy))\n"
   ]
  },
  {
   "cell_type": "markdown",
   "id": "0b2a3653",
   "metadata": {},
   "source": [
    "# Code snippet is an example of list slicing. "
   ]
  },
  {
   "cell_type": "code",
   "execution_count": null,
   "id": "fc523b6b",
   "metadata": {},
   "outputs": [],
   "source": [
    "string = 'Python'[::2]\n",
    "string = string[-1] + string[-2]\n",
    "print(string)"
   ]
  },
  {
   "cell_type": "markdown",
   "id": "2158541b",
   "metadata": {},
   "source": [
    "Choose the correct code snippet, the snippet that will execute witout errors."
   ]
  },
  {
   "cell_type": "code",
   "execution_count": null,
   "id": "566a9905",
   "metadata": {},
   "outputs": [],
   "source": [
    "print(string is None)"
   ]
  },
  {
   "cell_type": "code",
   "execution_count": null,
   "id": "f29b3b68",
   "metadata": {},
   "outputs": [],
   "source": [
    "string[0]==string[-1]"
   ]
  },
  {
   "cell_type": "code",
   "execution_count": null,
   "id": "0bd2e4eb",
   "metadata": {},
   "outputs": [],
   "source": [
    "len(string)==3"
   ]
  },
  {
   "cell_type": "code",
   "execution_count": null,
   "id": "9a86bc70",
   "metadata": {},
   "outputs": [],
   "source": [
    "string[0]=='o'"
   ]
  },
  {
   "cell_type": "code",
   "execution_count": null,
   "id": "aba5bbaf",
   "metadata": {},
   "outputs": [],
   "source": [
    "'python'.index('th')"
   ]
  },
  {
   "cell_type": "code",
   "execution_count": null,
   "id": "2ae4f188",
   "metadata": {},
   "outputs": [],
   "source": [
    "sorted('python')"
   ]
  },
  {
   "cell_type": "markdown",
   "id": "50a1e095",
   "metadata": {},
   "source": [
    "The remaining examples are some additional code snippets to reinforce your understanding, each is at the level of the PCAP"
   ]
  },
  {
   "cell_type": "code",
   "execution_count": null,
   "id": "bb62311a",
   "metadata": {},
   "outputs": [],
   "source": [
    "str(1-1) in '012345739'[:]"
   ]
  },
  {
   "cell_type": "code",
   "execution_count": null,
   "id": "d0002124",
   "metadata": {},
   "outputs": [],
   "source": [
    "'deb' not in 'abcde' [::-1]"
   ]
  },
  {
   "cell_type": "code",
   "execution_count": null,
   "id": "4d8b0d32",
   "metadata": {},
   "outputs": [],
   "source": [
    "print('abcde' [::-1])"
   ]
  },
  {
   "cell_type": "code",
   "execution_count": null,
   "id": "806de926",
   "metadata": {},
   "outputs": [],
   "source": [
    "'True' not in 'False'"
   ]
  },
  {
   "cell_type": "code",
   "execution_count": null,
   "id": "1280704e",
   "metadata": {},
   "outputs": [],
   "source": [
    "121 + 1 != '!' + 2 * '2'"
   ]
  },
  {
   "cell_type": "code",
   "execution_count": null,
   "id": "285b57ae",
   "metadata": {},
   "outputs": [],
   "source": [
    "'AbC' lower () < 'AB'"
   ]
  },
  {
   "cell_type": "code",
   "execution_count": null,
   "id": "a9d20d65",
   "metadata": {},
   "outputs": [],
   "source": [
    "print('1' + '1' + '1' < '1' * 3')"
   ]
  },
  {
   "cell_type": "code",
   "execution_count": null,
   "id": "0d43b9a5",
   "metadata": {},
   "outputs": [],
   "source": [
    "'3.14' != str(3.1415)"
   ]
  },
  {
   "cell_type": "markdown",
   "id": "f2e9d4fc",
   "metadata": {},
   "source": [
    "#### Choose the code snippets that return True from the four snippets below the following cell. "
   ]
  },
  {
   "cell_type": "code",
   "execution_count": null,
   "id": "75b63e74",
   "metadata": {},
   "outputs": [],
   "source": [
    "the_list = \"alpha;beta;gamma\".split(';')\n",
    "the_string = ''.join(the_list)\n",
    "print(the_string.isalpha())"
   ]
  },
  {
   "cell_type": "code",
   "execution_count": null,
   "id": "e142fb0c",
   "metadata": {},
   "outputs": [],
   "source": [
    "len('''\n",
    "''') == 0"
   ]
  },
  {
   "cell_type": "code",
   "execution_count": null,
   "id": "56e25963",
   "metadata": {},
   "outputs": [],
   "source": [
    "print(ord('Z') - ord('z') == ord('0'))"
   ]
  },
  {
   "cell_type": "code",
   "execution_count": null,
   "id": "a3d0bd47",
   "metadata": {},
   "outputs": [],
   "source": [
    "len('\"\\*') == 1"
   ]
  },
  {
   "cell_type": "code",
   "execution_count": null,
   "id": "7396974d",
   "metadata": {},
   "outputs": [],
   "source": [
    "chr(ord('A') + 1) == 'B'"
   ]
  },
  {
   "cell_type": "markdown",
   "id": "84a23903",
   "metadata": {},
   "source": [
    "Below are some example of questions from the Exceptions section of the PCAP exam, try to predict the output of each snippet run the code examples to confirm if your predictions are correct. "
   ]
  },
  {
   "cell_type": "code",
   "execution_count": null,
   "id": "d4460742",
   "metadata": {},
   "outputs": [],
   "source": [
    "s = '2A'\n",
    "try: \n",
    "    n = int(s)\n",
    "except:\n",
    "    n = 3\n",
    "except ValueError:\n",
    "    n = 2\n",
    "except ArithmeticError:\n",
    "    n= 1\n",
    "print(n)\n",
    "    "
   ]
  },
  {
   "cell_type": "code",
   "execution_count": null,
   "id": "ee02a12d",
   "metadata": {},
   "outputs": [],
   "source": [
    "try:\n",
    "    print(int(\"0\"))\n",
    "except NameError:\n",
    "    print(\"0\")\n",
    "else:\n",
    "    print(int(\"\"))"
   ]
  },
  {
   "cell_type": "code",
   "execution_count": null,
   "id": "fbfdb5f6",
   "metadata": {},
   "outputs": [],
   "source": [
    "import math\n",
    "import sys\n",
    "b1 = type(dir(math)) is list\n",
    "b2 = type(sys.path) is list\n",
    "print(b1)\n",
    "print(b2)\n",
    "print(b1 and b2)"
   ]
  },
  {
   "cell_type": "code",
   "execution_count": null,
   "id": "4bef5fbb",
   "metadata": {},
   "outputs": [],
   "source": [
    "import random \n",
    "seed = (0)\n",
    "v1 = random.random()\n",
    "seed = (1)\n",
    "v2 = random.random()\n",
    "\n",
    "\n"
   ]
  },
  {
   "cell_type": "markdown",
   "id": "c1c771ce",
   "metadata": {},
   "source": [
    "#### below are the multiple choice snippets that return a True or False value when executed after the above code snippet, predict whih two snippets returns a True value?\n",
    "\n",
    "1. random.choice([1,2,3]) >=1\n",
    "2. len(random.sample([1,2,3],2)) == 2\n",
    "3. v1 >= 1\n",
    "4. v1 >= v2"
   ]
  },
  {
   "cell_type": "markdown",
   "id": "a9a908ef",
   "metadata": {},
   "source": [
    "#### Predict the values returned for the below, these are examples of code snippets in the PCAP."
   ]
  },
  {
   "cell_type": "code",
   "execution_count": null,
   "id": "66d522e6",
   "metadata": {},
   "outputs": [],
   "source": [
    "a = 2\n",
    "if a > 0:\n",
    "    a+= 1\n",
    "else:\n",
    "    a-=1\n",
    "print(a)"
   ]
  },
  {
   "cell_type": "code",
   "execution_count": null,
   "id": "4d557950",
   "metadata": {},
   "outputs": [],
   "source": [
    "#How many * are printed to screen?\n",
    "for i in range(1, 3):\n",
    "    print(\"*\", end=\"\")\n",
    "else:\n",
    "    print(\"*\")"
   ]
  },
  {
   "cell_type": "code",
   "execution_count": null,
   "id": "b143e60c",
   "metadata": {},
   "outputs": [],
   "source": [
    "#What is the output after this code is executed?\n",
    "i = 5\n",
    "while i > 0:\n",
    "    i = i // 2\n",
    "    if i % 2 == 0:\n",
    "        break\n",
    "else:\n",
    "    i += 1\n",
    "print(i)"
   ]
  },
  {
   "cell_type": "markdown",
   "id": "94b6599b",
   "metadata": {},
   "source": [
    "#### Below are examples of arithmetic using operators to evaluate a math problem. This might help with your understanding of right and left side binding and when to use. "
   ]
  },
  {
   "cell_type": "code",
   "execution_count": null,
   "id": "074e33fe",
   "metadata": {},
   "outputs": [],
   "source": [
    "5 // 2"
   ]
  },
  {
   "cell_type": "code",
   "execution_count": null,
   "id": "db5de23f",
   "metadata": {},
   "outputs": [],
   "source": [
    "6 // 2"
   ]
  },
  {
   "cell_type": "code",
   "execution_count": null,
   "id": "e86849ff",
   "metadata": {},
   "outputs": [],
   "source": [
    "7 // 3"
   ]
  },
  {
   "cell_type": "code",
   "execution_count": null,
   "id": "c6e6c70a",
   "metadata": {},
   "outputs": [],
   "source": [
    "10 // 5"
   ]
  },
  {
   "cell_type": "code",
   "execution_count": null,
   "id": "20669c7e",
   "metadata": {},
   "outputs": [],
   "source": [
    "100 // 90"
   ]
  },
  {
   "cell_type": "code",
   "execution_count": null,
   "id": "91bbd119",
   "metadata": {},
   "outputs": [],
   "source": [
    "100 / 90"
   ]
  },
  {
   "cell_type": "code",
   "execution_count": null,
   "id": "e474f007",
   "metadata": {},
   "outputs": [],
   "source": [
    "100 % 2"
   ]
  },
  {
   "cell_type": "code",
   "execution_count": null,
   "id": "4cf844c8",
   "metadata": {},
   "outputs": [],
   "source": [
    "103 % 2"
   ]
  },
  {
   "cell_type": "code",
   "execution_count": null,
   "id": "a5065c23",
   "metadata": {},
   "outputs": [],
   "source": [
    "2 ** 3 // 1 % -5 #left side binding"
   ]
  },
  {
   "cell_type": "code",
   "execution_count": null,
   "id": "17586f00",
   "metadata": {},
   "outputs": [],
   "source": [
    "-5 % 1 // 3 ** 2 left side binding"
   ]
  },
  {
   "cell_type": "code",
   "execution_count": null,
   "id": "95f126cc",
   "metadata": {},
   "outputs": [],
   "source": [
    "-5 + 6 / 1 * 2"
   ]
  },
  {
   "cell_type": "code",
   "execution_count": null,
   "id": "3ffb320a",
   "metadata": {},
   "outputs": [],
   "source": [
    "#What is the output of the below?\n",
    "a = 'ant'\n",
    "b = \"bat\"\n",
    "c = 'camel'\n",
    "print(a, b, c, sep='\"')"
   ]
  },
  {
   "cell_type": "code",
   "execution_count": null,
   "id": "61ee9da7",
   "metadata": {},
   "outputs": [],
   "source": [
    "#What is the value of i after the snippet is executed.\n",
    "for i in range(10):\n",
    "    pass\n",
    "print(i)"
   ]
  },
  {
   "cell_type": "code",
   "execution_count": null,
   "id": "1dd7bd06",
   "metadata": {},
   "outputs": [],
   "source": [
    "i = 0\n",
    "while i != 0:\n",
    "    i = i - 1\n",
    "else:\n",
    "    i = i + 1\n",
    "print(i)\n"
   ]
  },
  {
   "cell_type": "code",
   "execution_count": null,
   "id": "102e133a",
   "metadata": {},
   "outputs": [],
   "source": [
    "def f(x, y):\n",
    "    nom, denom = x,y\n",
    "    def g():\n",
    "        return nom / denom\n",
    "    return g\n",
    "a = f(1,2)\n",
    "b = f(3,4)\n",
    "print(a != b)"
   ]
  },
  {
   "cell_type": "code",
   "execution_count": null,
   "id": "1e1d96bc",
   "metadata": {},
   "outputs": [],
   "source": [
    "def foo(x,y):\n",
    "    return y(x) + (x+1)\n",
    "print(foo(1, lambda x: x*x))"
   ]
  },
  {
   "cell_type": "code",
   "execution_count": null,
   "id": "b445540e",
   "metadata": {},
   "outputs": [],
   "source": [
    "try:\n",
    "    f = open('existing_file', 'a')\n",
    "    print(1, end=' ')\n",
    "except IOError as error:\n",
    "    print(error.errno, end=' ')\n",
    "    print(2, end=' ')\n",
    "else:\n",
    "    f.close()\n",
    "    print(5, end=' ')"
   ]
  },
  {
   "cell_type": "code",
   "execution_count": null,
   "id": "402f5daa",
   "metadata": {},
   "outputs": [],
   "source": [
    "x - 3 % 1\n",
    "y - 1 if x > y else 0\n",
    "print(y)"
   ]
  },
  {
   "cell_type": "code",
   "execution_count": null,
   "id": "04d6f611",
   "metadata": {},
   "outputs": [],
   "source": [
    "class MyClass:\n",
    "    def __init__(self, initial):\n",
    "        self.store = initial\n",
    "        \n",
    "    def put(self, new):\n",
    "        self.store = append(new)\n",
    "    def get(self):\n",
    "        return self.store\n",
    "    def dup(self):\n",
    "        self.put(self.store[-1])\n",
    "        \n",
    "Object = MyClass([0])\n",
    "#Object.put(1)\n",
    "#Object.dup()\n",
    "print(Object.get())\n"
   ]
  },
  {
   "cell_type": "markdown",
   "id": "30f8dfb5",
   "metadata": {},
   "source": [
    "##### Which of the below evaluates to True after the above snippet is executed."
   ]
  },
  {
   "cell_type": "code",
   "execution_count": null,
   "id": "7d64260a",
   "metadata": {},
   "outputs": [],
   "source": [
    "'in not' in 'not'"
   ]
  },
  {
   "cell_type": "code",
   "execution_count": null,
   "id": "acc1efff",
   "metadata": {},
   "outputs": [],
   "source": [
    "'in' in 'Thames'"
   ]
  },
  {
   "cell_type": "code",
   "execution_count": null,
   "id": "d660435c",
   "metadata": {},
   "outputs": [],
   "source": [
    "'t'.upper() in 'Thames'"
   ]
  },
  {
   "cell_type": "code",
   "execution_count": null,
   "id": "cafe4f7a",
   "metadata": {},
   "outputs": [],
   "source": [
    "'in' in 'in'"
   ]
  },
  {
   "cell_type": "markdown",
   "id": "6d26d2da",
   "metadata": {},
   "source": [
    "#### The preceding code cells contain small programs, try to predict the results/output when the programs are executed, then run the code to check your predictions."
   ]
  },
  {
   "cell_type": "code",
   "execution_count": null,
   "id": "293a9d92",
   "metadata": {},
   "outputs": [],
   "source": [
    "string = 'SKY'(::-1)\n",
    "string = string(-1)"
   ]
  },
  {
   "cell_type": "code",
   "execution_count": null,
   "id": "5dd46d2c",
   "metadata": {},
   "outputs": [],
   "source": [
    "import math\n",
    "math.hypot(3,4) == math.sqrt(25)"
   ]
  },
  {
   "cell_type": "code",
   "execution_count": null,
   "id": "be8ed915",
   "metadata": {},
   "outputs": [],
   "source": [
    "math.ceil(2.5) != math.floor(2.5)"
   ]
  },
  {
   "cell_type": "code",
   "execution_count": null,
   "id": "34441864",
   "metadata": {},
   "outputs": [],
   "source": [
    "math.trunc(2.5) == math.floor(2.5)"
   ]
  },
  {
   "cell_type": "code",
   "execution_count": null,
   "id": "281ccd8b",
   "metadata": {},
   "outputs": [],
   "source": [
    "try:\n",
    "    f = open('zero_length_existing_file', 'rt')\n",
    "    d = f.readline()\n",
    "    print(len(d))\n",
    "    f.close()\n",
    "except IOError:\n",
    "    print(-1)\n"
   ]
  },
  {
   "cell_type": "code",
   "execution_count": null,
   "id": "9cac4b5c",
   "metadata": {},
   "outputs": [],
   "source": [
    "a = str(1-1) in '012345739'[:2]"
   ]
  },
  {
   "cell_type": "code",
   "execution_count": null,
   "id": "78ec9948",
   "metadata": {},
   "outputs": [],
   "source": [
    "print(a)"
   ]
  },
  {
   "cell_type": "code",
   "execution_count": null,
   "id": "2add9ef5",
   "metadata": {},
   "outputs": [],
   "source": [
    "'deb' not in 'abcde' [::-1]"
   ]
  },
  {
   "cell_type": "code",
   "execution_count": null,
   "id": "77a510c3",
   "metadata": {},
   "outputs": [],
   "source": [
    "121 + 1 != '!' + 2 * '2'"
   ]
  },
  {
   "cell_type": "code",
   "execution_count": null,
   "id": "60f38811",
   "metadata": {},
   "outputs": [],
   "source": [
    "'True' not in 'False'"
   ]
  },
  {
   "cell_type": "code",
   "execution_count": null,
   "id": "81dee36c",
   "metadata": {},
   "outputs": [],
   "source": [
    "a = '1' + '1' + '1'\n",
    "b = '1' * 3\n",
    "print(a < b)"
   ]
  },
  {
   "cell_type": "code",
   "execution_count": null,
   "id": "fe6a327c",
   "metadata": {},
   "outputs": [],
   "source": [
    "'3.14' != str(3.1415)"
   ]
  },
  {
   "cell_type": "code",
   "execution_count": null,
   "id": "7aa6c9ad",
   "metadata": {},
   "outputs": [],
   "source": [
    "'AbC'.lower () < 'AB'"
   ]
  },
  {
   "cell_type": "code",
   "execution_count": null,
   "id": "2fb5ab74",
   "metadata": {},
   "outputs": [],
   "source": [
    "121 + 1 != '1' + '2' * 2"
   ]
  },
  {
   "cell_type": "code",
   "execution_count": null,
   "id": "8d6b7155",
   "metadata": {},
   "outputs": [],
   "source": [
    "len('\\*') == 1"
   ]
  },
  {
   "cell_type": "code",
   "execution_count": null,
   "id": "9520154f",
   "metadata": {},
   "outputs": [],
   "source": [
    "len('''\n",
    "''')==0"
   ]
  },
  {
   "cell_type": "code",
   "execution_count": null,
   "id": "997d278f",
   "metadata": {},
   "outputs": [],
   "source": [
    "chr(ord('A') + 1) == 'B'"
   ]
  },
  {
   "cell_type": "code",
   "execution_count": null,
   "id": "f2d2572f",
   "metadata": {},
   "outputs": [],
   "source": [
    "ord('Z') - ord('z') == ord('0')"
   ]
  },
  {
   "cell_type": "code",
   "execution_count": null,
   "id": "36cf2dc7",
   "metadata": {},
   "outputs": [],
   "source": [
    "s = '2a'\n",
    "try:\n",
    "    n = int(s)\n",
    "except:\n",
    "    n = 3\n",
    "except ValueError:\n",
    "    n = 2\n",
    "except ArithmeticError:\n",
    "    n = 1\n",
    "print(n)"
   ]
  },
  {
   "cell_type": "code",
   "execution_count": null,
   "id": "25f60a94",
   "metadata": {},
   "outputs": [],
   "source": [
    "try:\n",
    "    print(int('0'))\n",
    "except NameError:\n",
    "    print(\"0\")\n",
    "else:\n",
    "    print(int(\" \"))"
   ]
  },
  {
   "cell_type": "code",
   "execution_count": null,
   "id": "b9f4c1e1",
   "metadata": {},
   "outputs": [],
   "source": [
    "try:\n",
    "    print(float(\"1e1\"))\n",
    "except (NameError, SystemError):\n",
    "    print(float(\"1a1\"))\n",
    "else:\n",
    "    print(float(\"1c1\"))"
   ]
  },
  {
   "cell_type": "code",
   "execution_count": null,
   "id": "8f4365e2",
   "metadata": {},
   "outputs": [],
   "source": [
    "m = 0\n",
    "\n",
    "def foo(n):\n",
    "    global m\n",
    "    assert m != 0\n",
    "    try:\n",
    "        return 1/n\n",
    "    except ArithmeticError:\n",
    "        raise ValueError\n",
    "try:\n",
    "    foo(0)\n",
    "except ZeroDivisionError:\n",
    "    m += 2\n",
    "except ValueError:\n",
    "    m += 1\n",
    "except:\n",
    "    m += 3\n",
    "print(m)\n",
    "    "
   ]
  },
  {
   "cell_type": "code",
   "execution_count": null,
   "id": "1673a63d",
   "metadata": {},
   "outputs": [],
   "source": [
    "s = 'apple'\n",
    "  \n",
    "try:\n",
    "    num = int(s)\n",
    "except ValueError:\n",
    "    raise ValueError(\"String can't be changed into integer\")\n",
    "except:\n",
    "    print('what about me?')"
   ]
  },
  {
   "cell_type": "markdown",
   "id": "58004d2b",
   "metadata": {},
   "source": [
    "# Advantages of the raise keyword:\n",
    "It helps us raise exceptions when we may run into situations where execution can’t proceed.\n",
    "It helps us reraise an exception that is caught.\n",
    "Raise allows us to throw one exception at any time.\n",
    "It is useful when we want to work with input validations."
   ]
  },
  {
   "cell_type": "code",
   "execution_count": null,
   "id": "02bfc2dd",
   "metadata": {},
   "outputs": [],
   "source": [
    "class E(Exception):\n",
    "    def __init__(self, message):\n",
    "        self.message = message\n",
    "    def __str__(self):\n",
    "        return \"its nice to see you\"\n",
    "try:\n",
    "    print(\"I feel fine\")\n",
    "    raise Exception(\"What a pity\")\n",
    "except E as e:\n",
    "    print(e)\n",
    "else:\n",
    "    print(\"the show must go on\")"
   ]
  },
  {
   "cell_type": "code",
   "execution_count": null,
   "id": "1bc60063",
   "metadata": {},
   "outputs": [],
   "source": [
    "import sys\n",
    "import math\n",
    "b1 = type(dir(math)) is list\n",
    "b2 = type(sys.path) is list\n",
    "print(b1)\n",
    "print(b2)\n",
    "print(b1 and b2)\n",
    "print(True and False)\n",
    "print(True or False)"
   ]
  },
  {
   "cell_type": "code",
   "execution_count": null,
   "id": "7ae4ce48",
   "metadata": {},
   "outputs": [],
   "source": [
    "import platform\n",
    "print(platform.uname())\n",
    "#platform.uname()\n",
    "#This function returns a tuple that stores \n",
    "#information regarding the system. \n",
    "#Basically this function can be used to \n",
    "#replace the individual functions to \n",
    "#retrieve information about the system, \n",
    "#node, release, version, machine, version and processor. \n",
    "#Thus, a single function serving many purposes."
   ]
  },
  {
   "cell_type": "code",
   "execution_count": null,
   "id": "5a7f5872",
   "metadata": {},
   "outputs": [],
   "source": [
    "print(platform.platform())\n",
    "#platform.platform()\n",
    "#This function returns a single string containing as much useful information that is to retrievable about the system.The output may differ on different systems."
   ]
  },
  {
   "cell_type": "code",
   "execution_count": null,
   "id": "69c6892f",
   "metadata": {},
   "outputs": [],
   "source": [
    "print(platform.processor())"
   ]
  },
  {
   "cell_type": "code",
   "execution_count": null,
   "id": "06e198e6",
   "metadata": {},
   "outputs": [],
   "source": [
    "print(platform.architecture()) #This function returns a tuple that stores information about the bit architecture"
   ]
  },
  {
   "cell_type": "code",
   "execution_count": null,
   "id": "5df4cc4c",
   "metadata": {},
   "outputs": [],
   "source": [
    "print(platform.machine())\n",
    "#This function returns a string that displays the machine type, by machine type here it means the information that tells the width or size of registers available in the core."
   ]
  },
  {
   "cell_type": "code",
   "execution_count": null,
   "id": "e15af342",
   "metadata": {},
   "outputs": [],
   "source": [
    "print(platform.node())\n",
    "#This function returns a string that displays the information about the node basically the system’s network name."
   ]
  },
  {
   "cell_type": "code",
   "execution_count": null,
   "id": "d5f6ffb6",
   "metadata": {},
   "outputs": [],
   "source": [
    "print(platform.processor())\n",
    "#This function returns a string that displays the information about the platform processor basically the real name of the system’s processor"
   ]
  },
  {
   "cell_type": "code",
   "execution_count": null,
   "id": "9070eb20",
   "metadata": {},
   "outputs": [],
   "source": [
    "print(platform.system())\n",
    "#This function returns a string that displays the name of the operation system on the current device being used to run the program."
   ]
  },
  {
   "cell_type": "code",
   "execution_count": null,
   "id": "cf3bf122",
   "metadata": {},
   "outputs": [],
   "source": [
    "#What will be the value of the i variable when the while e loop finishes its execution?\n",
    "i = 0\n",
    "while i != 0:\n",
    "    i = i - 1\n",
    "else:\n",
    "    i = i + 1\n",
    "print(1)\n",
    "\n",
    "#A. 1\n",
    "#B. 0\n",
    "#C. 2\n",
    "#D. the variable becomes unavailable"
   ]
  },
  {
   "cell_type": "raw",
   "id": "e252c5ca",
   "metadata": {},
   "source": [
    "And operator able to perform bitwise shifts is coded as (Choose two.)\n",
    "A. --\n",
    "B. ++\n",
    "C. <<\n",
    "D. >>\n",
    "#>> right shift between integer value (division by 2)\n",
    "#<<left shift (multiplication by 2)"
   ]
  },
  {
   "cell_type": "raw",
   "id": "4da146a9",
   "metadata": {},
   "source": [
    "What can you deduce from the following statement? (Select two answers)\n",
    "str= open ('file.txt', 'rt')\n",
    "A. if file. txt does not exist, it will be created\n",
    "\n",
    "B. a newline character translation will be performed during the reads\n",
    "\n",
    "C. str is a string read in from the file named file.txt\n",
    "\n",
    "D. the opened file cannot be written with the use of the str variable"
   ]
  },
  {
   "cell_type": "raw",
   "id": "791c691f",
   "metadata": {},
   "source": [
    "A complier is a program designed to (select two answers)\n",
    "    A. check the source code in order to see of it's correct\n",
    "\n",
    "B. execute the source code\n",
    "\n",
    "    C. translate the source code into machine code\n",
    "\n",
    "D. rearrange the source code to make it clearer"
   ]
  },
  {
   "cell_type": "code",
   "execution_count": null,
   "id": "9612399b",
   "metadata": {},
   "outputs": [],
   "source": [
    "#What is the expected behavior of the following snippet?\n",
    "def x(): #line 01\n",
    "    return 2 #line 02\n",
    "x = 1 + x() #line 03\n",
    "print(x) #line 04\n",
    "\n",
    "#It will:\n",
    "\n",
    "#A. cause a runtime exception on line 02\n",
    "\n",
    "#B. cause a runtime exception on line 01\n",
    "\n",
    "#C. cause a runtime exception on line 03\n",
    "\n",
    "    #D. print 3"
   ]
  },
  {
   "cell_type": "raw",
   "id": "3cefe372",
   "metadata": {},
   "source": [
    "#If you need a function that does nothing, what would you use instead of XXX? (Select two answers) \n",
    "\n",
    "def idler ( ):\n",
    "XXX\n",
    "    A. pass\n",
    "\n",
    "B. return\n",
    "\n",
    "C. exit\n",
    "\n",
    "    D. None\n",
    "  #https://www.pythoncentral.io/python-null-equivalent-none/\n",
    "  "
   ]
  },
  {
   "cell_type": "code",
   "execution_count": null,
   "id": "35cd9101",
   "metadata": {},
   "outputs": [],
   "source": [
    "def idler( ):\n",
    "    pass\n"
   ]
  },
  {
   "cell_type": "code",
   "execution_count": null,
   "id": "efacbfda",
   "metadata": {},
   "outputs": [],
   "source": [
    "def idler ( ):\n",
    "    None"
   ]
  },
  {
   "cell_type": "raw",
   "id": "a6f023af",
   "metadata": {},
   "source": [
    "Can a module run like regular code?\n",
    "A. yes, and it can differentiate its behavior between the regular launch and import\n",
    "\n",
    "B. it depends on the Python version\n",
    "\n",
    "C. yes, but in cannot differentiate its behavior between the regular launch and import\n",
    "\n",
    "    D. no, it is not possible; a module can be imported, not run\n",
    " \n",
    "\n",
    "Explanation:\n",
    "you write a module (a .py file) where it can be executed directly. Alternatively, it can also be imported and used in another module. By doing the main check, you can have that code only execute when you want to run the module as a program and not have it execute when someone just wants to import your module and call your functions themselves.\n",
    "Reference: https://developer.rhino3d.com/guides/rhinopython/python-remote-local-module/"
   ]
  },
  {
   "cell_type": "code",
   "execution_count": null,
   "id": "378df045",
   "metadata": {},
   "outputs": [],
   "source": [
    "#What is the expected output of the following snippet?\n",
    "lst = [1, 2, 3, 4]\n",
    "lst = lst[-3:-2]\n",
    "lst = lst[-1]\n",
    "print(lst)\n",
    "\n",
    "#A. 1\n",
    "\n",
    "#B. 4\n",
    "\n",
    "#C. 2\n",
    "\n",
    "#D. 3"
   ]
  },
  {
   "cell_type": "markdown",
   "id": "228fb463",
   "metadata": {},
   "source": [
    "#### You need data which can act as a simple telephone directory. \n",
    "##### You can obtain it with the following clauses \n",
    "###### select two relevant variants; assume that no other items have been created before\n",
    "\n",
    "    A. dir={'Mom': 5551234567, 'Dad': 5557654321}\n",
    "\n",
    "    B. dir= {Mom: '5551234567', Dad: '5557654321'}\n",
    "\n",
    "    C. dir= {'Mom': '5551234567', 'Dad': '5557654321'}\n",
    "\n",
    "    D. dir= {Mom: 5551234567, Dad: 5557654321}"
   ]
  },
  {
   "cell_type": "markdown",
   "id": "12161928",
   "metadata": {},
   "source": [
    "### Python Dict\n",
    "source:\n",
    "https://www.pythontutorial.net/python-basics/python-dictionary/#:~:text=Python%20dictionary%20provides%20a%20method,as%20tuples%20in%20a%20list.&text=Note%20that%20you%20can%20use,be%20the%20key%20and%20value%20.\n",
    "\n",
    "#### Python dictionary provides a method called items() \n",
    "1. that returns an object which contains a list of key-value pairs as tuples in a list.\n",
    "2. To access a value by key from a dictionary, you can use the square bracket notation dict[key] or the get() method.\n",
    "3. If you attempt to access a key that doesn’t exist, you’ll get an error: KeyErtor. to avoid the KeyError error use the get method: ssn = person.get('ssn')\n",
    "print(ssn) output is none if the key ssn does not exist.\n",
    "4. If the key doesn’t exist, the get() method returns None instead of throwing a KeyError. Note that None means no value exists.\n",
    "\n",
    "5. The get() method also returns a default value when the key doesn’t exist by passing the default value to its second argument.\n",
    "\n",
    "6. The following example returns the '000-00-0000' string if the ssn key doesn’t exist in the person dictionary:\n",
    "7. The following example adds a new key-value pair to the person dictionary:\n",
    "\n",
    "    person['gender'] = 'Famale'\n",
    "\n",
    "8. To modify a value associated with a key, you specify the dictionary name with the key in square brackets and the new value associated with the key:\n",
    "\n",
    "    dict[key] = new_value\n",
    "    \n",
    "9. Removing key-value pairs\n",
    "To remove a key-value pair by a key, you use the del statement:\n",
    "\n",
    "    del dict[key]\n",
    "    Code language: Python (python)\n",
    "1. In this syntax, you specify the dictionary name and the key that you want to remove.\n",
    "\n",
    "2. Looping through a dictionary\n",
    "To examine a dictionary, you can use a for loop to iterate over its key-value pairs, or keys, or values.\n",
    "\n",
    "3. Note that since Python 3.7, when you loop through a dictionary, you’ll get the key-value pairs in the same order that you insert them.\n",
    "\n",
    "4.  Looping all key-value pairs in a dictionary\n",
    "5. Python dictionary provides a method called items() that returns an object which contains a list of key-value pairs as tuples in a list.\n",
    "\n",
    "    dict_items([('first_name', 'John'), ('last_name', 'Doe'), ('age', 25), ('favorite_colors', ['blue', 'green']), ('active', True)])\n",
    "\n",
    "\n",
    "5. To iterate over all key-value pairs in a dictionary, you use a for loop with two variable key and value to unpack each tuple of the list:\n",
    "\n",
    "person = {\n",
    "    'first_name': 'John',\n",
    "    'last_name': 'Doe',\n",
    "    'age': 25,\n",
    "    'favorite_colors': ['blue', 'green'],\n",
    "    'active': True\n",
    "}\n",
    "\n",
    "for key, value in person.items():\n",
    "    print(f\"{key}: {value}\")\n",
    "    \n",
    "    Output:\n",
    "\n",
    "first_name: John\n",
    "last_name: Doe\n",
    "age: 25\n",
    "favorite_colors: ['blue', 'green']\n",
    "active: True\n",
    "Code language: Python (python)\n",
    "Note that you can use any variable name in the for loop. They don’t have to be the key and value.\n",
    "\n",
    "2) Looping through all the keys in a dictionary\n",
    "Sometimes, you just want to loop through all keys in a dictionary. In this case, you can use a for loop with the keys() method.\n",
    "\n",
    "The keys() method returns an object that contains a list of keys in the dictionary.\n",
    "\n",
    "    For example:\n",
    "    Output:\n",
    "\n",
    "    first_name\n",
    "    last_name\n",
    "    age\n",
    "    favorite_colors\n",
    "    active\n",
    "\n",
    "1. In fact, looping through all keys is the default behavior when looping through a dictionary. Therefore, you don’t need to use the keys() method.\n",
    "\n",
    "2. The following code returns the same output like the one in the above example:\n",
    "\n",
    "    person = {\n",
    "        'first_name': 'John',\n",
    "        'last_name': 'Doe',\n",
    "        'age': 25,\n",
    "        'favorite_colors': ['blue', 'green'],\n",
    "        'active': True\n",
    "    }\n",
    "\n",
    "    for key in person:\n",
    "        print(key)\n",
    "        \n",
    "\n",
    "3) Looping through all the values in a dictionary\n",
    "The values() method returns a list of values without any keys.\n",
    "\n",
    "4. To loop through all the values in a dictionary, you use a for loop with the values() method:\n",
    "\n",
    "    person = {\n",
    "        'first_name': 'John',\n",
    "        'last_name': 'Doe',\n",
    "        'age': 25,\n",
    "        'favorite_colors': ['blue', 'green'],\n",
    "        'active': True\n",
    "    }\n",
    "\n",
    "    for value in person.values():\n",
    "        print(value)\n",
    "    Code language: Python (python)\n",
    "    Output:\n",
    "\n",
    "    John\n",
    "    Doe\n",
    "    25\n",
    "    ['blue', 'green']\n",
    "    True\n",
    "\n",
    "### Summary\n",
    "1. A Python dictionary is a collection of key-value pairs, where each key has an associated value.\n",
    "2. Use square brackets or get() method to access a value by its key.\n",
    "3. Use the del statement to remove a key-value pair by the key from the dictionary.\n",
    "4. Use for loop to iterate over keys, values, key-value pairs in a dictionary."
   ]
  },
  {
   "cell_type": "code",
   "execution_count": null,
   "id": "8f209fed",
   "metadata": {},
   "outputs": [],
   "source": [
    "#What is the expected output of the following snippet?\n",
    "a = 0\n",
    "if a > 0:\n",
    "    a += 1\n",
    "    else:\n",
    "        a -= 1\n",
    "print(a)\n",
    "\n",
    "#A. 3 if the else is not indented\n",
    "\n",
    "#B. 1\n",
    "\n",
    "#C. 2\n",
    "\n",
    "#D. the code is erroneous"
   ]
  },
  {
   "cell_type": "code",
   "execution_count": null,
   "id": "26294e6a",
   "metadata": {},
   "outputs": [],
   "source": [
    "#What will the value of the i variable be when the following loop finishes its execution?\n",
    "for i in range(10):\n",
    "    pass\n",
    "#A. 10\n",
    "\n",
    "#B. the variable becomes unavailable\n",
    "\n",
    "#C. 11\n",
    "\n",
    "#D. 9"
   ]
  },
  {
   "cell_type": "code",
   "execution_count": null,
   "id": "2f8b59d1",
   "metadata": {},
   "outputs": [],
   "source": [
    "#The following class hierarchy is given. What is the expected out of the code?\n",
    "class A:\n",
    "    def a(self):\n",
    "        print(\"A\", end=' ')\n",
    "    def b(self):\n",
    "        self.a()\n",
    "      \n",
    "        \n",
    "class B(A):\n",
    "    def a(self):\n",
    "        print(\"B\", end=' ')\n",
    "    def do(self):\n",
    "        self.b()\n",
    "        \n",
    "class C(A):\n",
    "    def a(self):\n",
    "        print(\"C\", end=' ')\n",
    "    def do(self):\n",
    "        self.b()\n",
    "B().do()\n",
    "C().do()\n",
    "        \n",
    "\n",
    "#A. BB\n",
    "\n",
    "#B. CC\n",
    "\n",
    "#C. AA\n",
    "\n",
    "#D. BC\n",
    "\n"
   ]
  },
  {
   "cell_type": "raw",
   "id": "4b139baf",
   "metadata": {},
   "source": [
    "What can you do if you don't like a long package path like this one?\n",
    "import alpha .beta . gamma .delta .epsilon .zeta\n",
    "A. you can make an alias for the name using the alias keyword\n",
    "\n",
    "B. nothing, you need to come to terms with it\n",
    "\n",
    "C. you can shorten it to alpha . zeta and Python will find the proper connection\n",
    "\n",
    "D. you can make an alias for the name using the as keyword"
   ]
  },
  {
   "cell_type": "code",
   "execution_count": null,
   "id": "a0c71f60",
   "metadata": {},
   "outputs": [],
   "source": [
    "a = [0]\n",
    "b = a[:]\n",
    "a[0] = 1\n",
    "#Assuming that the following snippet has been\n",
    "#successfully executed, which of the equations are False?\n",
    "#(Select two answers)"
   ]
  },
  {
   "cell_type": "code",
   "execution_count": null,
   "id": "c0acf3f3",
   "metadata": {},
   "outputs": [],
   "source": [
    "b [0] - 1 == a [0]"
   ]
  },
  {
   "cell_type": "code",
   "execution_count": null,
   "id": "ae987ac5",
   "metadata": {},
   "outputs": [],
   "source": [
    "a [0] == b [0]"
   ]
  },
  {
   "cell_type": "code",
   "execution_count": null,
   "id": "04a072b6",
   "metadata": {},
   "outputs": [],
   "source": [
    "a [0]-1 == b [0]"
   ]
  },
  {
   "cell_type": "code",
   "execution_count": null,
   "id": "a7f35f11",
   "metadata": {},
   "outputs": [],
   "source": [
    "len(a)== len (b)"
   ]
  },
  {
   "cell_type": "code",
   "execution_count": null,
   "id": "75a59b70",
   "metadata": {},
   "outputs": [],
   "source": [
    "#Assuming that the following snippet has been successfully executed, \n",
    "#which of the equations are True?\n",
    "#(Select two answers)\n",
    "\n",
    "a = [1]\n",
    "b = a\n",
    "a[0] = 0"
   ]
  },
  {
   "cell_type": "code",
   "execution_count": null,
   "id": "d391edaa",
   "metadata": {},
   "outputs": [],
   "source": [
    "a [0] + 1 == b [0]"
   ]
  },
  {
   "cell_type": "code",
   "execution_count": null,
   "id": "cc1a1f7e",
   "metadata": {},
   "outputs": [],
   "source": [
    "a [0] == b [0]"
   ]
  },
  {
   "cell_type": "code",
   "execution_count": null,
   "id": "ff8d3211",
   "metadata": {},
   "outputs": [],
   "source": [
    "b [0] +1 ==a [0]"
   ]
  },
  {
   "cell_type": "code",
   "execution_count": null,
   "id": "35d6ce77",
   "metadata": {},
   "outputs": [],
   "source": [
    "len(a) == len (b)"
   ]
  },
  {
   "cell_type": "raw",
   "id": "df52c216",
   "metadata": {},
   "source": [
    "There is a stream named s open for writing. \n",
    "What option will you select to write a line to the stream''\n",
    "A. s.writeln(\"Hello\")\n",
    "\n",
    "B. s.write(\"Hello\\n\")\n",
    "\n",
    "C. s.writeline(\"Hello\")\n",
    "\n",
    "D. write(s, \"Hello\")"
   ]
  },
  {
   "cell_type": "code",
   "execution_count": null,
   "id": "6d4ae988",
   "metadata": {},
   "outputs": [],
   "source": [
    "#Assuming that the code below has been placed inside a file named code.py and executed successfully, \n",
    "#which of the following expressions evaluate to True? (Select two answers)\n",
    "class ClassA:\n",
    "    var = 1\n",
    "    def __init__(self, prop):\n",
    "        prop 1 = prop 2 = prop\n",
    "        \n",
    "class ClassB(ClassA):\n",
    "    \n",
    "    def __init__(self, prop):\n",
    "        prop 3 = prop ** 2\n",
    "        super().__init__(prop):\n",
    "\n",
    "Object = ClassB(2)\n",
    "\n",
    "\n",
    "#A. str(Object) == 'Object'\n",
    "\n",
    " #B. _name == _main_'\n",
    "\n",
    "#C. ClassA. _module_ == 'ClassA'\n",
    "\n",
    "#D. len(ClassB.__bases__) == 1"
   ]
  },
  {
   "cell_type": "raw",
   "id": "dc33c8d7",
   "metadata": {},
   "source": [
    "Which of the following statements are true? (Select two answers)\n",
    "    A. open () is a function which returns an int that represents a physical file handle\n",
    "\n",
    "    B. the second open () argument is optional\n",
    "\n",
    "C. instd, outstd, errstd are the names of pre-opened streams\n",
    "\n",
    "D. if invoking open () fails, the value None is returned"
   ]
  },
  {
   "cell_type": "code",
   "execution_count": null,
   "id": "ee82ad54",
   "metadata": {},
   "outputs": [],
   "source": [
    "#What is the expected behavior of the following code?\n",
    "class Super:\n",
    "    def make(self):\n",
    "        pass\n",
    "    def doit(self):\n",
    "        return self.make()\n",
    "class Sub_A(Super):\n",
    "    def make(self):\n",
    "        return 1\n",
    "class Sub_B(Super):\n",
    "    pass\n",
    "a = Sub_A()\n",
    "b = Sub_B()\n",
    "print(a.doit() + b.doit())\n",
    "    \n",
    "\n",
    "#A. it outputs 2\n",
    "\n",
    "#B. it outputs 0\n",
    "\n",
    "#C. it raises an exception\n",
    "\n",
    "#D. it outputs 1\n",
    "#result: TypeError: unsupported operand type(s) for +: 'int' and 'NoneType'\n"
   ]
  },
  {
   "cell_type": "code",
   "execution_count": null,
   "id": "bacd286c",
   "metadata": {},
   "outputs": [],
   "source": [
    "#What is the expected output of the following snippet?\n",
    "a = 2\n",
    "if a > 0:\n",
    "    a+=1\n",
    "else:#if this is indented the answer is D\n",
    "    a-=1\n",
    "print(a)\n",
    "\n",
    "#A. 3\n",
    "\n",
    "#B. 1\n",
    "\n",
    "#C. 2\n",
    "\n",
    "#D. the code is erroneous"
   ]
  },
  {
   "cell_type": "code",
   "execution_count": null,
   "id": "226a3c20",
   "metadata": {},
   "outputs": [],
   "source": [
    "#What is the expected out of the following code of the file named zero_length_existing_file is a \n",
    "#zero-length file located inside the working directory?\n",
    "try:\n",
    "    f = open('zero_length_existing_file', 'rt')\n",
    "    d = f.readline()\n",
    "    print(len(d))\n",
    "    f.close()\n",
    "except IOError:\n",
    "    print(-1)\n",
    "#A. 2\n",
    "\n",
    "#B. 0\n",
    "\n",
    "#C. an errno value corresponding to file not found\n",
    "\n",
    "#D. -1"
   ]
  },
  {
   "cell_type": "code",
   "execution_count": null,
   "id": "2c752828",
   "metadata": {},
   "outputs": [],
   "source": []
  }
 ],
 "metadata": {
  "kernelspec": {
   "display_name": "Python 3 (ipykernel)",
   "language": "python",
   "name": "python3"
  },
  "language_info": {
   "codemirror_mode": {
    "name": "ipython",
    "version": 3
   },
   "file_extension": ".py",
   "mimetype": "text/x-python",
   "name": "python",
   "nbconvert_exporter": "python",
   "pygments_lexer": "ipython3",
   "version": "3.9.12"
  },
  "vscode": {
   "interpreter": {
    "hash": "52634da84371cba311ea128a5ea7cdc41ff074b781779e754b270ff9f8153cee"
   }
  }
 },
 "nbformat": 4,
 "nbformat_minor": 5
}
