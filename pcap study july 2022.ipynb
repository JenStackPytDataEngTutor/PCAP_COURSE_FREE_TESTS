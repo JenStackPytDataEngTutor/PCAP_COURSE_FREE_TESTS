{
 "cells": [
  {
   "cell_type": "code",
   "execution_count": null,
   "id": "8db8e3b8",
   "metadata": {},
   "outputs": [],
   "source": [
    "lst = [1, 2, 3, 4]\n",
    "lst = lst[-3:-2]\n",
    "print(lst)\n",
    "lst = lst[-1]\n",
    "print(lst)"
   ]
  },
  {
   "cell_type": "code",
   "execution_count": null,
   "id": "007692ff",
   "metadata": {},
   "outputs": [],
   "source": [
    "class Class:\n",
    "    Var = 0\n",
    "    def __foo(self):\n",
    "        Class.Var +=1\n",
    "        return Class.Var\n",
    "o = Class()\n",
    "o.__Class_foo()\n",
    "print(o.__Class_foo())\n"
   ]
  },
  {
   "cell_type": "code",
   "execution_count": null,
   "id": "fb3759d3",
   "metadata": {},
   "outputs": [],
   "source": [
    "class Class():\n",
    "    var = data = 1\n",
    "    def __init__(self, value):\n",
    "        self.prop = value\n",
    "object = Class(2)\n",
    "#len(Class.__dict__) == 1\n",
    "'data' in Class.__dict__\n",
    "'var' in Class.__dict__"
   ]
  },
  {
   "cell_type": "code",
   "execution_count": 14,
   "id": "675a981e",
   "metadata": {},
   "outputs": [
    {
     "name": "stdout",
     "output_type": "stream",
     "text": [
      "False\n"
     ]
    }
   ],
   "source": [
    "import sys\n",
    "b1 = type(dir(sys)) is str\n",
    "b2 = type(sys.path[-1]) is str\n",
    "print(b1 and b2)"
   ]
  },
  {
   "cell_type": "code",
   "execution_count": 17,
   "id": "bfe9d8c1",
   "metadata": {},
   "outputs": [
    {
     "name": "stdout",
     "output_type": "stream",
     "text": [
      "1 2 4 "
     ]
    }
   ],
   "source": [
    "try:\n",
    "    f = open('non existing file', 'w')\n",
    "    print(1, end=' ')\n",
    "    s = f.readline()\n",
    "    print(2, end=' ')\n",
    "except IOError as error:\n",
    "    print(3, end=' ')\n",
    "else:\n",
    "    f.close()\n",
    "    print(4, end=' ')\n",
    "\n",
    "   "
   ]
  },
  {
   "cell_type": "code",
   "execution_count": 18,
   "id": "49862c68",
   "metadata": {},
   "outputs": [
    {
     "name": "stdout",
     "output_type": "stream",
     "text": [
      "1 2 4 "
     ]
    }
   ],
   "source": [
    "try:\n",
    "    f = open('non existing file', 'r')\n",
    "    print(1, end=' ')\n",
    "    s = f.readline()\n",
    "    print(2, end=' ')\n",
    "except IOError as error:\n",
    "    print(3, end=' ')\n",
    "else:\n",
    "    f.close()\n",
    "    print(4, end=' ')"
   ]
  },
  {
   "cell_type": "code",
   "execution_count": null,
   "id": "630f64a0",
   "metadata": {},
   "outputs": [],
   "source": [
    "sorted(\"Python\")"
   ]
  },
  {
   "cell_type": "code",
   "execution_count": null,
   "id": "0c697f05",
   "metadata": {},
   "outputs": [],
   "source": [
    "'Python'.find('')"
   ]
  },
  {
   "cell_type": "code",
   "execution_count": null,
   "id": "44a5c106",
   "metadata": {},
   "outputs": [],
   "source": [
    "class A:\n",
    "    __VarA = 1\n",
    "    def get(self):\n",
    "        return self.__VarA\n",
    "    \n",
    "class B(A):\n",
    "    __VarA = 2\n",
    "    def get(self):\n",
    "        return self.__VarA   \n",
    "    \n",
    "class C(B):\n",
    "    __VarA = 3\n",
    "   \n",
    "\n",
    "\n"
   ]
  },
  {
   "cell_type": "code",
   "execution_count": null,
   "id": "443d596d",
   "metadata": {},
   "outputs": [],
   "source": [
    "obj_b = B()\n",
    "obj_a = A()\n",
    "obj_c = C()\n",
    "\n"
   ]
  },
  {
   "cell_type": "code",
   "execution_count": null,
   "id": "9beb01ff",
   "metadata": {},
   "outputs": [],
   "source": [
    "print(is instance(obj_b,C))"
   ]
  },
  {
   "cell_type": "code",
   "execution_count": null,
   "id": "1c80f7c2",
   "metadata": {},
   "outputs": [],
   "source": [
    "C._C__Var2 == 2"
   ]
  },
  {
   "cell_type": "code",
   "execution_count": null,
   "id": "0308a14e",
   "metadata": {},
   "outputs": [],
   "source": [
    "hasattr(B, 'get')"
   ]
  },
  {
   "cell_type": "code",
   "execution_count": null,
   "id": "8c674d8d",
   "metadata": {},
   "outputs": [],
   "source": [
    "obj_c.get() == 2"
   ]
  },
  {
   "cell_type": "code",
   "execution_count": null,
   "id": "17d9c602",
   "metadata": {},
   "outputs": [],
   "source": [
    "class ClassA:\n",
    "    var = 1\n",
    "    def __init__(self, prop):\n",
    "        prop1 = prop2 = prop\n",
    "class ClassB(ClassA):\n",
    "   \n",
    "    def __init__(self, prop):\n",
    "        prop3 = prop ** 2\n",
    "        super().__init__(prop)\n",
    "        \n",
    "    def __str__(self):\n",
    "        return 'Object'"
   ]
  },
  {
   "cell_type": "code",
   "execution_count": null,
   "id": "48d7994b",
   "metadata": {},
   "outputs": [],
   "source": [
    "len(ClassB.__bases__)==2"
   ]
  },
  {
   "cell_type": "code",
   "execution_count": null,
   "id": "7ffac341",
   "metadata": {},
   "outputs": [],
   "source": [
    "__name__ == '__main__'"
   ]
  },
  {
   "cell_type": "code",
   "execution_count": null,
   "id": "82ce7618",
   "metadata": {},
   "outputs": [],
   "source": [
    "ClassA.__module__ == '__main__'"
   ]
  },
  {
   "cell_type": "code",
   "execution_count": null,
   "id": "f5791a7f",
   "metadata": {},
   "outputs": [],
   "source": [
    "print(Object)"
   ]
  },
  {
   "cell_type": "code",
   "execution_count": null,
   "id": "11cd3c09",
   "metadata": {},
   "outputs": [],
   "source": [
    "list1 = [False for i in range(1,10)]\n",
    "list2 = list1[-1:1:-1]\n",
    "print(list2, end=' ')"
   ]
  },
  {
   "cell_type": "code",
   "execution_count": null,
   "id": "ff627233",
   "metadata": {},
   "outputs": [],
   "source": [
    "diet = {'key': 1}\n",
    "\n",
    "\n"
   ]
  },
  {
   "cell_type": "code",
   "execution_count": null,
   "id": "c95e5213",
   "metadata": {},
   "outputs": [],
   "source": [
    "if 'key' in diet:\n",
    "    print('Key exists')"
   ]
  },
  {
   "cell_type": "code",
   "execution_count": null,
   "id": "ed0634a5",
   "metadata": {},
   "outputs": [],
   "source": [
    "if 'key' in diet.keys():\n",
    "    print('Key exists')"
   ]
  },
  {
   "cell_type": "code",
   "execution_count": null,
   "id": "d47d9949",
   "metadata": {},
   "outputs": [],
   "source": [
    "class Class:\n",
    "    Variable = 0\n",
    "    def __init__(self):\n",
    "        self.value = 0\n",
    "        \n",
    "object1 = Class()\n",
    "object1.Variable += 1\n",
    "object2 = Class()\n",
    "object2.value += 1\n",
    "print(object2.Variable + object1.value)"
   ]
  },
  {
   "cell_type": "code",
   "execution_count": null,
   "id": "db0e2881",
   "metadata": {},
   "outputs": [],
   "source": [
    "class ClassA:\n",
    "    var = 1\n",
    "    def __init__(self, prop):\n",
    "        prop1 = prop2 = prop\n",
    "        \n",
    "class ClassB(ClassA):\n",
    "    def __init__(self, prop):\n",
    "        prop3 = prop ** 2\n",
    "        super().__init__(prop)\n",
    "        \n",
    "Object = ClassB(2)"
   ]
  },
  {
   "cell_type": "code",
   "execution_count": null,
   "id": "5e260638",
   "metadata": {},
   "outputs": [],
   "source": [
    "str(Object) == 'Object'"
   ]
  },
  {
   "cell_type": "code",
   "execution_count": null,
   "id": "33d0af6d",
   "metadata": {},
   "outputs": [],
   "source": [
    "__name__ == '__main__'"
   ]
  },
  {
   "cell_type": "code",
   "execution_count": null,
   "id": "12c9aeb7",
   "metadata": {},
   "outputs": [],
   "source": [
    "ClassA.__module__ == 'ClassA'"
   ]
  },
  {
   "cell_type": "code",
   "execution_count": null,
   "id": "834f6291",
   "metadata": {},
   "outputs": [],
   "source": [
    "len(ClassB.__bases__) == 1"
   ]
  },
  {
   "cell_type": "code",
   "execution_count": null,
   "id": "66ef0f5b",
   "metadata": {},
   "outputs": [],
   "source": [
    "class A:\n",
    "    pass\n",
    "class B(A):\n",
    "    pass\n",
    "class C(A):\n",
    "    pass\n",
    "class D(A):\n",
    "    pass\n",
    "class Class_3(D,C):\n",
    "    pass"
   ]
  },
  {
   "cell_type": "code",
   "execution_count": null,
   "id": "b9e862be",
   "metadata": {},
   "outputs": [],
   "source": [
    "string = str(1/3)\n",
    "dummy = ''\n",
    "for char in string:\n",
    "    dummy = dummy + char\n",
    "print(len(dummy))\n"
   ]
  },
  {
   "cell_type": "code",
   "execution_count": null,
   "id": "fc523b6b",
   "metadata": {},
   "outputs": [],
   "source": [
    "string = 'Python'[::2]\n",
    "string = string[-1] + string[-2]\n",
    "print(string)\n",
    "\n"
   ]
  },
  {
   "cell_type": "code",
   "execution_count": null,
   "id": "566a9905",
   "metadata": {},
   "outputs": [],
   "source": [
    "print(string is None)"
   ]
  },
  {
   "cell_type": "code",
   "execution_count": null,
   "id": "f29b3b68",
   "metadata": {},
   "outputs": [],
   "source": [
    "string[0]==string[-1]"
   ]
  },
  {
   "cell_type": "code",
   "execution_count": null,
   "id": "0bd2e4eb",
   "metadata": {},
   "outputs": [],
   "source": [
    "len(string)==3"
   ]
  },
  {
   "cell_type": "code",
   "execution_count": null,
   "id": "9a86bc70",
   "metadata": {},
   "outputs": [],
   "source": [
    "string[0]=='o'"
   ]
  },
  {
   "cell_type": "code",
   "execution_count": null,
   "id": "aba5bbaf",
   "metadata": {},
   "outputs": [],
   "source": [
    "'python'.index('th')"
   ]
  },
  {
   "cell_type": "code",
   "execution_count": null,
   "id": "2ae4f188",
   "metadata": {},
   "outputs": [],
   "source": [
    "sorted('python')"
   ]
  },
  {
   "cell_type": "code",
   "execution_count": null,
   "id": "bb62311a",
   "metadata": {},
   "outputs": [],
   "source": [
    "str(1-1) in '012345739'[:]"
   ]
  },
  {
   "cell_type": "code",
   "execution_count": null,
   "id": "d0002124",
   "metadata": {},
   "outputs": [],
   "source": [
    "'deb' not in 'abcde' [::-1]"
   ]
  },
  {
   "cell_type": "code",
   "execution_count": null,
   "id": "4d8b0d32",
   "metadata": {},
   "outputs": [],
   "source": [
    "print('abcde' [::-1])"
   ]
  },
  {
   "cell_type": "code",
   "execution_count": null,
   "id": "806de926",
   "metadata": {},
   "outputs": [],
   "source": [
    "'True' not in 'False'"
   ]
  },
  {
   "cell_type": "code",
   "execution_count": null,
   "id": "1280704e",
   "metadata": {},
   "outputs": [],
   "source": [
    "121 + 1 != '!' + 2 * '2'"
   ]
  },
  {
   "cell_type": "code",
   "execution_count": null,
   "id": "285b57ae",
   "metadata": {},
   "outputs": [],
   "source": [
    "'AbC' lower () < 'AB'"
   ]
  },
  {
   "cell_type": "code",
   "execution_count": null,
   "id": "a9d20d65",
   "metadata": {},
   "outputs": [],
   "source": [
    "print('1' + '1' + '1' < '1' * 3')"
   ]
  },
  {
   "cell_type": "code",
   "execution_count": null,
   "id": "0d43b9a5",
   "metadata": {},
   "outputs": [],
   "source": [
    "'3.14' != str(3.1415)"
   ]
  },
  {
   "cell_type": "code",
   "execution_count": null,
   "id": "75b63e74",
   "metadata": {},
   "outputs": [],
   "source": [
    "the_list = \"alpha;beta;gamma\".split(';')\n",
    "the_string = ''.join(the_list)\n",
    "print(the_string.isalpha())"
   ]
  },
  {
   "cell_type": "code",
   "execution_count": null,
   "id": "e142fb0c",
   "metadata": {},
   "outputs": [],
   "source": [
    "len('''\n",
    "''') == 0"
   ]
  },
  {
   "cell_type": "code",
   "execution_count": null,
   "id": "56e25963",
   "metadata": {},
   "outputs": [],
   "source": [
    "print(ord('Z') - ord('z') == ord('0'))"
   ]
  },
  {
   "cell_type": "code",
   "execution_count": null,
   "id": "a3d0bd47",
   "metadata": {},
   "outputs": [],
   "source": [
    "len('\"\\*') == 1"
   ]
  },
  {
   "cell_type": "code",
   "execution_count": null,
   "id": "7396974d",
   "metadata": {},
   "outputs": [],
   "source": [
    "chr(ord('A') + 1) == 'B'"
   ]
  },
  {
   "cell_type": "code",
   "execution_count": null,
   "id": "d4460742",
   "metadata": {},
   "outputs": [],
   "source": [
    "s = '2A'\n",
    "try: \n",
    "    n = int(s)\n",
    "except:\n",
    "    n = 3\n",
    "except ValueError:\n",
    "    n = 2\n",
    "except ArithmeticError:\n",
    "    n= 1\n",
    "print(n)\n",
    "    "
   ]
  },
  {
   "cell_type": "code",
   "execution_count": null,
   "id": "ee02a12d",
   "metadata": {},
   "outputs": [],
   "source": [
    "try:\n",
    "    print(int(\"0\"))\n",
    "except NameError:\n",
    "    print(\"0\")\n",
    "else:\n",
    "    print(int(\"\"))"
   ]
  },
  {
   "cell_type": "code",
   "execution_count": null,
   "id": "fbfdb5f6",
   "metadata": {},
   "outputs": [],
   "source": [
    "import math\n",
    "import sys\n",
    "b1 = type(dir(math)) is list\n",
    "b2 = type(sys.path) is list\n",
    "print(b1)\n",
    "print(b2)\n",
    "print(b1 and b2)"
   ]
  },
  {
   "cell_type": "code",
   "execution_count": null,
   "id": "4bef5fbb",
   "metadata": {},
   "outputs": [],
   "source": [
    "import random \n",
    "seed = (0)\n",
    "v1 = random.random()\n",
    "seed = (1)\n",
    "v2 = random.random()\n",
    "\n",
    "v1 >= v2\n",
    "#random.choice([1,2,3]) >=1\n",
    "#len(random.sample([1,2,3],2)) == 2"
   ]
  },
  {
   "cell_type": "code",
   "execution_count": null,
   "id": "2860651e",
   "metadata": {},
   "outputs": [],
   "source": [
    "v1 >= 1"
   ]
  },
  {
   "cell_type": "code",
   "execution_count": null,
   "id": "66d522e6",
   "metadata": {},
   "outputs": [],
   "source": [
    "a = 2\n",
    "if a > 0:\n",
    "    a+= 1\n",
    "else:\n",
    "    a-=1\n",
    "print(a)"
   ]
  },
  {
   "cell_type": "code",
   "execution_count": null,
   "id": "f00c29a9",
   "metadata": {},
   "outputs": [],
   "source": [
    "for i in range(1, 3):\n",
    "    print(\"*\", end=\"\")\n",
    "else:\n",
    "    print(\"*\")"
   ]
  },
  {
   "cell_type": "code",
   "execution_count": null,
   "id": "da667a61",
   "metadata": {},
   "outputs": [],
   "source": [
    "i = 5\n",
    "while i > 0:\n",
    "    i = i // 2\n",
    "    if i % 2 == 0:\n",
    "        break\n",
    "else:\n",
    "    i += 1\n",
    "print(i)"
   ]
  },
  {
   "cell_type": "code",
   "execution_count": null,
   "id": "de532a67",
   "metadata": {},
   "outputs": [],
   "source": [
    "5 // 2"
   ]
  },
  {
   "cell_type": "code",
   "execution_count": null,
   "id": "967588bb",
   "metadata": {},
   "outputs": [],
   "source": [
    "6 // 2"
   ]
  },
  {
   "cell_type": "code",
   "execution_count": null,
   "id": "fa1fab1d",
   "metadata": {},
   "outputs": [],
   "source": [
    "7 // 3"
   ]
  },
  {
   "cell_type": "code",
   "execution_count": null,
   "id": "d14cb7a5",
   "metadata": {},
   "outputs": [],
   "source": [
    "10 // 5"
   ]
  },
  {
   "cell_type": "code",
   "execution_count": null,
   "id": "815dc038",
   "metadata": {},
   "outputs": [],
   "source": [
    "100 // 90"
   ]
  },
  {
   "cell_type": "code",
   "execution_count": null,
   "id": "5dcfdb1c",
   "metadata": {},
   "outputs": [],
   "source": [
    "100 / 90"
   ]
  },
  {
   "cell_type": "code",
   "execution_count": null,
   "id": "8e18119c",
   "metadata": {},
   "outputs": [],
   "source": [
    "100 % 2"
   ]
  },
  {
   "cell_type": "code",
   "execution_count": null,
   "id": "c72fcce4",
   "metadata": {},
   "outputs": [],
   "source": [
    "103 % 2"
   ]
  },
  {
   "cell_type": "code",
   "execution_count": null,
   "id": "9ca31eec",
   "metadata": {},
   "outputs": [],
   "source": [
    "2 ** 3 // 1 % -5 #left side binding"
   ]
  },
  {
   "cell_type": "code",
   "execution_count": null,
   "id": "867b0c9f",
   "metadata": {},
   "outputs": [],
   "source": [
    "-5 % 1 // 3 ** 2 left side binding"
   ]
  },
  {
   "cell_type": "code",
   "execution_count": null,
   "id": "7c6f3250",
   "metadata": {},
   "outputs": [],
   "source": [
    "-5 + 6 / 1 * 2"
   ]
  },
  {
   "cell_type": "code",
   "execution_count": null,
   "id": "4454af68",
   "metadata": {},
   "outputs": [],
   "source": [
    "a = 'ant'\n",
    "b = \"bat\"\n",
    "c = 'camel'\n",
    "print(a, b, c, sep='\"')"
   ]
  },
  {
   "cell_type": "code",
   "execution_count": null,
   "id": "77460302",
   "metadata": {},
   "outputs": [],
   "source": [
    "for i in range(10):\n",
    "    pass\n",
    "print(i)"
   ]
  },
  {
   "cell_type": "code",
   "execution_count": null,
   "id": "d0ddcd72",
   "metadata": {},
   "outputs": [],
   "source": [
    "i = 0\n",
    "while i != 0:\n",
    "    i = i - 1\n",
    "else:\n",
    "    i = i + 1\n",
    "print(i)\n"
   ]
  },
  {
   "cell_type": "code",
   "execution_count": null,
   "id": "91828c43",
   "metadata": {},
   "outputs": [],
   "source": [
    "def f(x, y):\n",
    "    nom, denom = x,y\n",
    "    def g():\n",
    "        return nom / denom\n",
    "    return g\n",
    "a = f(1,2)\n",
    "b = f(3,4)\n",
    "print(a != b)"
   ]
  },
  {
   "cell_type": "code",
   "execution_count": null,
   "id": "d9bb1c6f",
   "metadata": {},
   "outputs": [],
   "source": [
    "def foo(x,y):\n",
    "    return y(x) + (x+1)\n",
    "print(foo(1, lambda x: x*x))"
   ]
  },
  {
   "cell_type": "code",
   "execution_count": null,
   "id": "7501de3d",
   "metadata": {},
   "outputs": [],
   "source": [
    "try:\n",
    "    f = open('existing_file', 'a')\n",
    "    print(1, end=' ')\n",
    "except IOError as error:\n",
    "    print(error.errno, end=' ')\n",
    "    print(2, end=' ')\n",
    "else:\n",
    "    f.close()\n",
    "    print(5, end=' ')"
   ]
  },
  {
   "cell_type": "code",
   "execution_count": null,
   "id": "f71eef0c",
   "metadata": {},
   "outputs": [],
   "source": [
    "x - 3 % 1\n",
    "y - 1 if x > y else 0\n",
    "print(y)"
   ]
  },
  {
   "cell_type": "code",
   "execution_count": null,
   "id": "1b22120a",
   "metadata": {},
   "outputs": [],
   "source": [
    "class MyClass:\n",
    "    def __init__(self, initial):\n",
    "        self.store = initial\n",
    "        \n",
    "    def put(self, new):\n",
    "        self.store = append(new)\n",
    "    def get(self):\n",
    "        return self.store\n",
    "    def dup(self):\n",
    "        self.put(self.store[-1])\n",
    "        \n",
    "Object = MyClass([0])\n",
    "#Object.put(1)\n",
    "#Object.dup()\n",
    "print(Object.get())\n"
   ]
  },
  {
   "cell_type": "code",
   "execution_count": null,
   "id": "5d834d2a",
   "metadata": {},
   "outputs": [],
   "source": [
    "'in not' in 'not'"
   ]
  },
  {
   "cell_type": "code",
   "execution_count": null,
   "id": "22104fa4",
   "metadata": {},
   "outputs": [],
   "source": [
    "'in' in 'Thames'"
   ]
  },
  {
   "cell_type": "code",
   "execution_count": null,
   "id": "3d84fc32",
   "metadata": {},
   "outputs": [],
   "source": [
    "'t'.upper() in 'Thames'"
   ]
  },
  {
   "cell_type": "code",
   "execution_count": null,
   "id": "b13bd912",
   "metadata": {},
   "outputs": [],
   "source": [
    "'in' in 'in'"
   ]
  },
  {
   "cell_type": "code",
   "execution_count": null,
   "id": "9e0f8c1b",
   "metadata": {},
   "outputs": [],
   "source": [
    "string = 'SKY'(::-1)\n",
    "string = string(-1)"
   ]
  },
  {
   "cell_type": "code",
   "execution_count": null,
   "id": "698ad521",
   "metadata": {},
   "outputs": [],
   "source": [
    "import math\n",
    "math.hypot(3,4) == math.sqrt(25)"
   ]
  },
  {
   "cell_type": "code",
   "execution_count": null,
   "id": "697cf9a0",
   "metadata": {},
   "outputs": [],
   "source": [
    "math.ceil(2.5) != math.floor(2.5)"
   ]
  },
  {
   "cell_type": "code",
   "execution_count": null,
   "id": "b640f400",
   "metadata": {},
   "outputs": [],
   "source": [
    "math.trunc(2.5) == math.floor(2.5)"
   ]
  },
  {
   "cell_type": "code",
   "execution_count": null,
   "id": "5d76b4dd",
   "metadata": {},
   "outputs": [],
   "source": [
    "try:\n",
    "    f = open('zero_length_existing_file', 'rt')\n",
    "    d = f.readline()\n",
    "    print(len(d))\n",
    "    f.close()\n",
    "except IOError:\n",
    "    print(-1)\n"
   ]
  },
  {
   "cell_type": "code",
   "execution_count": null,
   "id": "8bc81fa6",
   "metadata": {},
   "outputs": [],
   "source": [
    "a = str(1-1) in '012345739'[:2]"
   ]
  },
  {
   "cell_type": "code",
   "execution_count": null,
   "id": "f8a5caec",
   "metadata": {},
   "outputs": [],
   "source": [
    "print(a)"
   ]
  },
  {
   "cell_type": "code",
   "execution_count": null,
   "id": "6eaa1d08",
   "metadata": {},
   "outputs": [],
   "source": [
    "'deb' not in 'abcde' [::-1]"
   ]
  },
  {
   "cell_type": "code",
   "execution_count": null,
   "id": "82de6e91",
   "metadata": {},
   "outputs": [],
   "source": [
    "121 + 1 != '!' + 2 * '2'"
   ]
  },
  {
   "cell_type": "code",
   "execution_count": null,
   "id": "12fb4d33",
   "metadata": {},
   "outputs": [],
   "source": [
    "'True' not in 'False'"
   ]
  },
  {
   "cell_type": "code",
   "execution_count": null,
   "id": "b073ca07",
   "metadata": {},
   "outputs": [],
   "source": [
    "a = '1' + '1' + '1'\n",
    "b = '1' * 3\n",
    "print(a < b)"
   ]
  },
  {
   "cell_type": "code",
   "execution_count": null,
   "id": "69aec80a",
   "metadata": {},
   "outputs": [],
   "source": [
    "'3.14' != str(3.1415)"
   ]
  },
  {
   "cell_type": "code",
   "execution_count": null,
   "id": "4886539b",
   "metadata": {},
   "outputs": [],
   "source": [
    "'AbC'.lower () < 'AB'"
   ]
  },
  {
   "cell_type": "code",
   "execution_count": null,
   "id": "1a2ee3f4",
   "metadata": {},
   "outputs": [],
   "source": [
    "121 + 1 != '1' + '2' * 2"
   ]
  },
  {
   "cell_type": "code",
   "execution_count": null,
   "id": "fc4c8b10",
   "metadata": {},
   "outputs": [],
   "source": [
    "len('\\*') == 1"
   ]
  },
  {
   "cell_type": "code",
   "execution_count": null,
   "id": "e72d05cd",
   "metadata": {},
   "outputs": [],
   "source": [
    "len('''\n",
    "''')==0"
   ]
  },
  {
   "cell_type": "code",
   "execution_count": null,
   "id": "ca1a2d8c",
   "metadata": {},
   "outputs": [],
   "source": [
    "chr(ord('A') + 1) == 'B'"
   ]
  },
  {
   "cell_type": "code",
   "execution_count": null,
   "id": "f2c394d9",
   "metadata": {},
   "outputs": [],
   "source": [
    "ord('Z') - ord('z') == ord('0')"
   ]
  },
  {
   "cell_type": "code",
   "execution_count": null,
   "id": "ae210b38",
   "metadata": {},
   "outputs": [],
   "source": [
    "s = '2a'\n",
    "try:\n",
    "    n = int(s)\n",
    "except:\n",
    "    n = 3\n",
    "except ValueError:\n",
    "    n = 2\n",
    "except ArithmeticError:\n",
    "    n = 1\n",
    "print(n)"
   ]
  },
  {
   "cell_type": "code",
   "execution_count": null,
   "id": "50f1b090",
   "metadata": {},
   "outputs": [],
   "source": [
    "try:\n",
    "    print(int('0'))\n",
    "except NameError:\n",
    "    print(\"0\")\n",
    "else:\n",
    "    print(int(\" \"))"
   ]
  },
  {
   "cell_type": "code",
   "execution_count": null,
   "id": "88530790",
   "metadata": {},
   "outputs": [],
   "source": [
    "try:\n",
    "    print(float(\"1e1\"))\n",
    "except (NameError, SystemError):\n",
    "    print(float(\"1a1\"))\n",
    "else:\n",
    "    print(float(\"1c1\"))"
   ]
  },
  {
   "cell_type": "code",
   "execution_count": null,
   "id": "02b1214a",
   "metadata": {},
   "outputs": [],
   "source": [
    "m = 0\n",
    "\n",
    "def foo(n):\n",
    "    global m\n",
    "    assert m != 0\n",
    "    try:\n",
    "        return 1/n\n",
    "    except ArithmeticError:\n",
    "        raise ValueError\n",
    "try:\n",
    "    foo(0)\n",
    "except ZeroDivisionError:\n",
    "    m += 2\n",
    "except ValueError:\n",
    "    m += 1\n",
    "except:\n",
    "    m += 3\n",
    "print(m)\n",
    "    "
   ]
  },
  {
   "cell_type": "code",
   "execution_count": null,
   "id": "81cc0be8",
   "metadata": {},
   "outputs": [],
   "source": [
    "s = 'apple'\n",
    "  \n",
    "try:\n",
    "    num = int(s)\n",
    "except ValueError:\n",
    "    raise ValueError(\"String can't be changed into integer\")\n",
    "except:\n",
    "    print('what about me?')"
   ]
  },
  {
   "cell_type": "markdown",
   "id": "51e98f2b",
   "metadata": {},
   "source": [
    "# Advantages of the raise keyword:\n",
    "It helps us raise exceptions when we may run into situations where execution can’t proceed.\n",
    "It helps us reraise an exception that is caught.\n",
    "Raise allows us to throw one exception at any time.\n",
    "It is useful when we want to work with input validations."
   ]
  },
  {
   "cell_type": "code",
   "execution_count": null,
   "id": "1277de28",
   "metadata": {},
   "outputs": [],
   "source": [
    "class E(Exception):\n",
    "    def __init__(self, message):\n",
    "        self.message = message\n",
    "    def __str__(self):\n",
    "        return \"its nice to see you\"\n",
    "try:\n",
    "    print(\"I feel fine\")\n",
    "    raise Exception(\"What a pity\")\n",
    "except E as e:\n",
    "    print(e)\n",
    "else:\n",
    "    print(\"the show must go on\")"
   ]
  },
  {
   "cell_type": "code",
   "execution_count": null,
   "id": "3059598a",
   "metadata": {},
   "outputs": [],
   "source": [
    "import sys\n",
    "import math\n",
    "b1 = type(dir(math)) is list\n",
    "b2 = type(sys.path) is list\n",
    "print(b1)\n",
    "print(b2)\n",
    "print(b1 and b2)\n",
    "print(True and False)\n",
    "print(True or False)"
   ]
  },
  {
   "cell_type": "code",
   "execution_count": null,
   "id": "795abe84",
   "metadata": {},
   "outputs": [],
   "source": [
    "import platform\n",
    "print(platform.uname())\n",
    "#platform.uname()\n",
    "#This function returns a tuple that stores \n",
    "#information regarding the system. \n",
    "#Basically this function can be used to \n",
    "#replace the individual functions to \n",
    "#retrieve information about the system, \n",
    "#node, release, version, machine, version and processor. \n",
    "#Thus, a single function serving many purposes."
   ]
  },
  {
   "cell_type": "code",
   "execution_count": null,
   "id": "89e1fab5",
   "metadata": {},
   "outputs": [],
   "source": [
    "print(platform.platform())\n",
    "#platform.platform()\n",
    "#This function returns a single string containing as much useful information that is to retrievable about the system.The output may differ on different systems."
   ]
  },
  {
   "cell_type": "code",
   "execution_count": null,
   "id": "4693c692",
   "metadata": {},
   "outputs": [],
   "source": [
    "print(platform.processor())"
   ]
  },
  {
   "cell_type": "code",
   "execution_count": null,
   "id": "ec6ab5c1",
   "metadata": {},
   "outputs": [],
   "source": [
    "print(platform.architecture()) #This function returns a tuple that stores information about the bit architecture"
   ]
  },
  {
   "cell_type": "code",
   "execution_count": null,
   "id": "f2e551e1",
   "metadata": {},
   "outputs": [],
   "source": [
    "print(platform.machine())\n",
    "#This function returns a string that displays the machine type, by machine type here it means the information that tells the width or size of registers available in the core."
   ]
  },
  {
   "cell_type": "code",
   "execution_count": null,
   "id": "3382b1c9",
   "metadata": {},
   "outputs": [],
   "source": [
    "print(platform.node())\n",
    "#This function returns a string that displays the information about the node basically the system’s network name."
   ]
  },
  {
   "cell_type": "code",
   "execution_count": null,
   "id": "624d568c",
   "metadata": {},
   "outputs": [],
   "source": [
    "print(platform.processor())\n",
    "#This function returns a string that displays the information about the platform processor basically the real name of the system’s processor"
   ]
  },
  {
   "cell_type": "code",
   "execution_count": null,
   "id": "a0167137",
   "metadata": {},
   "outputs": [],
   "source": [
    "print(platform.system())\n",
    "#This function returns a string that displays the name of the operation system on the current device being used to run the program."
   ]
  },
  {
   "cell_type": "code",
   "execution_count": null,
   "id": "40872c43",
   "metadata": {},
   "outputs": [],
   "source": [
    "class Upper():\n",
    "    def method(self):\n",
    "        return 'upper'\n",
    "class Lower(Upper):\n",
    "    def method(self):\n",
    "        return 'lower'\n",
    "Object = Upper()\n",
    "print(isinstance(Object, Lower), end=\"\")\n",
    "print(Object.method())"
   ]
  },
  {
   "cell_type": "code",
   "execution_count": null,
   "id": "5c1a282b",
   "metadata": {},
   "outputs": [],
   "source": [
    "\n"
   ]
  }
 ],
 "metadata": {
  "kernelspec": {
   "display_name": "Python 3 (ipykernel)",
   "language": "python",
   "name": "python3"
  },
  "language_info": {
   "codemirror_mode": {
    "name": "ipython",
    "version": 3
   },
   "file_extension": ".py",
   "mimetype": "text/x-python",
   "name": "python",
   "nbconvert_exporter": "python",
   "pygments_lexer": "ipython3",
   "version": "3.9.12"
  }
 },
 "nbformat": 4,
 "nbformat_minor": 5
}
